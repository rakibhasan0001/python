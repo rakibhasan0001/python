{
 "cells": [
  {
   "cell_type": "code",
   "execution_count": 1,
   "id": "continental-timer",
   "metadata": {},
   "outputs": [
    {
     "name": "stdout",
     "output_type": "stream",
     "text": [
      " hi i am \"rakib\" \n",
      " i'm rakib \n",
      "i wish have a good day\n",
      "line1\n",
      "line 2\n",
      "tab1 \t tab2 \n",
      "this is single backslash \\\n",
      "this is double backslash \\\\ \n",
      "hell\blo\n"
     ]
    }
   ],
   "source": [
    "print(\" hi i am \\\"rakib\\\" \")\n",
    "#this is comment\n",
    "# print(\"contrl+\\\\\")\n",
    "print(' i\\'m rakib ')\n",
    "print(\"i wish have a good day\")\n",
    "print(\"line1\\nline 2\")\n",
    "print(\"tab1 \\t tab2 \")\n",
    "print(\"this is single backslash \\\\\")\n",
    "print(\"this is double backslash \\\\\\\\ \")\n",
    "print(\"hell\\blo\")\n"
   ]
  },
  {
   "cell_type": "code",
   "execution_count": 2,
   "id": "superior-patch",
   "metadata": {},
   "outputs": [
    {
     "name": "stdout",
     "output_type": "stream",
     "text": [
      "please enter your name : rakib hasan\n",
      "r : 1\n",
      "a : 3\n",
      "k : 1\n",
      "i : 1\n",
      "b : 1\n",
      "  : 1\n",
      "h : 1\n",
      "s : 1\n",
      "n : 1\n"
     ]
    }
   ],
   "source": [
    "name=input('please enter your name : ')\n",
    "temp=''\n",
    "i=0 \n",
    "\n",
    "while i < len(name):\n",
    "    if name[i] not in temp:\n",
    "        temp += name[i]\n",
    "        print(f'{name[i]} : {name.count(name[i])}')\n",
    "    i+=1\n"
   ]
  },
  {
   "cell_type": "code",
   "execution_count": 3,
   "id": "compact-finish",
   "metadata": {},
   "outputs": [
    {
     "name": "stdout",
     "output_type": "stream",
     "text": [
      "1\n",
      "2\n"
     ]
    }
   ],
   "source": [
    "# python count --->  string.count(substring ,start ,end)\n",
    "# Python program to demonstrate the use of\n",
    "# count() method using optional parameters\n",
    "\n",
    "# string in which occurrence will be checked\n",
    "string = \"geeks for geeks\"\n",
    "\n",
    "# counts the number of times substring occurs in\n",
    "# the given string between index 0 and 5 and returns\n",
    "# an integer\n",
    "print(string.count(\"geeks\", 0, 5))\n",
    "\n",
    "print(string.count(\"geeks\", 0, 15))\n"
   ]
  },
  {
   "cell_type": "code",
   "execution_count": 4,
   "id": "sought-electron",
   "metadata": {},
   "outputs": [
    {
     "name": "stdout",
     "output_type": "stream",
     "text": [
      "line1 \\n line2\n",
      "line1 \\t line2\n",
      " \\\"  \\'\n"
     ]
    }
   ],
   "source": [
    "# output:line1 \\n line2\n",
    "print(\"line1 \\\\n line2\")\n",
    "print(\"line1 \\\\t line2\")\n",
    "# output:\\\" \\'\n",
    "print(\" \\\\\\\"  \\\\\\'\")\n",
    "# \\' - '(b)\n",
    "# \\\\ - \\ (a)\n",
    "# \\\\\\' - \\'"
   ]
  },
  {
   "cell_type": "code",
   "execution_count": 5,
   "id": "taken-encyclopedia",
   "metadata": {},
   "outputs": [
    {
     "name": "stdout",
     "output_type": "stream",
     "text": [
      "this is \\\\ double backslash\n",
      "this is /\\ /\\ /\\ mountain\n",
      "this is \t tab not dab\n",
      "\\\" \\n \\t \\'\n"
     ]
    }
   ],
   "source": [
    "print(\"this is \\\\\\\\ double backslash\")\n",
    "print(\"this is /\\\\ /\\\\ /\\\\ mountain\")\n",
    "print(\"this is \\t tab not dab\")\n",
    "print(\"\\\\\\\" \\\\n \\\\t \\\\\\'\")"
   ]
  },
  {
   "cell_type": "code",
   "execution_count": 6,
   "id": "useful-laser",
   "metadata": {},
   "outputs": [
    {
     "name": "stdout",
     "output_type": "stream",
     "text": [
      "this is shortcut \\n just add r\n"
     ]
    }
   ],
   "source": [
    "print(r\"this is shortcut \\n just add r\")"
   ]
  },
  {
   "cell_type": "code",
   "execution_count": 7,
   "id": "portable-hartford",
   "metadata": {},
   "outputs": [
    {
     "name": "stdout",
     "output_type": "stream",
     "text": [
      "😇\n",
      "🉰\n",
      "🉵\n"
     ]
    }
   ],
   "source": [
    "#print emoji\n",
    "print(\"\\U0001F607\")\n",
    "print(\"\\U0001F270\")\n",
    "print(\"\\U0001F275\")"
   ]
  },
  {
   "cell_type": "code",
   "execution_count": 8,
   "id": "social-paris",
   "metadata": {},
   "outputs": [
    {
     "name": "stdout",
     "output_type": "stream",
     "text": [
      "3\n",
      "7.5\n",
      "0\n",
      "0.02\n",
      "round(4%3,4) result : 1\n",
      "0.5\n"
     ]
    }
   ],
   "source": [
    "# ------------------calculator -----------------\n",
    "# presedency rule:\n",
    "# parenthesis->heighest\n",
    "# //,/,%,*->left to right\n",
    "# exponent -> right to left\n",
    "# +,-  -> left to right\n",
    "print(1+2)\n",
    "print(30/4)\n",
    "print(3//4) #division in floor\n",
    "print(round(2*0.01,3))\n",
    "print('round(4%3,4) result :',round(4%3,4))\n",
    "print((2+3)*5/2%6)\n",
    "# 5*5/2%6\n",
    "# 25/2%6\n",
    "# 12.5%6\n"
   ]
  },
  {
   "cell_type": "code",
   "execution_count": 9,
   "id": "jewish-commodity",
   "metadata": {},
   "outputs": [
    {
     "name": "stdout",
     "output_type": "stream",
     "text": [
      "hasanrakib\n",
      "\n",
      "hasanrakib\n",
      " 3\n",
      "hasanrakib\n",
      "3\n",
      "hasanrakib\n",
      "hasanrakib\n",
      "hasanrakib\n",
      "hasanrakib\n",
      "\n"
     ]
    }
   ],
   "source": [
    "fname=\"rakib\\n\"\n",
    "lname=\"hasan\"\n",
    "fullname=lname+ fname\n",
    "print(fullname)\n",
    "print(fullname+\" 3\")\n",
    "print(fullname + str(3))\n",
    "print(fullname*4)\n",
    "# print(fullname+3) error"
   ]
  },
  {
   "cell_type": "code",
   "execution_count": 10,
   "id": "outer-bearing",
   "metadata": {},
   "outputs": [
    {
     "name": "stdout",
     "output_type": "stream",
     "text": [
      "Enter your  name?rakib hasan\n",
      "your name is rakib hasan\n",
      "plese enter your age?88\n",
      "your age is  88\n"
     ]
    }
   ],
   "source": [
    "name=input(\"Enter your  name?\")\n",
    "print(\"your name is \"+name)\n",
    "age=input(\"plese enter your age?\")\n",
    "print(\"your age is  \"+age)\n",
    "# here age is work as like string\n",
    "# here age is work as like string"
   ]
  },
  {
   "cell_type": "code",
   "execution_count": 11,
   "id": "clear-amateur",
   "metadata": {},
   "outputs": [
    {
     "name": "stdout",
     "output_type": "stream",
     "text": [
      "enter your first number  rakib\n"
     ]
    },
    {
     "ename": "ValueError",
     "evalue": "invalid literal for int() with base 10: 'rakib'",
     "output_type": "error",
     "traceback": [
      "\u001b[1;31m---------------------------------------------------------------------------\u001b[0m",
      "\u001b[1;31mValueError\u001b[0m                                Traceback (most recent call last)",
      "\u001b[1;32m<ipython-input-11-be79cd41f7bd>\u001b[0m in \u001b[0;36m<module>\u001b[1;34m\u001b[0m\n\u001b[0;32m      1\u001b[0m \u001b[1;31m# type2\u001b[0m\u001b[1;33m\u001b[0m\u001b[1;33m\u001b[0m\u001b[1;33m\u001b[0m\u001b[0m\n\u001b[1;32m----> 2\u001b[1;33m \u001b[0mnumber_one\u001b[0m \u001b[1;33m=\u001b[0m \u001b[0mint\u001b[0m\u001b[1;33m(\u001b[0m\u001b[0minput\u001b[0m\u001b[1;33m(\u001b[0m\u001b[1;34m\"enter your first number  \"\u001b[0m\u001b[1;33m)\u001b[0m\u001b[1;33m)\u001b[0m\u001b[1;33m\u001b[0m\u001b[1;33m\u001b[0m\u001b[0m\n\u001b[0m\u001b[0;32m      3\u001b[0m \u001b[0mnumber_two\u001b[0m \u001b[1;33m=\u001b[0m \u001b[0mint\u001b[0m\u001b[1;33m(\u001b[0m\u001b[0minput\u001b[0m\u001b[1;33m(\u001b[0m\u001b[1;34m\"enter your second number  \"\u001b[0m\u001b[1;33m)\u001b[0m\u001b[1;33m)\u001b[0m\u001b[1;33m\u001b[0m\u001b[1;33m\u001b[0m\u001b[0m\n\u001b[0;32m      4\u001b[0m \u001b[0mtotal\u001b[0m \u001b[1;33m=\u001b[0m \u001b[0mnumber_one\u001b[0m \u001b[1;33m+\u001b[0m \u001b[0mnumber_two\u001b[0m\u001b[1;33m\u001b[0m\u001b[1;33m\u001b[0m\u001b[0m\n\u001b[0;32m      5\u001b[0m \u001b[0mprint\u001b[0m\u001b[1;33m(\u001b[0m\u001b[1;34m\"sum of the number is  \"\u001b[0m \u001b[1;33m+\u001b[0m \u001b[0mstr\u001b[0m\u001b[1;33m(\u001b[0m\u001b[0mtotal\u001b[0m\u001b[1;33m)\u001b[0m\u001b[1;33m)\u001b[0m\u001b[1;33m\u001b[0m\u001b[1;33m\u001b[0m\u001b[0m\n",
      "\u001b[1;31mValueError\u001b[0m: invalid literal for int() with base 10: 'rakib'"
     ]
    }
   ],
   "source": [
    "# type2\n",
    "number_one = int(input(\"enter your first number  \"))\n",
    "number_two = int(input(\"enter your second number  \"))\n",
    "total = number_one + number_two\n",
    "print(\"sum of the number is  \" + str(total))\n",
    "# type 1\n",
    "# number1=str(7)\n",
    "number2=int(89)\n",
    "number3=float(78)\n",
    "print(number2+number3)"
   ]
  },
  {
   "cell_type": "markdown",
   "id": "nasty-newman",
   "metadata": {},
   "source": [
    "function in pyton"
   ]
  },
  {
   "cell_type": "code",
   "execution_count": null,
   "id": "searching-orientation",
   "metadata": {},
   "outputs": [],
   "source": [
    "name,age=\"rakib\",\"88\"#here we use \"88\" because of you cant join intiger with string\n",
    "print(name+\" your age is \"+age)\n",
    "x=y=z=1\n",
    "print(x+y+z)"
   ]
  },
  {
   "cell_type": "code",
   "execution_count": null,
   "id": "vocal-review",
   "metadata": {},
   "outputs": [],
   "source": [
    "name,age=input(\"enter your name and age\").split(\",\")\n",
    "print(name)\n",
    "print(age)"
   ]
  },
  {
   "cell_type": "code",
   "execution_count": null,
   "id": "centered-affiliation",
   "metadata": {},
   "outputs": [],
   "source": [
    "sring='hi my name is rakib'\n",
    "sring.split(' ')"
   ]
  },
  {
   "cell_type": "code",
   "execution_count": null,
   "id": "horizontal-questionnaire",
   "metadata": {
    "scrolled": true
   },
   "outputs": [],
   "source": [
    "\n",
    "for i in string.split(' '):\n",
    "    print(i)"
   ]
  },
  {
   "cell_type": "code",
   "execution_count": null,
   "id": "alive-inquiry",
   "metadata": {},
   "outputs": [],
   "source": [
    "name=\"rakib\"\n",
    "age=88;\n",
    "print(\"hello \"+name+\" your age is \"+str(age))\n",
    "#python 3\n",
    "print(\"hello {} your age is {}\".format(name,age))\n",
    "#python 3.6\n",
    "print(f\"hello {name} your age is {age}\")"
   ]
  },
  {
   "cell_type": "code",
   "execution_count": null,
   "id": "democratic-tracker",
   "metadata": {},
   "outputs": [],
   "source": [
    "# # type1\n",
    "# n1=input(\"enter your first number\")\n",
    "# n2=input(\"enter second number\")\n",
    "# n3=input(\"enter your third number\")\n",
    "# print(f\"avarage number is :{(int(n1)+int(n2)+int(n3))/3}\")\n",
    "#type2\n",
    "n1,n2,n3=input(\"enter these three number\").split(\",\")\n",
    "print(f\"avarage number is:{(int(n1)+int(n2)+int(n3))/3}\")"
   ]
  },
  {
   "cell_type": "code",
   "execution_count": null,
   "id": "knowing-impact",
   "metadata": {},
   "outputs": [],
   "source": [
    "#string indexing\n",
    "language=\"python\"\n",
    "# p=0,-6\n",
    "# y=1,-5\n",
    "# t=2,-4\n",
    "# h=3,-3\n",
    "# o=4,-2\n",
    "# n=5,-1\n",
    "print(language[4])\n",
    "print(language[-3])"
   ]
  },
  {
   "cell_type": "code",
   "execution_count": null,
   "id": "engaging-robertson",
   "metadata": {},
   "outputs": [],
   "source": [
    "#              string sliceing\n",
    "language=\"python\"\n",
    "# p=0,-6\n",
    "# y=1,-5\n",
    "# t=2,-4\n",
    "# h=3,-3\n",
    "# o=4,-2\n",
    "# n=5,-1\n",
    "#rules:string[start:end]\n",
    "\n",
    "print(language[2:5])\n",
    "print(language[3:5])\n",
    "print(language[-3:6])\n",
    "print(language[3:1])#error\n",
    "print(language[:])\n",
    "print(language[:4])\n",
    "print(language[-3:])\n",
    "print(language[:3])\n",
    "print(language[-3:6])\n",
    "'''hi this is rakib'''"
   ]
  },
  {
   "cell_type": "markdown",
   "id": "fatal-collapse",
   "metadata": {},
   "source": [
    "# python sliceing with step argument"
   ]
  },
  {
   "cell_type": "code",
   "execution_count": null,
   "id": "green-upper",
   "metadata": {},
   "outputs": [],
   "source": [
    "#rule:string[start argument:stop argument-1:step argument]\n",
    "print('result of rakibhasan[3:6:1]',\"rakibhasan\"[3:6:1])\n",
    "print('result of rakibhasan[4:6:1]',\"rakibhasan\"[4:6:1])\n",
    "print('result of rakibhasan[-7:6:1]',\"rakibhasan\"[-7:6:1])\n",
    "print('result of rakibhasan[-1::-1]',\"rakibhasan\"[-1::-1])\n",
    "print('result of rakibhasan[::-1]',\"rakibhasan\"[::-1])\n",
    "print('result of rakibhasan[-6:6:1]',\"rakibhasan\"[-6:6:1])\n",
    "print('result of rakibhasan[-5:6:1]',\"rakibhasan\"[-5:6:1])\n",
    "print('result of rakibhasan[-4:6:1]',\"rakibhasan\"[-4:6:1])\n",
    "#r    a  k  i   b   h   a  s  a  n\n",
    "#0    1  2  3   4   5   6  7  8  9\n",
    "#-10 -9 -8  -7  -6  -5  -4 -3 -2 -1\n",
    "#rule:string[start argument:stop argument-1:step argument]\n",
    "print(\"rakibhasan\"[3:6:2])\n",
    "print(\"rakibhasan\"[4:6:2])\n",
    "print(\"rakibhasan\"[-7:6:2])\n",
    "print(\"rakibhasan\"[-1:0:-2])\n",
    "print(\"rakibhasan\"[::2])\n",
    "print(\"rakibhasan\"[-6:6:2])\n",
    "print(\"rakibhasan\"[-5:6:2])\n",
    "print(\"rakibhasan\"[-4:6:2])#no result"
   ]
  },
  {
   "cell_type": "code",
   "execution_count": null,
   "id": "occasional-shareware",
   "metadata": {},
   "outputs": [],
   "source": [
    "#exercise 29\n",
    "name=input(\"plese enter your name:\")\n",
    "print(name[::-1])"
   ]
  },
  {
   "cell_type": "code",
   "execution_count": null,
   "id": "bizarre-victorian",
   "metadata": {},
   "outputs": [],
   "source": [
    "#tutorial 30\n",
    "name=\"raKiB Hasan\"\n",
    "H=\"h\"\n",
    "print(len(name))\n",
    "# method\n",
    "# plaease use dot(.) for method\n",
    "print(name.upper())\n",
    "print(name.lower())\n",
    "print(name.title())\n",
    "print(name.count(\"a\"))"
   ]
  },
  {
   "cell_type": "markdown",
   "id": "understanding-nature",
   "metadata": {},
   "source": [
    "# python strip method and replace method"
   ]
  },
  {
   "cell_type": "code",
   "execution_count": 1,
   "id": "genuine-meter",
   "metadata": {},
   "outputs": [
    {
     "name": "stdout",
     "output_type": "stream",
     "text": [
      "    rakib hasan     ..............\n",
      "rakib hasan     ..............\n",
      "    rakib hasan..............\n",
      "rakib hasan..............\n",
      "rakibhasan..............\n"
     ]
    }
   ],
   "source": [
    "name=\"    rakib hasan     \"\n",
    "dots=\"..............\"\n",
    "print(name+dots)\n",
    "print(name.lstrip()+dots)\n",
    "print(name.rstrip()+dots)\n",
    "print(name.strip()+dots)\n",
    "\n",
    "print(name.replace(\" \",\"\")+dots)#important"
   ]
  },
  {
   "cell_type": "code",
   "execution_count": null,
   "id": "regular-black",
   "metadata": {},
   "outputs": [],
   "source": [
    "# important\n",
    "name,char=input(\"enter name and cherecter :\").split(\",\")\n",
    "print(f\" length of name {len(name)}\")\n",
    "print(f\"character is :{name.strip().lower().count(char.strip().lower())} \")\n",
    "# rakibAAA=rakibaaa\n",
    "# without strip it cant count space\n",
    "# A=a"
   ]
  },
  {
   "cell_type": "code",
   "execution_count": null,
   "id": "special-china",
   "metadata": {},
   "outputs": [],
   "source": [
    "name= 'rakib hasan'\n",
    "name.strip().lower().count(name.strip().lower())"
   ]
  },
  {
   "cell_type": "markdown",
   "id": "straight-median",
   "metadata": {},
   "source": [
    "# python find and replace method"
   ]
  },
  {
   "cell_type": "code",
   "execution_count": 66,
   "id": "unavailable-diesel",
   "metadata": {},
   "outputs": [
    {
     "name": "stdout",
     "output_type": "stream",
     "text": [
      "he was dumb and he was a lunatic\n",
      "18\n",
      "18\n",
      "3\n"
     ]
    }
   ],
   "source": [
    "string=\"he is dumb and he is a lunatic\"\n",
    "print(string.replace(\"is\",\"was\",2))\n",
    "#here 2 meannig means i want to replace two is\n",
    "#find(\"string\",start ,end)\n",
    "is_pos1=string.find(\"is\")\n",
    "is_pos2=string.find(\"is\",is_pos1+1)\n",
    "print(str(int(string.find(\"is\",is_pos1+1))))\n",
    "print(is_pos2)\n",
    "print(is_pos1)"
   ]
  },
  {
   "cell_type": "code",
   "execution_count": null,
   "id": "broken-thirty",
   "metadata": {},
   "outputs": [],
   "source": [
    "text='mobile phone'\n",
    "text.center('o')"
   ]
  },
  {
   "cell_type": "markdown",
   "id": "criminal-focus",
   "metadata": {},
   "source": [
    "# python center method string.center(width,'char')"
   ]
  },
  {
   "cell_type": "code",
   "execution_count": null,
   "id": "bigger-offset",
   "metadata": {},
   "outputs": [],
   "source": [
    "text='rakib hasan'\n",
    "print(text.center(24))\n",
    "print(text.center(20,'*'))"
   ]
  },
  {
   "cell_type": "markdown",
   "id": "competent-vermont",
   "metadata": {},
   "source": [
    "# summery"
   ]
  },
  {
   "cell_type": "code",
   "execution_count": null,
   "id": "trying-competition",
   "metadata": {},
   "outputs": [],
   "source": [
    "# string\n",
    "name=\"rakibR hasAsan\"\n",
    "# string indexing\n",
    "print(name[-1])\n",
    "# string slaiceing\n",
    "print(name[2:8])\n",
    "print(name[3:-5])\n",
    "print(name[-1:0:-1])\n",
    "print(\"thats anothar mathod---->\"+name[::-1])\n",
    "print(name[2:8:2])\n",
    "print(name[2:9:-2])#error\n",
    "# user input\n",
    "enter_name,age=input(\"enter your name and age\").split(\",\")\n",
    "print(\"your name is \"+enter_name+\" and your age is \"+age)\n",
    "# take two input()\n",
    "# len function\n",
    "print(len(name))\n",
    "# uper lower title\n",
    "print(name.lower())\n",
    "print(name.upper())\n",
    "print(name.title())\n",
    "# find replace center\n",
    "print(name.find(\"a\"))\n",
    "firstA=name.find(\"a\")\n",
    "secondA=name.find(\"a\",firstA+1)\n",
    "print(secondA)\n",
    "# string are immutable\n"
   ]
  },
  {
   "cell_type": "markdown",
   "id": "precious-things",
   "metadata": {},
   "source": [
    "# t40 pass statement"
   ]
  },
  {
   "cell_type": "code",
   "execution_count": null,
   "id": "satisfactory-offset",
   "metadata": {},
   "outputs": [],
   "source": [
    "# chapter 3\n",
    "x=88\n",
    "if x>88:\n",
    "    pass\n",
    "# pass menning i dont write anything"
   ]
  },
  {
   "cell_type": "markdown",
   "id": "unlimited-sunrise",
   "metadata": {},
   "source": [
    "# python string are immutable"
   ]
  },
  {
   "cell_type": "code",
   "execution_count": null,
   "id": "soviet-ranking",
   "metadata": {},
   "outputs": [],
   "source": [
    "# python string are immutable that means you can't change string\n",
    "# it just creat a new string\n",
    "name=\"rakib\"\n",
    "new_string=name.replace(\"a\",\"A\")\n",
    "print(new_string)\n",
    "print(name)"
   ]
  },
  {
   "cell_type": "markdown",
   "id": "double-appearance",
   "metadata": {},
   "source": [
    "# assignment operator"
   ]
  },
  {
   "cell_type": "code",
   "execution_count": null,
   "id": "promising-blackjack",
   "metadata": {},
   "outputs": [],
   "source": [
    "name=\"rakib\"\n",
    "name+=\"hasan\"\n",
    "print(name)\n",
    "age=88\n",
    "age+=8\n",
    "print((age))"
   ]
  },
  {
   "cell_type": "code",
   "execution_count": null,
   "id": "violent-taste",
   "metadata": {},
   "outputs": [],
   "source": [
    "# if--else statement\n",
    "age=input(\"please enter your age :\")\n",
    "age=int(age)\n",
    "if age >= 20:\n",
    "    print(\"you are not allowed\")\n",
    "else:\n",
    "    print(\"you are allowed\")"
   ]
  },
  {
   "cell_type": "code",
   "execution_count": null,
   "id": "subject-hungarian",
   "metadata": {},
   "outputs": [],
   "source": [
    "#if else statemnt \n",
    "number=input(\"please enter a number: \")\n",
    "number=int(number)#don't forget to convert intiger\n",
    "if number >= 10:\n",
    "    print(\"you win\")\n",
    "else:\n",
    "    print(\"sorry\")"
   ]
  },
  {
   "cell_type": "markdown",
   "id": "thorough-dancing",
   "metadata": {},
   "source": [
    "# nasted if-else statement"
   ]
  },
  {
   "cell_type": "code",
   "execution_count": null,
   "id": "brief-nickname",
   "metadata": {},
   "outputs": [],
   "source": [
    "# important\n",
    "winning_number=88\n",
    "enter_number=int(input('please enter your number : '))\n",
    "if winning_number==enter_number:\n",
    "    print('you win')\n",
    "else:\n",
    "    if(winning_number > enter_number):\n",
    "        print('it is too low')\n",
    "    else:\n",
    "        print('too high ')\n"
   ]
  },
  {
   "cell_type": "markdown",
   "id": "crucial-exhaust",
   "metadata": {},
   "source": [
    "# and and or operator"
   ]
  },
  {
   "cell_type": "code",
   "execution_count": null,
   "id": "asian-architect",
   "metadata": {},
   "outputs": [],
   "source": [
    "# and oparator work  if  all statement is ;true\n",
    "#if one statement is true or statement is true\n",
    "name=\"abc\"\n",
    "age=88\n",
    "if name=='abc' and age==88:#check or operator\n",
    "    print(\"oparation true\")\n",
    "else:\n",
    "    print(\"oparation false\")"
   ]
  },
  {
   "cell_type": "code",
   "execution_count": null,
   "id": "rural-commission",
   "metadata": {},
   "outputs": [],
   "source": [
    "# and and or operator sinple practice\n",
    "name,age=input('please enter your name and age :').split(',')\n",
    "age=int(age)\n",
    "\n",
    "if name[0]=='A' or name[0]=='a' and age < 18 :\n",
    "    print('you can watch this video')\n",
    "else:\n",
    "    print('you can not watch this video')"
   ]
  },
  {
   "cell_type": "markdown",
   "id": "informative-wright",
   "metadata": {},
   "source": [
    "# elif statement"
   ]
  },
  {
   "cell_type": "code",
   "execution_count": null,
   "id": "noted-casting",
   "metadata": {},
   "outputs": [],
   "source": [
    "age = input(\"please enter your age:\")\n",
    "age = int(age)\n",
    "\n",
    "\n",
    "if age==0:\n",
    "    print(\"tikect price: 0\")\n",
    "elif 6 < age <= 10:\n",
    "    print(\"tikect price:100 \")\n",
    "elif 11 < age <= 15:\n",
    "    print(\"tikect price:150\")\n",
    "elif 16 < age <= 20:\n",
    "    print(\"ticket price:200\")\n",
    "else:\n",
    "    print(\"tt price :300\")"
   ]
  },
  {
   "cell_type": "markdown",
   "id": "binding-tolerance",
   "metadata": {},
   "source": [
    "# in keyword"
   ]
  },
  {
   "cell_type": "code",
   "execution_count": null,
   "id": "everyday-engineer",
   "metadata": {},
   "outputs": [],
   "source": [
    "name=\"rakib\"\n",
    "if 'a' in name:\n",
    "    print(\"a is present\")\n",
    "else:\n",
    "    print(\"a is not present\")"
   ]
  },
  {
   "cell_type": "markdown",
   "id": "educational-chosen",
   "metadata": {},
   "source": [
    "## chech empty or not"
   ]
  },
  {
   "cell_type": "code",
   "execution_count": null,
   "id": "primary-trade",
   "metadata": {},
   "outputs": [],
   "source": [
    "name=\"rakib\"\n",
    "if 'a' in name:\n",
    "    print(\"a is present\")\n",
    "else:\n",
    "    print(\"a is not present\")"
   ]
  },
  {
   "cell_type": "markdown",
   "id": "bacterial-advertiser",
   "metadata": {},
   "source": [
    "#  python while loop"
   ]
  },
  {
   "cell_type": "code",
   "execution_count": null,
   "id": "primary-default",
   "metadata": {},
   "outputs": [],
   "source": [
    "i=1\n",
    "while i <= 10:\n",
    "    print(f\"hello world {i}\")\n",
    "    i=i+1"
   ]
  },
  {
   "cell_type": "markdown",
   "id": "ethical-retrieval",
   "metadata": {},
   "source": [
    "!['while loop'](python_while_loop.jpg)"
   ]
  },
  {
   "cell_type": "code",
   "execution_count": null,
   "id": "terminal-bundle",
   "metadata": {},
   "outputs": [],
   "source": [
    "# sum with while loop\n",
    "total=0\n",
    "i=1\n",
    "while i <= 10:\n",
    "    total += i\n",
    "    print(total)"
   ]
  },
  {
   "cell_type": "code",
   "execution_count": null,
   "id": "minor-buddy",
   "metadata": {},
   "outputs": [],
   "source": [
    "print('are you ready')"
   ]
  },
  {
   "cell_type": "code",
   "execution_count": null,
   "id": "conventional-grade",
   "metadata": {},
   "outputs": [],
   "source": [
    "number=input(\"please enter how many number you want to sum from 1 to n:\")\n",
    "number=int(number)\n",
    "total = 0\n",
    "i = 1\n",
    "while i <= number:\n",
    "    total += i\n",
    "    i=i+1\n",
    "    print(total)"
   ]
  },
  {
   "cell_type": "code",
   "execution_count": null,
   "id": "passing-honey",
   "metadata": {},
   "outputs": [],
   "source": [
    "number=input(\"please enter how many number you want to sum from 1 to n:\")\n",
    "number=int(number)\n",
    "total = 0\n",
    "i = 1\n",
    "while i <= number:\n",
    "    total += i\n",
    "    i=i+1\n",
    "    print(total)"
   ]
  },
  {
   "cell_type": "code",
   "execution_count": null,
   "id": "little-workplace",
   "metadata": {},
   "outputs": [],
   "source": [
    "number=input(\"please enter your name: \")\n",
    "i=0\n",
    "total=0\n",
    "while i < len(number):\n",
    "    total += int(number[i])\n",
    "    i+=1\n",
    "    #print(f\"total is {i} ---> {total}\")\n",
    "    print(total)\n",
    "\n",
    "# [i]->[0]-->3-->total=0+3=3\n",
    "# [1]-->8-->total=8+3=11\n",
    "# [2]-->9-->total=11+9=20\n",
    "# [3]-->5-->total=20+5=25\n",
    "# [4]-->7-->total=7+25=32\n"
   ]
  },
  {
   "cell_type": "code",
   "execution_count": null,
   "id": "amino-investor",
   "metadata": {},
   "outputs": [],
   "source": [
    "name = input(\"please enter your name \")\n",
    "temp_var = \"\"\n",
    "i = 0\n",
    "while i < len(name):\n",
    "    if name[i] not in temp_var:\n",
    "        temp_var += name[i] # without temp var it print cheracter multiple time\n",
    "        print(f\"{name[i]}:{name.count(name[i])}\")\n",
    "    i += 1\n",
    "    #name.replace('','space')\n"
   ]
  },
  {
   "cell_type": "code",
   "execution_count": null,
   "id": "covered-showcase",
   "metadata": {},
   "outputs": [],
   "source": [
    "temp_var='' + 'r'+'8'\n",
    "print(temp_var)\n",
    "len('rakib hasan')"
   ]
  },
  {
   "cell_type": "code",
   "execution_count": null,
   "id": "higher-guard",
   "metadata": {},
   "outputs": [],
   "source": [
    "temp_var='ab'\n",
    "if 'a' not in temp_var:\n",
    "    print('true')\n",
    "else:\n",
    "    print('false')"
   ]
  },
  {
   "cell_type": "code",
   "execution_count": null,
   "id": "german-concentrate",
   "metadata": {},
   "outputs": [],
   "source": [
    "# Python program to illustrate\n",
    "# Finding common member in list\n",
    "# without using 'in' operator\n",
    "\n",
    "# Define a function() that takes two lists\n",
    "def overlapping(list1,list2):\n",
    "\n",
    "\tc=0\n",
    "\td=0\n",
    "\tfor i in list1:\n",
    "\t\tc+=1\n",
    "\tfor i in list2:\n",
    "\t\td+=1\n",
    "\tfor i in range(0,c):\n",
    "\t\tfor j in range(0,d):\n",
    "\t\t\tif(list1[i]==list2[j]):\n",
    "\t\t\t\treturn 1\n",
    "\treturn 0\n",
    "list1=[1,2,3,4,5]\n",
    "list2=[6,7,8,9]\n",
    "if(overlapping(list1,list2)):\n",
    "\tprint(\"overlapping\")\n",
    "else:\n",
    "\tprint(\"not overlapping\")\n"
   ]
  },
  {
   "cell_type": "code",
   "execution_count": null,
   "id": "ordinary-antique",
   "metadata": {},
   "outputs": [],
   "source": [
    "#tutorial 57\n",
    "name=input('please enter your name  : ')\n",
    "i=0\n",
    "temp_var=''\n",
    "while i < len(name):\n",
    "    if name[i] not in temp_var:\n",
    "        temp_var += name[i]\n",
    "        print(f\"{name[i]}:{name.count(name[i])}\")\n",
    "    i+=1"
   ]
  },
  {
   "cell_type": "code",
   "execution_count": null,
   "id": "olympic-liquid",
   "metadata": {},
   "outputs": [],
   "source": [
    "while True:\n",
    "    print(\"hello world\")\n",
    "    # press ctrl+c"
   ]
  },
  {
   "cell_type": "code",
   "execution_count": null,
   "id": "prostate-jesus",
   "metadata": {},
   "outputs": [],
   "source": [
    "#tutorial 59\n",
    "for i in range(1,11):\n",
    "    # 1 menning it is start from 1 position\n",
    "    # i is just a value\n",
    "    print(f\"hello world : {i}\")\n",
    "\n",
    "\"\"\"In general, you should use a for loop when you know how many times\n",
    " the loop should run. If you want the loop to break\n",
    " based on a condition other than the number of times it runs, you should use a while loop\"\"\""
   ]
  },
  {
   "cell_type": "markdown",
   "id": "amended-completion",
   "metadata": {},
   "source": [
    "!['diffrence'](for vs while.jpg)"
   ]
  },
  {
   "cell_type": "code",
   "execution_count": null,
   "id": "charitable-shoot",
   "metadata": {},
   "outputs": [],
   "source": [
    "\"\"\"total = 0\n",
    "i = 1\n",
    "while i <= 10:\n",
    "    total = total+i\n",
    "    i = i + 1\n",
    "    print(total)\"\"\"\n",
    "\n",
    "n=int(input(\"please enter your number:\"))\n",
    "total = 0\n",
    "for i in range(1,n+1):\n",
    "    total += i\n",
    "    print(f\"{i} ------> {total}\")\n",
    "print(total)\n",
    "# 1+2+3+4+5"
   ]
  },
  {
   "cell_type": "code",
   "execution_count": null,
   "id": "interracial-halloween",
   "metadata": {},
   "outputs": [],
   "source": [
    "# Python code 3.x to demonstrate star pattern\n",
    "\n",
    "# Function to demonstrate printing pattern of alphabets\n",
    "def contalpha(n):\n",
    "\t\n",
    "\t# initializing value corresponding to 'A'\n",
    "\t# ASCII value\n",
    "\tnum = 65\n",
    "\n",
    "\t# outer loop to handle number of rows\n",
    "for i in range(0, n):\n",
    "\t\n",
    "\t\t# inner loop to handle number of columns\n",
    "\t\t# values changing acc. to outer loop\n",
    "\t\tfor j in range(0, i+1):\n",
    "\t\t\n",
    "\t\t\t# explicitely converting to char\n",
    "\t\t\tch = chr(num)\n",
    "\t\t\n",
    "\t\t\t# printing char value\n",
    "\t\t\tprint(ch, end=\" \")\n",
    "\t\t\n",
    "\t\t\t# incrementing at each column\n",
    "\t\t\tnum = num +1\n",
    "\t\n",
    "\t\n",
    "\t\t# ending line after each row\n",
    "\t\tprint(\"\\r\")\n",
    "\n",
    "# Driver code\n",
    "n = 5\n",
    "contalpha(n)\n"
   ]
  },
  {
   "cell_type": "code",
   "execution_count": null,
   "id": "controlled-karen",
   "metadata": {},
   "outputs": [],
   "source": [
    "# Python 3.x code to demonstrate star pattern\n",
    "\n",
    "# Function to demonstrate printing pattern\n",
    "def pypart(n):\n",
    "\t\n",
    "\t# outer loop to handle number of rows\n",
    "\t# n in this case\n",
    "\tfor i in range(0, n):\n",
    "\t\n",
    "\t\t# inner loop to handle number of columns\n",
    "\t\t# values changing acc. to outer loop\n",
    "\t\tfor j in range(0, i+1):\n",
    "\t\t\n",
    "\t\t\t# printing stars\n",
    "\t\t\tprint(\"* \",end=\"\")\n",
    "\t\n",
    "\t\t# ending line after each row\n",
    "\t\tprint(\"\\r\")\n",
    "\n",
    "# Driver Code\n",
    "n = 5\n",
    "pypart(n)\n"
   ]
  },
  {
   "cell_type": "code",
   "execution_count": null,
   "id": "literary-opera",
   "metadata": {},
   "outputs": [],
   "source": [
    "rows = 6\n",
    "\n",
    "for num in range(rows):\n",
    "\n",
    "    for i in range(num):\n",
    "\n",
    "        print(num, end='') # print number\n",
    "\n",
    "    # line after each row to display pattern correctly\n",
    "\n",
    "    print('')"
   ]
  },
  {
   "cell_type": "code",
   "execution_count": null,
   "id": "terminal-peeing",
   "metadata": {},
   "outputs": [],
   "source": [
    "print(range(3))\n",
    "for i in range(3):\n",
    "#     print(i)\n",
    "    for j in range(i):\n",
    "        print(i,end='')\n",
    "    print('')"
   ]
  },
  {
   "cell_type": "code",
   "execution_count": null,
   "id": "innovative-adventure",
   "metadata": {},
   "outputs": [],
   "source": [
    "print('rakib haasan','hasan',end='pp')"
   ]
  },
  {
   "cell_type": "code",
   "execution_count": null,
   "id": "champion-affect",
   "metadata": {},
   "outputs": [],
   "source": [
    "rows = 6\n",
    "\n",
    "for num in range(rows):\n",
    "\n",
    "    for i in range(num):\n",
    "\n",
    "        print(num, end='') # print number\n",
    "\n",
    "    # line after each row to display pattern correctly\n",
    "\n",
    "    print('')"
   ]
  },
  {
   "cell_type": "code",
   "execution_count": null,
   "id": "chicken-synthesis",
   "metadata": {},
   "outputs": [],
   "source": [
    "rows = 5\n",
    "\n",
    "b = 0\n",
    "\n",
    "for i in range(rows, 0, -1):\n",
    "\n",
    "    b += 1\n",
    "\n",
    "    for j in range(1, i + 1):\n",
    "\n",
    "        print(b, end='')\n",
    "\n",
    "    print('\\r')"
   ]
  },
  {
   "cell_type": "code",
   "execution_count": null,
   "id": "alive-portugal",
   "metadata": {},
   "outputs": [],
   "source": [
    "# theories\n",
    "# num=\"9878\",length=4\n",
    "# int(num[0])=9\n",
    "# int(num[1])=8\n",
    "# int(num[2])=7\n",
    "# int(num[3])=9\n",
    "'''number=input(\"please enter your name: \")\n",
    "i=0\n",
    "total=0\n",
    "while i < len(number):\n",
    "    total += int(number[i])\n",
    "    i+=1\n",
    "    #print(f\"total is {i} ---> {total}\")\n",
    "    print(total)'''\n",
    "\n",
    "total=0\n",
    "num=input(\"please enter your number:  \")\n",
    "for i in range(0,len(num)):\n",
    "    total+=int(num[i])\n",
    "    print(total)\n",
    "    # -----------------------------------\n"
   ]
  },
  {
   "cell_type": "code",
   "execution_count": null,
   "id": "acquired-nature",
   "metadata": {},
   "outputs": [],
   "source": [
    "# exercise 62 example 4\n",
    "name=input(\"please inter your name:  \")\n",
    "temp=\"\"\n",
    "for i in range (0,len(name)):\n",
    "    if name[i] not in temp:\n",
    "        # not in help to repet cherecter\n",
    "        print(f\"{name[i]}  =  {name.count(name[i])}\")\n",
    "        temp += name[i]\n",
    "\n",
    "\"\"\"name = input(\"please enter your name \")\n",
    "temp_var = \"\"\n",
    "i = 0\n",
    "while i < len(name):\n",
    "    if name[i] not in temp_var:\n",
    "        temp_var += name[i]\n",
    "        print(f\"{name[i]}:{name.count(name[i])}\")\n",
    "    i += 1\n",
    "    #name.replace('','space')\"\"\""
   ]
  },
  {
   "cell_type": "code",
   "execution_count": null,
   "id": "velvet-object",
   "metadata": {},
   "outputs": [],
   "source": [
    "# tutorial 63\n",
    "# continious and break statemnt\n",
    " \n",
    "print('this is break statement :')\n",
    "for i in range(1,10):\n",
    "    if i==7:\n",
    "        break\n",
    "    print(i)\n",
    "\n",
    "print('this is continious statement and look 7 is missing:')\n",
    "for i in range(1,10):\n",
    "    if i==7:\n",
    "        continue\n",
    "    print(i)    "
   ]
  },
  {
   "cell_type": "code",
   "execution_count": null,
   "id": "confused-congress",
   "metadata": {},
   "outputs": [],
   "source": [
    "print('hello');print('hi')"
   ]
  },
  {
   "cell_type": "code",
   "execution_count": null,
   "id": "direct-welding",
   "metadata": {},
   "outputs": [],
   "source": [
    "#with end method\n",
    "print('hello',end=' ');print('hi')"
   ]
  },
  {
   "cell_type": "code",
   "execution_count": null,
   "id": "small-junction",
   "metadata": {},
   "outputs": [],
   "source": [
    "number_row=int(input('print number of rows : '))\n",
    "for i in range(1,number_row+1):\n",
    "    for j in range(1,i+1):\n",
    "        print('*',end=' ')        \n",
    "    print('')"
   ]
  },
  {
   "cell_type": "markdown",
   "id": "valued-missile",
   "metadata": {},
   "source": []
  },
  {
   "cell_type": "code",
   "execution_count": null,
   "id": "gentle-sister",
   "metadata": {},
   "outputs": [],
   "source": [
    "number_row=int(input('enter no of  rows :'))\n",
    "for i in range(number_row,0,-1):\n",
    "    for j in range(0,number_row-i):\n",
    "        print(' ')#without end\n",
    "    for j in range(0,i):\n",
    "        print('*',end=' ')\n",
    "    print('')"
   ]
  },
  {
   "cell_type": "code",
   "execution_count": null,
   "id": "subtle-accreditation",
   "metadata": {},
   "outputs": [],
   "source": [
    "number_row=int(input('enter no of  rows :'))\n",
    "for i in range(number_row,0,-1):\n",
    "    for j in range(0,number_row-i):\n",
    "        print(end=' ')#with end\n",
    "    for j in range(0,i):\n",
    "        print('*',end=' ')\n",
    "    print('')"
   ]
  },
  {
   "cell_type": "code",
   "execution_count": null,
   "id": "russian-lesson",
   "metadata": {},
   "outputs": [],
   "source": [
    "print('a')\n",
    "print(end=' i')"
   ]
  },
  {
   "cell_type": "code",
   "execution_count": null,
   "id": "sporting-adult",
   "metadata": {},
   "outputs": [],
   "source": [
    "winning_number=88\n",
    "gauss=1\n",
    "number=int(input('please enter your number : '))\n",
    "game_over=False\n",
    "\n",
    "\n",
    "while not game_over:\n",
    "    if winning_number==number:\n",
    "        print(f' you win with gaussin {gauss} times')\n",
    "        game_over=True\n",
    "    else:\n",
    "        if number < winning_number:\n",
    "            number=int(input('please enter your high number : '))\n",
    "            gauss += 1\n",
    "            print('print something high')\n",
    "        else:\n",
    "            number=int(input('please enter your low number : '))\n",
    "            gauss += 1\n",
    "            print('print something low')"
   ]
  },
  {
   "cell_type": "markdown",
   "id": "romance-gender",
   "metadata": {},
   "source": [
    "!['whilel loop'](t.webp)"
   ]
  },
  {
   "cell_type": "code",
   "execution_count": 12,
   "id": "otherwise-sherman",
   "metadata": {},
   "outputs": [
    {
     "name": "stdout",
     "output_type": "stream",
     "text": [
      "please enter your number:  55\n",
      "too high\n",
      "please enter your number again:33\n",
      "too low\n",
      "please enter your number again:36\n",
      "too low\n",
      "please enter your number again:39\n",
      "too low\n",
      "please enter your number again:46\n",
      "too low\n",
      "please enter your number again:55\n",
      "too high\n",
      "please enter your number again:54\n",
      "too high\n",
      "please enter your number again:53\n",
      "too high\n",
      "please enter your number again:50\n",
      "you win and you gauss this number 9 time\n"
     ]
    }
   ],
   "source": [
    "import  random\n",
    "winning_number=random.randint(1,100)\n",
    "guess=1\n",
    "number=int(input(\"please enter your number:  \"))\n",
    "game_over=False\n",
    "while not game_over:\n",
    "    if number==winning_number:\n",
    "        print(f\"you win and you gauss this number {guess} time\")\n",
    "        game_over=True\n",
    "    else:\n",
    "        if number <winning_number:\n",
    "            print(\"too low\")\n",
    "\n",
    "        else:\n",
    "            print(\"too high\")\n",
    "\n",
    "\n",
    "        guess += 1\n",
    "        number = int(input(\"please enter your number again:\"))\n",
    "\n",
    "# dry principale=dont repeat yourself\n"
   ]
  },
  {
   "cell_type": "markdown",
   "id": "placed-invitation",
   "metadata": {},
   "source": [
    "!['while loop gaussing number'](guess-the-number-flowchart-while-loop-768x658.png)"
   ]
  },
  {
   "cell_type": "code",
   "execution_count": 14,
   "id": "military-hammer",
   "metadata": {},
   "outputs": [
    {
     "name": "stdout",
     "output_type": "stream",
     "text": [
      "please enter your number:  44\n",
      "too low\n",
      "please enter your number:  56\n",
      "too low\n",
      "please enter your number:  77\n",
      "you win and you gauss this number 3 time\n"
     ]
    }
   ],
   "source": [
    "#gaussing number with break continue statement\n",
    "winning_number=77\n",
    "guess=1\n",
    "# game_over=False\n",
    "while True:\n",
    "    number = int(input(\"please enter your number:  \"))\n",
    "    if number==winning_number:\n",
    "        print(f\"you win and you gauss this number {guess} time\")\n",
    "        break #game_over=True\n",
    "    else:\n",
    "        if number < winning_number:\n",
    "            print(\"too low\")\n",
    "\n",
    "        else:\n",
    "            print(\"too high\")\n",
    "\n",
    "        guess += 1\n",
    "        continue #number = int(input(\"please enter your number again:\"))\n",
    "\n"
   ]
  },
  {
   "cell_type": "markdown",
   "id": "technical-asian",
   "metadata": {},
   "source": [
    "# tutorial 67 step argument"
   ]
  },
  {
   "cell_type": "code",
   "execution_count": 17,
   "id": "analyzed-satisfaction",
   "metadata": {},
   "outputs": [
    {
     "name": "stdout",
     "output_type": "stream",
     "text": [
      "range(10,-1,-1):\n",
      "0\n",
      "2\n",
      "4\n",
      "6\n",
      "8\n",
      "10\n",
      "range(10,-1,-1):\n",
      "10\n",
      "9\n",
      "8\n",
      "7\n",
      "6\n",
      "5\n",
      "4\n",
      "3\n",
      "2\n",
      "1\n",
      "0\n",
      "range(0,-11,-1):\n",
      "0\n",
      "-1\n",
      "-2\n",
      "-3\n",
      "-4\n",
      "-5\n",
      "-6\n",
      "-7\n",
      "-8\n",
      "-9\n",
      "-10\n"
     ]
    }
   ],
   "source": [
    "print('range(10,-1,-1):')\n",
    "for i in range(0,11,2):\n",
    "    print(i)\n",
    "# step2:\n",
    "print('range(10,-1,-1):')\n",
    "for i in range(10,-1,-1):\n",
    "    print(i)\n",
    "# step 3:\n",
    "print('range(0,-11,-1):')\n",
    "for i in range(0,-11,-1):\n",
    "    print(i)"
   ]
  },
  {
   "cell_type": "markdown",
   "id": "finished-bicycle",
   "metadata": {},
   "source": [
    "# tutorial 68 for loop as a string"
   ]
  },
  {
   "cell_type": "code",
   "execution_count": 18,
   "id": "desperate-south",
   "metadata": {},
   "outputs": [
    {
     "name": "stdout",
     "output_type": "stream",
     "text": [
      "r\n",
      "a\n",
      "k\n",
      "i\n",
      "b\n",
      "m\n",
      "i\n",
      "a\n",
      "\n",
      "\n",
      "r\n",
      "a\n",
      "k\n",
      "i\n",
      "b\n",
      "h\n",
      "a\n",
      "s\n",
      "a\n",
      "n\n",
      "\n",
      "\n",
      "s\n",
      "u\n",
      "v\n",
      "r\n",
      "o\n",
      "please enter yoour number:  779\n",
      "7\n",
      "14\n",
      "23\n"
     ]
    }
   ],
   "source": [
    "name=\"rakibmia\"\n",
    "for i in range(len(name)):\n",
    "      print(name[i])\n",
    "\n",
    "name=\"\\nrakibhasan\"\n",
    "for i in name:\n",
    "    print(i)\n",
    "\n",
    "print(\"\\n\")\n",
    "for i in \"suvro\":\n",
    "    print(i)\n",
    "\n",
    "number=input(\"please enter yoour number:  \")\n",
    "total=0\n",
    "for i in number:\n",
    "    total+=int(i)\n",
    "    print(total)"
   ]
  },
  {
   "cell_type": "markdown",
   "id": "binary-alexandria",
   "metadata": {},
   "source": [
    "# tutorail 70 function intoduction"
   ]
  },
  {
   "cell_type": "code",
   "execution_count": 19,
   "id": "identified-conversation",
   "metadata": {},
   "outputs": [
    {
     "name": "stdout",
     "output_type": "stream",
     "text": [
      "9\n"
     ]
    }
   ],
   "source": [
    "def add_two_number(n1,n2):\n",
    "    return n1+n2\n",
    "total=add_two_number(4,5) #creating a object\n",
    "print(total)"
   ]
  },
  {
   "cell_type": "markdown",
   "id": "primary-sample",
   "metadata": {},
   "source": [
    "# tutorial 71"
   ]
  },
  {
   "cell_type": "code",
   "execution_count": 21,
   "id": "australian-middle",
   "metadata": {},
   "outputs": [
    {
     "name": "stdout",
     "output_type": "stream",
     "text": [
      "177\n",
      "three number is summed\n"
     ]
    }
   ],
   "source": [
    "def add_three(a,b,c):\n",
    "    return a+b+c\n",
    "\n",
    "print(add_three(8,90,79))\n",
    "print('three number is summed')"
   ]
  },
  {
   "cell_type": "code",
   "execution_count": 24,
   "id": "sixth-salmon",
   "metadata": {},
   "outputs": [
    {
     "name": "stdout",
     "output_type": "stream",
     "text": [
      "177\n"
     ]
    },
    {
     "data": {
      "text/plain": [
       "'print just shows the human user a string representing what is going on inside\\nthe computer. The computer cannot make use of that printing. return is how a function\\ngives back a value. This value is often unseen by the human user, but it can be used \\nby the computer in further functions'"
      ]
     },
     "execution_count": 24,
     "metadata": {},
     "output_type": "execute_result"
    }
   ],
   "source": [
    "def add_three(a,b,c):\n",
    "    return a+b+c\n",
    "\n",
    "print(add_three(8,90,79))\n",
    "\n",
    "\"\"\"print just shows the human user a string representing what is going on inside\n",
    "the computer. The computer cannot make use of that printing. return is how a function\n",
    "gives back a value. This value is often unseen by the human user, but it can be used \n",
    "by the computer in further functions\"\"\""
   ]
  },
  {
   "cell_type": "markdown",
   "id": "affecting-distributor",
   "metadata": {},
   "source": [
    "# tutorial 72 python debugging"
   ]
  },
  {
   "cell_type": "code",
   "execution_count": null,
   "id": "fossil-scott",
   "metadata": {},
   "outputs": [],
   "source": [
    "'''# command:\n",
    "# l=list\n",
    "# n=next\n",
    "# q=quit()\n",
    "# c=continue\n",
    "import pdb\n",
    "\n",
    "pdb.set_trace()\n",
    "name=input(\"please enter your name :\")\n",
    "age1=input(\"please enter your age\")\n",
    "print(f\"hello {name} and your age is {age1}\")\n",
    "age2=age1+5\n",
    "print(f\"hello {name} you become {age2} next five year\")'''"
   ]
  },
  {
   "cell_type": "markdown",
   "id": "proper-extra",
   "metadata": {},
   "source": [
    "# tutorial 73"
   ]
  },
  {
   "cell_type": "code",
   "execution_count": null,
   "id": "premium-florist",
   "metadata": {},
   "outputs": [],
   "source": [
    "def is_palindrom(word):\n",
    "    word=word[::-1]\n",
    "print(is_palindrom('naman'))\n",
    "print(is_palindrom('rakib'))"
   ]
  },
  {
   "cell_type": "markdown",
   "id": "sixth-settlement",
   "metadata": {},
   "source": [
    "# tutorail 75 define greater"
   ]
  },
  {
   "cell_type": "code",
   "execution_count": 1,
   "id": "reported-singing",
   "metadata": {},
   "outputs": [
    {
     "name": "stdout",
     "output_type": "stream",
     "text": [
      "please enter your number with comma separated :5,7,9\n",
      "9\n"
     ]
    }
   ],
   "source": [
    "def three_number(x,y,z):\n",
    "    if x>y and x>z:\n",
    "        return x\n",
    "    elif y>x and y>z:\n",
    "        return y\n",
    "    else:\n",
    "        return z\n",
    "num1,num2,num3=input('please enter your number with comma separated :').split(',')\n",
    "greatest=three_number(num1,num2,num3)\n",
    "print(greatest)"
   ]
  },
  {
   "cell_type": "code",
   "execution_count": 2,
   "id": "mounted-regard",
   "metadata": {},
   "outputs": [
    {
     "name": "stdout",
     "output_type": "stream",
     "text": [
      "3\n"
     ]
    }
   ],
   "source": [
    "def great(a,b):\n",
    "    if a>b:\n",
    "        return a\n",
    "    else:\n",
    "        return b\n",
    "\n",
    "def greater(a,b,c):\n",
    "    if a>b and a>c:\n",
    "        return  a\n",
    "    elif b>a and b>c:\n",
    "        return b\n",
    "    else:\n",
    "        return c\n",
    "\n",
    "def new_great(a,b,c):\n",
    "    bigger=great(a,b)\n",
    "    return great(bigger,c)\n",
    "# exprience-->return great(great(a,b),c)\n",
    "print(new_great(1,2,3))"
   ]
  },
  {
   "cell_type": "markdown",
   "id": "mediterranean-antibody",
   "metadata": {},
   "source": [
    "# tutorial 76 function inside function\n"
   ]
  },
  {
   "cell_type": "code",
   "execution_count": 3,
   "id": "revolutionary-mission",
   "metadata": {},
   "outputs": [
    {
     "name": "stdout",
     "output_type": "stream",
     "text": [
      "9\n"
     ]
    }
   ],
   "source": [
    "def great(x,y):\n",
    "    if x>y:\n",
    "        return x\n",
    "    else:\n",
    "        return y\n",
    "\n",
    "def bigger_number(a,b,c):\n",
    "    big=great(a,b)\n",
    "    return great(big,c)\n",
    "\n",
    "greatest_number=bigger_number(6,9,4)\n",
    "print(greatest_number)\n",
    "    "
   ]
  },
  {
   "cell_type": "markdown",
   "id": "dressed-diploma",
   "metadata": {},
   "source": [
    "# tutorial 76 exercise"
   ]
  },
  {
   "cell_type": "code",
   "execution_count": 4,
   "id": "derived-criticism",
   "metadata": {},
   "outputs": [
    {
     "name": "stdout",
     "output_type": "stream",
     "text": [
      "True\n",
      "False\n"
     ]
    }
   ],
   "source": [
    "def is_pallindrom(word):\n",
    "    return word==word[::-1]\n",
    "print(is_pallindrom('naman'))\n",
    "print(is_pallindrom('python'))"
   ]
  },
  {
   "cell_type": "markdown",
   "id": "threaded-lucas",
   "metadata": {},
   "source": [
    "# tutorial 79 define fibonachi series"
   ]
  },
  {
   "cell_type": "code",
   "execution_count": 5,
   "id": "actual-republican",
   "metadata": {},
   "outputs": [
    {
     "name": "stdout",
     "output_type": "stream",
     "text": [
      "0 1 1 2 3 5 8 13 21 34 "
     ]
    }
   ],
   "source": [
    "def fibonachi_sequence(n):\n",
    "    a=0 #first number a=1\n",
    "    b=1 #second number b=1\n",
    "    if n==1:\n",
    "           print(a)\n",
    "    elif  n==2:\n",
    "        print(a, b)\n",
    "    else:\n",
    "        print(a, b ,end=(\" \"))\n",
    "        for i in range(n-2): #that means it is exicute 10 times \n",
    "            c=a+b #c= 1 2 3\n",
    "            a=b   #a=1,1,2\n",
    "            b=c   #b=1 2 3\n",
    "            print(b,end=\" \")\n",
    "\n",
    "            \n",
    "            \n",
    "            \n",
    "            \n",
    "fibonachi_sequence(10)\n",
    "\"\"\"\n",
    "0 1 1 2 3 5 8 13 21 34\n",
    "a b\n",
    "0 1 1 2 3 5 8 13 21 34\n",
    "  a b\n",
    "0 1 1 2 3 5 8 13 21 34\n",
    "    a b\n",
    "after loop exicution a become b ,b become c ,and c get a new output\n",
    "\"\"\""
   ]
  },
  {
   "cell_type": "code",
   "execution_count": 7,
   "id": "environmental-technology",
   "metadata": {},
   "outputs": [
    {
     "name": "stdout",
     "output_type": "stream",
     "text": [
      "0 1 2 3 4 5 6 7 "
     ]
    }
   ],
   "source": [
    "for i in range(8):\n",
    "    print(i,end=' ')"
   ]
  },
  {
   "cell_type": "markdown",
   "id": "governmental-mills",
   "metadata": {},
   "source": [
    "# tutorial 80 default parameters"
   ]
  },
  {
   "cell_type": "code",
   "execution_count": 8,
   "id": "listed-bolivia",
   "metadata": {},
   "outputs": [
    {
     "name": "stdout",
     "output_type": "stream",
     "text": [
      " first name: rakib\n",
      " last name:  haman\n",
      "     age:    88\n",
      "*  *  *  *  \n",
      "*  *  *  *  \n",
      "*  *  *  *  \n",
      "*  *  *  *  \n",
      "*  \n",
      "*  *  \n",
      "*  *  *  \n",
      "*  *  *  *  \n",
      "this is another print: \n",
      "*  *  *  *  \n",
      "*  *  *  \n",
      "*  *  \n",
      "*  \n"
     ]
    }
   ],
   "source": [
    "def user_info(f_name,l_name,age):\n",
    "    print(f\" first name: {f_name}\")\n",
    "    print(f\" last name:  {l_name}\")\n",
    "    print(f\"     age:    {age}\")\n",
    "\n",
    "user_info('rakib' ,'haman',88 )\n",
    "# you make default parameter in last time\n",
    "\n",
    "# draw pattarn using pytho\n",
    "for i in range(4):\n",
    "    for j in range(4):\n",
    "        print('* ', end=' ')\n",
    "    print()\n",
    "\n",
    "for i in range(4): #0,1,2,3\n",
    "    for j in range(i+1):# 0,0 1,0 1 2 ,0 1 2 3\n",
    "        print('* ', end=' ')\n",
    "    print()\n",
    "print('this is another print: ')\n",
    "for i in range(4):\n",
    "    for j in range(4-i):\n",
    "        print('* ', end=' ')\n",
    "    print()"
   ]
  },
  {
   "cell_type": "markdown",
   "id": "divided-columbus",
   "metadata": {},
   "source": [
    "# Tutorial 81 Local & Global important"
   ]
  },
  {
   "cell_type": "code",
   "execution_count": 6,
   "id": "reverse-marijuana",
   "metadata": {},
   "outputs": [
    {
     "name": "stdout",
     "output_type": "stream",
     "text": [
      "8\n",
      "8\n",
      "80\n",
      "80\n"
     ]
    }
   ],
   "source": [
    "x=8 # that is global variable\n",
    "def function():\n",
    "    global x\n",
    "    x=80  #thati is local variable\n",
    "    return x\n",
    "    \n",
    "print(x)\n",
    "print(x)\n",
    "print(function())\n",
    "print(x)"
   ]
  },
  {
   "cell_type": "code",
   "execution_count": 9,
   "id": "presidential-shanghai",
   "metadata": {},
   "outputs": [
    {
     "name": "stdout",
     "output_type": "stream",
     "text": [
      "Local rakib hasan\n",
      "Global Rakib Hasan\n"
     ]
    }
   ],
   "source": [
    "def f():\n",
    "    a='Local rakib hasan' #local variable\n",
    "    return a\n",
    "    \n",
    "#Global variable or global scope\n",
    "a='Global Rakib Hasan'\n",
    "\n",
    "print(f())\n",
    "print(a)"
   ]
  },
  {
   "cell_type": "code",
   "execution_count": 10,
   "id": "honest-mouth",
   "metadata": {},
   "outputs": [
    {
     "ename": "UnboundLocalError",
     "evalue": "local variable 's' referenced before assignment",
     "output_type": "error",
     "traceback": [
      "\u001b[1;31m---------------------------------------------------------------------------\u001b[0m",
      "\u001b[1;31mUnboundLocalError\u001b[0m                         Traceback (most recent call last)",
      "\u001b[1;32m<ipython-input-10-5c3604254c00>\u001b[0m in \u001b[0;36m<module>\u001b[1;34m\u001b[0m\n\u001b[0;32m     10\u001b[0m \u001b[1;31m# Global scope\u001b[0m\u001b[1;33m\u001b[0m\u001b[1;33m\u001b[0m\u001b[1;33m\u001b[0m\u001b[0m\n\u001b[0;32m     11\u001b[0m \u001b[0ms\u001b[0m \u001b[1;33m=\u001b[0m \u001b[1;34m\"I love Geeksforgeeks\"\u001b[0m\u001b[1;33m\u001b[0m\u001b[1;33m\u001b[0m\u001b[0m\n\u001b[1;32m---> 12\u001b[1;33m \u001b[0mf\u001b[0m\u001b[1;33m(\u001b[0m\u001b[1;33m)\u001b[0m\u001b[1;33m\u001b[0m\u001b[1;33m\u001b[0m\u001b[0m\n\u001b[0m\u001b[0;32m     13\u001b[0m \u001b[0mprint\u001b[0m\u001b[1;33m(\u001b[0m\u001b[0ms\u001b[0m\u001b[1;33m)\u001b[0m\u001b[1;33m\u001b[0m\u001b[1;33m\u001b[0m\u001b[0m\n",
      "\u001b[1;32m<ipython-input-10-5c3604254c00>\u001b[0m in \u001b[0;36mf\u001b[1;34m()\u001b[0m\n\u001b[0;32m      1\u001b[0m \u001b[1;32mdef\u001b[0m \u001b[0mf\u001b[0m\u001b[1;33m(\u001b[0m\u001b[1;33m)\u001b[0m\u001b[1;33m:\u001b[0m\u001b[1;33m\u001b[0m\u001b[1;33m\u001b[0m\u001b[0m\n\u001b[1;32m----> 2\u001b[1;33m         \u001b[0mprint\u001b[0m\u001b[1;33m(\u001b[0m\u001b[0ms\u001b[0m\u001b[1;33m)\u001b[0m\u001b[1;33m\u001b[0m\u001b[1;33m\u001b[0m\u001b[0m\n\u001b[0m\u001b[0;32m      3\u001b[0m \u001b[1;33m\u001b[0m\u001b[0m\n\u001b[0;32m      4\u001b[0m         \u001b[1;31m# This program will NOT show error\u001b[0m\u001b[1;33m\u001b[0m\u001b[1;33m\u001b[0m\u001b[1;33m\u001b[0m\u001b[0m\n\u001b[0;32m      5\u001b[0m         \u001b[1;31m# if we comment below line.\u001b[0m\u001b[1;33m\u001b[0m\u001b[1;33m\u001b[0m\u001b[1;33m\u001b[0m\u001b[0m\n",
      "\u001b[1;31mUnboundLocalError\u001b[0m: local variable 's' referenced before assignment"
     ]
    }
   ],
   "source": [
    "def f():\n",
    "\tprint(s)\n",
    "\n",
    "\t# This program will NOT show error\n",
    "\t# if we comment below line.\n",
    "\ts = \"Me too.\"\n",
    "\n",
    "\tprint(s)\n",
    "\n",
    "# Global scope\n",
    "s = \"I love Geeksforgeeks\"\n",
    "f()\n",
    "print(s)\n"
   ]
  },
  {
   "cell_type": "code",
   "execution_count": 11,
   "id": "heated-programming",
   "metadata": {},
   "outputs": [
    {
     "name": "stdout",
     "output_type": "stream",
     "text": [
      "global :  1\n",
      "Inside f() :  1\n",
      "global :  1\n",
      "Inside g() :  2\n",
      "global :  1\n",
      "Inside h() :  3\n",
      "global :  3\n"
     ]
    }
   ],
   "source": [
    "a = 1\n",
    "\n",
    "# Uses global because there is no local 'a'\n",
    "def f():\n",
    "\tprint('Inside f() : ', a)\n",
    "\n",
    "# Variable 'a' is redefined as a local\n",
    "def g():\n",
    "\ta = 2\n",
    "\tprint('Inside g() : ', a)\n",
    "\n",
    "# Uses global keyword to modify global 'a'\n",
    "def h():\n",
    "\tglobal a\n",
    "\ta = 3\n",
    "\tprint('Inside h() : ', a)\n",
    "\n",
    "# Global scope\n",
    "print('global : ',a)\n",
    "f()\n",
    "print('global : ',a)\n",
    "g()\n",
    "print('global : ',a)\n",
    "h()\n",
    "print('global : ',a)\n"
   ]
  },
  {
   "cell_type": "markdown",
   "id": "floral-juice",
   "metadata": {},
   "source": [
    "# Tutorial82 List"
   ]
  },
  {
   "cell_type": "code",
   "execution_count": 12,
   "id": "imposed-performer",
   "metadata": {},
   "outputs": [
    {
     "name": "stdout",
     "output_type": "stream",
     "text": [
      "78\n",
      "['one', 'two']\n",
      "rakib\n",
      "[1, 'two', 3, 4, 5, 'hi', 'hello', 'i', 'rakib']\n",
      "[1, 'o', 'n', 'e']\n",
      "[1, 'python', 'css', 'java']\n",
      "['o', 'n', 'e', 'python', 'css', 'java']\n",
      "['o', 'python', 'css', 'java']\n"
     ]
    }
   ],
   "source": [
    "numbers=[7,2,78,22,21]\n",
    "print(numbers[2])\n",
    "\n",
    "words=[\"one\",\"two\",\"three\",\"foure\",\"five\"]\n",
    "print(words[:2])\n",
    "\n",
    "mixed=[1,2,3,4,5,\"hi\",\"hello\",\"i\",\"rakib\"]\n",
    "print(mixed[-1])\n",
    "#now i change 2 to two\n",
    "mixed[1]='two'#here 1 is position\n",
    "print(mixed)\n",
    "\n",
    "mixed[1:]=\"one\"\n",
    "print(mixed)\n",
    "\n",
    "mixed[1:]=[\"python\",\"css\",\"java\"]\n",
    "print(mixed)\n",
    "\n",
    "#list can be changed also effect by previous oparetion\n",
    "\n",
    "mixed[:1]=\"one\"\n",
    "print(mixed)\n",
    "\n",
    "mixed[1:]=[\"python\",\"css\",\"java\"]\n",
    "print(mixed)\n"
   ]
  },
  {
   "cell_type": "code",
   "execution_count": 13,
   "id": "tamil-pattern",
   "metadata": {},
   "outputs": [
    {
     "name": "stdout",
     "output_type": "stream",
     "text": [
      "['o', 'n', 'e', 2, 3, 4, 5, 'hi', 'hello', 'i', 'rakib']\n"
     ]
    }
   ],
   "source": [
    "mixed=[1,2,3,4,5,\"hi\",\"hello\",\"i\",\"rakib\"]\n",
    "mixed[:1]=\"one\"\n",
    "print(mixed)"
   ]
  },
  {
   "cell_type": "code",
   "execution_count": 14,
   "id": "local-warner",
   "metadata": {
    "scrolled": true
   },
   "outputs": [
    {
     "name": "stdout",
     "output_type": "stream",
     "text": [
      "[1, 'python', 'css', 'java']\n"
     ]
    }
   ],
   "source": [
    "#important\n",
    "mixed=[1,2,3,4,5,\"hi\",\"hello\",\"i\",\"rakib\"]\n",
    "mixed[1:]=[\"python\",\"css\",\"java\"]\n",
    "print(mixed)"
   ]
  },
  {
   "cell_type": "code",
   "execution_count": 15,
   "id": "inner-footwear",
   "metadata": {},
   "outputs": [
    {
     "name": "stdout",
     "output_type": "stream",
     "text": [
      "[1, 'python', 'css', 'java', 4, 5, 'hi', 'hello', 'i', 'rakib']\n"
     ]
    }
   ],
   "source": [
    "#important\n",
    "mixed=[1,2,3,4,5,\"hi\",\"hello\",\"i\",\"rakib\"]\n",
    "mixed[1:3]=[\"python\",\"css\",\"java\"]\n",
    "print(mixed)"
   ]
  },
  {
   "cell_type": "code",
   "execution_count": 1,
   "id": "practical-sugar",
   "metadata": {},
   "outputs": [
    {
     "name": "stdout",
     "output_type": "stream",
     "text": [
      "9\n"
     ]
    }
   ],
   "source": [
    "#important\n",
    "mixed=[1,2,3,4,5,\"hi\",\"hello\",\"i\",\"rakib\"]\n",
    "print(len(mixed))"
   ]
  },
  {
   "cell_type": "code",
   "execution_count": 2,
   "id": "loved-church",
   "metadata": {},
   "outputs": [
    {
     "name": "stdout",
     "output_type": "stream",
     "text": [
      "[1]\n",
      "[1, 2]\n",
      "[1, 2, 3]\n",
      "[1, 2, 3, 4]\n",
      "[1, 2, 3, 4, 5]\n",
      "[1, 2, 3, 4, 5, 6]\n",
      "[1, 2, 3, 4, 5, 6, 7]\n",
      "[1, 2, 3, 4, 5, 6, 7, 8]\n",
      "[1, 2, 3, 4, 5, 6, 7, 8, 9]\n"
     ]
    }
   ],
   "source": [
    "new_list=[]\n",
    "for i in range(1,10):\n",
    "    new_list.append(i)\n",
    "    print(new_list)"
   ]
  },
  {
   "cell_type": "markdown",
   "id": "handed-annual",
   "metadata": {},
   "source": [
    "# tutorial 83 append method list"
   ]
  },
  {
   "cell_type": "code",
   "execution_count": 3,
   "id": "adverse-speaking",
   "metadata": {},
   "outputs": [
    {
     "name": "stdout",
     "output_type": "stream",
     "text": [
      "['hi1', 'hi2', 'hi3', 'hi4']\n"
     ]
    }
   ],
   "source": [
    "empty_list=[]\n",
    "empty_list.append('hi1')\n",
    "empty_list.append('hi2')\n",
    "empty_list.append('hi3')\n",
    "empty_list.append('hi4')\n",
    "print(empty_list)"
   ]
  },
  {
   "cell_type": "markdown",
   "id": "becoming-privilege",
   "metadata": {},
   "source": [
    "# tutorial 84 add list"
   ]
  },
  {
   "cell_type": "code",
   "execution_count": 4,
   "id": "organized-standard",
   "metadata": {},
   "outputs": [
    {
     "name": "stdout",
     "output_type": "stream",
     "text": [
      "this is append method:\n",
      "['one', 'two', ['three', 'fore']]\n"
     ]
    },
    {
     "data": {
      "text/plain": [
       "\"append() Parameters\\nThe method takes a single argument\\n\\nitem - an item to be added at the end of the list\\nThe item can be numbers, strings, dictionaries, another list, and so on.\\n\\nReturn Value from append()\\nThe method doesn't return any value (returns None).\""
      ]
     },
     "execution_count": 4,
     "metadata": {},
     "output_type": "execute_result"
    }
   ],
   "source": [
    "print('this is append method:')\n",
    "f1 = ['one','two']\n",
    "f2=[\"three\",\"fore\"]\n",
    "f1.append(f2) #append method genarally add list at the end\n",
    "print(f1)\n",
    "\n",
    "# append() Parameters\n",
    "# The method takes a single argument\n",
    "# item - an item to be added at the end of the list\n",
    "# The item can be numbers, strings, dictionaries, another list, and so on.\n",
    "# Return Value from append()\n",
    "# The method doesn't return any value (returns None)."
   ]
  },
  {
   "cell_type": "code",
   "execution_count": 5,
   "id": "material-parts",
   "metadata": {},
   "outputs": [
    {
     "name": "stdout",
     "output_type": "stream",
     "text": [
      "['a', 'e', 'i', 'new insert', 'o', 'u']\n"
     ]
    }
   ],
   "source": [
    "#insert method\n",
    "a1=['a','e','i','o','u']\n",
    "a1.insert(3,'new insert')\n",
    "print(a1)\n",
    "\n",
    "#insert method genarally use in list and tuple it can take any position"
   ]
  },
  {
   "cell_type": "code",
   "execution_count": 6,
   "id": "recent-occasion",
   "metadata": {},
   "outputs": [
    {
     "name": "stdout",
     "output_type": "stream",
     "text": [
      "['a', 'e', 'i', 'o', 'u', 'a', 'b', 'c', 'd']\n"
     ]
    }
   ],
   "source": [
    "a1=['a','e','i','o','u']\n",
    "a2=['a','b','c','d']\n",
    "a=a1+a2\n",
    "print(a)"
   ]
  },
  {
   "cell_type": "code",
   "execution_count": 7,
   "id": "signal-measurement",
   "metadata": {},
   "outputs": [
    {
     "name": "stdout",
     "output_type": "stream",
     "text": [
      "['a', 'e', 'i', 'o', 'u', 'a', 'b', 'c', 'd']\n"
     ]
    }
   ],
   "source": [
    "#importan extend method\n",
    "a1=['a','e','i','o','u']\n",
    "a2=['a','b','c','d']\n",
    "a1.extend(a2)\n",
    "print(a1)\n",
    "\n",
    "\"\"\"extend() Parameters\n",
    "As mentioned, the extend() method takes an iterable such as list, tuple, string etc.\n",
    "Return Value from extend()\n",
    "The extend() method modifies the original list. It doesn't return any value.\"\"\""
   ]
  },
  {
   "cell_type": "markdown",
   "id": "checked-authentication",
   "metadata": {},
   "source": [
    "# tutorial 85 lesson:pop,del,remove"
   ]
  },
  {
   "cell_type": "code",
   "execution_count": 9,
   "id": "brief-atlas",
   "metadata": {},
   "outputs": [
    {
     "name": "stdout",
     "output_type": "stream",
     "text": [
      "['mango', 'apple', 'banana', 'pear']\n"
     ]
    }
   ],
   "source": [
    "#pop method\n",
    "fruites=['mango','apple','banana','apple','pear']\n",
    "fruites.pop(3) #pop method take position\n",
    "print(fruites)"
   ]
  },
  {
   "cell_type": "code",
   "execution_count": 10,
   "id": "young-riverside",
   "metadata": {},
   "outputs": [
    {
     "name": "stdout",
     "output_type": "stream",
     "text": [
      "['mango', 'banana', 'apple', 'pear']\n"
     ]
    }
   ],
   "source": [
    "#remove method\n",
    "fruites=['mango','apple','banana','apple','pear']\n",
    "fruites.remove('apple') #it remove first apple \n",
    "print(fruites)"
   ]
  },
  {
   "cell_type": "code",
   "execution_count": 13,
   "id": "crude-mills",
   "metadata": {},
   "outputs": [
    {
     "name": "stdout",
     "output_type": "stream",
     "text": [
      "['mango', 'apple', 'banana', 'pear']\n"
     ]
    }
   ],
   "source": [
    "#pop method\n",
    "fruites=['mango','apple','banana','apple','pear']\n",
    "del fruites[3]\n",
    "print(fruites)"
   ]
  },
  {
   "cell_type": "markdown",
   "id": "running-robinson",
   "metadata": {},
   "source": [
    "# to sum up (important)\n",
    "* list.pop(position)\n",
    "* del list[position]\n",
    "* list.remove('what you want to change')"
   ]
  },
  {
   "cell_type": "markdown",
   "id": "initial-pledge",
   "metadata": {},
   "source": [
    "# Tutorial 86 in keyword"
   ]
  },
  {
   "cell_type": "code",
   "execution_count": 14,
   "id": "handled-roberts",
   "metadata": {},
   "outputs": [
    {
     "name": "stdout",
     "output_type": "stream",
     "text": [
      " hi is in the a list\n"
     ]
    }
   ],
   "source": [
    "a=['hi','hello']\n",
    "if 'hi' in a:\n",
    "    print(' hi is in the a list')\n",
    "    "
   ]
  },
  {
   "cell_type": "markdown",
   "id": "happy-caribbean",
   "metadata": {},
   "source": [
    "# -------------------Tutorial 87------------------(important)\n",
    "# count\n",
    "# sort method\n",
    "# sorted()\n",
    "# reversed()\n",
    "# copy\n",
    "# clear--->used for delete"
   ]
  },
  {
   "cell_type": "code",
   "execution_count": 15,
   "id": "filled-spokesman",
   "metadata": {},
   "outputs": [
    {
     "name": "stdout",
     "output_type": "stream",
     "text": [
      "2\n"
     ]
    }
   ],
   "source": [
    "fruits=['apple','orange','apple','banana','kewi','banana']\n",
    "print(fruits.count('apple'))"
   ]
  },
  {
   "cell_type": "code",
   "execution_count": 17,
   "id": "recorded-worry",
   "metadata": {},
   "outputs": [
    {
     "name": "stdout",
     "output_type": "stream",
     "text": [
      "['apple', 'banana', 'mango', 'pear']\n"
     ]
    }
   ],
   "source": [
    "fruits=['apple','orange','apple','banana','kewi','banana']\n",
    "fruites.sort()\n",
    "print(fruites)"
   ]
  },
  {
   "cell_type": "code",
   "execution_count": 19,
   "id": "regional-gambling",
   "metadata": {},
   "outputs": [
    {
     "name": "stdout",
     "output_type": "stream",
     "text": [
      "['apple', 'banana', 'mango', 'pear']\n"
     ]
    }
   ],
   "source": [
    "fruits=['apple','orange','apple','banana','kewi','banana']\n",
    "\n",
    "print(sorted(fruites))"
   ]
  },
  {
   "cell_type": "code",
   "execution_count": 20,
   "id": "moved-surge",
   "metadata": {},
   "outputs": [
    {
     "name": "stdout",
     "output_type": "stream",
     "text": [
      "[3, 8, 9, 9, 28]\n"
     ]
    }
   ],
   "source": [
    "number=[8,9,28,9,3]\n",
    "print(sorted(number))"
   ]
  },
  {
   "cell_type": "code",
   "execution_count": 21,
   "id": "arbitrary-messaging",
   "metadata": {},
   "outputs": [
    {
     "name": "stdout",
     "output_type": "stream",
     "text": [
      "[]\n"
     ]
    }
   ],
   "source": [
    "fruits=['apple','orange','apple','banana','kewi','banana']\n",
    "fruites.clear()\n",
    "print(fruites)"
   ]
  },
  {
   "cell_type": "code",
   "execution_count": 24,
   "id": "approximate-leather",
   "metadata": {},
   "outputs": [
    {
     "name": "stdout",
     "output_type": "stream",
     "text": [
      "\n",
      "this is copy() method:\n",
      "['a', 'b', 'c', 'd']\n"
     ]
    }
   ],
   "source": [
    "print('\\nthis is copy() method:')\n",
    "list1=['a','b','c','d']\n",
    "list_copy=list1.copy()\n",
    "print(list_copy)"
   ]
  },
  {
   "cell_type": "code",
   "execution_count": 26,
   "id": "geological-wrapping",
   "metadata": {},
   "outputs": [
    {
     "name": "stdout",
     "output_type": "stream",
     "text": [
      "['d', 'c', 'b', 'a']\n"
     ]
    }
   ],
   "source": [
    "list1=['a','b','c','d']\n",
    "list1.reverse()\n",
    "print(list1)"
   ]
  },
  {
   "cell_type": "markdown",
   "id": "inclusive-appearance",
   "metadata": {},
   "source": [
    "# -------tutotial88 is vs equal\n",
    "* is just check memory location is same"
   ]
  },
  {
   "cell_type": "code",
   "execution_count": 27,
   "id": "gorgeous-pasta",
   "metadata": {},
   "outputs": [
    {
     "name": "stdout",
     "output_type": "stream",
     "text": [
      "True\n",
      "False\n"
     ]
    }
   ],
   "source": [
    "fruits1=['apple','orange','apple','banana','kewi','banana']\n",
    "fruits2=['apple','orange','apple','banana','kewi','banana']\n",
    "fruits3=['apple','orange','apple','banana','kewi','banana','jackfruite']\n",
    "print(fruits1 == fruits2)\n",
    "print(fruits1 is fruits2)\n",
    "# is check that does two memory location is same"
   ]
  },
  {
   "cell_type": "markdown",
   "id": "turned-footage",
   "metadata": {},
   "source": [
    "# tutorial 89 join and split method\n"
   ]
  },
  {
   "cell_type": "code",
   "execution_count": 29,
   "id": "fresh-generic",
   "metadata": {},
   "outputs": [
    {
     "name": "stdout",
     "output_type": "stream",
     "text": [
      "['rakib', ' 7700']\n"
     ]
    }
   ],
   "source": [
    "# split\n",
    "user_info='rakib, 7700'.split(',')\n",
    "print(user_info)"
   ]
  },
  {
   "cell_type": "code",
   "execution_count": 30,
   "id": "discrete-identity",
   "metadata": {},
   "outputs": [
    {
     "data": {
      "text/plain": [
       "['hi', 'hello']"
      ]
     },
     "execution_count": 30,
     "metadata": {},
     "output_type": "execute_result"
    }
   ],
   "source": [
    "test='hi,hello'.split(',')\n",
    "test"
   ]
  },
  {
   "cell_type": "code",
   "execution_count": 31,
   "id": "rubber-touch",
   "metadata": {},
   "outputs": [
    {
     "name": "stdout",
     "output_type": "stream",
     "text": [
      "rakib,21\n"
     ]
    }
   ],
   "source": [
    "#join method important\n",
    "user_info=['rakib','21']\n",
    "print(','.join(user_info))"
   ]
  },
  {
   "cell_type": "code",
   "execution_count": 32,
   "id": "effective-holly",
   "metadata": {},
   "outputs": [
    {
     "name": "stdout",
     "output_type": "stream",
     "text": [
      "nameTESTcountry\n"
     ]
    }
   ],
   "source": [
    "myDict = {\"name\": \"John\", \"country\": \"Norway\"}\n",
    "mySeparator = \"TEST\"\n",
    "x = mySeparator.join(myDict)\n",
    "print(x)"
   ]
  },
  {
   "cell_type": "code",
   "execution_count": 33,
   "id": "expected-friday",
   "metadata": {},
   "outputs": [
    {
     "name": "stdout",
     "output_type": "stream",
     "text": [
      "John#Peter#Vicky\n"
     ]
    }
   ],
   "source": [
    "myTuple = (\"John\", \"Peter\", \"Vicky\")\n",
    "x = \"#\".join(myTuple)\n",
    "print(x)"
   ]
  },
  {
   "cell_type": "markdown",
   "id": "boolean-pipeline",
   "metadata": {},
   "source": [
    "# Tutorial 90 list array\n",
    "[click here](https://www.educative.io/edpresso/how-to-convert-a-list-to-an-array-in-python)"
   ]
  },
  {
   "cell_type": "code",
   "execution_count": null,
   "id": "prompt-christopher",
   "metadata": {},
   "outputs": [],
   "source": []
  },
  {
   "cell_type": "code",
   "execution_count": 34,
   "id": "widespread-camping",
   "metadata": {},
   "outputs": [],
   "source": [
    "# Tutorial 90\n",
    "# c,c++,java\n",
    "# array,string\n",
    "#\n",
    "# c,c++ fixed data\n",
    "#\n",
    "# python list=you can easyly store all type of data\n",
    "#\n",
    "# python array=fixed datatype\n",
    "#\n",
    "# numpy=binding with c\n",
    "#\n",
    "#     javascript array=as like python array"
   ]
  },
  {
   "cell_type": "markdown",
   "id": "sensitive-shark",
   "metadata": {},
   "source": [
    "# Tutorial 91 string vs list"
   ]
  },
  {
   "cell_type": "code",
   "execution_count": 2,
   "id": "meaning-screw",
   "metadata": {},
   "outputs": [
    {
     "name": "stdout",
     "output_type": "stream",
     "text": [
      "String\n",
      "['word1', 'word2', 'word3', 'word4']\n"
     ]
    }
   ],
   "source": [
    "s=\"string\"\n",
    "t=s.title()\n",
    "print(t)\n",
    "# here s is capital letter\n",
    "# string are immutable\n",
    "#list is mutable\n",
    "l=['word1','word2','word3']\n",
    "l.append(\"word4\")\n",
    "print(l)"
   ]
  },
  {
   "cell_type": "markdown",
   "id": "bacterial-leather",
   "metadata": {},
   "source": [
    "# Tutorial 92 list looping"
   ]
  },
  {
   "cell_type": "code",
   "execution_count": 3,
   "id": "assured-interim",
   "metadata": {},
   "outputs": [
    {
     "name": "stdout",
     "output_type": "stream",
     "text": [
      "apple\n",
      "Mango\n",
      "Banana\n"
     ]
    }
   ],
   "source": [
    "list=['apple','Mango','Banana']\n",
    "\n",
    "i=0\n",
    "\n",
    "while i<len(list):\n",
    "    print(list[i])\n",
    "    i+=1"
   ]
  },
  {
   "cell_type": "markdown",
   "id": "metallic-panel",
   "metadata": {},
   "source": [
    "# Tutorial 93 list inside list\n"
   ]
  },
  {
   "cell_type": "code",
   "execution_count": 6,
   "id": "charged-mumbai",
   "metadata": {},
   "outputs": [
    {
     "name": "stdout",
     "output_type": "stream",
     "text": [
      "[7, 123, 98]\n",
      "123\n",
      "after playing looP :\n",
      "3\n",
      "1\n",
      "3\n",
      "7\n",
      "23\n",
      "99\n",
      "7\n",
      "123\n",
      "98\n"
     ]
    }
   ],
   "source": [
    "matrix=[[3,1,3],[7,23,99],[7,123,98]]\n",
    "print(matrix[2])\n",
    "print(matrix[2][1])\n",
    "\n",
    "print('after playing looP :')\n",
    "for submatix in matrix:\n",
    "    for element_of_submatrix in submatix:\n",
    "        print(element_of_submatrix)"
   ]
  },
  {
   "cell_type": "code",
   "execution_count": 7,
   "id": "textile-finance",
   "metadata": {},
   "outputs": [
    {
     "name": "stdout",
     "output_type": "stream",
     "text": [
      "<class 'list'>\n"
     ]
    }
   ],
   "source": [
    "print(type(matrix))"
   ]
  },
  {
   "cell_type": "markdown",
   "id": "trained-garlic",
   "metadata": {},
   "source": [
    "# tutorial 94 more about list\n"
   ]
  },
  {
   "cell_type": "code",
   "execution_count": 11,
   "id": "pharmaceutical-values",
   "metadata": {},
   "outputs": [
    {
     "ename": "TypeError",
     "evalue": "'list' object is not callable",
     "output_type": "error",
     "traceback": [
      "\u001b[1;31m---------------------------------------------------------------------------\u001b[0m",
      "\u001b[1;31mTypeError\u001b[0m                                 Traceback (most recent call last)",
      "\u001b[1;32m<ipython-input-11-1021568599e8>\u001b[0m in \u001b[0;36m<module>\u001b[1;34m\u001b[0m\n\u001b[1;32m----> 1\u001b[1;33m \u001b[0mnumber1\u001b[0m\u001b[1;33m=\u001b[0m\u001b[0mlist\u001b[0m\u001b[1;33m(\u001b[0m\u001b[0mrange\u001b[0m\u001b[1;33m(\u001b[0m\u001b[1;36m1\u001b[0m\u001b[1;33m,\u001b[0m\u001b[1;36m15\u001b[0m\u001b[1;33m)\u001b[0m\u001b[1;33m)\u001b[0m\u001b[1;33m\u001b[0m\u001b[1;33m\u001b[0m\u001b[0m\n\u001b[0m\u001b[0;32m      2\u001b[0m \u001b[0mprint\u001b[0m\u001b[1;33m(\u001b[0m\u001b[0mnumber1\u001b[0m\u001b[1;33m)\u001b[0m\u001b[1;33m\u001b[0m\u001b[1;33m\u001b[0m\u001b[0m\n",
      "\u001b[1;31mTypeError\u001b[0m: 'list' object is not callable"
     ]
    }
   ],
   "source": [
    "number1=list(range(1,15))\n",
    "print(number1)"
   ]
  },
  {
   "cell_type": "code",
   "execution_count": 14,
   "id": "robust-solid",
   "metadata": {},
   "outputs": [
    {
     "name": "stdout",
     "output_type": "stream",
     "text": [
      "[1, 2, 3, 4, 5, 6, 7, 8, 9, 10, 11, 12, 13, 14]\n",
      "[1, 2, 3, 4, 5, 6, 7, 8, 9, 10, 11, 12, 13]\n"
     ]
    }
   ],
   "source": [
    "del list\n",
    "# withot '''del list'''  it is say 'list' object is not callable\n",
    "number1=list(range(1,15))\n",
    "print(number1)\n",
    "number1.pop()\n",
    "\n",
    "print(number1)"
   ]
  },
  {
   "cell_type": "code",
   "execution_count": 15,
   "id": "piano-thumb",
   "metadata": {},
   "outputs": [
    {
     "name": "stdout",
     "output_type": "stream",
     "text": [
      "1 is between 1 and 10\n",
      "2 is between 1 and 10\n",
      "3 is between 1 and 10\n",
      "4 is between 1 and 10\n",
      "5 is between 1 and 10\n"
     ]
    }
   ],
   "source": [
    "ints = [1, 2, 3, 4, 5] # Rename \"list\" to \"ints\"\n",
    "myrange = list(range(1, 10))\n",
    "\n",
    "for number in ints: # Renamed \"list\" to \"ints\"\n",
    "    if number in myrange:\n",
    "        print(number, 'is between 1 and 10')"
   ]
  },
  {
   "cell_type": "code",
   "execution_count": 18,
   "id": "wrong-professional",
   "metadata": {},
   "outputs": [
    {
     "name": "stdout",
     "output_type": "stream",
     "text": [
      "[1, 2, 3, 4, 5, 6, 7, 8]\n",
      "8\n",
      "6\n"
     ]
    }
   ],
   "source": [
    "# important pop method\n",
    "a1=list(range(1,9))\n",
    "print(a1)\n",
    "print(a1.pop())\n",
    "print(a1.pop(5))"
   ]
  },
  {
   "cell_type": "code",
   "execution_count": 19,
   "id": "numerous-architect",
   "metadata": {},
   "outputs": [
    {
     "name": "stdout",
     "output_type": "stream",
     "text": [
      "[1, 2, 3, 4, 5, 6, 7, 8]\n",
      "3\n"
     ]
    }
   ],
   "source": [
    "#important index method\n",
    "a1=list(range(1,9))\n",
    "print(a1)\n",
    "print(a1.index(4))\n",
    "# index(value , start ,stop)"
   ]
  },
  {
   "cell_type": "code",
   "execution_count": 21,
   "id": "known-helping",
   "metadata": {},
   "outputs": [
    {
     "name": "stdout",
     "output_type": "stream",
     "text": [
      "[-12, -34, -98, -34, -24, -89, -298]\n"
     ]
    }
   ],
   "source": [
    "number=[12,34,98,34,24,89,298]\n",
    "\n",
    "def make_negetive_number(l):\n",
    "    negetive=[] #important\n",
    "    for i in l:\n",
    "        negetive.append(-i)\n",
    "    return negetive\n",
    "print(make_negetive_number(number))"
   ]
  },
  {
   "cell_type": "markdown",
   "id": "sweet-instruction",
   "metadata": {},
   "source": [
    "# Tutotial 95"
   ]
  },
  {
   "cell_type": "code",
   "execution_count": 23,
   "id": "center-compound",
   "metadata": {},
   "outputs": [
    {
     "name": "stdout",
     "output_type": "stream",
     "text": [
      "[1, 4, 2401, 9604, 6400]\n"
     ]
    }
   ],
   "source": [
    "number=[1,2,49,98,80]\n",
    "def make_square(l):\n",
    "    empty_list=[]\n",
    "    for i in l:\n",
    "        empty_list.append(i**2)\n",
    "    return empty_list\n",
    "print(make_square(number))"
   ]
  },
  {
   "cell_type": "markdown",
   "id": "comprehensive-lambda",
   "metadata": {},
   "source": [
    "# Tutorial 98 exercise reverse number"
   ]
  },
  {
   "cell_type": "code",
   "execution_count": 24,
   "id": "matched-portuguese",
   "metadata": {},
   "outputs": [
    {
     "data": {
      "text/plain": [
       "[88, 45, 90, 6, 4, 3, 2, 1]"
      ]
     },
     "execution_count": 24,
     "metadata": {},
     "output_type": "execute_result"
    }
   ],
   "source": [
    "number=[1,2,3,4,6,90,45,88]\n",
    "def reverse_number(l):\n",
    "    l.reverse()\n",
    "    return l\n",
    "reverse_number(number)"
   ]
  },
  {
   "cell_type": "code",
   "execution_count": 26,
   "id": "prospective-repair",
   "metadata": {},
   "outputs": [
    {
     "data": {
      "text/plain": [
       "[5, 4, 3, 2, 4, 4, 2]"
      ]
     },
     "execution_count": 26,
     "metadata": {},
     "output_type": "execute_result"
    }
   ],
   "source": [
    "number=[2,4,4,2,3,4,5]#\n",
    "def reverse_number_method2(l):\n",
    "    return l[::-1]\n",
    "reverse_number_method2(number)"
   ]
  },
  {
   "cell_type": "code",
   "execution_count": 28,
   "id": "saved-colony",
   "metadata": {},
   "outputs": [
    {
     "name": "stdout",
     "output_type": "stream",
     "text": [
      "[5, 4, 3, 2, 4, 4, 2]\n"
     ]
    }
   ],
   "source": [
    "#method 3 important\n",
    "\n",
    "number=[2,4,4,2,3,4,5]\n",
    "def reverse_number(l):\n",
    "    empty_list=[]\n",
    "    for i in range(len(l)):\n",
    "        pop_item=l.pop()\n",
    "        empty_list.append(pop_item)\n",
    "    return empty_list\n",
    "\n",
    "print(reverse_number(number))\n",
    "        \n"
   ]
  },
  {
   "cell_type": "markdown",
   "id": "lasting-syndicate",
   "metadata": {},
   "source": [
    "# tutorial 100 exercise"
   ]
  },
  {
   "cell_type": "code",
   "execution_count": 29,
   "id": "alpha-playlist",
   "metadata": {},
   "outputs": [
    {
     "name": "stdout",
     "output_type": "stream",
     "text": [
      "['iih', 'olleh', 'hsedalgnab', 'htrae']\n"
     ]
    }
   ],
   "source": [
    "def reverse_element(l):\n",
    "    element=[]\n",
    "    for i in l:\n",
    "        element.append(i[::-1])\n",
    "    return element#return element have to paralles to for loop\n",
    "word = ['hii','hello','bangladesh','earth']\n",
    "print(reverse_element(word))\n"
   ]
  },
  {
   "cell_type": "markdown",
   "id": "cooperative-singapore",
   "metadata": {},
   "source": [
    "# Tutorial 102 exercise\n",
    "\n"
   ]
  },
  {
   "cell_type": "code",
   "execution_count": 31,
   "id": "passing-publisher",
   "metadata": {},
   "outputs": [
    {
     "name": "stdout",
     "output_type": "stream",
     "text": [
      "[[2, 38, 878, 278], [1, 77, 23]]\n"
     ]
    }
   ],
   "source": [
    "#important\n",
    "number=[1,2,77,38,878,278,23]\n",
    "def separate_even_odd(l):\n",
    "    even=[]\n",
    "    odd=[]\n",
    "    for i in l:\n",
    "        if i%2==0:\n",
    "            even.append(i)\n",
    "        else:\n",
    "            odd.append(i)\n",
    "        output=[even,odd]\n",
    "    return output\n",
    "\n",
    "print(separate_even_odd(number))\n",
    "    "
   ]
  },
  {
   "cell_type": "markdown",
   "id": "collaborative-above",
   "metadata": {},
   "source": [
    "# Tutorial 104 exercise\n",
    "* topic : we want for find same element from two list"
   ]
  },
  {
   "cell_type": "code",
   "execution_count": 32,
   "id": "little-hearts",
   "metadata": {},
   "outputs": [
    {
     "name": "stdout",
     "output_type": "stream",
     "text": [
      "[2, 5]\n"
     ]
    }
   ],
   "source": [
    "def find_same_element(l1,l2):\n",
    "    empty_list=[]\n",
    "    for i in l1:\n",
    "        if i in l2:\n",
    "            empty_list.append(i)\n",
    "    return empty_list\n",
    "\n",
    "print(find_same_element([1,2,3,4,5],[88,2,8,5]))\n",
    "    "
   ]
  },
  {
   "cell_type": "markdown",
   "id": "warming-retailer",
   "metadata": {},
   "source": [
    "# Tutorial 205 min max function"
   ]
  },
  {
   "cell_type": "code",
   "execution_count": 33,
   "id": "absolute-design",
   "metadata": {},
   "outputs": [
    {
     "name": "stdout",
     "output_type": "stream",
     "text": [
      "21\n",
      "89\n",
      "-68\n"
     ]
    }
   ],
   "source": [
    "l=[34,53,23,34,21,89]\n",
    "print(min(l))\n",
    "print(max(l))\n",
    "\n",
    "def diffrence_min_max(number):\n",
    "    return min(number) - max(number)\n",
    "print(diffrence_min_max(l))\n"
   ]
  },
  {
   "cell_type": "markdown",
   "id": "indoor-deputy",
   "metadata": {},
   "source": [
    "# Tutorial 206 exercise"
   ]
  },
  {
   "cell_type": "code",
   "execution_count": 37,
   "id": "incoming-national",
   "metadata": {},
   "outputs": [
    {
     "name": "stdout",
     "output_type": "stream",
     "text": [
      "3\n"
     ]
    }
   ],
   "source": [
    "def count_sublist(l):\n",
    "    count=0\n",
    "    for i in l:\n",
    "        if type(i)==list:\n",
    "            count += 1\n",
    "    return count\n",
    "\n",
    "print(count_sublist([[1,2],3,5,2,[7,8,9],[4,1]]))"
   ]
  },
  {
   "cell_type": "markdown",
   "id": "parallel-webcam",
   "metadata": {},
   "source": [
    "# Tutorail 209 basic tuple"
   ]
  },
  {
   "cell_type": "markdown",
   "id": "effective-catalog",
   "metadata": {},
   "source": [
    "# tuple basic\n",
    "* tuple data type\n",
    "* it can store any kind of datatype\n",
    "* you cant cange any kind of data\n",
    "* tuple are faster than list method\n",
    "* it immutable and you cant update this\n",
    "* no append , no remove, no pop , no insert\n",
    "* \n",
    "* you can use:\n",
    "* count,index\n",
    "* len function\n",
    "* slaiceing"
   ]
  },
  {
   "cell_type": "markdown",
   "id": "southeast-patrol",
   "metadata": {},
   "source": [
    "# Tutoril 206 Tuple"
   ]
  },
  {
   "cell_type": "code",
   "execution_count": 39,
   "id": "changed-arnold",
   "metadata": {},
   "outputs": [
    {
     "name": "stdout",
     "output_type": "stream",
     "text": [
      "1\n",
      "3\n",
      "8\n",
      "8\n",
      "<class 'tuple'>\n",
      "(1,)\n",
      "('hi', 'hello', 'how are you')\n",
      "hello\n",
      "('hi', ['i am best', 'hi vai'])\n"
     ]
    },
    {
     "data": {
      "text/plain": [
       "'Tuples are faster than lists.\\nIt makes your code safer if you “write-protect” data that\\ndoes not need to be changed. ... Some tuples can be used\\nas dictionary keys (specifically, tuples that contain\\nimmutable values like strings, numbers, and other tuples).'"
      ]
     },
     "execution_count": 39,
     "metadata": {},
     "output_type": "execute_result"
    }
   ],
   "source": [
    "number=(1,3,8,8)\n",
    "for i in number:\n",
    "    print(i)\n",
    "\n",
    "#tuple with one element\n",
    "nums=(1,)\n",
    "print(type(nums))\n",
    "print(nums)\n",
    "\n",
    "## tuple with parenthesis\n",
    "word = 'hi','hello','how are you'\n",
    "print(word)\n",
    "\n",
    "# tuple unpacking\n",
    "word = ('hi','hello','how are you')\n",
    "word1,word2,word3 = (word)\n",
    "print(word2)\n",
    "\n",
    "word = ('hi',['i am best','hii'])\n",
    "word[1].pop()\n",
    "word[1].append(\"hi vai\")\n",
    "print(word)\n",
    "\n",
    "\"\"\"Tuples are faster than lists.\n",
    "It makes your code safer if you “write-protect” data that\n",
    "does not need to be changed. ... Some tuples can be used\n",
    "as dictionary keys (specifically, tuples that contain\n",
    "immutable values like strings, numbers, and other tuples).\"\"\""
   ]
  },
  {
   "cell_type": "code",
   "execution_count": 41,
   "id": "skilled-wednesday",
   "metadata": {},
   "outputs": [
    {
     "name": "stdout",
     "output_type": "stream",
     "text": [
      "hello\n"
     ]
    }
   ],
   "source": [
    "# tuple unpacking\n",
    "word = ('hi','hello','how are you')\n",
    "w1,w2,w3 = (word)\n",
    "print(w2)"
   ]
  },
  {
   "cell_type": "code",
   "execution_count": 43,
   "id": "thrown-convert",
   "metadata": {},
   "outputs": [
    {
     "name": "stdout",
     "output_type": "stream",
     "text": [
      "('hi', ['i am best', 'hello', 'hi vai'])\n"
     ]
    }
   ],
   "source": [
    "word = ('hi',['i am best','hello','best'])\n",
    "\n",
    "word[1].pop() # it work because position 1 has  list\n",
    "\n",
    "word[1].append(\"hi vai\")\n",
    "\n",
    "print(word)"
   ]
  },
  {
   "cell_type": "code",
   "execution_count": 46,
   "id": "expensive-stephen",
   "metadata": {},
   "outputs": [
    {
     "ename": "AttributeError",
     "evalue": "'str' object has no attribute 'pop'",
     "output_type": "error",
     "traceback": [
      "\u001b[1;31m---------------------------------------------------------------------------\u001b[0m",
      "\u001b[1;31mAttributeError\u001b[0m                            Traceback (most recent call last)",
      "\u001b[1;32m<ipython-input-46-bb732fcdd1c0>\u001b[0m in \u001b[0;36m<module>\u001b[1;34m\u001b[0m\n\u001b[0;32m      1\u001b[0m \u001b[0mword\u001b[0m \u001b[1;33m=\u001b[0m \u001b[1;33m(\u001b[0m\u001b[1;34m'hi'\u001b[0m\u001b[1;33m,\u001b[0m\u001b[1;33m[\u001b[0m\u001b[1;34m'i am best'\u001b[0m\u001b[1;33m,\u001b[0m\u001b[1;34m'hello'\u001b[0m\u001b[1;33m,\u001b[0m\u001b[1;34m'best'\u001b[0m\u001b[1;33m]\u001b[0m\u001b[1;33m)\u001b[0m\u001b[1;33m\u001b[0m\u001b[1;33m\u001b[0m\u001b[0m\n\u001b[0;32m      2\u001b[0m \u001b[1;33m\u001b[0m\u001b[0m\n\u001b[1;32m----> 3\u001b[1;33m \u001b[0mword\u001b[0m\u001b[1;33m[\u001b[0m\u001b[1;36m0\u001b[0m\u001b[1;33m]\u001b[0m\u001b[1;33m.\u001b[0m\u001b[0mpop\u001b[0m\u001b[1;33m(\u001b[0m\u001b[1;33m)\u001b[0m\u001b[1;33m\u001b[0m\u001b[1;33m\u001b[0m\u001b[0m\n\u001b[0m\u001b[0;32m      4\u001b[0m \u001b[0mword\u001b[0m\u001b[1;33m[\u001b[0m\u001b[1;36m0\u001b[0m\u001b[1;33m]\u001b[0m\u001b[1;33m.\u001b[0m\u001b[0mappend\u001b[0m\u001b[1;33m(\u001b[0m\u001b[1;34m'hello'\u001b[0m\u001b[1;33m)\u001b[0m\u001b[1;33m\u001b[0m\u001b[1;33m\u001b[0m\u001b[0m\n",
      "\u001b[1;31mAttributeError\u001b[0m: 'str' object has no attribute 'pop'"
     ]
    }
   ],
   "source": [
    "word = ('hi',['i am best','hello','best'])\n",
    "\n",
    "word[0].pop()\n",
    "\n",
    "word[0].append('hello')\n",
    "#giving error becaue it is tuple"
   ]
  },
  {
   "cell_type": "markdown",
   "id": "greenhouse-chart",
   "metadata": {},
   "source": [
    "# tutorial 111 function return two value"
   ]
  },
  {
   "cell_type": "code",
   "execution_count": 2,
   "id": "composite-lingerie",
   "metadata": {},
   "outputs": [
    {
     "name": "stdout",
     "output_type": "stream",
     "text": [
      "function(2,8) result: (10, 16)\n",
      "10\n",
      "16\n"
     ]
    }
   ],
   "source": [
    "def function(int1,int2):\n",
    "    add=int1+int2\n",
    "    muliply=int1*int2\n",
    "    return add,muliply\n",
    "print('function(2,8) result:',function(2,8))#it return only tuple value\n",
    "\n",
    "add , muliply=function(2,8) #unpack tuple\n",
    "print(add)\n",
    "print(muliply)"
   ]
  },
  {
   "cell_type": "code",
   "execution_count": 3,
   "id": "moderate-blast",
   "metadata": {},
   "outputs": [
    {
     "name": "stdout",
     "output_type": "stream",
     "text": [
      "enter your height :1.75\n",
      "enter your weight :90\n",
      "input your age :21\n",
      "(64.78883265306122, 2661.0072499999997)\n"
     ]
    }
   ],
   "source": [
    "\n",
    "# input=float(input('enter you height,weight,age by comma separated value :')).split(',')\n",
    "# not working\n",
    "\n",
    "a=float(input('enter your height :'))\n",
    "b=int(input('enter your weight :'))\n",
    "age=int(input('input your age :'))\n",
    "\n",
    "\n",
    "\n",
    "def function(height,weight):\n",
    "    \n",
    "    weight= weight*2.20462\n",
    "    bmi= weight / height**2\n",
    "    calorie= (13.75*weight) + (5*height) -(6.76*age) + 66\n",
    "    return bmi,calorie\n",
    "\n",
    "print(function(a,b))\n",
    "\n"
   ]
  },
  {
   "cell_type": "code",
   "execution_count": 5,
   "id": "growing-winning",
   "metadata": {},
   "outputs": [
    {
     "ename": "ValueError",
     "evalue": "invalid literal for int() with base 10: '55063.000000'",
     "output_type": "error",
     "traceback": [
      "\u001b[1;31m---------------------------------------------------------------------------\u001b[0m",
      "\u001b[1;31mValueError\u001b[0m                                Traceback (most recent call last)",
      "\u001b[1;32m<ipython-input-5-e4525a88a5dd>\u001b[0m in \u001b[0;36m<module>\u001b[1;34m\u001b[0m\n\u001b[1;32m----> 1\u001b[1;33m \u001b[0mint\u001b[0m\u001b[1;33m(\u001b[0m\u001b[1;34m'55063.000000'\u001b[0m\u001b[1;33m)\u001b[0m\u001b[1;33m\u001b[0m\u001b[1;33m\u001b[0m\u001b[0m\n\u001b[0m",
      "\u001b[1;31mValueError\u001b[0m: invalid literal for int() with base 10: '55063.000000'"
     ]
    }
   ],
   "source": [
    "int('55063.000000')"
   ]
  },
  {
   "cell_type": "code",
   "execution_count": 6,
   "id": "certain-commander",
   "metadata": {},
   "outputs": [
    {
     "data": {
      "text/plain": [
       "4345"
      ]
     },
     "execution_count": 6,
     "metadata": {},
     "output_type": "execute_result"
    }
   ],
   "source": [
    "int(float('4345.00000'))"
   ]
  },
  {
   "cell_type": "code",
   "execution_count": 7,
   "id": "cubic-selection",
   "metadata": {},
   "outputs": [
    {
     "data": {
      "text/plain": [
       "4345.0"
      ]
     },
     "execution_count": 7,
     "metadata": {},
     "output_type": "execute_result"
    }
   ],
   "source": [
    "float('4345.00000')"
   ]
  },
  {
   "cell_type": "code",
   "execution_count": 11,
   "id": "dominican-employer",
   "metadata": {},
   "outputs": [
    {
     "ename": "SyntaxError",
     "evalue": "invalid syntax (<ipython-input-11-1d2208087313>, line 2)",
     "output_type": "error",
     "traceback": [
      "\u001b[1;36m  File \u001b[1;32m\"<ipython-input-11-1d2208087313>\"\u001b[1;36m, line \u001b[1;32m2\u001b[0m\n\u001b[1;33m    print float(x)\u001b[0m\n\u001b[1;37m          ^\u001b[0m\n\u001b[1;31mSyntaxError\u001b[0m\u001b[1;31m:\u001b[0m invalid syntax\n"
     ]
    }
   ],
   "source": [
    "x='a'\n",
    "print float(x)"
   ]
  },
  {
   "cell_type": "code",
   "execution_count": 13,
   "id": "bridal-mixer",
   "metadata": {},
   "outputs": [
    {
     "name": "stdout",
     "output_type": "stream",
     "text": [
      "error\n"
     ]
    }
   ],
   "source": [
    "# solution1\n",
    "x= u'a'\n",
    "if x.isnumeric():\n",
    "\tprint (\"float value is \" , float(x))\n",
    "else :\n",
    "\tprint('error')"
   ]
  },
  {
   "cell_type": "code",
   "execution_count": 14,
   "id": "recent-shock",
   "metadata": {},
   "outputs": [
    {
     "name": "stdout",
     "output_type": "stream",
     "text": [
      "Not a number\n"
     ]
    }
   ],
   "source": [
    "# solution2\n",
    "x= u'a'\n",
    "try:\n",
    "\tprint(\"float value is \" , float(x))\n",
    "except:\n",
    "\tprint(\"Not a number\")"
   ]
  },
  {
   "cell_type": "code",
   "execution_count": 23,
   "id": "handmade-turkey",
   "metadata": {},
   "outputs": [
    {
     "name": "stdout",
     "output_type": "stream",
     "text": [
      "(29.387755102040817, 2661.0072499999997)\n",
      "you need to eat 2812.824875 daily\n",
      "your bmi is 29.320987654320987\n"
     ]
    }
   ],
   "source": [
    "def function(height,weight):\n",
    "    age=21\n",
    "    bmi= weight / height**2\n",
    "    weight= weight*2.20462 # converting weight lbs\n",
    "    calorie= (13.75*weight) + (5*height) -(6.76*age) + 66\n",
    "    return bmi,calorie\n",
    "\n",
    "# weight= weight*2.20462 #it give error and say name weight not defined\n",
    "print(function(1.75,90))\n",
    "\n",
    "#important unpack tuple\n",
    "bmi_new,calorie_new=function(1.80,95)\n",
    "print(f'you need to eat {calorie_new} daily')\n",
    "print(f'your bmi is {bmi_new}')"
   ]
  },
  {
   "cell_type": "markdown",
   "id": "cooked-clone",
   "metadata": {},
   "source": [
    "# Tutorial 112 converting tuple str to list"
   ]
  },
  {
   "cell_type": "code",
   "execution_count": 7,
   "id": "described-jones",
   "metadata": {},
   "outputs": [
    {
     "name": "stdout",
     "output_type": "stream",
     "text": [
      "<class 'tuple'> (1, 2, 3, 4, 5, 6, 7, 8, 9)\n",
      "<class 'str'> (1, 2, 3, 4)\n",
      "<class 'list'> [1, 23, 3, 4]\n"
     ]
    }
   ],
   "source": [
    "num=tuple(range(1,10))\n",
    "print(type(num),num)\n",
    "\n",
    "num1=str((1,2,3,4))\n",
    "print(type(num1),num1)\n",
    "\n",
    "num2=list((1,23,3,4))\n",
    "print(type(num2),num2)"
   ]
  },
  {
   "cell_type": "markdown",
   "id": "functioning-favor",
   "metadata": {},
   "source": [
    "# Tutorial 113"
   ]
  },
  {
   "cell_type": "code",
   "execution_count": 8,
   "id": "pediatric-april",
   "metadata": {},
   "outputs": [
    {
     "name": "stdout",
     "output_type": "stream",
     "text": [
      "(1, 2, 3, 4, 5, [1, 4])\n"
     ]
    }
   ],
   "source": [
    "mixed=(1,2,3,4,5,[1,4,9])\n",
    "mixed[5].pop()\n",
    "print(mixed)"
   ]
  },
  {
   "cell_type": "code",
   "execution_count": 9,
   "id": "chief-letter",
   "metadata": {},
   "outputs": [
    {
     "name": "stdout",
     "output_type": "stream",
     "text": [
      "(1, 2, 3, 4, 5, [1, 4])\n"
     ]
    }
   ],
   "source": [
    "mixed=(1,2,3,4,5,[1,4,9])\n",
    "mixed[5].pop()\n",
    "print(mixed)"
   ]
  },
  {
   "cell_type": "code",
   "execution_count": 14,
   "id": "instant-homework",
   "metadata": {},
   "outputs": [
    {
     "ename": "TypeError",
     "evalue": "'tuple' object doesn't support item deletion",
     "output_type": "error",
     "traceback": [
      "\u001b[1;31m---------------------------------------------------------------------------\u001b[0m",
      "\u001b[1;31mTypeError\u001b[0m                                 Traceback (most recent call last)",
      "\u001b[1;32m<ipython-input-14-3437d8a73491>\u001b[0m in \u001b[0;36m<module>\u001b[1;34m\u001b[0m\n\u001b[0;32m      1\u001b[0m \u001b[0mmixed\u001b[0m\u001b[1;33m=\u001b[0m\u001b[1;33m(\u001b[0m\u001b[1;36m1\u001b[0m\u001b[1;33m,\u001b[0m\u001b[1;36m2\u001b[0m\u001b[1;33m,\u001b[0m\u001b[1;36m3\u001b[0m\u001b[1;33m,\u001b[0m\u001b[1;36m4\u001b[0m\u001b[1;33m,\u001b[0m\u001b[1;36m5\u001b[0m\u001b[1;33m,\u001b[0m\u001b[1;33m[\u001b[0m\u001b[1;36m1\u001b[0m\u001b[1;33m,\u001b[0m\u001b[1;36m4\u001b[0m\u001b[1;33m,\u001b[0m\u001b[1;36m9\u001b[0m\u001b[1;33m]\u001b[0m\u001b[1;33m)\u001b[0m\u001b[1;33m\u001b[0m\u001b[1;33m\u001b[0m\u001b[0m\n\u001b[1;32m----> 2\u001b[1;33m \u001b[1;32mdel\u001b[0m \u001b[0mmixed\u001b[0m\u001b[1;33m[\u001b[0m\u001b[1;36m5\u001b[0m\u001b[1;33m]\u001b[0m\u001b[1;33m\u001b[0m\u001b[1;33m\u001b[0m\u001b[0m\n\u001b[0m\u001b[0;32m      3\u001b[0m \u001b[0mprint\u001b[0m\u001b[1;33m(\u001b[0m\u001b[0mmixed\u001b[0m\u001b[1;33m)\u001b[0m\u001b[1;33m\u001b[0m\u001b[1;33m\u001b[0m\u001b[0m\n",
      "\u001b[1;31mTypeError\u001b[0m: 'tuple' object doesn't support item deletion"
     ]
    }
   ],
   "source": [
    "mixed=(1,2,3,4,5,[1,4,9])\n",
    "del mixed[5]\n",
    "print(mixed)"
   ]
  },
  {
   "cell_type": "code",
   "execution_count": null,
   "id": "annual-sight",
   "metadata": {},
   "outputs": [],
   "source": []
  },
  {
   "cell_type": "code",
   "execution_count": 10,
   "id": "abandoned-minute",
   "metadata": {},
   "outputs": [
    {
     "ename": "AttributeError",
     "evalue": "'int' object has no attribute 'pop'",
     "output_type": "error",
     "traceback": [
      "\u001b[1;31m---------------------------------------------------------------------------\u001b[0m",
      "\u001b[1;31mAttributeError\u001b[0m                            Traceback (most recent call last)",
      "\u001b[1;32m<ipython-input-10-f21d3212dc36>\u001b[0m in \u001b[0;36m<module>\u001b[1;34m\u001b[0m\n\u001b[0;32m      1\u001b[0m \u001b[0mmixed\u001b[0m\u001b[1;33m=\u001b[0m\u001b[1;33m(\u001b[0m\u001b[1;36m1\u001b[0m\u001b[1;33m,\u001b[0m\u001b[1;36m2\u001b[0m\u001b[1;33m,\u001b[0m\u001b[1;36m3\u001b[0m\u001b[1;33m,\u001b[0m\u001b[1;36m4\u001b[0m\u001b[1;33m,\u001b[0m\u001b[1;36m5\u001b[0m\u001b[1;33m,\u001b[0m\u001b[1;33m[\u001b[0m\u001b[1;36m1\u001b[0m\u001b[1;33m,\u001b[0m\u001b[1;36m4\u001b[0m\u001b[1;33m,\u001b[0m\u001b[1;36m9\u001b[0m\u001b[1;33m]\u001b[0m\u001b[1;33m)\u001b[0m\u001b[1;33m\u001b[0m\u001b[1;33m\u001b[0m\u001b[0m\n\u001b[1;32m----> 2\u001b[1;33m \u001b[0mmixed\u001b[0m\u001b[1;33m[\u001b[0m\u001b[1;36m5\u001b[0m\u001b[1;33m]\u001b[0m\u001b[1;33m[\u001b[0m\u001b[1;36m1\u001b[0m\u001b[1;33m]\u001b[0m\u001b[1;33m.\u001b[0m\u001b[0mpop\u001b[0m\u001b[1;33m(\u001b[0m\u001b[1;33m)\u001b[0m\u001b[1;33m\u001b[0m\u001b[1;33m\u001b[0m\u001b[0m\n\u001b[0m\u001b[0;32m      3\u001b[0m \u001b[0mprint\u001b[0m\u001b[1;33m(\u001b[0m\u001b[0mmixed\u001b[0m\u001b[1;33m)\u001b[0m\u001b[1;33m\u001b[0m\u001b[1;33m\u001b[0m\u001b[0m\n",
      "\u001b[1;31mAttributeError\u001b[0m: 'int' object has no attribute 'pop'"
     ]
    }
   ],
   "source": [
    "mixed=(1,2,3,4,5,[1,4,9])\n",
    "mixed[5][1].pop()\n",
    "print(mixed)"
   ]
  },
  {
   "cell_type": "code",
   "execution_count": 11,
   "id": "viral-profile",
   "metadata": {},
   "outputs": [
    {
     "name": "stdout",
     "output_type": "stream",
     "text": [
      "Removal of First Element: \n",
      "('E', 'E', 'K', 'S', 'F', 'O', 'R', 'G', 'E', 'E', 'K', 'S')\n",
      "\n",
      "Tuple after sequence of Element is reversed: \n",
      "('S', 'K', 'E', 'E', 'G', 'R', 'O', 'F', 'S', 'K', 'E', 'E', 'G')\n",
      "\n",
      "Printing elements between Range 4-9: \n",
      "('S', 'F', 'O', 'R', 'G')\n"
     ]
    }
   ],
   "source": [
    "# Slicing of a Tuple\n",
    "\n",
    "# Slicing of a Tuple\n",
    "# with Numbers\n",
    "Tuple1 = tuple('GEEKSFORGEEKS')\n",
    "\n",
    "# Removing First element\n",
    "print(\"Removal of First Element: \")\n",
    "print(Tuple1[1:])\n",
    "\n",
    "# Reversing the Tuple\n",
    "print(\"\\nTuple after sequence of Element is reversed: \")\n",
    "print(Tuple1[::-1])\n",
    "\n",
    "# Printing elements of a Range\n",
    "print(\"\\nPrinting elements between Range 4-9: \")\n",
    "print(Tuple1[4:9])\n"
   ]
  },
  {
   "cell_type": "code",
   "execution_count": 13,
   "id": "brazilian-rachel",
   "metadata": {},
   "outputs": [
    {
     "ename": "NameError",
     "evalue": "name 'new_tuple' is not defined",
     "output_type": "error",
     "traceback": [
      "\u001b[1;31m---------------------------------------------------------------------------\u001b[0m",
      "\u001b[1;31mNameError\u001b[0m                                 Traceback (most recent call last)",
      "\u001b[1;32m<ipython-input-13-1f1392d5457e>\u001b[0m in \u001b[0;36m<module>\u001b[1;34m\u001b[0m\n\u001b[0;32m      4\u001b[0m \u001b[1;32mdel\u001b[0m \u001b[0mnew_tuple\u001b[0m\u001b[1;33m\u001b[0m\u001b[1;33m\u001b[0m\u001b[0m\n\u001b[0;32m      5\u001b[0m \u001b[1;33m\u001b[0m\u001b[0m\n\u001b[1;32m----> 6\u001b[1;33m \u001b[0mprint\u001b[0m\u001b[1;33m(\u001b[0m\u001b[0mnew_tuple\u001b[0m\u001b[1;33m)\u001b[0m\u001b[1;33m\u001b[0m\u001b[1;33m\u001b[0m\u001b[0m\n\u001b[0m",
      "\u001b[1;31mNameError\u001b[0m: name 'new_tuple' is not defined"
     ]
    }
   ],
   "source": [
    "# Deleting a Tuple\n",
    "\n",
    "new_tuple = (0, 1, 2, 3, 4)\n",
    "del new_tuple\n",
    "\n",
    "print(new_tuple)\n"
   ]
  },
  {
   "cell_type": "code",
   "execution_count": 15,
   "id": "interpreted-failing",
   "metadata": {},
   "outputs": [
    {
     "name": "stdout",
     "output_type": "stream",
     "text": [
      "{'name': 'rakib', 'age': 24}\n",
      "<class 'dict'>\n",
      "rakib\n",
      "24\n",
      "\n",
      "method 2:\n",
      "{'name': 'rakib', 'age': 24}\n",
      "rakib\n",
      "\n",
      "make simple:\n",
      "{'name': 'rakib', 'age': 79, 'movie': ['coco', 'rise of the aps'], 'song': ['kavie kushi kavi gum', 'lol']}\n",
      "['kavie kushi kavi gum', 'lol']\n",
      "\n",
      "how to add anything on empty dictionaey:\n"
     ]
    }
   ],
   "source": [
    "user={'name':'rakib','age':24}\n",
    "print(user)\n",
    "print(type(user))\n",
    "\n",
    "# no indexing in dictionariess u should use key\n",
    "print(user['name'])\n",
    "print(user['age'])\n",
    "\n",
    "print(\"\\nmethod 2:\")\n",
    "\n",
    "# dictionary method 2:\n",
    "user1=dict(name='rakib',age=21)#use = when use dict\n",
    "print(user1)#dont give 'name' use just name\n",
    "print(user1['name'])\n",
    "\n",
    "\n",
    "print(\"\\nmake simple:\")\n",
    "user_info={\n",
    "    'name':'rakib',\n",
    "    'age':79,\n",
    "    'movie':[\"coco\",\"rise of the aps\"],\n",
    "     'song':['kavie kushi kavi gum','lol']\n",
    "}\n",
    "print(user_info)\n",
    "print(user_info['song'])\n",
    "\n"
   ]
  },
  {
   "cell_type": "code",
   "execution_count": 16,
   "id": "desirable-intellectual",
   "metadata": {},
   "outputs": [
    {
     "name": "stdout",
     "output_type": "stream",
     "text": [
      "\n",
      "how to add anything on empty dictionaey:\n",
      "{'name': 'rakib hasan', 'age': 21}\n"
     ]
    }
   ],
   "source": [
    "# u can also make dictionary inside dictionary\n",
    "print(\"\\nhow to add anything on empty dictionaey:\")\n",
    "# how to add anything on empty dictionaey\n",
    "\n",
    "empty={}\n",
    "empty['name']='rakib hasan'\n",
    "empty['age']=21\n",
    "print(empty)"
   ]
  },
  {
   "cell_type": "markdown",
   "id": "electrical-algorithm",
   "metadata": {},
   "source": [
    "![list vs tuple vs dictionary](OIP.jfif)"
   ]
  },
  {
   "cell_type": "markdown",
   "id": "graduate-bronze",
   "metadata": {},
   "source": [
    "# Tutorial 115 dictionary keys() values() items()"
   ]
  },
  {
   "cell_type": "code",
   "execution_count": 25,
   "id": "hairy-prophet",
   "metadata": {},
   "outputs": [
    {
     "name": "stdout",
     "output_type": "stream",
     "text": [
      "name\n",
      "age\n",
      "movie\n",
      "song\n",
      "\n",
      " user_info.values() result :\n",
      "rakib\n",
      "79\n",
      "['coco', 'rise of the aps']\n",
      "['kavie kushi kavi gum', 'lol']\n",
      "not present\n",
      "rakib is present\n"
     ]
    }
   ],
   "source": [
    "user_info={\n",
    "    'name':'rakib',\n",
    "    'age':79,\n",
    "    'movie':[\"coco\",\"rise of the aps\"],\n",
    "     'song':['kavie kushi kavi gum','lol']\n",
    "}\n",
    "\n",
    "for i in user_info:\n",
    "    print(i)# it give key value\n",
    "\n",
    "print('\\n user_info.values() result :')\n",
    "for i in user_info.values():\n",
    "    print(i)\n",
    "    \n",
    "\n",
    "if \"coco\" in user_info.values():\n",
    "    print('coco is present')\n",
    "else:\n",
    "    print('not present')\n",
    "    \n",
    "    \n",
    "if \"rakib\" in user_info.values():\n",
    "    print('rakib is present')\n",
    "else:\n",
    "    print('not present')\n",
    "    "
   ]
  },
  {
   "cell_type": "code",
   "execution_count": 26,
   "id": "exotic-paraguay",
   "metadata": {},
   "outputs": [
    {
     "name": "stdout",
     "output_type": "stream",
     "text": [
      "\n",
      " user info values:\n",
      "dict_values(['rakib', 79, ['coco', 'rise of the aps'], ['kavie kushi kavi gum', 'lol']])\n",
      "<class 'dict_values'>\n",
      "\n",
      "user info key:\n",
      "dict_keys(['name', 'age', 'movie', 'song'])\n",
      "<class 'dict_keys'>\n"
     ]
    }
   ],
   "source": [
    "print(\"\\n user info values:\")\n",
    "user_value=user_info.values()\n",
    "print(user_value)\n",
    "print(type(user_value))\n",
    "\n",
    "print(\"\\nuser info key:\")\n",
    "user_key=user_info.keys()\n",
    "print(user_key)\n",
    "print(type(user_key))"
   ]
  },
  {
   "cell_type": "code",
   "execution_count": 27,
   "id": "innovative-promise",
   "metadata": {},
   "outputs": [
    {
     "name": "stdout",
     "output_type": "stream",
     "text": [
      "\n",
      "loop in dictionary\n",
      "rakib\n",
      "79\n",
      "['coco', 'rise of the aps']\n",
      "['kavie kushi kavi gum', 'lol']\n"
     ]
    }
   ],
   "source": [
    "print(\"\\nloop in dictionary\")\n",
    "for i in user_info:\n",
    "    print(user_info[i]) #it give values"
   ]
  },
  {
   "cell_type": "code",
   "execution_count": 30,
   "id": "vertical-crowd",
   "metadata": {},
   "outputs": [
    {
     "name": "stdout",
     "output_type": "stream",
     "text": [
      "dict_items([('name', 'rakib'), ('age', 79), ('movie', ['coco', 'rise of the aps']), ('song', ['kavie kushi kavi gum', 'lol'])])\n",
      "<class 'dict_items'>\n"
     ]
    }
   ],
   "source": [
    "# item method\n",
    "print(user_info.items())\n",
    "items_user=user_info.items()\n",
    "print(type(items_user))"
   ]
  },
  {
   "cell_type": "code",
   "execution_count": 32,
   "id": "confident-globe",
   "metadata": {},
   "outputs": [
    {
     "name": "stdout",
     "output_type": "stream",
     "text": [
      "key is name value is rakib\n",
      "key is age value is 79\n",
      "key is movie value is ['coco', 'rise of the aps']\n",
      "key is song value is ['kavie kushi kavi gum', 'lol']\n"
     ]
    }
   ],
   "source": [
    "# loop\n",
    "for i,j in user_info.items():\n",
    "    print(f'key is {i} value is {j}')"
   ]
  },
  {
   "cell_type": "code",
   "execution_count": 33,
   "id": "informal-match",
   "metadata": {},
   "outputs": [
    {
     "name": "stdout",
     "output_type": "stream",
     "text": [
      "key is ('name', 'rakib')\n",
      "key is ('age', 79)\n",
      "key is ('movie', ['coco', 'rise of the aps'])\n",
      "key is ('song', ['kavie kushi kavi gum', 'lol'])\n"
     ]
    }
   ],
   "source": [
    "# loop\n",
    "for i in user_info.items():\n",
    "    print(f'key is {i}')"
   ]
  },
  {
   "cell_type": "code",
   "execution_count": 34,
   "id": "atomic-frank",
   "metadata": {},
   "outputs": [
    {
     "name": "stdout",
     "output_type": "stream",
     "text": [
      "\n",
      "all in one by item method just use one value:\n",
      " one value:\n",
      " ('name', 'rakib')\n",
      " one value:\n",
      " ('age', 79)\n",
      " one value:\n",
      " ('movie', ['coco', 'rise of the aps'])\n",
      " one value:\n",
      " ('song', ['kavie kushi kavi gum', 'lol'])\n"
     ]
    }
   ],
   "source": [
    "print(\"\\nall in one by item method just use one value:\")\n",
    "for i in user_info.items():\n",
    "    print(f\" one value:\\n {i}\")"
   ]
  },
  {
   "cell_type": "markdown",
   "id": "instructional-karaoke",
   "metadata": {},
   "source": [
    "# Tutorial 116 add, delete, pop ,popitem ,method"
   ]
  },
  {
   "cell_type": "code",
   "execution_count": 40,
   "id": "three-conclusion",
   "metadata": {},
   "outputs": [
    {
     "name": "stdout",
     "output_type": "stream",
     "text": [
      "{'name': 'rakib', 'age': 79, 'movie': ['coco', 'rise of the aps'], 'song': ['kavie kushi kavi gum', 'lol'], 'dream': ['good lifestyle', 'peaceful life']}\n"
     ]
    }
   ],
   "source": [
    "# how to add\n",
    "user_info={\n",
    "    'name':'rakib',\n",
    "    'age':79,\n",
    "    'movie':[\"coco\",\"rise of the aps\"],\n",
    "     'song':['kavie kushi kavi gum','lol']\n",
    "}\n",
    "user_info['dream']=['good lifestyle','peaceful life']\n",
    "print(user_info)\n"
   ]
  },
  {
   "cell_type": "code",
   "execution_count": 41,
   "id": "lucky-witch",
   "metadata": {},
   "outputs": [
    {
     "data": {
      "text/plain": [
       "['kavie kushi kavi gum', 'lol']"
      ]
     },
     "execution_count": 41,
     "metadata": {},
     "output_type": "execute_result"
    }
   ],
   "source": [
    "#pop method\n",
    "#pop method return list\n",
    "user_info.pop('song')\n"
   ]
  },
  {
   "cell_type": "code",
   "execution_count": 42,
   "id": "improving-bristol",
   "metadata": {},
   "outputs": [
    {
     "name": "stdout",
     "output_type": "stream",
     "text": [
      "pop item is ('dream', ['good lifestyle', 'peaceful life'])\n"
     ]
    }
   ],
   "source": [
    "#pop item\n",
    "# it randomly delete last item\n",
    "#it return tuple\n",
    "print(f'pop item is {user_info.popitem()}')"
   ]
  },
  {
   "cell_type": "markdown",
   "id": "fuzzy-joining",
   "metadata": {},
   "source": [
    "# Tutorial 117 update dictionary with update method"
   ]
  },
  {
   "cell_type": "code",
   "execution_count": 44,
   "id": "decent-relations",
   "metadata": {},
   "outputs": [
    {
     "name": "stdout",
     "output_type": "stream",
     "text": [
      "None\n",
      "{'name': 'rakib updated', 'age': 79, 'movie': ['coco', 'rise of the aps'], 'song': ['kavie kushi kavi gum', 'lol'], 'university': 'sust', 'dream': ['luxary car', 'luxary house']}\n"
     ]
    }
   ],
   "source": [
    "user_info={\n",
    "    'name':'rakib',\n",
    "    'age':79,\n",
    "    'movie':[\"coco\",\"rise of the aps\"],\n",
    "     'song':['kavie kushi kavi gum','lol']\n",
    "}\n",
    "more_info={'university':'sust','name':'rakib updated','dream':['luxary car','luxary house']}\n",
    "\n",
    "print(user_info.update(more_info))\n",
    "\n",
    "user_info.update(more_info)\n",
    "print(user_info)"
   ]
  },
  {
   "cell_type": "markdown",
   "id": "little-coverage",
   "metadata": {},
   "source": [
    "# tutorial 118 formkey,get,clear ,copy\n",
    "* formkey(key list , value list)\n",
    "* dictionary.get(keys)\n",
    "* dictionary.clear()\n",
    "* dictionary.copy()"
   ]
  },
  {
   "cell_type": "code",
   "execution_count": 54,
   "id": "disabled-deviation",
   "metadata": {},
   "outputs": [
    {
     "name": "stdout",
     "output_type": "stream",
     "text": [
      "d1 {'name': 'unknown', 'age': 'unknown', 'university': 'unknown'}\n",
      "d2--> {'name': ['rakib hasan', '21', 'sust'], 'age': ['rakib hasan', '21', 'sust'], 'university': ['rakib hasan', '21', 'sust']}\n",
      "d3---> {'a': 'unknown', 'b': 'unknown', 'c': 'unknown'}\n",
      "d4 ---> {1: 'unknown', 2: 'unknown', 3: 'unknown', 4: 'unknown', 5: 'unknown', 6: 'unknown', 7: 'unknown', 8: 'unknown', 9: 'unknown', 10: 'unknown'}\n",
      "\n",
      "\n",
      "\n",
      "{'Luke': ['Spock'], 'Vader': ['Spock'], 'Rey': ['Spock'], 'Yoda': ['Spock']}\n",
      "\n",
      "\n",
      "\n",
      "{'Luke': ['Spock', 'James'], 'Vader': ['Spock', 'James'], 'Rey': ['Spock', 'James'], 'Yoda': ['Spock', 'James']}\n"
     ]
    }
   ],
   "source": [
    "d1=dict.fromkeys(['name','age','university'],'unknown')\n",
    "print('d1',d1)\n",
    "\n",
    "d2=dict.fromkeys(['name','age','university'],['rakib hasan','21','sust'])\n",
    "print('d2-->',d2)\n",
    "\n",
    "d3=dict.fromkeys('abc','unknown')\n",
    "print('d3--->',d3)\n",
    "\n",
    "d4=dict.fromkeys(range(1,11),'unknown')\n",
    "print('d4 --->',d4)\n",
    "\n",
    "print('\\n\\n')\n",
    "StarWars = ['Luke', 'Vader', 'Rey', 'Yoda']\n",
    "StarTrek = ['Spock']\n",
    "universe = dict.fromkeys(StarWars, StarTrek)\n",
    "print(universe)\n",
    "print('\\n\\n')\n",
    "StarTrek.append('James')\n",
    "print(universe)"
   ]
  },
  {
   "cell_type": "code",
   "execution_count": 59,
   "id": "utility-movement",
   "metadata": {},
   "outputs": [
    {
     "name": "stdout",
     "output_type": "stream",
     "text": [
      "\n",
      "get method:\n",
      "None\n",
      "amir hamza\n",
      "not present\n"
     ]
    }
   ],
   "source": [
    "# get method(important)\n",
    "\n",
    "print(\"\\nget method:\")\n",
    "p={'new_name':'amir hamza','new_age':'88'}\n",
    "print(p.get('names'))\n",
    "print(p.get('new_name'))\n",
    "\n",
    "if 'name' in p:\n",
    "    print('present')\n",
    "else:\n",
    "    print('not present')"
   ]
  },
  {
   "cell_type": "code",
   "execution_count": 60,
   "id": "encouraging-granny",
   "metadata": {},
   "outputs": [
    {
     "name": "stdout",
     "output_type": "stream",
     "text": [
      "\n",
      " clear method:\n",
      "{}\n"
     ]
    }
   ],
   "source": [
    "d={'name':'rakib hasan','age':21}\n",
    "#clear method\n",
    "print(\"\\n clear method:\")\n",
    "d.clear()\n",
    "print(d)"
   ]
  },
  {
   "cell_type": "code",
   "execution_count": 61,
   "id": "delayed-fountain",
   "metadata": {},
   "outputs": [
    {
     "name": "stdout",
     "output_type": "stream",
     "text": [
      "{'name': 'rakib hasan', 'age': 21}\n"
     ]
    }
   ],
   "source": [
    "d={'name':'rakib hasan','age':21}\n",
    "d1=d.copy()\n",
    "print(d1)"
   ]
  },
  {
   "cell_type": "code",
   "execution_count": 62,
   "id": "infectious-sarah",
   "metadata": {},
   "outputs": [
    {
     "data": {
      "text/plain": [
       "('age', 21)"
      ]
     },
     "execution_count": 62,
     "metadata": {},
     "output_type": "execute_result"
    }
   ],
   "source": [
    "d={'name':'rakib hasan','age':21}\n",
    "d.popitem()"
   ]
  },
  {
   "cell_type": "markdown",
   "id": "official-paste",
   "metadata": {},
   "source": [
    "# Tutorial 119 more about get"
   ]
  },
  {
   "cell_type": "code",
   "execution_count": 63,
   "id": "legal-capture",
   "metadata": {},
   "outputs": [
    {
     "name": "stdout",
     "output_type": "stream",
     "text": [
      "{'name': 'rakib', 'age': 20, 'age2': 68}\n",
      "sorry not found\n",
      "rakib\n"
     ]
    }
   ],
   "source": [
    "user={'name':'rakib','age':20,'age2':68}\n",
    "print(user)\n",
    "print(user.get('new_name','sorry not found'))\n",
    "print(user.get('name','successfully found'))\n",
    "\n",
    "# dict.get('key value','message')"
   ]
  },
  {
   "cell_type": "markdown",
   "id": "diagnostic-optics",
   "metadata": {},
   "source": [
    "# Tutorial 121 exercise\n",
    "* cube finder"
   ]
  },
  {
   "cell_type": "code",
   "execution_count": 67,
   "id": "asian-directive",
   "metadata": {},
   "outputs": [
    {
     "name": "stdout",
     "output_type": "stream",
     "text": [
      "{1: 1, 2: 8, 3: 27, 4: 64, 5: 125}\n"
     ]
    }
   ],
   "source": [
    "# important\n",
    "def cube_find(n):\n",
    "    empty_dict={}\n",
    "    for i in range(1,n+1):\n",
    "        empty_dict[i]=i**3\n",
    "    return empty_dict\n",
    "\n",
    "print(cube_find(5))"
   ]
  },
  {
   "cell_type": "markdown",
   "id": "grand-content",
   "metadata": {},
   "source": [
    "# Tutoril 122 word finder"
   ]
  },
  {
   "cell_type": "code",
   "execution_count": 69,
   "id": "choice-english",
   "metadata": {},
   "outputs": [
    {
     "name": "stdout",
     "output_type": "stream",
     "text": [
      "when we use split : ['hello', 'i', 'am', 'rakib', 'hasan']\n",
      "total word is : 5\n"
     ]
    }
   ],
   "source": [
    "sentence='hello i am rakib hasan'\n",
    "print('when we use split :',sentence.split(' '))\n",
    "print('total word is :',len(sentence.split(' ')))"
   ]
  },
  {
   "cell_type": "code",
   "execution_count": 70,
   "id": "maritime-wayne",
   "metadata": {},
   "outputs": [
    {
     "name": "stdout",
     "output_type": "stream",
     "text": [
      " \n",
      "r\n",
      "a\n",
      "k\n",
      "i\n",
      "b\n",
      " \n",
      "h\n",
      "a\n",
      "s\n",
      "a\n",
      "n\n"
     ]
    }
   ],
   "source": [
    "for i in ' rakib hasan':\n",
    "    print(i)"
   ]
  },
  {
   "cell_type": "code",
   "execution_count": 71,
   "id": "recreational-asian",
   "metadata": {},
   "outputs": [
    {
     "name": "stdout",
     "output_type": "stream",
     "text": [
      "{'r': 1, 'a': 3, 'k': 1, 'i': 1, 'b': 1, ' ': 1, 'h': 1, 's': 1, 'n': 1}\n"
     ]
    }
   ],
   "source": [
    "def word_count(a):\n",
    "    null={}\n",
    "    for i in a:\n",
    "        null[i]=a.count(i)\n",
    "    return null\n",
    "print(word_count('rakib hasan'))\n",
    "        "
   ]
  },
  {
   "cell_type": "markdown",
   "id": "conscious-snapshot",
   "metadata": {},
   "source": [
    "# Tutoril 124 exercise"
   ]
  },
  {
   "cell_type": "code",
   "execution_count": 73,
   "id": "damaged-mississippi",
   "metadata": {},
   "outputs": [
    {
     "name": "stdout",
     "output_type": "stream",
     "text": [
      "enter your name :rakib\n",
      "enter your age :21\n",
      "enter your favorite movie :conjuring2 ,train to busan\n",
      "name:rakib\n",
      "age:21\n",
      "movie:['conjuring2 ', 'train to busan']\n"
     ]
    }
   ],
   "source": [
    "name=input('enter your name :')\n",
    "age=input('enter your age :')\n",
    "movie=input('enter your favorite movie :').split(',')\n",
    "\n",
    "dict={}\n",
    "\n",
    "dict['name']=name\n",
    "dict['age']=age\n",
    "dict['movie']=movie\n",
    "\n",
    "for key,value in dict.items():\n",
    "    print(f'{key}:{value}')"
   ]
  },
  {
   "cell_type": "markdown",
   "id": "therapeutic-bench",
   "metadata": {},
   "source": [
    "# Tutorial 125 dictionary summery\n"
   ]
  },
  {
   "cell_type": "code",
   "execution_count": 74,
   "id": "defensive-estate",
   "metadata": {},
   "outputs": [
    {
     "name": "stdout",
     "output_type": "stream",
     "text": [
      "rakib\n",
      "{'key1': 'value1', 'key2': 'value2'}\n",
      " key is name value is rakib\n",
      " key is age value is 68\n",
      "to ptint all keys :\n",
      "\n",
      "name\n",
      "age\n",
      "rakib\n",
      "68\n",
      "None this item not in here\n",
      "('age', 68)\n",
      "{'name': 'rakib'}\n"
     ]
    }
   ],
   "source": [
    "user={'name':'rakib','age':20,'age':68}\n",
    "user1={'name1':'rakib1','age1':20,'age1':68}\n",
    "user2={'name2':'rakib2','age2':20,'age2':68}\n",
    "print(user['name'])\n",
    "# no indexing\n",
    "# how to add:\n",
    "empty={}\n",
    "empty['key1']='value1'\n",
    "empty['key2']='value2'\n",
    "print(empty)\n",
    "\n",
    "for key,value in user.items():\n",
    "    print(f' key is {key} value is {value}')\n",
    "\n",
    "# to print all key\n",
    "print('to ptint all keys :\\n')\n",
    "for i in user:\n",
    "    print(i)\n",
    "\n",
    "for i in user.values():\n",
    "    print(i)\n",
    "\n",
    "print(user2.get('names'),'this item not in here')\n",
    "\n",
    "# popped=user.pop('name')\n",
    "# print(popped)\n",
    "# print(user)\n",
    "\n",
    "popped_item=user.popitem()\n",
    "print(popped_item)\n",
    "print(user)"
   ]
  },
  {
   "cell_type": "markdown",
   "id": "expired-physiology",
   "metadata": {},
   "source": [
    "# Tutorial 126 set datatype\n",
    "* add \n",
    "* remove \n",
    "* copy\n",
    "* make set data list"
   ]
  },
  {
   "cell_type": "code",
   "execution_count": 77,
   "id": "interim-palestinian",
   "metadata": {},
   "outputs": [
    {
     "name": "stdout",
     "output_type": "stream",
     "text": [
      "{1, 2, 3, 4, 5}\n"
     ]
    },
    {
     "data": {
      "text/plain": [
       "set"
      ]
     },
     "execution_count": 77,
     "metadata": {},
     "output_type": "execute_result"
    }
   ],
   "source": [
    "l1=[1,2,3,4,5]\n",
    "s1=set(l1)\n",
    "print(s1)\n",
    "type(s1)"
   ]
  },
  {
   "cell_type": "code",
   "execution_count": 78,
   "id": "vocational-ethnic",
   "metadata": {},
   "outputs": [
    {
     "name": "stdout",
     "output_type": "stream",
     "text": [
      "[1, 2, 3, 4, 5]\n"
     ]
    },
    {
     "data": {
      "text/plain": [
       "list"
      ]
     },
     "execution_count": 78,
     "metadata": {},
     "output_type": "execute_result"
    }
   ],
   "source": [
    "# make set list\n",
    "\n",
    "l1=[1,2,3,4,5]\n",
    "s1=list(set(l1))\n",
    "print(s1)\n",
    "type(s1)"
   ]
  },
  {
   "cell_type": "code",
   "execution_count": 80,
   "id": "owned-child",
   "metadata": {},
   "outputs": [
    {
     "name": "stdout",
     "output_type": "stream",
     "text": [
      "{1, 3, 4, 5, 88}\n"
     ]
    }
   ],
   "source": [
    "# add and remove\n",
    "set={1, 2, 3, 4, 5}\n",
    "set.add(88)\n",
    "set.remove(2)\n",
    "print(set)"
   ]
  },
  {
   "cell_type": "code",
   "execution_count": 81,
   "id": "spare-switch",
   "metadata": {},
   "outputs": [
    {
     "name": "stdout",
     "output_type": "stream",
     "text": [
      "{1, 3, 4, 5, 88}\n"
     ]
    }
   ],
   "source": [
    "s1=set.copy()\n",
    "print(s1)"
   ]
  },
  {
   "cell_type": "markdown",
   "id": "absolute-appraisal",
   "metadata": {},
   "source": [
    "# Tutorial 127 union and interection"
   ]
  },
  {
   "cell_type": "code",
   "execution_count": 82,
   "id": "numerous-cosmetic",
   "metadata": {},
   "outputs": [
    {
     "name": "stdout",
     "output_type": "stream",
     "text": [
      "a\n",
      "b\n",
      "c\n"
     ]
    }
   ],
   "source": [
    "s={'a','b','c'}\n",
    "for item in s:\n",
    "    print(item)"
   ]
  },
  {
   "cell_type": "code",
   "execution_count": 85,
   "id": "engaged-armstrong",
   "metadata": {},
   "outputs": [
    {
     "name": "stdout",
     "output_type": "stream",
     "text": [
      "{1, 2, 3, 4, 5, 6, 7, 8}\n"
     ]
    }
   ],
   "source": [
    "# union\n",
    "s1={1,2,3,4}\n",
    "s2={5,6,7,8,2}\n",
    "s=s1|s2\n",
    "print(s)"
   ]
  },
  {
   "cell_type": "code",
   "execution_count": 86,
   "id": "scheduled-missile",
   "metadata": {},
   "outputs": [
    {
     "name": "stdout",
     "output_type": "stream",
     "text": [
      "{2, 4}\n"
     ]
    }
   ],
   "source": [
    "# interaction\n",
    "s1={1,2,3,4}\n",
    "s2={5,6,7,8,2,4}\n",
    "s=s1&s2\n",
    "print(s)"
   ]
  },
  {
   "cell_type": "markdown",
   "id": "subsequent-trade",
   "metadata": {},
   "source": [
    "# Tutorial 128 list comprehension(important)"
   ]
  },
  {
   "cell_type": "code",
   "execution_count": 89,
   "id": "mature-wilderness",
   "metadata": {},
   "outputs": [
    {
     "name": "stdout",
     "output_type": "stream",
     "text": [
      "[1, 4, 9, 16, 25, 36, 49, 64, 81]\n",
      "[1, 4, 9, 16, 25, 36, 49, 64, 81]\n"
     ]
    }
   ],
   "source": [
    "null_list=[]\n",
    "for i in range(1,10):\n",
    "    null_list.append(i**2)\n",
    "print(null_list)\n",
    "\n",
    "\n",
    "#comprehension\n",
    "new_null_list=[i**2 for i in range(1,10)]\n",
    "print(new_null_list)"
   ]
  },
  {
   "cell_type": "code",
   "execution_count": 91,
   "id": "supreme-young",
   "metadata": {},
   "outputs": [
    {
     "name": "stdout",
     "output_type": "stream",
     "text": [
      "['r', 's', 'm']\n",
      "['r', 's', 'm']\n"
     ]
    }
   ],
   "source": [
    "#important\n",
    "names=['rakib','sabuj','masum']\n",
    "n_list=[]\n",
    "for name in names:\n",
    "    n_list.append(name[0])\n",
    "print(n_list)\n",
    "\n",
    "new_n_list=[name[0] for name in names]\n",
    "print(new_n_list)"
   ]
  },
  {
   "cell_type": "markdown",
   "id": "medieval-identity",
   "metadata": {},
   "source": [
    "# Tutorial 130 list comprehension exercise (important)"
   ]
  },
  {
   "cell_type": "code",
   "execution_count": 92,
   "id": "electric-registration",
   "metadata": {},
   "outputs": [
    {
     "name": "stdout",
     "output_type": "stream",
     "text": [
      "['oij', 'jooi']\n"
     ]
    }
   ],
   "source": [
    "# without comprehension\n",
    "def reverse_string(l):\n",
    "    new_list=[]\n",
    "    for name in l:\n",
    "        new_list.append(name[::-1])\n",
    "    return new_list\n",
    "print(reverse_string(['jio','iooj']))"
   ]
  },
  {
   "cell_type": "code",
   "execution_count": 93,
   "id": "bronze-stand",
   "metadata": {},
   "outputs": [
    {
     "name": "stdout",
     "output_type": "stream",
     "text": [
      "['cba', 'fed', 'ihg', 'lkj']\n"
     ]
    }
   ],
   "source": [
    "a=['abc','def','ghi','jkl']\n",
    "new_list=[i[::-1] for i in a]\n",
    "print(new_list)"
   ]
  },
  {
   "cell_type": "code",
   "execution_count": 94,
   "id": "infectious-management",
   "metadata": {},
   "outputs": [
    {
     "name": "stdout",
     "output_type": "stream",
     "text": [
      "['cba', 'fed', 'ihg', 'lkj']\n"
     ]
    }
   ],
   "source": [
    "def reverse_words(l):\n",
    "    return [i[::-1] for i in l]\n",
    "print(reverse_words(['abc','def','ghi','jkl']))"
   ]
  },
  {
   "cell_type": "markdown",
   "id": "hired-reasoning",
   "metadata": {},
   "source": [
    "# Tutorial 131 list comperihension"
   ]
  },
  {
   "cell_type": "code",
   "execution_count": 1,
   "id": "aware-delight",
   "metadata": {},
   "outputs": [
    {
     "name": "stdout",
     "output_type": "stream",
     "text": [
      "[2, 4, 6, 8]\n"
     ]
    }
   ],
   "source": [
    "# genaral method\n",
    "numbers=list(range(1,10))\n",
    "nums=[]\n",
    "for i in numbers:\n",
    "    if i%2 ==0 :\n",
    "        nums.append(i)\n",
    "print(nums)\n"
   ]
  },
  {
   "cell_type": "code",
   "execution_count": 3,
   "id": "wicked-encoding",
   "metadata": {},
   "outputs": [
    {
     "name": "stdout",
     "output_type": "stream",
     "text": [
      "[2, 4, 6, 8]\n"
     ]
    }
   ],
   "source": [
    "even=[i for i in numbers if i%2==0]\n",
    "print(even)\n",
    "\n",
    "#importat [1.give what you want to apped    2. for loop    3.if statement]\n",
    "# if it has for loop and if else statement  [ 1.append item 2.if else statement 3.for loop]"
   ]
  },
  {
   "cell_type": "code",
   "execution_count": 4,
   "id": "metropolitan-course",
   "metadata": {},
   "outputs": [
    {
     "name": "stdout",
     "output_type": "stream",
     "text": [
      "[1, 3, 5, 7, 9]\n"
     ]
    }
   ],
   "source": [
    "odd=[i for i in numbers if i%2 != 0]\n",
    "print(odd)"
   ]
  },
  {
   "cell_type": "code",
   "execution_count": 8,
   "id": "complex-laundry",
   "metadata": {},
   "outputs": [
    {
     "name": "stdout",
     "output_type": "stream",
     "text": [
      "['1', '9', '9.4']\n"
     ]
    }
   ],
   "source": [
    "# Tutorial 133 number to string\n",
    "def number_to_string(l):\n",
    "    return [str(i) for i in l if type(i)==int or type(i)==float]\n",
    "print(number_to_string(['true','false',[1,3,8],1,9,9.4]))"
   ]
  },
  {
   "cell_type": "markdown",
   "id": "perceived-klein",
   "metadata": {},
   "source": [
    "# Tutorial 134 list comperihension exercise"
   ]
  },
  {
   "cell_type": "code",
   "execution_count": 10,
   "id": "retained-summit",
   "metadata": {},
   "outputs": [
    {
     "name": "stdout",
     "output_type": "stream",
     "text": [
      "[-1, 4, 16, 64, -3, 64, 0, -3, -39, 9604]\n"
     ]
    }
   ],
   "source": [
    "nums=[1,2,4,8,3,8,0,3,39,98]\n",
    "empty_list=[]\n",
    "for i in nums:\n",
    "    if i%2==0:\n",
    "        empty_list.append(i**2)\n",
    "        \n",
    "    else:\n",
    "        empty_list.append(-i)\n",
    "print(empty_list)"
   ]
  },
  {
   "cell_type": "code",
   "execution_count": 11,
   "id": "short-behalf",
   "metadata": {},
   "outputs": [
    {
     "name": "stdout",
     "output_type": "stream",
     "text": [
      "[-1, 4, 16, 64, -3, 64, 0, -3, -39, 9604]\n"
     ]
    }
   ],
   "source": [
    "#important\n",
    "new_list=[i**2 if i%2==0 else -i for i in nums]\n",
    "print(new_list)"
   ]
  },
  {
   "cell_type": "markdown",
   "id": "younger-light",
   "metadata": {},
   "source": [
    "# Tutorial 135 nasted list comparihension"
   ]
  },
  {
   "cell_type": "code",
   "execution_count": 13,
   "id": "operational-compound",
   "metadata": {},
   "outputs": [
    {
     "name": "stdout",
     "output_type": "stream",
     "text": [
      "genaral way:\n",
      "[[1, 2, 3], [1, 2, 3], [1, 2, 3]]\n"
     ]
    }
   ],
   "source": [
    "print('genaral way:')\n",
    "new_list=[]\n",
    "for i in range(3):\n",
    "    new_list.append([1,2,3])\n",
    "print(new_list)"
   ]
  },
  {
   "cell_type": "code",
   "execution_count": 15,
   "id": "different-atmosphere",
   "metadata": {},
   "outputs": [
    {
     "name": "stdout",
     "output_type": "stream",
     "text": [
      "[[1, 2, 3], [1, 2, 3], [1, 2, 3]]\n"
     ]
    }
   ],
   "source": [
    "#important\n",
    "new_list_2=[[i for i in range(1,4)] for j in range(1,4)]\n",
    "print(new_list)"
   ]
  },
  {
   "cell_type": "markdown",
   "id": "extraordinary-short",
   "metadata": {},
   "source": [
    "# Tutoril 136 list comparihension summery"
   ]
  },
  {
   "cell_type": "code",
   "execution_count": 17,
   "id": "atomic-cause",
   "metadata": {},
   "outputs": [
    {
     "name": "stdout",
     "output_type": "stream",
     "text": [
      "[1, 4, 9]\n",
      "[2, 4, 6]\n",
      "[-1, 4, -3, 8, -5, 12, -7, 16, -9]\n",
      "[[1, 2, 3], [1, 2, 3], [1, 2, 3]]\n"
     ]
    }
   ],
   "source": [
    "squre=[i**2 for i in range(1,4)]\n",
    "print(squre)\n",
    "\n",
    "even=[i for i in range(1,7) if i%2 == 0]\n",
    "print(even)\n",
    "\n",
    "mixed=[i*2 if (i%2 == 0) else -i for i in range(1,10)]\n",
    "print(mixed)\n",
    "\n",
    "new_list=[[i for i in range(1,4)] for j in range(3)]\n",
    "print(new_list)"
   ]
  },
  {
   "cell_type": "markdown",
   "id": "congressional-wireless",
   "metadata": {},
   "source": [
    "#  Tutorial 137 dictionary comparihension (important)"
   ]
  },
  {
   "cell_type": "code",
   "execution_count": 19,
   "id": "outer-glasgow",
   "metadata": {},
   "outputs": [
    {
     "name": "stdout",
     "output_type": "stream",
     "text": [
      "{'key is 1': 1, 'key is 2': 4, 'key is 3': 9}\n",
      "square of key is 1 is 1\n",
      "square of key is 2 is 4\n",
      "square of key is 3 is 9\n"
     ]
    }
   ],
   "source": [
    "squre={f\"key is {num}\":num**2 for num in range(1,4)}\n",
    "print(squre)\n",
    "\n",
    "for k,v in squre.items():\n",
    "    print(f'square of {k} is {v}')"
   ]
  },
  {
   "cell_type": "code",
   "execution_count": 20,
   "id": "typical-queensland",
   "metadata": {},
   "outputs": [
    {
     "name": "stdout",
     "output_type": "stream",
     "text": [
      "{'r': 1, 'a': 3, 'k': 1, 'i': 1, 'b': 1, ' ': 1, 'h': 1, 's': 1, 'n': 1}\n"
     ]
    }
   ],
   "source": [
    "#word counting\n",
    "word='rakib hasan'\n",
    "word_counting={i:  word.count(i) for i in word }\n",
    "print(word_counting)"
   ]
  },
  {
   "cell_type": "markdown",
   "id": "sound-candle",
   "metadata": {},
   "source": [
    "# Tutorial 138 find even odd by dictionary comparihension"
   ]
  },
  {
   "cell_type": "code",
   "execution_count": 21,
   "id": "moral-speech",
   "metadata": {},
   "outputs": [
    {
     "name": "stdout",
     "output_type": "stream",
     "text": [
      "{1: 'odd', 2: 'even', 3: 'odd', 4: 'even', 5: 'odd', 6: 'even', 7: 'odd', 8: 'even', 9: 'odd', 10: 'even'}\n"
     ]
    }
   ],
   "source": [
    "find_even_odd = {i: ('even' if i%2==0 else 'odd') for i in range(1,11)}\n",
    "print(find_even_odd)"
   ]
  },
  {
   "cell_type": "markdown",
   "id": "split-copper",
   "metadata": {},
   "source": [
    "# Tutorial 139 set comperihension"
   ]
  },
  {
   "cell_type": "code",
   "execution_count": 22,
   "id": "equipped-desktop",
   "metadata": {},
   "outputs": [
    {
     "name": "stdout",
     "output_type": "stream",
     "text": [
      "{16, 1, 4, 9}\n",
      "{'b', 'r', 'h'}\n"
     ]
    }
   ],
   "source": [
    "# mind it there is no order in set\n",
    "s={k**2 for k in range(1,5)}\n",
    "print(s)\n",
    "\n",
    "names={'rakib','hasan','best'}\n",
    "first={i[0] for i in names}\n",
    "print(first)"
   ]
  },
  {
   "cell_type": "markdown",
   "id": "covered-officer",
   "metadata": {},
   "source": [
    "# Tutoril 140 introduction of args \n",
    "* args makes a flexible programming\n",
    "* usally determine as *operator"
   ]
  },
  {
   "cell_type": "code",
   "execution_count": 25,
   "id": "qualified-mediterranean",
   "metadata": {},
   "outputs": [
    {
     "name": "stdout",
     "output_type": "stream",
     "text": [
      "55\n"
     ]
    }
   ],
   "source": [
    "def all_totals(*args):\n",
    "    total=0\n",
    "    for i in args:\n",
    "        total += i\n",
    "#     print(total)\n",
    "    return total\n",
    "print(all_totals(1,2,3,4,5,6,7,8,9,10))"
   ]
  },
  {
   "cell_type": "markdown",
   "id": "primary-likelihood",
   "metadata": {},
   "source": [
    "# Tutorial 141 args as normal parameters"
   ]
  },
  {
   "cell_type": "code",
   "execution_count": 27,
   "id": "rolled-barbados",
   "metadata": {},
   "outputs": [
    {
     "name": "stdout",
     "output_type": "stream",
     "text": [
      "12\n"
     ]
    }
   ],
   "source": [
    "def multiply(n1,n2,*args):\n",
    "    base=1\n",
    "    for i in args:\n",
    "        base*= i\n",
    "    return base\n",
    "\n",
    "print(multiply(1,2,3,4))"
   ]
  },
  {
   "cell_type": "code",
   "execution_count": 29,
   "id": "subjective-merchandise",
   "metadata": {},
   "outputs": [
    {
     "name": "stdout",
     "output_type": "stream",
     "text": [
      "3\n",
      "4\n",
      "None\n"
     ]
    }
   ],
   "source": [
    "def multiply(n1,n2,*args):\n",
    "    base=1\n",
    "    for i in args:\n",
    "        print(i)\n",
    "\n",
    "print(multiply(1,2,3,4))"
   ]
  },
  {
   "cell_type": "markdown",
   "id": "documented-annual",
   "metadata": {},
   "source": [
    "# Tutoril 142 args as argument"
   ]
  },
  {
   "cell_type": "code",
   "execution_count": 30,
   "id": "satisfactory-vector",
   "metadata": {},
   "outputs": [
    {
     "name": "stdout",
     "output_type": "stream",
     "text": [
      "24\n"
     ]
    }
   ],
   "source": [
    "#important\n",
    "# argument means a parameters of of method that changed\n",
    "def multiply(*args):\n",
    "    base_multiply=1\n",
    "    for i in args:\n",
    "        base_multiply *= i\n",
    "    return base_multiply\n",
    "nums=[1,2,3,4]\n",
    "print(multiply(*nums)) #use * when you list values or string"
   ]
  },
  {
   "cell_type": "markdown",
   "id": "opponent-tiffany",
   "metadata": {},
   "source": [
    "# Tutoril 144 exercise"
   ]
  },
  {
   "cell_type": "code",
   "execution_count": 31,
   "id": "negative-earth",
   "metadata": {},
   "outputs": [
    {
     "name": "stdout",
     "output_type": "stream",
     "text": [
      "[8, 27, 64, 343]\n"
     ]
    }
   ],
   "source": [
    "#important\n",
    "def power(num,*args):\n",
    "    if args:\n",
    "        return [i**num for i in args]\n",
    "    else:\n",
    "        return 'you can not pass any argument'\n",
    "numbers=[2,3,4,7]\n",
    "print(power(3,*numbers))"
   ]
  },
  {
   "cell_type": "markdown",
   "id": "architectural-paragraph",
   "metadata": {},
   "source": [
    "# tutorial 145 kwargs"
   ]
  },
  {
   "cell_type": "code",
   "execution_count": 32,
   "id": "dominant-brooklyn",
   "metadata": {},
   "outputs": [
    {
     "name": "stdout",
     "output_type": "stream",
     "text": [
      "type 1:\n",
      "{'fname': 'rakib', 'lname': 'hasan'}\n",
      "<class 'dict'>\n",
      "None\n"
     ]
    }
   ],
   "source": [
    "# kwargs=keyword argument\n",
    "print('type 1:')\n",
    "def function(**kwargs):\n",
    "    print(kwargs)\n",
    "    print(type(kwargs))\n",
    "print(function(fname='rakib',lname='hasan'))"
   ]
  },
  {
   "cell_type": "code",
   "execution_count": 33,
   "id": "naval-recommendation",
   "metadata": {},
   "outputs": [
    {
     "name": "stdout",
     "output_type": "stream",
     "text": [
      "type 1:\n",
      "fname :rakib\n",
      "lname :hasan\n",
      "None\n"
     ]
    }
   ],
   "source": [
    "# kwargs=keyword argument\n",
    "print('type 2:')\n",
    "def function(**kwargs):\n",
    "    for k,v in kwargs.items():\n",
    "        print(f'{k} :{v}')\n",
    "        \n",
    "print(function(fname='rakib',lname='hasan'))"
   ]
  },
  {
   "cell_type": "code",
   "execution_count": 34,
   "id": "harmful-brooklyn",
   "metadata": {},
   "outputs": [
    {
     "name": "stdout",
     "output_type": "stream",
     "text": [
      "type 3:\n",
      "{'fname': 'rakib', 'lname': 'hasan'}\n",
      "<class 'dict'>\n",
      "name : bangladeshi\n",
      "None\n"
     ]
    }
   ],
   "source": [
    "# kwargs=keyword argument\n",
    "print('type 3:')\n",
    "def function(name,**kwargs):\n",
    "    print(kwargs)\n",
    "    print(type(kwargs))\n",
    "    print('name :',name)\n",
    "print(function('bangladeshi',fname='rakib',lname='hasan'))"
   ]
  },
  {
   "cell_type": "code",
   "execution_count": 35,
   "id": "behind-anniversary",
   "metadata": {},
   "outputs": [
    {
     "name": "stdout",
     "output_type": "stream",
     "text": [
      "\n",
      " last type:\n",
      "name : rakib\n",
      "hobby : bilonary\n",
      "None\n"
     ]
    }
   ],
   "source": [
    "print('\\n last type:')\n",
    "def function(**kwargs):\n",
    "    for k,v in kwargs.items():#mind it args does not work in item()\n",
    "        print(f\"{k} : {v}\")\n",
    "set_unpacking={'name':'rakib','hobby':'good life'}\n",
    "print(function(**set_unpacking))"
   ]
  },
  {
   "cell_type": "code",
   "execution_count": 1,
   "id": "relative-wisdom",
   "metadata": {},
   "outputs": [],
   "source": [
    "#important\n",
    "# keyword gethwe as dictionary ex- k1=v1,k2=v2 ---> {k1:v1,k2:v2}\n",
    "# args gethwe as tuple ex- a,b,c ---> (a,b,c)"
   ]
  },
  {
   "cell_type": "markdown",
   "id": "coastal-recovery",
   "metadata": {},
   "source": [
    "# Tutorial 146 All parameters\n",
    "* 'here we learn parametr+ *args +default parameter + **kwargs'"
   ]
  },
  {
   "cell_type": "code",
   "execution_count": 2,
   "id": "northern-father",
   "metadata": {},
   "outputs": [
    {
     "name": "stdout",
     "output_type": "stream",
     "text": [
      "sabuj\n",
      "24\n",
      "None\n"
     ]
    }
   ],
   "source": [
    "def function(name='rakib hasan',age=21):\n",
    "    print(name)\n",
    "    print(age)\n",
    "print(function('sabuj',24))"
   ]
  },
  {
   "cell_type": "code",
   "execution_count": 5,
   "id": "irish-steering",
   "metadata": {},
   "outputs": [
    {
     "name": "stdout",
     "output_type": "stream",
     "text": [
      "name:  masum\n",
      "args : ('hi', 'hello', 'whats up', 'sagor')\n",
      "lasat name: hasan\n",
      "kwrgs {'a': 1, 'b': 2}\n",
      "None\n"
     ]
    }
   ],
   "source": [
    "#important\n",
    "def function(name='rakib',*args,last_name='hasan',**kwrgs):\n",
    "    print('name: ',name)   \n",
    "    print('args :',args)\n",
    "    print('lasat name:',last_name)\n",
    "    print('kwrgs:',kwrgs)\n",
    "\n",
    "print(function('masum','hi','hello','whats up','sagor',a=1,b=2))\n",
    "    "
   ]
  },
  {
   "cell_type": "markdown",
   "id": "radical-antibody",
   "metadata": {},
   "source": [
    "\n",
    "# Tutorial 148 simpel kwargs argument exercise"
   ]
  },
  {
   "cell_type": "code",
   "execution_count": 9,
   "id": "unnecessary-teens",
   "metadata": {},
   "outputs": [
    {
     "name": "stdout",
     "output_type": "stream",
     "text": [
      "['Bikar', 'Nasah']\n",
      "['Rakib', 'Hasan']\n"
     ]
    }
   ],
   "source": [
    "#important\n",
    "def function(list,**kwargs):\n",
    "    if kwargs.get('reverse')==True:\n",
    "        return [i[::-1].title() for i in list]\n",
    "    else:\n",
    "        return [i.title() for i in list]\n",
    "    \n",
    "name=['rakib' , 'hasan']\n",
    "\n",
    "print(function(name,reverse= True))\n",
    "        # don't give 'reverse'=True\n",
    "print(function(name,reverse= False))\n"
   ]
  },
  {
   "cell_type": "markdown",
   "id": "advance-significance",
   "metadata": {},
   "source": [
    "# Tutorial 149 args kwargs summery"
   ]
  },
  {
   "cell_type": "code",
   "execution_count": 19,
   "id": "compound-coast",
   "metadata": {},
   "outputs": [
    {
     "name": "stdout",
     "output_type": "stream",
     "text": [
      "45\n"
     ]
    }
   ],
   "source": [
    "def function(*l):\n",
    "    total=0\n",
    "    for i in l:\n",
    "        total += i     \n",
    "    return total\n",
    "list=[1,2,3,4,5,6]\n",
    "list2=[7,8,9]\n",
    "print(function(*list,*list2))"
   ]
  },
  {
   "cell_type": "code",
   "execution_count": 16,
   "id": "surrounded-christian",
   "metadata": {},
   "outputs": [
    {
     "name": "stdout",
     "output_type": "stream",
     "text": [
      "21\n"
     ]
    }
   ],
   "source": [
    "def function(l):\n",
    "    total=0\n",
    "    for i in l:\n",
    "        total += i     \n",
    "    return total\n",
    "list=[1,2,3,4,5,6]\n",
    "print(function(list))"
   ]
  },
  {
   "cell_type": "code",
   "execution_count": 18,
   "id": "utility-contrary",
   "metadata": {},
   "outputs": [
    {
     "name": "stdout",
     "output_type": "stream",
     "text": [
      "rakib mia\n",
      "(1, 2, 3, 4)\n",
      "hasan\n",
      "{'a': 4, 'b': 8, 'c': 80}\n"
     ]
    }
   ],
   "source": [
    "def use(name,*args,last_name='hasan',**kwargs):\n",
    "    print(name)\n",
    "    print(args)\n",
    "    print(last_name)\n",
    "    print(kwargs)\n",
    "use('rakib mia',1,2,3,4,a=4,b=8,c=80)"
   ]
  },
  {
   "cell_type": "markdown",
   "id": "packed-optimization",
   "metadata": {},
   "source": [
    "# Tutorial 150 python lambda expression\n",
    "\n",
    "* function/list/tuple/dict = lambda variable : changes in variable"
   ]
  },
  {
   "cell_type": "code",
   "execution_count": 22,
   "id": "caring-research",
   "metadata": {},
   "outputs": [
    {
     "name": "stdout",
     "output_type": "stream",
     "text": [
      "9\n",
      "<function <lambda> at 0x000002454CAF2550>\n",
      "12\n",
      "110\n",
      "14\n"
     ]
    }
   ],
   "source": [
    "def add(a,b):\n",
    "    return a+b\n",
    "print(add(4,5))\n",
    "\n",
    "a=lambda a,b: a+b\n",
    "print(a)\n",
    "print(a(4,8))\n",
    "\n",
    "print(add(50,60))\n",
    "print(a(6,8))"
   ]
  },
  {
   "cell_type": "markdown",
   "id": "pharmaceutical-height",
   "metadata": {},
   "source": [
    "# tutorial 151 genaral lambda"
   ]
  },
  {
   "cell_type": "code",
   "execution_count": 25,
   "id": "limited-musician",
   "metadata": {},
   "outputs": [
    {
     "name": "stdout",
     "output_type": "stream",
     "text": [
      " lambda even:  True\n",
      "b\n"
     ]
    }
   ],
   "source": [
    "is_even2=lambda a:a%2 == 0\n",
    "print(' lambda even: ',is_even2(8))\n",
    "\n",
    "last_char=lambda a:a[-1]\n",
    "print(last_char('rakib'))"
   ]
  },
  {
   "cell_type": "code",
   "execution_count": 26,
   "id": "functioning-fever",
   "metadata": {},
   "outputs": [
    {
     "name": "stdout",
     "output_type": "stream",
     "text": [
      "True\n"
     ]
    }
   ],
   "source": [
    "function2=lambda s: True if len(s)>5 else False\n",
    "print(function2('rakibh'))"
   ]
  },
  {
   "cell_type": "code",
   "execution_count": 27,
   "id": "statewide-anniversary",
   "metadata": {},
   "outputs": [
    {
     "name": "stdout",
     "output_type": "stream",
     "text": [
      "True\n"
     ]
    }
   ],
   "source": [
    "function2_new=lambda s: len(s)>3\n",
    "print(function2('rakibh'))"
   ]
  },
  {
   "cell_type": "markdown",
   "id": "aggressive-bowling",
   "metadata": {},
   "source": [
    "# tutorial 152 python enmurate function"
   ]
  },
  {
   "cell_type": "code",
   "execution_count": 29,
   "id": "partial-mouth",
   "metadata": {},
   "outputs": [
    {
     "name": "stdout",
     "output_type": "stream",
     "text": [
      "a : 0\n",
      "b : 1\n",
      "c : 2\n",
      "d : 3\n"
     ]
    }
   ],
   "source": [
    "name=['a','b','c','d']\n",
    "position=0\n",
    "for i in name:\n",
    "    print(f'{i} : {position}')\n",
    "    position += 1"
   ]
  },
  {
   "cell_type": "code",
   "execution_count": 30,
   "id": "united-victorian",
   "metadata": {},
   "outputs": [
    {
     "name": "stdout",
     "output_type": "stream",
     "text": [
      "<enumerate object at 0x000002454D2E9140>\n"
     ]
    }
   ],
   "source": [
    "print(enumerate(name))"
   ]
  },
  {
   "cell_type": "code",
   "execution_count": 31,
   "id": "flying-profession",
   "metadata": {},
   "outputs": [
    {
     "name": "stdout",
     "output_type": "stream",
     "text": [
      "0 : a\n",
      "1 : b\n",
      "2 : c\n",
      "3 : d\n"
     ]
    }
   ],
   "source": [
    "for i,j in enumerate(name):\n",
    "    print(f'{i} : {j}')"
   ]
  },
  {
   "cell_type": "code",
   "execution_count": 34,
   "id": "certain-excess",
   "metadata": {},
   "outputs": [
    {
     "name": "stdout",
     "output_type": "stream",
     "text": [
      "2\n"
     ]
    }
   ],
   "source": [
    "def find_pos(l,target):\n",
    "    for pos,name in enumerate(l):#if you give if statemet it will give you a error\n",
    "     if name == target:\n",
    "        return pos\n",
    "#     return -1\n",
    "print(find_pos(name,'c'))"
   ]
  },
  {
   "cell_type": "code",
   "execution_count": 35,
   "id": "through-council",
   "metadata": {},
   "outputs": [],
   "source": [
    "# enumerate genarally use for find position of big dataset"
   ]
  },
  {
   "cell_type": "markdown",
   "id": "resident-finish",
   "metadata": {},
   "source": [
    "# Tutorial 153 map function\n",
    "* map(function ,iterabale obj)"
   ]
  },
  {
   "cell_type": "code",
   "execution_count": null,
   "id": "stuck-record",
   "metadata": {},
   "outputs": [],
   "source": [
    "\"\"\"\n",
    "MAP(function,iter)\n",
    "Python's map() is a built-in function that allows you to process and transform all the\n",
    "items in an iterable without using an explicit for loop, a technique commonly known as mapping.\n",
    "map() is useful when you need to apply a transformation function to each item in an iterable\n",
    "and transform them into a new iterable\"\"\""
   ]
  },
  {
   "cell_type": "code",
   "execution_count": 39,
   "id": "civic-fields",
   "metadata": {},
   "outputs": [
    {
     "name": "stdout",
     "output_type": "stream",
     "text": [
      "<map object at 0x000002454CA51430>\n",
      "[100, 400, 900]\n"
     ]
    }
   ],
   "source": [
    "del list\n",
    "l=[10,20,30]\n",
    "def square(a):\n",
    "    return a**2\n",
    "print(map(square,l))\n",
    "new=list(map(square,l))\n",
    "print(new)\n"
   ]
  },
  {
   "cell_type": "code",
   "execution_count": 40,
   "id": "conceptual-reynolds",
   "metadata": {},
   "outputs": [
    {
     "name": "stdout",
     "output_type": "stream",
     "text": [
      "[1, 4, 9, 16]\n"
     ]
    }
   ],
   "source": [
    "# using lambda function\n",
    "numbers=[1,2,3,4]\n",
    "square_lambda=list(map(lambda a : a**2,numbers))\n",
    "print(square_lambda)"
   ]
  },
  {
   "cell_type": "code",
   "execution_count": 41,
   "id": "younger-pledge",
   "metadata": {},
   "outputs": [
    {
     "name": "stdout",
     "output_type": "stream",
     "text": [
      "square_list--> [1, 4, 9, 16]\n"
     ]
    }
   ],
   "source": [
    "squares_list=[i**2 for i in numbers]\n",
    "print('square_list-->',squares_list)"
   ]
  },
  {
   "cell_type": "code",
   "execution_count": 43,
   "id": "cutting-sender",
   "metadata": {},
   "outputs": [
    {
     "name": "stdout",
     "output_type": "stream",
     "text": [
      "[3, 7, 6]\n"
     ]
    }
   ],
   "source": [
    "word_list=['abc','defjhbk','ghikkk']\n",
    "print(list(map(len,word_list)))"
   ]
  },
  {
   "cell_type": "code",
   "execution_count": 44,
   "id": "invalid-speaker",
   "metadata": {},
   "outputs": [
    {
     "name": "stdout",
     "output_type": "stream",
     "text": [
      "normal_list---> [1, 4, 9, 16]\n"
     ]
    }
   ],
   "source": [
    "# in normal method\n",
    "normal_list=[]\n",
    "def square(a):\n",
    "    return a**2\n",
    "for i in numbers:\n",
    "    normal_list.append(square(i))\n",
    "print('normal_list--->',normal_list)"
   ]
  },
  {
   "cell_type": "markdown",
   "id": "apparent-daily",
   "metadata": {},
   "source": [
    "# Tutorial 154 filter function\n",
    "* Maps takes a normal function, Filter takes Boolean functions.\n",
    "* while Map modifies the list with a normal logic that produces another list, Filter modifies the list with conditional logic that filters out some elements--those that do not meet the conditions of the Boolean logic---from the nums list."
   ]
  },
  {
   "cell_type": "code",
   "execution_count": 45,
   "id": "clinical-plymouth",
   "metadata": {},
   "outputs": [
    {
     "name": "stdout",
     "output_type": "stream",
     "text": [
      "(2, 4, 6)\n",
      "[2, 4, 6]\n",
      "[2, 4, 6]\n"
     ]
    }
   ],
   "source": [
    "def is_even(a):\n",
    "    return a%2 == 0\n",
    "number=[1,2,3,4,5,6]\n",
    "even=tuple(filter(is_even,number))\n",
    "even2=list(filter(lambda b:b%2==0,number))\n",
    "print(even)\n",
    "print(even2)\n",
    "# ____________________________________\n",
    "new_evens=[i for i in number if i%2==0]\n",
    "print(new_evens)\n",
    "\n",
    "# -----------------------------------\n"
   ]
  },
  {
   "cell_type": "code",
   "execution_count": 46,
   "id": "statutory-emission",
   "metadata": {},
   "outputs": [
    {
     "name": "stdout",
     "output_type": "stream",
     "text": [
      "1\n",
      "2\n",
      "3\n",
      "4\n",
      "1\n",
      "4\n",
      "9\n",
      "16\n"
     ]
    },
    {
     "ename": "StopIteration",
     "evalue": "",
     "output_type": "error",
     "traceback": [
      "\u001b[1;31m---------------------------------------------------------------------------\u001b[0m",
      "\u001b[1;31mStopIteration\u001b[0m                             Traceback (most recent call last)",
      "\u001b[1;32m<ipython-input-46-60fc18c8b42a>\u001b[0m in \u001b[0;36m<module>\u001b[1;34m\u001b[0m\n\u001b[0;32m     11\u001b[0m \u001b[0mprint\u001b[0m\u001b[1;33m(\u001b[0m\u001b[0mnext\u001b[0m\u001b[1;33m(\u001b[0m\u001b[0msqure\u001b[0m\u001b[1;33m)\u001b[0m\u001b[1;33m)\u001b[0m\u001b[1;33m\u001b[0m\u001b[1;33m\u001b[0m\u001b[0m\n\u001b[0;32m     12\u001b[0m \u001b[0mprint\u001b[0m\u001b[1;33m(\u001b[0m\u001b[0mnext\u001b[0m\u001b[1;33m(\u001b[0m\u001b[0msqure\u001b[0m\u001b[1;33m)\u001b[0m\u001b[1;33m)\u001b[0m\u001b[1;33m\u001b[0m\u001b[1;33m\u001b[0m\u001b[0m\n\u001b[1;32m---> 13\u001b[1;33m \u001b[0mprint\u001b[0m\u001b[1;33m(\u001b[0m\u001b[0mnext\u001b[0m\u001b[1;33m(\u001b[0m\u001b[0msqure\u001b[0m\u001b[1;33m)\u001b[0m\u001b[1;33m)\u001b[0m\u001b[1;33m\u001b[0m\u001b[1;33m\u001b[0m\u001b[0m\n\u001b[0m\u001b[0;32m     14\u001b[0m \u001b[0mprint\u001b[0m\u001b[1;33m(\u001b[0m\u001b[0mnext\u001b[0m\u001b[1;33m(\u001b[0m\u001b[0msqure\u001b[0m\u001b[1;33m)\u001b[0m\u001b[1;33m)\u001b[0m\u001b[1;33m\u001b[0m\u001b[1;33m\u001b[0m\u001b[0m\n\u001b[0;32m     15\u001b[0m \u001b[1;33m\u001b[0m\u001b[0m\n",
      "\u001b[1;31mStopIteration\u001b[0m: "
     ]
    }
   ],
   "source": [
    "number=[1,2,3,4]#list,tuple,string-->iterable\n",
    "squre=map(lambda i:i**2,number)#itarator\n",
    "number_iter=iter(number)\n",
    "print(next(number_iter))\n",
    "print(next(number_iter))\n",
    "print(next(number_iter))\n",
    "print(next(number_iter))\n",
    "# print(next(number_iter))\n",
    "print(next(squre))\n",
    "print(next(squre))\n",
    "print(next(squre))\n",
    "print(next(squre))\n",
    "print(next(squre))\n",
    "print(next(squre))\n",
    "\n"
   ]
  },
  {
   "cell_type": "markdown",
   "id": "consolidated-cooler",
   "metadata": {},
   "source": [
    "# Tutorial 156 zip function\n",
    "* \"\"\"Python's zip() function creates an iterator that will aggregate elements from two or more iterables.\n",
    "You can use the resulting iterator to quickly and consistently solve common programming problems, like\n",
    "creating dictionaries.\"\"\""
   ]
  },
  {
   "cell_type": "code",
   "execution_count": 49,
   "id": "identical-concept",
   "metadata": {},
   "outputs": [
    {
     "name": "stdout",
     "output_type": "stream",
     "text": [
      "[('user1', 'rakib', 'hasan'), ('user2', 'sabuj', 'mia'), ('user3', 'sagor', 'sheikh')]\n"
     ]
    }
   ],
   "source": [
    "user=['user1','user2','user3']\n",
    "name=['rakib','sabuj','sagor']\n",
    "lname=['hasan','mia','sheikh']\n",
    "b=list(zip(user,name,lname))\n",
    "print(b)"
   ]
  },
  {
   "cell_type": "code",
   "execution_count": 50,
   "id": "weekly-jesus",
   "metadata": {},
   "outputs": [
    {
     "name": "stdout",
     "output_type": "stream",
     "text": [
      "('user1', 'rakib', 'hasan')\n"
     ]
    }
   ],
   "source": [
    "b=list(zip(user,name,lname))[0]\n",
    "print(b)"
   ]
  },
  {
   "cell_type": "code",
   "execution_count": 51,
   "id": "latin-politics",
   "metadata": {},
   "outputs": [
    {
     "name": "stdout",
     "output_type": "stream",
     "text": [
      "rakib\n"
     ]
    }
   ],
   "source": [
    "b=list(zip(user,name,lname))[0][1]\n",
    "print(b)"
   ]
  },
  {
   "cell_type": "code",
   "execution_count": 52,
   "id": "rocky-concert",
   "metadata": {},
   "outputs": [
    {
     "name": "stdout",
     "output_type": "stream",
     "text": [
      "{'a': 1, 'b': 2}\n"
     ]
    }
   ],
   "source": [
    "example=[('a',1),('b',2)]\n",
    "print(dict(example))"
   ]
  },
  {
   "cell_type": "markdown",
   "id": "earned-pressing",
   "metadata": {},
   "source": [
    "# Tutorial 167 zip part 2"
   ]
  },
  {
   "cell_type": "code",
   "execution_count": 2,
   "id": "arranged-christian",
   "metadata": {},
   "outputs": [
    {
     "name": "stdout",
     "output_type": "stream",
     "text": [
      "<zip object at 0x0000022310562F00>\n",
      "[(1, 3, 5, 7), (2, 4, 6, 8)]\n"
     ]
    }
   ],
   "source": [
    "#important\n",
    "l=[(1,2),(3,4),(5,6),(7,8)]\n",
    "print(zip(*l))\n",
    "print(list(zip(*l)))"
   ]
  },
  {
   "cell_type": "code",
   "execution_count": 4,
   "id": "emerging-edition",
   "metadata": {},
   "outputs": [
    {
     "name": "stdout",
     "output_type": "stream",
     "text": [
      "l---> [(1, 2), (3, 4), (5, 6), (7, 8)]\n",
      "l1--> (1, 3, 5, 7)\n",
      "l2--> (2, 4, 6, 8)\n"
     ]
    }
   ],
   "source": [
    "# important unpack zip function\n",
    "l1=[3,8,4,9]\n",
    "l2=[8,9,3,8]\n",
    "l=[(1,2),(3,4),(5,6),(7,8)]\n",
    "l1,l2=list(zip(*l))\n",
    "print('l--->',l)\n",
    "print('l1-->',l1)\n",
    "print('l2-->',l2)"
   ]
  },
  {
   "cell_type": "code",
   "execution_count": 7,
   "id": "wireless-sellers",
   "metadata": {},
   "outputs": [
    {
     "name": "stdout",
     "output_type": "stream",
     "text": [
      "<zip object at 0x000002231058F900>\n",
      "[(3, 8), (8, 9), (4, 3), (9, 8)]\n"
     ]
    }
   ],
   "source": [
    "l1=[3,8,4,9]\n",
    "l2=[8,9,3,8]\n",
    "l=[(1,2),(3,4),(5,6),(7,8)]\n",
    "print(zip(l1,l2))\n",
    "print(list(zip(l1,l2)))"
   ]
  },
  {
   "cell_type": "code",
   "execution_count": 8,
   "id": "indonesian-publication",
   "metadata": {},
   "outputs": [
    {
     "name": "stdout",
     "output_type": "stream",
     "text": [
      "[8, 9, 4, 9]\n"
     ]
    }
   ],
   "source": [
    "empty_list=[]\n",
    "for pair in zip(l1,l2):\n",
    "    empty_list.append(max(pair))\n",
    "print(empty_list)\n",
    "    "
   ]
  },
  {
   "cell_type": "code",
   "execution_count": 9,
   "id": "insured-fashion",
   "metadata": {},
   "outputs": [
    {
     "data": {
      "text/plain": [
       "7"
      ]
     },
     "execution_count": 9,
     "metadata": {},
     "output_type": "execute_result"
    }
   ],
   "source": [
    "max((6,7))"
   ]
  },
  {
   "cell_type": "markdown",
   "id": "automatic-biodiversity",
   "metadata": {},
   "source": [
    "# tutoril 158 advance function practice"
   ]
  },
  {
   "cell_type": "code",
   "execution_count": 10,
   "id": "adult-directive",
   "metadata": {},
   "outputs": [
    {
     "name": "stdout",
     "output_type": "stream",
     "text": [
      "[2.6666666666666665, 6.333333333333333, 2.6666666666666665]\n"
     ]
    }
   ],
   "source": [
    "# genaral code\n",
    "advance=[]\n",
    "def get_avarage(*args):\n",
    "    for i in list(zip(*args)):\n",
    "        avarage.append(sum(i)/len(i))\n",
    "    return avarage\n",
    "print(get_avarage())\n",
    "        "
   ]
  },
  {
   "cell_type": "markdown",
   "id": "strong-diesel",
   "metadata": {},
   "source": [
    "# Tutoril 158 advance function"
   ]
  },
  {
   "cell_type": "code",
   "execution_count": 12,
   "id": "proved-frontier",
   "metadata": {},
   "outputs": [
    {
     "name": "stdout",
     "output_type": "stream",
     "text": [
      "[3.0, 4.0, 5.0, 42.0]\n"
     ]
    }
   ],
   "source": [
    "avarage=[]\n",
    "def get_avarage(*args):\n",
    "    for i in list(zip(*args)):\n",
    "        avarage.append(sum(i)/len(i))\n",
    "    return avarage\n",
    "print(get_avarage([1,2,3,4],[5,6,7,80]))"
   ]
  },
  {
   "cell_type": "code",
   "execution_count": 14,
   "id": "improving-western",
   "metadata": {},
   "outputs": [
    {
     "name": "stdout",
     "output_type": "stream",
     "text": [
      "[44.5, 61.5, 27.5, 22.5]\n"
     ]
    }
   ],
   "source": [
    "#important using lambda function\n",
    "avarage_solution=lambda *args : [sum(i)/len(i) for i in list(zip(*args)) ]\n",
    "# dont forget to give second brakect as we append value in list\n",
    "print(avarage_solution([1,34,32,23],[88,89,23,22]))"
   ]
  },
  {
   "cell_type": "markdown",
   "id": "empty-third",
   "metadata": {},
   "source": [
    "# Tutorial 159 summery of zip function"
   ]
  },
  {
   "cell_type": "code",
   "execution_count": 15,
   "id": "collectible-tooth",
   "metadata": {},
   "outputs": [
    {
     "name": "stdout",
     "output_type": "stream",
     "text": [
      "<zip object at 0x000002231058FAC0>\n",
      "[(1, 3, 5, 7), (2, 4, 6, 8)]\n",
      "\n",
      "\n",
      "some practice\n",
      "\n",
      "list---> [(90, 50, 60), (80, 89, 89), (75, 34, 79), (95, 89, 98)]\n",
      "[66.67, 86.0, 62.67, 94.0]\n"
     ]
    }
   ],
   "source": [
    "# this item video tutorial is not  found\n",
    "# please search this video\n",
    "# dont forget to download this video\n",
    "# please dont be lazy\n",
    "# zip part2\n",
    "\n",
    "l1=[1,2,3,4,5]\n",
    "l2=[6,7,8,9,10]\n",
    "l=[(1,2),(3,4),(5,6),(7,8)]\n",
    "print(zip(*l))\n",
    "print(list(zip(*l)))\n",
    "\n",
    "# ----------------------------------------------\n",
    "print('\\n\\nsome practice\\n')\n",
    "roll=[1,2,3,4]\n",
    "math=[90,80,75,95]\n",
    "english=[50,89,34,89]\n",
    "art=[60,89,79,98]\n",
    "parcentage=[]\n",
    "\n",
    "for pair in zip(math,english,art):#you also can use m,n,p insted of pair\n",
    "    rounded=round((sum(pair)/300)*100,2)\n",
    "    parcentage.append(rounded)\n",
    "print('list--->',list(zip(math,english,art)))\n",
    "print(parcentage)\n"
   ]
  },
  {
   "cell_type": "markdown",
   "id": "normal-railway",
   "metadata": {},
   "source": [
    "# Tutoril 160 any all fucntion"
   ]
  },
  {
   "cell_type": "code",
   "execution_count": 16,
   "id": "powerful-palmer",
   "metadata": {},
   "outputs": [
    {
     "name": "stdout",
     "output_type": "stream",
     "text": [
      "True\n",
      "True\n",
      "True\n",
      "False\n",
      "[True, True, True, True]\n",
      "[False, False, True, False]\n"
     ]
    }
   ],
   "source": [
    "number1=[2,4,6,8]\n",
    "number2=[3,5,4,9]\n",
    "print(any(num%2==0 for num in number1))\n",
    "print(any(num%2==0 for num in number2))\n",
    "print(all(num%2==0 for num in number1))\n",
    "print(all(num%2==0 for num in number2))\n",
    "\n",
    "\n",
    "even=[]\n",
    "for num in number1:\n",
    "    even.append(num%2 ==0)\n",
    "print(even)\n",
    "\n",
    "\n",
    "odd=[]\n",
    "for num in number2:\n",
    "    odd.append(num%2 ==0)\n",
    "print(odd)"
   ]
  },
  {
   "cell_type": "markdown",
   "id": "considered-scale",
   "metadata": {},
   "source": [
    "# Tutorial 161 any all exercise"
   ]
  },
  {
   "cell_type": "code",
   "execution_count": 19,
   "id": "satellite-heating",
   "metadata": {},
   "outputs": [
    {
     "name": "stdout",
     "output_type": "stream",
     "text": [
      "wrong input\n",
      "18.54\n"
     ]
    }
   ],
   "source": [
    "def my_sum(*l):\n",
    "    \n",
    "    if all([ (type(i)==int or type(i)==float) for i in l]):\n",
    "        total=0\n",
    "        for i in l:\n",
    "            total += i\n",
    "        return total\n",
    "    else:\n",
    "        return 'wrong input'\n",
    "print(my_sum(1,2,5,4,3.3,3.24,'rakib'))\n",
    "print(my_sum(1,2,5,4,3.3,3.24))\n",
    "        "
   ]
  },
  {
   "cell_type": "markdown",
   "id": "pursuant-bermuda",
   "metadata": {},
   "source": [
    "# Tutorial 162"
   ]
  },
  {
   "cell_type": "code",
   "execution_count": 27,
   "id": "vulnerable-liverpool",
   "metadata": {},
   "outputs": [
    {
     "name": "stdout",
     "output_type": "stream",
     "text": [
      "{1: 1, 3: 27, 5: 125, 7: 343, 9: 729}\n",
      "by using lambda expression: \n",
      "{<function <setcomp>.<lambda> at 0x000002231065D820>, <function <setcomp>.<lambda> at 0x000002231065DEE0>, <function <setcomp>.<lambda> at 0x000002231065D700>, <function <setcomp>.<lambda> at 0x000002231065DF70>, <function <setcomp>.<lambda> at 0x000002231065D790>}\n"
     ]
    }
   ],
   "source": [
    "input_list=[1,2,3,4,5,6,7,8,9,10]\n",
    "output_dict={}\n",
    "\n",
    "for i in input_list:\n",
    "    if i%2 !=0 :\n",
    "        output_dict[i]=i**3\n",
    "print(output_dict)\n",
    "    \n",
    "print('by using lambda expression: ')\n",
    "shortcut={lambda a: a**3 for a in input_list if a%2 != 0}\n",
    "print(shortcut)"
   ]
  },
  {
   "cell_type": "code",
   "execution_count": 26,
   "id": "regulation-webmaster",
   "metadata": {},
   "outputs": [
    {
     "name": "stdout",
     "output_type": "stream",
     "text": [
      "{1: 1, 3: 27, 5: 125, 7: 343}\n"
     ]
    }
   ],
   "source": [
    "input_list = [1,2,3,4,5,6,7]\n",
    "dict_using_comp = {var:var ** 3 for var in input_list if var % 2 != 0}\n",
    "print(dict_using_comp)"
   ]
  },
  {
   "cell_type": "code",
   "execution_count": 28,
   "id": "polish-depression",
   "metadata": {},
   "outputs": [
    {
     "name": "stdout",
     "output_type": "stream",
     "text": [
      "193\n"
     ]
    }
   ],
   "source": [
    "# Python code to illustrate\n",
    "# reduce() with lambda()\n",
    "# to get sum of a list\n",
    "\n",
    "from functools import reduce\n",
    "li = [5, 8, 10, 20, 50, 100]\n",
    "sum = reduce((lambda x, y: x + y), li)\n",
    "print (sum)\n"
   ]
  },
  {
   "cell_type": "code",
   "execution_count": 6,
   "id": "regular-delay",
   "metadata": {},
   "outputs": [
    {
     "name": "stdout",
     "output_type": "stream",
     "text": [
      "{'Gujarat': 'Gandhinagar', 'Maharashtra': 'Mumbai', 'Rajasthan': 'Jaipur'}\n",
      "#using zip in dictionary comparihansion\n",
      "{'Gujarat': 'Gandhinagar', 'Maharashtra': 'Mumbai', 'Rajasthan': 'Jaipur'}\n",
      "[('Gujarat', 'Gandhinagar'), ('Maharashtra', 'Mumbai'), ('Rajasthan', 'Jaipur')]\n"
     ]
    }
   ],
   "source": [
    "\n",
    "state = ['Gujarat', 'Maharashtra', 'Rajasthan']\n",
    "capital = ['Gandhinagar', 'Mumbai', 'Jaipur']\n",
    "output_dict={}\n",
    "for key,value in zip(state,capital):\n",
    "    output_dict[key]=value\n",
    "print(output_dict)\n",
    "\n",
    "print('#using zip in dictionary comparihansion')\n",
    "\n",
    "empty_dict={key :value for key,value in zip(state,capital)}\n",
    "print(empty_dict)\n",
    "\n",
    "\n",
    "#ingenaral \n",
    "print(list(zip(state,capital)))"
   ]
  },
  {
   "cell_type": "code",
   "execution_count": 7,
   "id": "dated-withdrawal",
   "metadata": {},
   "outputs": [
    {
     "data": {
      "text/plain": [
       "[(1, 44), (2, 33), (3, 22), (4, 44)]"
      ]
     },
     "execution_count": 7,
     "metadata": {},
     "output_type": "execute_result"
    }
   ],
   "source": [
    "a=[1,2,3,4]\n",
    "b=[44,33,22,44]\n",
    "list(zip(a,b))"
   ]
  },
  {
   "cell_type": "code",
   "execution_count": 11,
   "id": "average-unknown",
   "metadata": {},
   "outputs": [
    {
     "name": "stdout",
     "output_type": "stream",
     "text": [
      "\n",
      " using set comparihansion :\n",
      "{2, 4, 6}\n",
      "{2, 4, 6}\n"
     ]
    }
   ],
   "source": [
    "# using set comperihension\n",
    "print('\\n using set comparihansion :')\n",
    "input_list = [1, 2, 3, 4, 4, 5, 6, 6, 6, 7, 7]\n",
    "output_set=set()\n",
    "for i in input_list:\n",
    "    if i%2==0:\n",
    "        output_set.add(i)\n",
    "print(output_set)\n",
    "\n",
    "#2nd method\n",
    "set_comparihension= {var for var in input_list if var%2==0}\n",
    "print(set_comparihension)"
   ]
  },
  {
   "cell_type": "code",
   "execution_count": 12,
   "id": "engaging-ferry",
   "metadata": {},
   "outputs": [
    {
     "name": "stdout",
     "output_type": "stream",
     "text": [
      "\n",
      "output genaration \n",
      "Output values using generator comprehensions: 2 4 4 6 "
     ]
    }
   ],
   "source": [
    "print('\\noutput genaration ',)\n",
    "\"\"\"generators don’t allocate memory for the whole list\n",
    "it is like list comparihansion\"\"\"\n",
    "input_list = [1, 2, 3, 4, 4, 5, 6, 7, 7]\n",
    "output_gen = (var for var in input_list if var % 2 == 0)\n",
    "print(\"Output values using generator comprehensions:\", end = ' ')\n",
    "for var in output_gen:\n",
    "\tprint(var,end=' ')"
   ]
  },
  {
   "cell_type": "markdown",
   "id": "hidden-assembly",
   "metadata": {},
   "source": [
    "# Tutoril 162 advace finding dict"
   ]
  },
  {
   "cell_type": "code",
   "execution_count": 13,
   "id": "clear-pizza",
   "metadata": {},
   "outputs": [
    {
     "name": "stdout",
     "output_type": "stream",
     "text": [
      "{'name': 'Pam', 'age': 7}\n",
      "[{'name': 'Pam', 'age': 7}]\n",
      "{'name': 'Pam', 'age': 7}\n",
      "2\n"
     ]
    }
   ],
   "source": [
    "# Type1\n",
    "dicts = [\n",
    "    { \"name\": \"Tom\", \"age\": 10 },\n",
    "    { \"name\": \"Mark\", \"age\": 5 },\n",
    "    { \"name\": \"Pam\", \"age\": 7 },\n",
    "    { \"name\": \"Dick\", \"age\": 12 }\n",
    " ]\n",
    "print(next(item for item in dicts if item[\"name\"] == \"Pam\"))\n",
    "print(list(item for item in dicts if item[\"name\"] == \"Pam\"))\n",
    "print([item for item in dicts if item[\"name\"] == \"Pam\"][0])\n",
    "print(next(i for i, item in enumerate(dicts) if item[\"name\"] == \"Pam\"))"
   ]
  },
  {
   "cell_type": "code",
   "execution_count": 19,
   "id": "boring-timeline",
   "metadata": {},
   "outputs": [
    {
     "name": "stdout",
     "output_type": "stream",
     "text": [
      "[{'name': 'Pam', 'age': 7}]\n",
      "{'name': 'Pam', 'age': 7}\n"
     ]
    }
   ],
   "source": [
    "dicts = [\n",
    "    { \"name\": \"Tom\", \"age\": 10 },\n",
    "    { \"name\": \"Mark\", \"age\": 5 },\n",
    "    { \"name\": \"Pam\", \"age\": 7 },\n",
    "    { \"name\": \"Dick\", \"age\": 12 }\n",
    " ]\n",
    "print([item for item in dicts if item['name']=='Pam'])\n",
    "# print([item for item in dicts if item[\"name\"] == \"Pam\"][0])\n",
    "print([item for item in dicts if item['name']=='Pam'][0])\n"
   ]
  },
  {
   "cell_type": "code",
   "execution_count": 20,
   "id": "damaged-bridges",
   "metadata": {},
   "outputs": [
    {
     "name": "stdout",
     "output_type": "stream",
     "text": [
      "\n",
      "Type 2:\n",
      "[{'name': 'Pam', 'age': 7}]\n",
      "[False, False, False]\n"
     ]
    }
   ],
   "source": [
    "# type2\n",
    "print('\\nType 2:')\n",
    "people = [\n",
    "{'name': \"Tom\", 'age': 10},\n",
    "{'name': \"Mark\", 'age': 5},\n",
    "{'name': \"Pam\", 'age': 7}\n",
    "]\n",
    "print(list(filter(lambda person: person['name'] == 'Pam', people)))\n",
    "print(list(map(lambda i:i['name']=='pam',people)))"
   ]
  },
  {
   "cell_type": "code",
   "execution_count": 22,
   "id": "governmental-training",
   "metadata": {},
   "outputs": [
    {
     "name": "stdout",
     "output_type": "stream",
     "text": [
      "[{'name': 'Pam', 'age': 7}]\n"
     ]
    }
   ],
   "source": [
    "def search(name, people):\n",
    "    return [element for element in people if element['name'] == name]\n",
    "print(search(\"Pam\",people))"
   ]
  },
  {
   "cell_type": "code",
   "execution_count": 23,
   "id": "occupied-librarian",
   "metadata": {},
   "outputs": [
    {
     "name": "stdout",
     "output_type": "stream",
     "text": [
      "{'name': 'Pam', 'age': 7}\n"
     ]
    }
   ],
   "source": [
    "people = [\n",
    "{'name': \"Tom\", 'age': 10},\n",
    "{'name': \"Mark\", 'age': 5},\n",
    "{'name': \"Pam\", 'age': 7}\n",
    "]\n",
    "def search(name):\n",
    "    for p in people:\n",
    "        if p['name'] == name:\n",
    "            return p\n",
    "print(search(\"Pam\"))"
   ]
  },
  {
   "cell_type": "code",
   "execution_count": 24,
   "id": "activated-power",
   "metadata": {},
   "outputs": [
    {
     "name": "stdout",
     "output_type": "stream",
     "text": [
      "\n",
      "Type 3 : \n",
      "range(0, 3)\n",
      "What name: Tom\n",
      "{'name': 'Tom', 'age': 10}\n"
     ]
    },
    {
     "data": {
      "text/plain": [
       "\"without[0] it give output Like : \\n[{'name': 'Tom', 'age': 10}]\\n\""
      ]
     },
     "execution_count": 24,
     "metadata": {},
     "output_type": "execute_result"
    }
   ],
   "source": [
    "# type3:\n",
    "print('\\nType 3 : ')\n",
    "''' lst: list of dictionaries '''\n",
    "lst = [{\"name\": \"Tom\", \"age\": 10}, # range 0 \n",
    "       {\"name\": \"Mark\", \"age\": 5}, #range 1\n",
    "       {\"name\": \"Pam\", \"age\": 7}] #range 3\n",
    "print(range(len(lst)))\n",
    "search =input(\"What name: \") #Input name that needs to be searched (say 'Pam')\n",
    "print ([ lst[i] for i in range(len(lst)) if(lst[i][\"name\"]==search) ][0])\n",
    "\"\"\"without[0] it give output Like : \n",
    "[{'name': 'Tom', 'age': 10}]\n",
    "\"\"\""
   ]
  },
  {
   "cell_type": "code",
   "execution_count": 25,
   "id": "future-plumbing",
   "metadata": {},
   "outputs": [
    {
     "name": "stdout",
     "output_type": "stream",
     "text": [
      "whats your name:Tom\n",
      "{'name': 'Tom', 'age': 10}\n"
     ]
    },
    {
     "data": {
      "text/plain": [
       "'Slicing is similar to indexing but returns a sequence of items instead of a single item. The indices\\nused for slicing are also zero-based.slice\\nexample===[start:stop:step]'"
      ]
     },
     "execution_count": 25,
     "metadata": {},
     "output_type": "execute_result"
    }
   ],
   "source": [
    "lst = [{\"name\": \"Tom\", \"age\": 10}, {\"name\": \"Mark\", \"age\": 5}, {\"name\": \"Pam\", \"age\": 7}]\n",
    "search=input('whats your name:')\n",
    "for i in range(len(lst)):\n",
    "    if lst[i][\"name\"]==search:\n",
    "        print(lst[i])\n",
    "\"\"\"list indices must be integers or slices, not dict\"\"\"\n",
    "\"\"\"Slicing is similar to indexing but returns a sequence of items instead of a single item. The indices\n",
    "used for slicing are also zero-based.slice\n",
    "example===[start:stop:step]\"\"\"\n",
    "\n"
   ]
  },
  {
   "cell_type": "code",
   "execution_count": null,
   "id": "valid-revelation",
   "metadata": {},
   "outputs": [],
   "source": []
  },
  {
   "cell_type": "markdown",
   "id": "dietary-rehabilitation",
   "metadata": {},
   "source": [
    "# Tutorial 162 advance min max function\n",
    "* important\n",
    "* min(iterator , key)\n",
    "* max(iterator ,key)\n",
    "* key means what you want to get  you also add funcion in key \n",
    "* function=lambda variabe : iteratio in variable"
   ]
  },
  {
   "cell_type": "code",
   "execution_count": 27,
   "id": "excellent-leisure",
   "metadata": {},
   "outputs": [
    {
     "name": "stdout",
     "output_type": "stream",
     "text": [
      "maximumrakib\n",
      "abc\n",
      "using lambda expression : maximumrakib\n"
     ]
    }
   ],
   "source": [
    "def func(item):\n",
    "    return len(item)\n",
    "names=['maximumrakib','minrakib','abc']\n",
    "print(max(names,key=func))\n",
    "print(min(names,key=func))\n",
    "print('using lambda expression :',max(names,key=lambda i : len(i)))"
   ]
  },
  {
   "cell_type": "code",
   "execution_count": 31,
   "id": "measured-graduation",
   "metadata": {},
   "outputs": [
    {
     "name": "stdout",
     "output_type": "stream",
     "text": [
      "{'name': 'rakib3', 'score': 97, 'age': 22}\n",
      "rakib3\n",
      "22\n"
     ]
    }
   ],
   "source": [
    "student1=[\n",
    "    {'name':'rakib','score':90,'age':20},\n",
    "    {'name': 'rakib2', 'score': 92, 'age': 19},\n",
    "    {'name': 'rakib3', 'score': 97, 'age': 22}\n",
    "]\n",
    "print(max(student1,key=lambda i : i.get('score')))\n",
    "print(max(student1,key=lambda i : i.get('score'))['name'])\n",
    "# print(max(student1,key=lambda i : i.get('score')['age'])) #error\n",
    "print(max(student1,key=lambda i : i.get('score'))['age'])"
   ]
  },
  {
   "cell_type": "code",
   "execution_count": 32,
   "id": "informed-sweet",
   "metadata": {},
   "outputs": [
    {
     "name": "stdout",
     "output_type": "stream",
     "text": [
      "\n",
      "\n",
      "age  : ram3\n",
      "score : ram\n"
     ]
    }
   ],
   "source": [
    "student={\n",
    "    'ram':{'score':400,'age':88},\n",
    "    'ram2': {'score': 41, 'age': 89},\n",
    "    'ram3': {'score': 42, 'age': 90}\n",
    "}\n",
    "\n",
    "print('\\n')\n",
    "print('age  :',max(student,key=lambda item:student[item]['age']))\n",
    "#mind it you cant use get here\n",
    "print('score :',max(student,key=lambda item:student[item]['score']))\n",
    "#it did not give error because we use third brakect"
   ]
  },
  {
   "cell_type": "code",
   "execution_count": 35,
   "id": "present-heritage",
   "metadata": {},
   "outputs": [
    {
     "name": "stdout",
     "output_type": "stream",
     "text": [
      "{'score': 400, 'age': 88}\n"
     ]
    },
    {
     "data": {
      "text/plain": [
       "90"
      ]
     },
     "execution_count": 35,
     "metadata": {},
     "output_type": "execute_result"
    }
   ],
   "source": [
    "student={\n",
    "    'ram':{'score':400,'age':88},\n",
    "    'ram2': {'score': 41, 'age': 89},\n",
    "    'ram3': {'score': 42, 'age': 90}\n",
    "}\n",
    "print(student['ram'])\n",
    "student['ram3']['age']"
   ]
  },
  {
   "cell_type": "markdown",
   "id": "complimentary-adams",
   "metadata": {},
   "source": [
    "# Tutoril 163 advance sorting"
   ]
  },
  {
   "cell_type": "code",
   "execution_count": 36,
   "id": "ahead-juvenile",
   "metadata": {},
   "outputs": [
    {
     "name": "stdout",
     "output_type": "stream",
     "text": [
      "['a', 'b', 'c']\n",
      "['b', 'c', 'p']\n",
      "['b', 'c', 'l']\n"
     ]
    }
   ],
   "source": [
    "# you cant sort in tuple\n",
    "fruite1=['c','b','a']\n",
    "print(sorted(fruite1))\n",
    "fruite2={'c','p','b'}\n",
    "print(sorted(fruite2))\n",
    "fruite3=('c','b','l')\n",
    "print(sorted(fruite3))"
   ]
  },
  {
   "cell_type": "code",
   "execution_count": 39,
   "id": "molecular-rogers",
   "metadata": {},
   "outputs": [
    {
     "name": "stdout",
     "output_type": "stream",
     "text": [
      "[{'model': 'band 4', 'price': 3800}, {'model': 'band 3', 'price': 7000}, {'model': 'gt', 'price': 7008}]\n",
      "[{'model': 'gt', 'price': 7008}, {'model': 'band 3', 'price': 7000}, {'model': 'band 4', 'price': 3800}]\n"
     ]
    }
   ],
   "source": [
    "smart_wartch=[\n",
    "    {'model':'band 3','price':7000},\n",
    "    {'model':'band 4','price': 3800},\n",
    "    {'model': 'gt', 'price': 7008}\n",
    "]\n",
    "print(sorted(smart_wartch,key=lambda i : i['price']))\n",
    "print(sorted(smart_wartch,key=lambda i : i['price'],reverse=True))"
   ]
  },
  {
   "cell_type": "markdown",
   "id": "floppy-tender",
   "metadata": {},
   "source": [
    "# Tutorial 164 doc and help function"
   ]
  },
  {
   "cell_type": "code",
   "execution_count": 40,
   "id": "featured-extension",
   "metadata": {},
   "outputs": [
    {
     "name": "stdout",
     "output_type": "stream",
     "text": [
      "it take two argument to sum\n",
      "sum  :\n",
      " Return the sum of a 'start' value (default: 0) plus an iterable of numbers\n",
      "\n",
      "When the iterable is empty, return the start value.\n",
      "This function is intended specifically for use with numeric values and may\n",
      "reject non-numeric types.\n",
      "tuple:\n",
      " Built-in immutable sequence.\n",
      "\n",
      "If no argument is given, the constructor returns an empty tuple.\n",
      "If iterable is specified the tuple is initialized from iterable's items.\n",
      "\n",
      "If the argument is a tuple, the return value is the same object.\n",
      "len :\n",
      " Return the number of items in a container.\n",
      "Help on built-in function max in module builtins:\n",
      "\n",
      "max(...)\n",
      "    max(iterable, *[, default=obj, key=func]) -> value\n",
      "    max(arg1, arg2, *args, *[, key=func]) -> value\n",
      "    \n",
      "    With a single iterable argument, return its biggest item. The\n",
      "    default keyword-only argument specifies an object to return if\n",
      "    the provided iterable is empty.\n",
      "    With two or more arguments, return the largest argument.\n",
      "\n",
      "help(max)\n",
      ":   None\n",
      "Help on built-in function sum in module builtins:\n",
      "\n",
      "sum(iterable, /, start=0)\n",
      "    Return the sum of a 'start' value (default: 0) plus an iterable of numbers\n",
      "    \n",
      "    When the iterable is empty, return the start value.\n",
      "    This function is intended specifically for use with numeric values and may\n",
      "    reject non-numeric types.\n",
      "\n",
      "help sum \n",
      " None\n"
     ]
    }
   ],
   "source": [
    "def add(a,b):\n",
    "    '''it take two argument to sum'''\n",
    "    return a+b\n",
    "print(add.__doc__)\n",
    "\n",
    "print('sum  :\\n',sum.__doc__)\n",
    "print('tuple:\\n',tuple.__doc__)\n",
    "print('len :\\n',len.__doc__)\n",
    "\n",
    "print('help(max)\\n:  ',help(max))\n",
    "print('help sum \\n',help(sum))"
   ]
  },
  {
   "cell_type": "code",
   "execution_count": 42,
   "id": "raising-nigeria",
   "metadata": {},
   "outputs": [
    {
     "ename": "SyntaxError",
     "evalue": "invalid syntax (<ipython-input-42-54195adbe025>, line 2)",
     "output_type": "error",
     "traceback": [
      "\u001b[1;36m  File \u001b[1;32m\"<ipython-input-42-54195adbe025>\"\u001b[1;36m, line \u001b[1;32m2\u001b[0m\n\u001b[1;33m    print(help(lambda))\u001b[0m\n\u001b[1;37m                     ^\u001b[0m\n\u001b[1;31mSyntaxError\u001b[0m\u001b[1;31m:\u001b[0m invalid syntax\n"
     ]
    }
   ],
   "source": [
    "# print(lambda.__doc__) error\n",
    "# print(help(lambda)) #error"
   ]
  },
  {
   "cell_type": "markdown",
   "id": "environmental-income",
   "metadata": {},
   "source": [
    "# Tutoril 166 function as argument"
   ]
  },
  {
   "cell_type": "code",
   "execution_count": 45,
   "id": "collectible-geology",
   "metadata": {},
   "outputs": [
    {
     "name": "stdout",
     "output_type": "stream",
     "text": [
      "[64, 81, 9]\n",
      "map(func, *iterables) --> map object\n",
      "\n",
      "Make an iterator that computes the function using arguments from\n",
      "each of the iterables.  Stops when the shortest iterable is exhausted.\n"
     ]
    },
    {
     "data": {
      "text/plain": [
       "'\\nmap(function,iter)\\n'"
      ]
     },
     "execution_count": 45,
     "metadata": {},
     "output_type": "execute_result"
    }
   ],
   "source": [
    "l=[8,9,3]\n",
    "print(list(map(lambda a:a**2,l)))\n",
    "print(map.__doc__)\n",
    "\"\"\"\n",
    "map(function,iter)\n",
    "\"\"\""
   ]
  },
  {
   "cell_type": "code",
   "execution_count": 46,
   "id": "operating-restriction",
   "metadata": {},
   "outputs": [
    {
     "name": "stdout",
     "output_type": "stream",
     "text": [
      "[1, 4, 9, 16, 25]\n"
     ]
    }
   ],
   "source": [
    "def my_function(function,iterator):\n",
    "    empty=[]\n",
    "    for i in iterator:\n",
    "        empty.append(function(i))\n",
    "    return empty\n",
    "a=[1,2,3,4,5]\n",
    "print(my_function(lambda a: a**2,a))\n",
    "        "
   ]
  },
  {
   "cell_type": "code",
   "execution_count": 47,
   "id": "younger-appointment",
   "metadata": {},
   "outputs": [
    {
     "name": "stdout",
     "output_type": "stream",
     "text": [
      "[32, 36, 12]\n"
     ]
    }
   ],
   "source": [
    "# i do it with list comparihansion\n",
    "def my_map2(func,k):\n",
    "    return [func(item) for item in k]\n",
    "print(my_map2(lambda a:a*4,l))"
   ]
  },
  {
   "cell_type": "markdown",
   "id": "polish-productivity",
   "metadata": {},
   "source": [
    "# Tutorial 167 function return function"
   ]
  },
  {
   "cell_type": "code",
   "execution_count": 48,
   "id": "liquid-foster",
   "metadata": {},
   "outputs": [
    {
     "name": "stdout",
     "output_type": "stream",
     "text": [
      "this is inner function\n",
      "messege is hi im rakib\n"
     ]
    }
   ],
   "source": [
    "# important\n",
    "def outer_function():\n",
    "    def inner_function():\n",
    "        print('this is inner function')\n",
    "    return inner_function\n",
    "var=outer_function() #creating object\n",
    "var()#this is exgicution\n",
    "\n",
    "\n",
    "def outer_function2(messege):\n",
    "    def inner_function2():\n",
    "        print(f'messege is {messege}')\n",
    "    return inner_function2()\n",
    "varq=outer_function2('hi im rakib')\n"
   ]
  },
  {
   "cell_type": "code",
   "execution_count": 49,
   "id": "close-pepper",
   "metadata": {},
   "outputs": [
    {
     "name": "stdout",
     "output_type": "stream",
     "text": [
      "<zip object at 0x00000199C92A73C0>\n",
      "\n",
      "list(zip(*l)) : [(3, 8, 4, 9), (8, 9, 30, 8)]\n",
      "list l1  : [3, 8, 4, 9]\n",
      "list l2  : [8, 9, 3, 8]\n",
      "p1 : (3, 8, 4, 9)\n",
      "p2 : (8, 9, 30, 8)\n",
      "[8, 9, 4, 9]\n"
     ]
    }
   ],
   "source": [
    "# ex-1\n",
    "l1=[3,8,4,9]\n",
    "l2=[8,9,3,8]\n",
    "l=[(3,8),(8,9),(4,30),(9,8)]\n",
    "print(zip(*l))\n",
    "print('\\nlist(zip(*l)) :',list(zip(*l)))\n",
    "\n",
    "# ex-2\n",
    "p1,p2=list(zip(*l))\n",
    "print('list l1  :',list(l1))\n",
    "print('list l2  :',list(l2))\n",
    "print('p1 :',p1)\n",
    "print('p2 :',p2)\n",
    "# ex-3\n",
    "new_list=[]\n",
    "for pair in zip(l1,l2):\n",
    "    new_list.append(max(pair))\n",
    "print(new_list)\n",
    "# here pair is is as like (3,8)"
   ]
  },
  {
   "cell_type": "markdown",
   "id": "coated-front",
   "metadata": {},
   "source": [
    "# Tutorial 168"
   ]
  },
  {
   "cell_type": "code",
   "execution_count": 52,
   "id": "fresh-gasoline",
   "metadata": {},
   "outputs": [
    {
     "name": "stdout",
     "output_type": "stream",
     "text": [
      "8\n"
     ]
    }
   ],
   "source": [
    "#important\n",
    "def to_the_power(n):\n",
    "    def number(x):\n",
    "        return x**n\n",
    "    return number #don't forget to retun number\n",
    "object=to_the_power(3)\n",
    "print(object(2))"
   ]
  },
  {
   "cell_type": "markdown",
   "id": "compound-observation",
   "metadata": {},
   "source": [
    "# Tutorial 169 python decorator"
   ]
  },
  {
   "cell_type": "code",
   "execution_count": 62,
   "id": "finnish-helen",
   "metadata": {},
   "outputs": [
    {
     "name": "stdout",
     "output_type": "stream",
     "text": [
      "this is a function\n",
      "this is a function\n",
      "without object\n",
      " <function decoratio_function.<locals>.wapped_function at 0x00000199C8B7B040>\n"
     ]
    }
   ],
   "source": [
    "def decoratio_function(any_function):\n",
    "    def wapped_function():\n",
    "        print('This is awosome function')\n",
    "        any_function()\n",
    "        any_function()\n",
    "    return wapped_function\n",
    "\n",
    "def a_function():\n",
    "    print('this is a function')\n",
    "a_function()\n",
    "\n",
    "print('without object\\n',decoratio_function(a_function()))\n",
    "\n"
   ]
  },
  {
   "cell_type": "code",
   "execution_count": 65,
   "id": "concrete-anxiety",
   "metadata": {},
   "outputs": [
    {
     "name": "stdout",
     "output_type": "stream",
     "text": [
      "this is a function\n",
      "This is awosome function\n",
      "this is a function\n",
      "this is a function\n",
      "None\n"
     ]
    }
   ],
   "source": [
    "#important\n",
    "def decoration_function(any_function):\n",
    "    def wapped_function():\n",
    "        print('This is awosome function')\n",
    "        any_function()\n",
    "        any_function()\n",
    "    return wapped_function()\n",
    "\n",
    "def a_function():\n",
    "    print('this is a function')\n",
    "a_function()\n",
    "\n",
    "var=decoration_function(a_function)\n",
    "print(var)"
   ]
  },
  {
   "cell_type": "code",
   "execution_count": 68,
   "id": "valued-irrigation",
   "metadata": {},
   "outputs": [
    {
     "name": "stdout",
     "output_type": "stream",
     "text": [
      "this is a function\n"
     ]
    }
   ],
   "source": [
    "def a_function():\n",
    "    print('this is a function')\n",
    "a_function()"
   ]
  },
  {
   "cell_type": "code",
   "execution_count": 71,
   "id": "grave-charm",
   "metadata": {},
   "outputs": [
    {
     "name": "stdout",
     "output_type": "stream",
     "text": [
      "this is awasome function 2\n",
      "this is function 2\n"
     ]
    }
   ],
   "source": [
    "# shortcut method\n",
    "def decoration_function(any_function):\n",
    "    def warpped_function():\n",
    "        print('this is awasome function 2')\n",
    "        any_function()\n",
    "    return warpped_function\n",
    "\n",
    "@decoration_function\n",
    "def function2():\n",
    "\n",
    "    print('this is function 2')\n",
    "function2()\n",
    "\n"
   ]
  },
  {
   "cell_type": "markdown",
   "id": "dying-brunswick",
   "metadata": {},
   "source": [
    "# Tutorial 170 decorator with args and kwrgs"
   ]
  },
  {
   "cell_type": "code",
   "execution_count": 72,
   "id": "civilian-pennsylvania",
   "metadata": {},
   "outputs": [
    {
     "name": "stdout",
     "output_type": "stream",
     "text": [
      "awasome\n",
      "this is function 7\n",
      "awasome\n",
      "9\n"
     ]
    }
   ],
   "source": [
    "def decoration_function(any_function):\n",
    "    def warpped_function(*args,**quarks):\n",
    "        '''we gives args kwargs because function1 has a\n",
    "        argument but warpped function has no argument'''\n",
    "        print('awasome')\n",
    "        return any_function(*args,**quarks)#without it function 2 does not work\n",
    "    # please give return otherwise function2 dont work\n",
    "    return warpped_function\n",
    "\n",
    "@decoration_function\n",
    "def function1(a):\n",
    "    print(f'this is function {a}')\n",
    "function1(7)\n",
    "\n",
    "@decoration_function\n",
    "def function2(a,b):\n",
    "    return a+b\n",
    "print(function2(1,8))"
   ]
  },
  {
   "cell_type": "code",
   "execution_count": 76,
   "id": "crucial-clarity",
   "metadata": {},
   "outputs": [
    {
     "name": "stdout",
     "output_type": "stream",
     "text": [
      "some example :\n",
      "Hello\n",
      "None\n"
     ]
    }
   ],
   "source": [
    "print('some example :')\n",
    "def is_called():\n",
    "    def is_returned():\n",
    "        print(\"Hello\")\n",
    "    return is_returned\n",
    "new = is_called()\n",
    "#giving a name of function otherwise it can't work\n",
    "# Outputs \"Hello\"\n",
    "# print(is_called())\n",
    "print(new())#give () in new"
   ]
  },
  {
   "cell_type": "code",
   "execution_count": 77,
   "id": "exterior-heritage",
   "metadata": {},
   "outputs": [
    {
     "name": "stdout",
     "output_type": "stream",
     "text": [
      "\n",
      " simplyfy ordinary function\n",
      "I am ordinary\n",
      "I got decorated\n",
      "I am ordinary\n"
     ]
    }
   ],
   "source": [
    "print('\\nsimplyfy ordinary function')\n",
    "def make_pretty(func):#it is a decorator\n",
    "    def inner():\n",
    "        print(\"I got decorated\")\n",
    "        func()\n",
    "    return inner\n",
    "\n",
    "def ordinary():\n",
    "    print(\"I am ordinary\")\n",
    "ordinary()\n",
    "\n",
    "prtty=make_pretty(ordinary)\n",
    "prtty()"
   ]
  },
  {
   "cell_type": "code",
   "execution_count": 78,
   "id": "smaller-criterion",
   "metadata": {},
   "outputs": [
    {
     "name": "stdout",
     "output_type": "stream",
     "text": [
      "give a integer number : 4\n",
      "5\n"
     ]
    }
   ],
   "source": [
    "# important\n",
    "def inc(x):\n",
    "    return x+1\n",
    "def dec(x):\n",
    "    return x-1\n",
    "def pow(x):\n",
    "    return x*x\n",
    "def oparator(func,z):\n",
    "    result=func(z)#give func(x) not only func\n",
    "    return result\n",
    "n=int(input('give a integer number : '))\n",
    "print(oparator(inc,n))\n"
   ]
  },
  {
   "cell_type": "markdown",
   "id": "fitted-learning",
   "metadata": {},
   "source": [
    "# Tutorial 171 decorator in functool"
   ]
  },
  {
   "cell_type": "code",
   "execution_count": 80,
   "id": "contemporary-thriller",
   "metadata": {},
   "outputs": [
    {
     "name": "stdout",
     "output_type": "stream",
     "text": [
      "awasome\n",
      "9\n"
     ]
    }
   ],
   "source": [
    "from functools import wraps\n",
    "def decoration_function(any_function):\n",
    "    @wraps(any_function)\n",
    "    def warpped_function(*args,**quarks):\n",
    "        '''this is warps function'''\n",
    "        print('awasome')\n",
    "        return any_function(*args,**quarks)\n",
    "    # please give return otherwise function2 dont work\n",
    "    return warpped_function\n",
    "\n",
    "@decoration_function\n",
    "def function2(a,b):\n",
    "    '''this is add function'''\n",
    "    return a+b\n",
    "print(function2(1,8))\n"
   ]
  },
  {
   "cell_type": "code",
   "execution_count": 81,
   "id": "sorted-yellow",
   "metadata": {},
   "outputs": [
    {
     "name": "stdout",
     "output_type": "stream",
     "text": [
      "this is warps function\n",
      "warpped_function\n"
     ]
    }
   ],
   "source": [
    "# important\n",
    "print(function2.__doc__)\n",
    "print(function2.__name__)"
   ]
  },
  {
   "cell_type": "markdown",
   "id": "wicked-channels",
   "metadata": {},
   "source": [
    "# tutorial 172 decorator exercise"
   ]
  },
  {
   "cell_type": "code",
   "execution_count": 86,
   "id": "falling-organization",
   "metadata": {
    "scrolled": true
   },
   "outputs": [
    {
     "name": "stdout",
     "output_type": "stream",
     "text": [
      "you are calling it take two number to sum\n",
      "you are calling add\n",
      "8\n"
     ]
    }
   ],
   "source": [
    "from functools import wraps\n",
    "\n",
    "def function_data(function):\n",
    "    @wraps(function)\n",
    "    def wapper_function(*args,**kwargs):\n",
    "        print(f'you are calling {function.__doc__}')\n",
    "        print(f'you are calling {function.__name__}')\n",
    "        return function(*args,**kwargs)\n",
    "    return wapper_function\n",
    "\n",
    "@function_data\n",
    "def add(a,b):\n",
    "    '''it take two number to sum'''\n",
    "    return a+b\n",
    "print(add(1,7))\n",
    "    "
   ]
  },
  {
   "cell_type": "code",
   "execution_count": 84,
   "id": "searching-channel",
   "metadata": {},
   "outputs": [
    {
     "name": "stdout",
     "output_type": "stream",
     "text": [
      "you are calling it take two number to sum\n",
      "add\n",
      "8\n"
     ]
    }
   ],
   "source": [
    "from functools import wraps\n",
    "def function_data(function):\n",
    "    @wraps(function)\n",
    "    def wappers(*args,**quarks):\n",
    "        print(f'you are calling {function.__doc__}')\n",
    "        print(f'{function.__name__}')\n",
    "        return function(*args,**quarks)# this function call add function\n",
    "    return wappers\n",
    "\n",
    "@function_data\n",
    "def add(a,b):\n",
    "    '''it take two number to sum'''\n",
    "    return a+b\n",
    "print(add(1,7))\n"
   ]
  },
  {
   "cell_type": "markdown",
   "id": "residential-verse",
   "metadata": {},
   "source": [
    "# Tutorial 174 exercise"
   ]
  },
  {
   "cell_type": "code",
   "execution_count": 104,
   "id": "impaired-header",
   "metadata": {},
   "outputs": [
    {
     "name": "stdout",
     "output_type": "stream",
     "text": [
      "exicutig square_number\n",
      "it total take 0.0 second\n",
      "[1, 2, 3, 4, 5, 6, 7, 8, 9, 10]\n"
     ]
    }
   ],
   "source": [
    "from functools import wraps\n",
    "import time\n",
    "\n",
    "def caluclate_time(function):\n",
    "    @wraps(function)\n",
    "    def wapper_function(*args,**kwargs):\n",
    "        print(f'exicutig {function.__name__}')\n",
    "        t1=time.time()\n",
    "        return_function= function(*args ,**kwargs)\n",
    "        t2=time.time()\n",
    "        total_time=t2-t1\n",
    "        print(f'it total take {round(total_time,20)} second')\n",
    "        return return_function\n",
    "    return wapper_function\n",
    "\n",
    "@caluclate_time\n",
    "def square_number(n):\n",
    "    return [i for i in range(1,n+1)]\n",
    "print(square_number(10))"
   ]
  },
  {
   "cell_type": "markdown",
   "id": "coral-prague",
   "metadata": {},
   "source": [
    "# Tutorial 175 decorator exercise"
   ]
  },
  {
   "cell_type": "code",
   "execution_count": 105,
   "id": "varying-conversation",
   "metadata": {},
   "outputs": [
    {
     "name": "stdout",
     "output_type": "stream",
     "text": [
      "45\n"
     ]
    }
   ],
   "source": [
    "from functools import wraps\n",
    "def only_int(function):\n",
    "    @wraps(function)\n",
    "    def warps(*args,**kwargs):\n",
    "        # shortcut\n",
    "        if all(type(i)==int for i in args):\n",
    "            return function(*args,**kwargs)\n",
    "        else:\n",
    "            return 'error'\n",
    "    return warps\n",
    "\n",
    "@only_int\n",
    "def add_number(*args):\n",
    "    total=0\n",
    "    for i in args:\n",
    "        total+=i\n",
    "    return total\n",
    "print(add_number(1,2,3,4,5,6,7,8,9))"
   ]
  },
  {
   "cell_type": "code",
   "execution_count": 1,
   "id": "severe-portsmouth",
   "metadata": {},
   "outputs": [
    {
     "name": "stdout",
     "output_type": "stream",
     "text": [
      "HI, I AM CREATED BY A FUNCTION PASSED AS AN ARGUMENT.\n",
      "hi, i am created by a function passed as an argument.\n"
     ]
    }
   ],
   "source": [
    "# Python program to illustrate functions\n",
    "# can be passed as arguments to other functions\n",
    "def shout(text):\n",
    "\treturn text.upper()\n",
    "\n",
    "def whisper(text):\n",
    "\treturn text.lower()\n",
    "\n",
    "def greet(func):\n",
    "\t# storing the function in a variable\n",
    "\tgreeting = func(\"\"\"Hi, I am created by a function passed as an argument.\"\"\")\n",
    "\tprint (greeting)\n",
    "\n",
    "greet(shout)\n",
    "greet(whisper)\n"
   ]
  },
  {
   "cell_type": "markdown",
   "id": "corresponding-thesis",
   "metadata": {},
   "source": [
    "![](decorators_step.png)"
   ]
  },
  {
   "cell_type": "markdown",
   "id": "representative-winter",
   "metadata": {},
   "source": [
    "![](decorators_step2.png)"
   ]
  },
  {
   "cell_type": "markdown",
   "id": "bound-pulse",
   "metadata": {},
   "source": [
    "![](Python-Decorators-Explained.png)"
   ]
  },
  {
   "cell_type": "markdown",
   "id": "classical-worship",
   "metadata": {},
   "source": [
    "![](Decorator-4.png)"
   ]
  },
  {
   "cell_type": "code",
   "execution_count": 8,
   "id": "intimate-maple",
   "metadata": {},
   "outputs": [
    {
     "name": "stdout",
     "output_type": "stream",
     "text": [
      "exicuting now \n",
      "rakib is a genaral boy\n",
      "exicuted\n"
     ]
    }
   ],
   "source": [
    "# important\n",
    "def decorator(func1):\n",
    "    def now_exicute():\n",
    "        print('exicuting now ')\n",
    "        func1()\n",
    "        print('exicuted')\n",
    "    return now_exicute\n",
    "@decorator\n",
    "def who_is_rakib():\n",
    "    print('rakib is a genaral boy')\n",
    "    \n",
    "# obj=decorator(who_is_rakib)  ''' without object we can write that @decorator'''\n",
    "obj()"
   ]
  },
  {
   "cell_type": "code",
   "execution_count": 5,
   "id": "composed-vulnerability",
   "metadata": {},
   "outputs": [
    {
     "name": "stdout",
     "output_type": "stream",
     "text": [
      "Before function execution\n",
      "This is inside the function\n",
      "After function execution\n"
     ]
    }
   ],
   "source": [
    "def inner1(func): \n",
    "    def inner2():\n",
    "        print(\"Before function execution\"); \n",
    "        func() \n",
    "        print(\"After function execution\")    \n",
    "    return inner2 \n",
    "\n",
    "@inner1\n",
    "def function_to_be_used(): \n",
    "    print(\"This is inside the function\") \n",
    "\n",
    "\n",
    "function_to_be_used()  "
   ]
  },
  {
   "cell_type": "code",
   "execution_count": 2,
   "id": "documented-gates",
   "metadata": {},
   "outputs": [
    {
     "data": {
      "text/plain": [
       "'rakibhasan'"
      ]
     },
     "execution_count": 2,
     "metadata": {},
     "output_type": "execute_result"
    }
   ],
   "source": [
    "# important exercise\n",
    "from functools import wraps\n",
    "def all_type_data(type):\n",
    "    def decorator(function):\n",
    "        @wraps(function)\n",
    "        def warper_function(*args,**kwargs):\n",
    "            if ([type(i)==type for i in args]):\n",
    "                return function(*args,**kwargs)\n",
    "            print('error  value')\n",
    "        return warper_function\n",
    "    return decorator\n",
    "\n",
    "@all_type_data(str)\n",
    "def string(*args):\n",
    "    empty_string=''\n",
    "    for i in args:\n",
    "        empty_string += i\n",
    "    return empty_string\n",
    "\n",
    "string('rakib','hasan')"
   ]
  },
  {
   "cell_type": "markdown",
   "id": "architectural-courtesy",
   "metadata": {},
   "source": [
    "# Tutorial 177 python generator\n",
    "* genarator is itarators\n",
    "* itarable ---> loop ---> iter ---> itarator\n",
    "* map function is direct itarator*\n",
    "* why we use genarator?\n",
    "* 1.genarator use one cherecter in one time\n",
    "* 2.it save memory\n",
    "* 3.it take low time\n",
    "* 4.it  is genarally use in non-sequance\n",
    "\n",
    "![](409239e5-8478-42c2-8448-2c548ad18fcd.jfif)"
   ]
  },
  {
   "cell_type": "code",
   "execution_count": null,
   "id": "surprised-chinese",
   "metadata": {},
   "outputs": [],
   "source": [
    "\"\"\"Comparison Between Python Generator vs Iterator\n",
    "Let’s see the difference between Iterators and Generators in python.\n",
    "\n",
    "In creating a python generator, we use a function. But in creating an iterator in python, we use the iter() and next() functions.\n",
    "A generator in python makes use of the ‘yield’ keyword. A python iterator doesn’t.\n",
    "Python generator saves the states of the local variables every time ‘yield’ pauses the loop in python. An iterator does not make use of local variables, all it needs is iterable to iterate on.\n",
    "A generator may have any number of ‘yield’ statements.\n",
    "You can implement your own iterator using a python class;\n",
    "a generator does not need a class in python.\n",
    "To write a python generator, you can either use a Python function or a comprehension. \n",
    "But for an iterator, you must use the iter() and next() functions.\n",
    "Generator in python let us write fast and compact code. This is an advantage over Python iterators. They are also simpler to code than do custom iterator.\n",
    "Python iterator is more memory-efficient. \n",
    "\"\"\"\n"
   ]
  },
  {
   "cell_type": "markdown",
   "id": "subject-thesaurus",
   "metadata": {},
   "source": [
    "# Tutorial 168 python genarator"
   ]
  },
  {
   "cell_type": "code",
   "execution_count": 3,
   "id": "female-consciousness",
   "metadata": {},
   "outputs": [
    {
     "name": "stdout",
     "output_type": "stream",
     "text": [
      "1\n",
      "2\n",
      "3\n",
      "4\n",
      "5\n",
      "6\n",
      "7\n",
      "8\n",
      "9\n",
      "10\n"
     ]
    }
   ],
   "source": [
    "def num(m):\n",
    "    for i in range(1,m+1):\n",
    "        yield(i)\n",
    "numbers= num(10) # here it is genarator\n",
    "\n",
    "for i in numbers:\n",
    "    print(i)\n",
    "for i in numbers:\n",
    "    print(i)\n",
    "for i in numbers:\n",
    "    print(i)\n",
    "#genarator make one item in one time and delete these item that is memory efficient\n",
    "#we use genarator as a list but it is not memory efficient and take more time"
   ]
  },
  {
   "cell_type": "code",
   "execution_count": 5,
   "id": "clinical-heath",
   "metadata": {},
   "outputs": [
    {
     "name": "stdout",
     "output_type": "stream",
     "text": [
      "1\n",
      "2\n",
      "3\n",
      "4\n",
      "5\n",
      "6\n",
      "7\n",
      "8\n",
      "9\n",
      "10\n"
     ]
    },
    {
     "ename": "TypeError",
     "evalue": "'NoneType' object is not iterable",
     "output_type": "error",
     "traceback": [
      "\u001b[1;31m---------------------------------------------------------------------------\u001b[0m",
      "\u001b[1;31mTypeError\u001b[0m                                 Traceback (most recent call last)",
      "\u001b[1;32m<ipython-input-5-366559a077f6>\u001b[0m in \u001b[0;36m<module>\u001b[1;34m\u001b[0m\n\u001b[0;32m      4\u001b[0m \u001b[0mnumbers\u001b[0m\u001b[1;33m=\u001b[0m \u001b[0mnum\u001b[0m\u001b[1;33m(\u001b[0m\u001b[1;36m10\u001b[0m\u001b[1;33m)\u001b[0m \u001b[1;31m# here it is genarator\u001b[0m\u001b[1;33m\u001b[0m\u001b[1;33m\u001b[0m\u001b[0m\n\u001b[0;32m      5\u001b[0m \u001b[1;33m\u001b[0m\u001b[0m\n\u001b[1;32m----> 6\u001b[1;33m \u001b[1;32mfor\u001b[0m \u001b[0mi\u001b[0m \u001b[1;32min\u001b[0m \u001b[0mnumbers\u001b[0m\u001b[1;33m:\u001b[0m\u001b[1;33m\u001b[0m\u001b[1;33m\u001b[0m\u001b[0m\n\u001b[0m\u001b[0;32m      7\u001b[0m     \u001b[0mprint\u001b[0m\u001b[1;33m(\u001b[0m\u001b[0mi\u001b[0m\u001b[1;33m)\u001b[0m\u001b[1;33m\u001b[0m\u001b[1;33m\u001b[0m\u001b[0m\n\u001b[0;32m      8\u001b[0m \u001b[1;32mfor\u001b[0m \u001b[0mi\u001b[0m \u001b[1;32min\u001b[0m \u001b[0mnumbers\u001b[0m\u001b[1;33m:\u001b[0m\u001b[1;33m\u001b[0m\u001b[1;33m\u001b[0m\u001b[0m\n",
      "\u001b[1;31mTypeError\u001b[0m: 'NoneType' object is not iterable"
     ]
    }
   ],
   "source": [
    "def num(m):\n",
    "    for i in range(1,m+1):\n",
    "        print(i)\n",
    "numbers= num(10) \n",
    "\n",
    "for i in numbers:\n",
    "    print(i)\n",
    "for i in numbers:\n",
    "    print(i)\n",
    "for i in numbers:\n",
    "    print(i)"
   ]
  },
  {
   "cell_type": "markdown",
   "id": "military-homeless",
   "metadata": {},
   "source": [
    "# Tutorial 180 exercise"
   ]
  },
  {
   "cell_type": "code",
   "execution_count": 6,
   "id": "variable-february",
   "metadata": {},
   "outputs": [
    {
     "name": "stdout",
     "output_type": "stream",
     "text": [
      "2\n",
      "4\n",
      "6\n",
      "8\n",
      "10\n",
      "----------------------------\n",
      "2\n",
      "4\n",
      "6\n",
      "8\n",
      "10\n",
      "12\n",
      "14\n",
      "16\n",
      "18\n",
      "20\n"
     ]
    }
   ],
   "source": [
    "def even_genarator(n):\n",
    "    for i in range(1,n+1):\n",
    "     if i%2==0:\n",
    "        yield(i)\n",
    "even_number=even_genarator(10)\n",
    "for i in even_number:\n",
    "    print(i)\n",
    "\n",
    "\n",
    "print('----------------------------')\n",
    "for i in even_genarator(20):\n",
    "    print(i)"
   ]
  },
  {
   "cell_type": "markdown",
   "id": "married-ground",
   "metadata": {},
   "source": [
    "# Tutorial 182 Genarator comparihansion"
   ]
  },
  {
   "cell_type": "code",
   "execution_count": 5,
   "id": "rising-toddler",
   "metadata": {},
   "outputs": [
    {
     "name": "stdout",
     "output_type": "stream",
     "text": [
      "<generator object <genexpr> at 0x000001E357E4A970>\n",
      "1\n",
      "4\n",
      "9\n",
      "16\n",
      "25\n",
      "36\n",
      "49\n",
      "64\n",
      "81\n",
      "100\n"
     ]
    }
   ],
   "source": [
    "#important\n",
    "squre=(i**2 for i in range(1,11))\n",
    "print((squre))\n",
    "\n",
    "for num in squre:\n",
    "    print(num)\n",
    "for num in squre:\n",
    "    print(num)"
   ]
  },
  {
   "cell_type": "markdown",
   "id": "indian-flight",
   "metadata": {},
   "source": [
    "# Tutorial 182 list Vs genarator"
   ]
  },
  {
   "cell_type": "code",
   "execution_count": 8,
   "id": "secondary-diary",
   "metadata": {},
   "outputs": [
    {
     "name": "stdout",
     "output_type": "stream",
     "text": [
      "0.00697779655456543\n",
      "0.0\n"
     ]
    }
   ],
   "source": [
    "import time\n",
    "\n",
    "t1=time.time()\n",
    "list=[i for i in range(100000)]\n",
    "print(time.time()-t1)\n",
    "\n",
    "t2=time.time()\n",
    "generator=(i for i in range(100000))\n",
    "print(time.time()-t2)\n"
   ]
  },
  {
   "cell_type": "markdown",
   "id": "hidden-adult",
   "metadata": {},
   "source": [
    "# Tutorial 183 object orianted programming"
   ]
  },
  {
   "cell_type": "code",
   "execution_count": null,
   "id": "catholic-yemen",
   "metadata": {},
   "outputs": [],
   "source": [
    "# l=[1,2,3]\n",
    "# l.append(7)\n",
    "# class---> list\n",
    "# object---->\n",
    "# method---->append"
   ]
  },
  {
   "cell_type": "markdown",
   "id": "pleased-april",
   "metadata": {},
   "source": [
    "# Tutorial 184 first class"
   ]
  },
  {
   "cell_type": "code",
   "execution_count": 10,
   "id": "endangered-white",
   "metadata": {},
   "outputs": [
    {
     "name": "stdout",
     "output_type": "stream",
     "text": [
      "instantly called :-\n",
      "instantly called :-\n",
      "p1--> <__main__.parson object at 0x000001E357DD7DC0>\n",
      "p2--> <__main__.parson object at 0x000001E357DD7550>\n",
      "rakib\n",
      "mia\n"
     ]
    }
   ],
   "source": [
    "class parson:\n",
    "    def __init__(self,f_name,l_name,age):\n",
    "        print('instantly called :-')\n",
    "        self.first_name=f_name\n",
    "        self.last_name=l_name\n",
    "        self.age=age\n",
    "        \n",
    "p1=parson('rakib','hasan',20)\n",
    "p2=parson('sabuj','mia',23)\n",
    "\n",
    "print('p1-->',p1)\n",
    "print('p2-->',p2)\n",
    "\n",
    "print(p1.first_name)\n",
    "print(p2.last_name)"
   ]
  },
  {
   "cell_type": "markdown",
   "id": "optical-schedule",
   "metadata": {},
   "source": [
    "# tutorial 186"
   ]
  },
  {
   "cell_type": "code",
   "execution_count": 11,
   "id": "bearing-thesaurus",
   "metadata": {},
   "outputs": [
    {
     "name": "stdout",
     "output_type": "stream",
     "text": [
      "lenovo\n",
      "30000\n",
      "lenovo dx19\n"
     ]
    }
   ],
   "source": [
    "class leptop:\n",
    "    def __init__(self,brand,model,price):\n",
    "        self.brand=brand\n",
    "        self.model=model\n",
    "        self.price=price\n",
    "        self.laptop=brand + ' '+ model\n",
    "p1=leptop('lenovo','dx19',30000)\n",
    "print(p1.brand)\n",
    "print(p1.price)\n",
    "print(p1.laptop)"
   ]
  },
  {
   "cell_type": "markdown",
   "id": "dangerous-lafayette",
   "metadata": {},
   "source": [
    "# Tutorial 187 python instance method"
   ]
  },
  {
   "cell_type": "code",
   "execution_count": 20,
   "id": "decimal-rescue",
   "metadata": {},
   "outputs": [
    {
     "name": "stdout",
     "output_type": "stream",
     "text": [
      "rakib hasan\n",
      "rakib hasan\n",
      "True\n"
     ]
    }
   ],
   "source": [
    "# instance method and object is same\n",
    "# inside class is called is method\n",
    "class person:\n",
    "    def __init__(self,f_name,l_name,age):\n",
    "        self.l_name=l_name\n",
    "        self.f_name=f_name\n",
    "        self.age=age\n",
    "    def full_name(self): # without self it give positional error\n",
    "        return f'{self.f_name} {self.l_name}'\n",
    "    def set_age(self):\n",
    "        return self.age > 18\n",
    "    \n",
    "p1=person('rakib','hasan','21')\n",
    "p2=person('sabuj','mia',25)\n",
    "\n",
    "print(p1.full_name())\n",
    "\n",
    "# inside python function\n",
    "print(person.full_name(p1))\n",
    "\n",
    "print(p2.set_age())"
   ]
  },
  {
   "cell_type": "markdown",
   "id": "greater-silicon",
   "metadata": {},
   "source": [
    "# tutorial 189 exercise"
   ]
  },
  {
   "cell_type": "code",
   "execution_count": 24,
   "id": "cutting-intensity",
   "metadata": {},
   "outputs": [
    {
     "name": "stdout",
     "output_type": "stream",
     "text": [
      "108000.0\n"
     ]
    }
   ],
   "source": [
    "class leptop:\n",
    "    def __init__(self,brand,model,price):\n",
    "        self.brand=brand\n",
    "        self.model=model\n",
    "        self.price=price\n",
    "        self.laptop=brand + ' '+ model\n",
    "    def discount(self,percentage): # giving self.price()\n",
    "        off_price=(self.price/100)*percentage\n",
    "        return self.price-off_price\n",
    "    \n",
    "leptop_model=leptop('Apple','Air M1',120000)\n",
    "print(leptop_model.discount(10))"
   ]
  },
  {
   "cell_type": "markdown",
   "id": "nominated-indiana",
   "metadata": {},
   "source": [
    "# Tutorial 190 class variable"
   ]
  },
  {
   "cell_type": "code",
   "execution_count": 25,
   "id": "separated-hours",
   "metadata": {},
   "outputs": [
    {
     "name": "stdout",
     "output_type": "stream",
     "text": [
      "25.1328\n",
      "31.416\n"
     ]
    }
   ],
   "source": [
    "# class variable shere with eatch other\n",
    "class circle:\n",
    "    pi=3.1416\n",
    "    def __init__(self,radius):\n",
    "        self.radius=radius\n",
    "        \n",
    "    def cal_circumfarance(self):\n",
    "        return 2*circle.pi*self.radius\n",
    "    \n",
    "c=circle(4)\n",
    "c1=circle(5)\n",
    "print(c.cal_circumfarance())\n",
    "print(c1.cal_circumfarance())"
   ]
  },
  {
   "cell_type": "markdown",
   "id": "infectious-marriage",
   "metadata": {},
   "source": [
    "# Tutotrial 193 exercise\n"
   ]
  },
  {
   "cell_type": "code",
   "execution_count": 1,
   "id": "becoming-candle",
   "metadata": {},
   "outputs": [
    {
     "name": "stdout",
     "output_type": "stream",
     "text": [
      "3\n"
     ]
    }
   ],
   "source": [
    "#important\n",
    "class person:\n",
    "    count=0\n",
    "    def __init__(self,f_name,l_name):\n",
    "        person.count += 1\n",
    "        self.first_name=f_name\n",
    "        self.last_name=l_name\n",
    "\n",
    "p1=person('rakib','hasan')\n",
    "p2=person('rakib1','hasan1')\n",
    "p3=person('rakib2','hasan2')\n",
    "print(person.count)\n",
    "        "
   ]
  },
  {
   "cell_type": "markdown",
   "id": "allied-dominant",
   "metadata": {},
   "source": [
    "# tutorial 194"
   ]
  },
  {
   "cell_type": "code",
   "execution_count": 3,
   "id": "linear-cleaner",
   "metadata": {},
   "outputs": [
    {
     "name": "stdout",
     "output_type": "stream",
     "text": [
      "you call 2 of person\n"
     ]
    }
   ],
   "source": [
    "#important\n",
    "class person:\n",
    "    count_instance = 0\n",
    "    def __init__(self,f_name,l_name,age):\n",
    "        person.count_instance += 1\n",
    "        self.f_name = f_name\n",
    "        self.l_name = l_name\n",
    "        self.age = age\n",
    "    @classmethod\n",
    "    def count_number(cls):\n",
    "        return f'you call {cls.count_instance} of {cls.__name__}'\n",
    "    def full_name(self):\n",
    "        return f'{self.f_name} {self.l_name}'\n",
    "\n",
    "    def age_above(self):\n",
    "        return self.age > 18\n",
    "\n",
    "p1 = person('rakib','hasan','99')\n",
    "p2 = person('sabuj','mia','90')\n",
    "\n",
    "print(person.count_number())\n"
   ]
  },
  {
   "cell_type": "markdown",
   "id": "functioning-prayer",
   "metadata": {},
   "source": [
    "# Tutorial 195 class method as a constractor"
   ]
  },
  {
   "cell_type": "code",
   "execution_count": 4,
   "id": "million-insurance",
   "metadata": {},
   "outputs": [
    {
     "name": "stdout",
     "output_type": "stream",
     "text": [
      "The name is :  Geeksforgeeks\n"
     ]
    }
   ],
   "source": [
    "# Python program to understand the classmethod\n",
    "\n",
    "class Student:\n",
    "\t\n",
    "\t# create a variable\n",
    "\tname = \"Geeksforgeeks\"\n",
    "\t\n",
    "\t# create a function\n",
    "\tdef print_name(obj):\n",
    "\t\tprint(\"The name is : \", obj.name)\n",
    "\t\t\n",
    "# create print_name classmethod\n",
    "# before creating this line print_name()\n",
    "# It can be called only with object not with class\n",
    "Student.print_name = classmethod(Student.print_name)\n",
    "\n",
    "# now this method can be called as classmethod\n",
    "# print_name() method is called a class method\n",
    "Student.print_name()\n"
   ]
  },
  {
   "cell_type": "code",
   "execution_count": null,
   "id": "outside-party",
   "metadata": {},
   "outputs": [],
   "source": [
    "\"\"\"\n",
    "class as a constructor meanning i want to make my own object\n",
    "here init is a constructor\n",
    "init has his own way to make a construcktor\n",
    "so i need a constructot that halpfully make a constructor\n",
    "as i want to print a object\n",
    "\"\"\""
   ]
  },
  {
   "cell_type": "code",
   "execution_count": 8,
   "id": "english-garage",
   "metadata": {},
   "outputs": [
    {
     "name": "stdout",
     "output_type": "stream",
     "text": [
      "rakib    mia  21\n"
     ]
    }
   ],
   "source": [
    "class person:\n",
    "    i=0\n",
    "    def __init__(self,f_name,l_name,age):\n",
    "        person.i += 1\n",
    "        self.f_name=f_name\n",
    "        self.l_name=l_name\n",
    "        self.new_age=age\n",
    "    @classmethod\n",
    "    def from_string(cls,string):\n",
    "        first,last,age=string.split(',')\n",
    "        return cls(first,last,age)  # this create object\n",
    "    \n",
    "    def full_name(self):\n",
    "        return f'{self.f_name}  {self.l_name} {self.new_age}'\n",
    "\n",
    "p=person.from_string('rakib , mia ,21')\n",
    "print(p.full_name())"
   ]
  },
  {
   "cell_type": "markdown",
   "id": "alone-decision",
   "metadata": {},
   "source": [
    "# Tutorial 196 python stastic method"
   ]
  },
  {
   "cell_type": "markdown",
   "id": "pointed-princess",
   "metadata": {},
   "source": [
    "* A class method takes cls as first parameter while a static method needs no specific parameters.\n",
    "* A class method can access or modify class state while a static method can’t access or modify it.\n",
    "* In general, static methods know nothing about class state. They are utility type methods that take some parameters and work upon those parameters. On the other hand class methods must have class as parameter.\n",
    "* We use @classmethod decorator in python to create a class method and we use @staticmethod decorator to create a static method in python."
   ]
  },
  {
   "cell_type": "code",
   "execution_count": 12,
   "id": "specified-peace",
   "metadata": {},
   "outputs": [
    {
     "name": "stdout",
     "output_type": "stream",
     "text": [
      "hello this is static method\n",
      "True\n"
     ]
    }
   ],
   "source": [
    "class person:\n",
    "    i = 0\n",
    "\n",
    "    def __init__(self,f_name,l_name,age) :\n",
    "\n",
    "        person.i += 1\n",
    "        self.f_name=f_name\n",
    "        self.l_name=l_name\n",
    "        self.age=age\n",
    "        \n",
    "    @staticmethod\n",
    "    def hello():\n",
    "        return ('hello this is static method')\n",
    "        \n",
    "    @staticmethod\n",
    "    def is_adult_age(age):\n",
    "        return age >18\n",
    "        \n",
    "\n",
    "print(person.hello())\n",
    "print(person.is_adult_age(20))\n"
   ]
  },
  {
   "cell_type": "code",
   "execution_count": 13,
   "id": "aggregate-action",
   "metadata": {},
   "outputs": [
    {
     "name": "stdout",
     "output_type": "stream",
     "text": [
      "Is person adult: False\n",
      "\n",
      "Is person adult: True\n"
     ]
    }
   ],
   "source": [
    "# Python program to\n",
    "# demonstrate static methods\n",
    "\n",
    "class Person:\n",
    "\tdef __init__(self, name, age):\n",
    "\t\tself.name = name\n",
    "\t\tself.age = age\n",
    "\t\t\n",
    "\t# a static method to check if a Person is adult or not.\n",
    "\t@staticmethod\n",
    "\tdef isAdult(age):\n",
    "\t\treturn age > 18\n",
    "\t\t\n",
    "# Driver's code\n",
    "if __name__ == \"__main__\":\n",
    "\tres = Person.isAdult(12)\n",
    "\tprint('Is person adult:', res)\n",
    "\t\n",
    "\tres = Person.isAdult(22)\n",
    "\tprint('\\nIs person adult:', res)\n"
   ]
  },
  {
   "cell_type": "markdown",
   "id": "center-korea",
   "metadata": {},
   "source": [
    "# Tutorial 197 encapsulation abstraction mangling\n",
    "*   _name=convension of private name\n",
    "*  __name__=dunder/magic method/\n",
    "*   __name=it is not a convension it is called name changer"
   ]
  },
  {
   "cell_type": "code",
   "execution_count": 16,
   "id": "prescription-spouse",
   "metadata": {},
   "outputs": [
    {
     "name": "stdout",
     "output_type": "stream",
     "text": [
      "10000\n",
      "800\n"
     ]
    }
   ],
   "source": [
    "#important\n",
    "class phone:\n",
    "    def __init__(self,brand,model,price):\n",
    "        self.brand=brand\n",
    "        self.model=model\n",
    "        self.__price=price\n",
    "\n",
    "    def make_a_call(self,phone_number):\n",
    "        print(f'calling {phone_number} ....')\n",
    "\n",
    "    def full_name(self):\n",
    "        return f'{self.brand}  {self.model}'\n",
    "\n",
    "    def send_a_message(self):\n",
    "        pass #twlio\n",
    "phone1=phone('nokia','123b',10000)\n",
    "\n",
    "# print(phone1.__price) #giving error\n",
    "\n",
    "print(phone1._phone__price)\n",
    "\n",
    "phone1._phone__price=800\n",
    "\n",
    "print(phone1._phone__price)\n",
    "\n",
    "# _name=convension of private name\n",
    "#__name__=dunder/magic method/\n",
    "# __name=it is not a convension it is called name changer\n"
   ]
  },
  {
   "cell_type": "markdown",
   "id": "medieval-opera",
   "metadata": {},
   "source": [
    "# Tutorial 198 getter setter method\n",
    "\n",
    "* topic:property shatter and decorator\n",
    "* topic:getter and setter method\n",
    "* Python program showing a use\n",
    "* of get() and set() method in\n",
    "* normal function"
   ]
  },
  {
   "cell_type": "code",
   "execution_count": 34,
   "id": "flush-treatment",
   "metadata": {},
   "outputs": [
    {
     "name": "stdout",
     "output_type": "stream",
     "text": [
      "get age 21\n",
      "21\n"
     ]
    }
   ],
   "source": [
    "class people:\n",
    "    def __init__(self,age=0):\n",
    "        self.new_age=age\n",
    "    #getter age\n",
    "    def get_age(self):\n",
    "        return self.new_age\n",
    "    \n",
    "    #setter\n",
    "    def set_age(self,x):\n",
    "        self.new_age = x # do't use return and use = not ==\n",
    "raj=people()\n",
    "raj.set_age(21)\n",
    "print('get age',raj.get_age())\n",
    "print(raj.new_age)\n",
    "# print(raj.set_age())"
   ]
  },
  {
   "cell_type": "code",
   "execution_count": null,
   "id": "documented-standing",
   "metadata": {},
   "outputs": [],
   "source": [
    "# here we use property function so that function can update itself"
   ]
  },
  {
   "cell_type": "code",
   "execution_count": 45,
   "id": "handy-lotus",
   "metadata": {},
   "outputs": [
    {
     "name": "stdout",
     "output_type": "stream",
     "text": [
      "8000\n",
      "nokia  123b and price is 8000\n",
      "nokia  123b\n"
     ]
    }
   ],
   "source": [
    "class phone:\n",
    "    def __init__(self,brand,model,price):\n",
    "        self.brand=brand\n",
    "        self.model=model\n",
    "        self._price=max(price,0) # please give _ \n",
    "        \n",
    "    @property\n",
    "    # function can update itself\n",
    "    def complete_specification(self):\n",
    "        return f\"{self.brand}  {self.model} and price is {self.price}\"\n",
    "    # if you give self._price it will not chage it value\n",
    "    \n",
    "    @property\n",
    "    def get_price(self):\n",
    "        return self._price\n",
    "    \n",
    "    @get_price.setter\n",
    "    def set_price(self,new_price):\n",
    "        self._price=max(new_price,0)\n",
    "    \n",
    "    def full_name(self):\n",
    "        return f'{self.brand}  {self.model}'\n",
    "    \n",
    "phone1=phone('nokia','123b',10000)\n",
    "phone1.price=8000\n",
    "print(phone1.price)\n",
    "print(phone1.complete_specification)\n",
    "\n",
    "print(phone1.full_name())\n"
   ]
  },
  {
   "cell_type": "code",
   "execution_count": null,
   "id": "assumed-foundation",
   "metadata": {},
   "outputs": [],
   "source": [
    "# from grek for greek website\n",
    "# use of property() function\n",
    "\n",
    "class Geeks:\n",
    "\tdef __init__(self):\n",
    "\t\tself._age = 0\n",
    "\t\n",
    "\t# function to get value of _age\n",
    "\tdef get_age(self):\n",
    "\t\tprint(\"getter method called\")\n",
    "\t\treturn self._age\n",
    "\t\n",
    "\t# function to set value of _age\n",
    "\tdef set_age(self, a):\n",
    "\t\tprint(\"setter method called\")\n",
    "\t\tself._age = a\n",
    "\n",
    "\t# function to delete _age attribute\n",
    "\tdef del_age(self):\n",
    "\t\tdel self._age\n",
    "\t\n",
    "\tage = property(get_age, set_age, del_age)\n",
    "\n",
    "mark = Geeks()\n",
    "\n",
    "mark.age = 10\n",
    "\n",
    "print(mark.age)\n"
   ]
  },
  {
   "cell_type": "markdown",
   "id": "regular-anxiety",
   "metadata": {},
   "source": [
    "* In Python property()is a built-in function that creates and returns a property object. A property object has three methods, getter(), setter(), and delete(). property() function in Python has four arguments property(fget, fset, fdel, doc), fget is a function for retrieving an attribute value. fset is a function for setting an attribute value. fdel is a function for deleting an attribute value. doc creates a docstring for attribute. A property object has three methods, getter(), setter(), and delete() to specify fget, fset and fdel individually."
   ]
  },
  {
   "cell_type": "code",
   "execution_count": 3,
   "id": "amateur-block",
   "metadata": {},
   "outputs": [
    {
     "name": "stdout",
     "output_type": "stream",
     "text": [
      "setter method called\n",
      "getter method called\n",
      "19\n"
     ]
    }
   ],
   "source": [
    "# Python program showing the use of\n",
    "# @property\n",
    "\n",
    "class Geeks:\n",
    "\tdef __init__(self):\n",
    "\t\tself._age = 0\n",
    "\t\n",
    "\t# using property decorator\n",
    "\t# a getter function\n",
    "\t@property\n",
    "\tdef age(self):\n",
    "\t\tprint(\"getter method called\")\n",
    "\t\treturn self._age\n",
    "\t\n",
    "\t# a setter function\n",
    "\t@age.setter\n",
    "\tdef age(self, a):\n",
    "\t\tif(a < 18):\n",
    "\t\t\traise ValueError(\"Sorry you age is below eligibility criteria\")\n",
    "\t\tprint(\"setter method called\")\n",
    "\t\tself._age = a\n",
    "\n",
    "mark = Geeks()\n",
    "\n",
    "mark.age = 19\n",
    "\n",
    "print(mark.age)\n"
   ]
  },
  {
   "cell_type": "markdown",
   "id": "convinced-prophet",
   "metadata": {},
   "source": [
    "# Tutorial 199 python inheritance"
   ]
  },
  {
   "cell_type": "code",
   "execution_count": 9,
   "id": "parental-words",
   "metadata": {},
   "outputs": [
    {
     "name": "stdout",
     "output_type": "stream",
     "text": [
      " rog 2 asus and price is 40000\n"
     ]
    }
   ],
   "source": [
    "class phone:\n",
    "    def __init__(self,brand,model, price):\n",
    "        self.brand=brand\n",
    "        self.model=model\n",
    "        self._price=max(price,0)\n",
    "\n",
    "    def full_name(self):\n",
    "        return f\" {self.model} {self.brand}\"\n",
    "\n",
    "    def make_cell(self,number):\n",
    "        return f\" callling {number}\"\n",
    "\n",
    "class smartphone(phone):\n",
    "    def __init__(self,brand,model, price,ram,storage,rare_camara):\n",
    "        super().__init__(brand,model, price) #do not give self\n",
    "        self.ram=ram\n",
    "        self.storage=storage\n",
    "        self.rare_camara=rare_camara\n",
    "        \n",
    "p1=phone('samsung','s21',100000)\n",
    "p2=smartphone('asus','rog 2',40000,'12gb','120gb','40 mp')\n",
    "print(p2.full_name() +f' and price is {p2._price}')"
   ]
  },
  {
   "cell_type": "markdown",
   "id": "taken-norwegian",
   "metadata": {},
   "source": [
    "# tutorial 200\n"
   ]
  },
  {
   "cell_type": "code",
   "execution_count": 10,
   "id": "regulated-cannon",
   "metadata": {},
   "outputs": [
    {
     "name": "stdout",
     "output_type": "stream",
     "text": [
      "one plus 12mp\n"
     ]
    }
   ],
   "source": [
    "\n",
    "class phone:\n",
    "    def __init__(self,brand,model, price):\n",
    "        self.brand=brand\n",
    "        self.model=model\n",
    "        self._price=max(price,0)\n",
    "\n",
    "    def full_name(self):\n",
    "        return f\" {self.model} {self.brand}\"\n",
    "\n",
    "    def make_cell(self,number):\n",
    "        return f\" callling {number}\"\n",
    "\n",
    "class smartphone(phone):\n",
    "    def __init__(self,brand,model, price,ram,storage,rare_camara):\n",
    "        # two way\n",
    "        # no1 and uncommon\n",
    "        # phone.__init__(self,brand,model, price)\n",
    "        # no2\n",
    "        super().__init__(brand , model ,price)\n",
    "        self.ram = ram\n",
    "        self.storage = storage\n",
    "        self.rare_camara = rare_camara\n",
    "        def full_name(self):\n",
    "            return f\"{self.price }  {self.ram}\"\n",
    "\n",
    "class flagship(smartphone):\n",
    "    def __init__(self,brand,model, price,ram,storage,rare_camara,front_camara):\n",
    "        super().__init__(brand,model, price,ram,storage,rare_camara)\n",
    "        self.front_camara=front_camara\n",
    "\n",
    "    def full_name(self):\n",
    "        return f\"{self.brand} {self.front_camara}\"\n",
    "\n",
    "\n",
    "oneplus=flagship('one plus',' 8t',60000,'4gb','289gb','64mp','12mp')\n",
    "print(oneplus.full_name())"
   ]
  },
  {
   "cell_type": "markdown",
   "id": "coated-omega",
   "metadata": {},
   "source": [
    "# Tutorial 121 multiple inheritance"
   ]
  },
  {
   "cell_type": "code",
   "execution_count": 12,
   "id": "identified-northeast",
   "metadata": {},
   "outputs": [
    {
     "name": "stdout",
     "output_type": "stream",
     "text": [
      "hi from classs b\n",
      "hi from classs a\n",
      "hello from class a\n",
      "hello from class a\n"
     ]
    }
   ],
   "source": [
    "# profetional avoid multiple inheritance\n",
    "class A:\n",
    "    def class_a_method(self):\n",
    "        return 'hi from classs a'\n",
    "\n",
    "    def hello(self):\n",
    "        return 'hello from class a'\n",
    "\n",
    "\n",
    "class B:\n",
    "    def class_b_method(self):\n",
    "        return 'hi from classs b'\n",
    "\n",
    "    def hello(self):\n",
    "        return 'hello from class b'\n",
    "\n",
    "class C(A,B):\n",
    "    pass \n",
    "\n",
    "c_obj=C()\n",
    "print(c_obj.class_b_method())\n",
    "print(c_obj.class_a_method())\n",
    "print(c_obj.hello())\n",
    "print(c_obj.hello())"
   ]
  },
  {
   "cell_type": "markdown",
   "id": "large-consortium",
   "metadata": {},
   "source": [
    "# Tutorial 202 dunder method"
   ]
  },
  {
   "cell_type": "code",
   "execution_count": 13,
   "id": "consistent-notebook",
   "metadata": {},
   "outputs": [
    {
     "name": "stdout",
     "output_type": "stream",
     "text": [
      "str(myphone)  --> note 20 ultra  samsung --->self method\n",
      "repr(my_phone) --> phone('samsung','note 20 ultra','20000')\n",
      "my_phone.__repr__() --> phone('samsung','note 20 ultra','20000')\n",
      "len(my_phone) --> 21\n",
      "45000\n"
     ]
    }
   ],
   "source": [
    "#important\n",
    "# magic method/or dunder mathod __word__\n",
    "class phone:\n",
    "    def __init__(self,brand,model,price):\n",
    "        self.brand=brand\n",
    "        self.model=model\n",
    "        self.price=price\n",
    "\n",
    "    def phone_name(self):\n",
    "        return f'{self.brand} {self.model}'\n",
    "\n",
    "    def __str__(self):\n",
    "        return f'{self.model}  {self.brand} --->self method'\n",
    "\n",
    "    def __repr__(self):\n",
    "        return f'phone(\\'{self.brand}\\',\\'{self.model}\\',\\'{self.price}\\')'\n",
    "\n",
    "\n",
    "    def __len__(self):\n",
    "        return len(self.phone_name())\n",
    "\n",
    "    def __add__(self, other):  # overloading#you can multiply substraction\n",
    "        return self.price + other.price\n",
    "\n",
    "\n",
    "# there are two type of dunder method  (1)str  (2)repr()\n",
    "# repr is usally use for developer for debugging code\n",
    "\n",
    "\n",
    "\n",
    "\n",
    "\n",
    "my_phone=phone('samsung','note 20 ultra',20000)\n",
    "print('str(myphone)  -->',str(my_phone))\n",
    "print('repr(my_phone) -->',repr(my_phone))\n",
    "print('my_phone.__repr__() -->',my_phone.__repr__())\n",
    "print('len(my_phone) -->',len(my_phone))\n",
    "\n",
    "\n",
    "my_phone2=phone('samsung1','note 20 ultra+',25000)\n",
    "print(my_phone+my_phone2)\n"
   ]
  },
  {
   "cell_type": "markdown",
   "id": "integral-adobe",
   "metadata": {},
   "source": [
    "# Tutorial 202 overloading method vs polymorphism\n",
    "* overloading method meannig same method in diffrent class"
   ]
  },
  {
   "cell_type": "code",
   "execution_count": 14,
   "id": "weird-progress",
   "metadata": {},
   "outputs": [
    {
     "name": "stdout",
     "output_type": "stream",
     "text": [
      "samsung note 20 ultra\n",
      "samsung1 and model is note 20 ultra+\n"
     ]
    }
   ],
   "source": [
    "# magic method/or dunder mathod __word__\n",
    "class phone:\n",
    "    def __init__(self,brand,model,price):\n",
    "        self.brand=brand\n",
    "        self.model=model\n",
    "        self.price=price\n",
    "\n",
    "    def phone_name(self):\n",
    "        return f'{self.brand} {self.model}'\n",
    "\n",
    "    def __str__(self):\n",
    "        return f'{self.model}  {self.brand} --->self method'\n",
    "\n",
    "    def __repr__(self):\n",
    "        return f'phone(\\'{self.brand}\\',\\'{self.model}\\',\\'{self.price}\\')'\n",
    "\n",
    "\n",
    "    def __len__(self):\n",
    "        return len(self.phone_name())\n",
    "\n",
    "\n",
    "class smart_phone(phone):\n",
    "    def __init__(self,brand,model,price,camara):\n",
    "        super().__init__(brand,model,price)\n",
    "        self.camara=camara\n",
    "    def phone_name(self):\n",
    "        return f'{self.brand} and model is {self.model}'\n",
    "\n",
    "\n",
    "\n",
    "\n",
    "my_phone=phone('samsung','note 20 ultra',20000)\n",
    "my_phone2=smart_phone('samsung1','note 20 ultra+',25000,'120mp')\n",
    "print(my_phone.phone_name())\n",
    "print(my_phone2.phone_name())\n",
    "\n",
    "\n",
    "# it is called polymorphysism or overridding"
   ]
  },
  {
   "cell_type": "markdown",
   "id": "upset-farming",
   "metadata": {},
   "source": [
    "# tutorial 203 error"
   ]
  },
  {
   "cell_type": "code",
   "execution_count": 15,
   "id": "bacterial-victor",
   "metadata": {},
   "outputs": [
    {
     "ename": "TypeError",
     "evalue": "unsupported operand type(s) for +: 'int' and 'str'",
     "output_type": "error",
     "traceback": [
      "\u001b[1;31m---------------------------------------------------------------------------\u001b[0m",
      "\u001b[1;31mTypeError\u001b[0m                                 Traceback (most recent call last)",
      "\u001b[1;32m<ipython-input-15-1bd715e380b3>\u001b[0m in \u001b[0;36m<module>\u001b[1;34m\u001b[0m\n\u001b[0;32m      5\u001b[0m \u001b[1;33m\u001b[0m\u001b[0m\n\u001b[0;32m      6\u001b[0m \u001b[1;31m# type error\u001b[0m\u001b[1;33m\u001b[0m\u001b[1;33m\u001b[0m\u001b[1;33m\u001b[0m\u001b[0m\n\u001b[1;32m----> 7\u001b[1;33m \u001b[0mprint\u001b[0m\u001b[1;33m(\u001b[0m\u001b[1;36m5\u001b[0m\u001b[1;33m+\u001b[0m\u001b[1;34m'rakib'\u001b[0m\u001b[1;33m)\u001b[0m\u001b[1;33m\u001b[0m\u001b[1;33m\u001b[0m\u001b[0m\n\u001b[0m\u001b[0;32m      8\u001b[0m \u001b[1;33m\u001b[0m\u001b[0m\n\u001b[0;32m      9\u001b[0m \u001b[1;31m# index error\u001b[0m\u001b[1;33m\u001b[0m\u001b[1;33m\u001b[0m\u001b[1;33m\u001b[0m\u001b[0m\n",
      "\u001b[1;31mTypeError\u001b[0m: unsupported operand type(s) for +: 'int' and 'str'"
     ]
    }
   ],
   "source": [
    "# chapter 17 built in error\n",
    "# exception,how to hendle it\n",
    "# 1.sintex error\n",
    "# 2.indentation error means space error\n",
    "\n",
    "# type error\n",
    "print(5+'rakib')\n",
    "\n",
    "# index error\n",
    "l=[1,2,3,4]\n",
    "print(l[4])\n",
    "\n",
    "# value error\n",
    "s='sbr'\n",
    "print(int(s))\n",
    "\n",
    "# attribute error-->thing that does not exist\n",
    "l=[1,2,3]\n",
    "l.push('12')\n",
    "\n",
    "#key error\n",
    "l={'name':'rakib'}\n",
    "print(l['age'])\n"
   ]
  },
  {
   "cell_type": "markdown",
   "id": "assigned-latex",
   "metadata": {},
   "source": [
    "# 204 raise error"
   ]
  },
  {
   "cell_type": "code",
   "execution_count": 18,
   "id": "announced-convertible",
   "metadata": {},
   "outputs": [
    {
     "ename": "TypeError",
     "evalue": "please give right number",
     "output_type": "error",
     "traceback": [
      "\u001b[1;31m---------------------------------------------------------------------------\u001b[0m",
      "\u001b[1;31mTypeError\u001b[0m                                 Traceback (most recent call last)",
      "\u001b[1;32m<ipython-input-18-eb25308244b1>\u001b[0m in \u001b[0;36m<module>\u001b[1;34m\u001b[0m\n\u001b[0;32m      3\u001b[0m         \u001b[1;32mreturn\u001b[0m \u001b[0ma\u001b[0m\u001b[1;33m+\u001b[0m\u001b[0mb\u001b[0m\u001b[1;33m\u001b[0m\u001b[1;33m\u001b[0m\u001b[0m\n\u001b[0;32m      4\u001b[0m     \u001b[1;32mraise\u001b[0m \u001b[0mTypeError\u001b[0m\u001b[1;33m(\u001b[0m\u001b[1;34m'please give right number'\u001b[0m\u001b[1;33m)\u001b[0m\u001b[1;33m\u001b[0m\u001b[1;33m\u001b[0m\u001b[0m\n\u001b[1;32m----> 5\u001b[1;33m \u001b[0mprint\u001b[0m\u001b[1;33m(\u001b[0m\u001b[0madd\u001b[0m\u001b[1;33m(\u001b[0m\u001b[1;34m'2'\u001b[0m\u001b[1;33m,\u001b[0m\u001b[1;34m'4'\u001b[0m\u001b[1;33m)\u001b[0m\u001b[1;33m)\u001b[0m\u001b[1;33m\u001b[0m\u001b[1;33m\u001b[0m\u001b[0m\n\u001b[0m",
      "\u001b[1;32m<ipython-input-18-eb25308244b1>\u001b[0m in \u001b[0;36madd\u001b[1;34m(a, b)\u001b[0m\n\u001b[0;32m      2\u001b[0m     \u001b[1;32mif\u001b[0m \u001b[1;33m(\u001b[0m\u001b[0mtype\u001b[0m\u001b[1;33m(\u001b[0m\u001b[0ma\u001b[0m\u001b[1;33m)\u001b[0m \u001b[1;32mis\u001b[0m \u001b[0mint\u001b[0m\u001b[1;33m)\u001b[0m \u001b[1;32mand\u001b[0m \u001b[1;33m(\u001b[0m\u001b[0mtype\u001b[0m\u001b[1;33m(\u001b[0m\u001b[0mb\u001b[0m\u001b[1;33m)\u001b[0m \u001b[1;32mis\u001b[0m \u001b[0mint\u001b[0m\u001b[1;33m)\u001b[0m\u001b[1;33m:\u001b[0m\u001b[1;33m\u001b[0m\u001b[1;33m\u001b[0m\u001b[0m\n\u001b[0;32m      3\u001b[0m         \u001b[1;32mreturn\u001b[0m \u001b[0ma\u001b[0m\u001b[1;33m+\u001b[0m\u001b[0mb\u001b[0m\u001b[1;33m\u001b[0m\u001b[1;33m\u001b[0m\u001b[0m\n\u001b[1;32m----> 4\u001b[1;33m     \u001b[1;32mraise\u001b[0m \u001b[0mTypeError\u001b[0m\u001b[1;33m(\u001b[0m\u001b[1;34m'please give right number'\u001b[0m\u001b[1;33m)\u001b[0m\u001b[1;33m\u001b[0m\u001b[1;33m\u001b[0m\u001b[0m\n\u001b[0m\u001b[0;32m      5\u001b[0m \u001b[0mprint\u001b[0m\u001b[1;33m(\u001b[0m\u001b[0madd\u001b[0m\u001b[1;33m(\u001b[0m\u001b[1;34m'2'\u001b[0m\u001b[1;33m,\u001b[0m\u001b[1;34m'4'\u001b[0m\u001b[1;33m)\u001b[0m\u001b[1;33m)\u001b[0m\u001b[1;33m\u001b[0m\u001b[1;33m\u001b[0m\u001b[0m\n",
      "\u001b[1;31mTypeError\u001b[0m: please give right number"
     ]
    }
   ],
   "source": [
    "def add(a,b):\n",
    "    if (type(a) is int) and (type(b) is int):\n",
    "        return a+b\n",
    "    raise TypeError('please give right number')\n",
    "print(add('2','4'))"
   ]
  },
  {
   "cell_type": "markdown",
   "id": "light-steel",
   "metadata": {},
   "source": [
    "# Tutorial 205 raise error"
   ]
  },
  {
   "cell_type": "code",
   "execution_count": 5,
   "id": "lesbian-phoenix",
   "metadata": {},
   "outputs": [
    {
     "name": "stdout",
     "output_type": "stream",
     "text": [
      "mew mew\n",
      "mew mew\n"
     ]
    },
    {
     "ename": "NotImplementedError",
     "evalue": "give any word",
     "output_type": "error",
     "traceback": [
      "\u001b[1;31m---------------------------------------------------------------------------\u001b[0m",
      "\u001b[1;31mNotImplementedError\u001b[0m                       Traceback (most recent call last)",
      "\u001b[1;32m<ipython-input-5-13e305b4be3b>\u001b[0m in \u001b[0;36m<module>\u001b[1;34m\u001b[0m\n\u001b[0;32m     29\u001b[0m \u001b[1;33m\u001b[0m\u001b[0m\n\u001b[0;32m     30\u001b[0m \u001b[0mfat_dog\u001b[0m\u001b[1;33m=\u001b[0m\u001b[0mdog\u001b[0m\u001b[1;33m(\u001b[0m\u001b[1;34m'kk'\u001b[0m\u001b[1;33m,\u001b[0m\u001b[1;34m'bangladesh'\u001b[0m\u001b[1;33m)\u001b[0m\u001b[1;33m\u001b[0m\u001b[1;33m\u001b[0m\u001b[0m\n\u001b[1;32m---> 31\u001b[1;33m \u001b[0mprint\u001b[0m\u001b[1;33m(\u001b[0m\u001b[0mfat_dog\u001b[0m\u001b[1;33m.\u001b[0m\u001b[0msound\u001b[0m\u001b[1;33m(\u001b[0m\u001b[1;33m)\u001b[0m\u001b[1;33m)\u001b[0m\u001b[1;33m\u001b[0m\u001b[1;33m\u001b[0m\u001b[0m\n\u001b[0m",
      "\u001b[1;32m<ipython-input-5-13e305b4be3b>\u001b[0m in \u001b[0;36msound\u001b[1;34m(self)\u001b[0m\n\u001b[0;32m      3\u001b[0m         \u001b[0mself\u001b[0m\u001b[1;33m.\u001b[0m\u001b[0mname\u001b[0m\u001b[1;33m=\u001b[0m\u001b[0mname\u001b[0m\u001b[1;33m\u001b[0m\u001b[1;33m\u001b[0m\u001b[0m\n\u001b[0;32m      4\u001b[0m     \u001b[1;32mdef\u001b[0m \u001b[0msound\u001b[0m\u001b[1;33m(\u001b[0m\u001b[0mself\u001b[0m\u001b[1;33m)\u001b[0m\u001b[1;33m:\u001b[0m\u001b[1;33m\u001b[0m\u001b[1;33m\u001b[0m\u001b[0m\n\u001b[1;32m----> 5\u001b[1;33m         \u001b[1;32mraise\u001b[0m \u001b[0mNotImplementedError\u001b[0m\u001b[1;33m(\u001b[0m\u001b[1;34m'give any word'\u001b[0m\u001b[1;33m)\u001b[0m\u001b[1;33m\u001b[0m\u001b[1;33m\u001b[0m\u001b[0m\n\u001b[0m\u001b[0;32m      6\u001b[0m \u001b[1;33m\u001b[0m\u001b[0m\n\u001b[0;32m      7\u001b[0m \u001b[1;32mclass\u001b[0m \u001b[0mdog\u001b[0m\u001b[1;33m(\u001b[0m\u001b[0manimal\u001b[0m\u001b[1;33m)\u001b[0m\u001b[1;33m:\u001b[0m\u001b[1;33m\u001b[0m\u001b[1;33m\u001b[0m\u001b[0m\n",
      "\u001b[1;31mNotImplementedError\u001b[0m: give any word"
     ]
    }
   ],
   "source": [
    "class animal:\n",
    "    def __init__(self,name):\n",
    "        self.name=name\n",
    "    def sound(self):\n",
    "        raise NotImplementedError('give any word')\n",
    "\n",
    "class dog(animal):\n",
    "    def __init__(self,name,house):\n",
    "        super().__init__(name)\n",
    "        self.house=house\n",
    "        \n",
    "#     def sound(self):\n",
    "#         return f'bow bow'\n",
    "    \n",
    "class cat(animal):\n",
    "    def __init__(self,name,house):\n",
    "        super().__init__(name)\n",
    "        self.house=house\n",
    "        \n",
    "    def sound(self):\n",
    "        return f'mew mew'\n",
    "\n",
    "fat_cat=cat('kk','bangladesh')\n",
    "print(fat_cat.sound())\n",
    "\n",
    "fat_cat=cat('','')\n",
    "print(fat_cat.sound())\n",
    "\n",
    "\n",
    "fat_dog=dog('kk','bangladesh')\n",
    "print(fat_dog.sound())\n"
   ]
  },
  {
   "cell_type": "code",
   "execution_count": 12,
   "id": "ceramic-voice",
   "metadata": {},
   "outputs": [
    {
     "ename": "TypeError",
     "evalue": "new mobile phone should be object of mobile class",
     "output_type": "error",
     "traceback": [
      "\u001b[1;31m---------------------------------------------------------------------------\u001b[0m",
      "\u001b[1;31mTypeError\u001b[0m                                 Traceback (most recent call last)",
      "\u001b[1;32m<ipython-input-12-3ad0e8676a21>\u001b[0m in \u001b[0;36m<module>\u001b[1;34m\u001b[0m\n\u001b[0;32m     21\u001b[0m \u001b[0msamsung\u001b[0m\u001b[1;33m=\u001b[0m\u001b[1;34m'samsung galaxy s20 ultra'\u001b[0m\u001b[1;33m\u001b[0m\u001b[1;33m\u001b[0m\u001b[0m\n\u001b[0;32m     22\u001b[0m \u001b[0mmobostore\u001b[0m\u001b[1;33m=\u001b[0m\u001b[0mmobile_store\u001b[0m\u001b[1;33m(\u001b[0m\u001b[1;33m)\u001b[0m\u001b[1;33m\u001b[0m\u001b[1;33m\u001b[0m\u001b[0m\n\u001b[1;32m---> 23\u001b[1;33m \u001b[0mmobostore\u001b[0m\u001b[1;33m.\u001b[0m\u001b[0madd_mobile\u001b[0m\u001b[1;33m(\u001b[0m\u001b[0msamsung\u001b[0m\u001b[1;33m)\u001b[0m\u001b[1;33m\u001b[0m\u001b[1;33m\u001b[0m\u001b[0m\n\u001b[0m\u001b[0;32m     24\u001b[0m \u001b[0mprint\u001b[0m\u001b[1;33m(\u001b[0m\u001b[0mmobostore\u001b[0m\u001b[1;33m.\u001b[0m\u001b[0mempty_mobile\u001b[0m\u001b[1;33m)\u001b[0m\u001b[1;33m\u001b[0m\u001b[1;33m\u001b[0m\u001b[0m\n",
      "\u001b[1;32m<ipython-input-12-3ad0e8676a21>\u001b[0m in \u001b[0;36madd_mobile\u001b[1;34m(self, add_a_mobile)\u001b[0m\n\u001b[0;32m     16\u001b[0m             \u001b[0mself\u001b[0m\u001b[1;33m.\u001b[0m\u001b[0mempty_mobile\u001b[0m\u001b[1;33m.\u001b[0m\u001b[0mappend\u001b[0m\u001b[1;33m(\u001b[0m\u001b[0madd_a_mobile\u001b[0m\u001b[1;33m)\u001b[0m\u001b[1;33m\u001b[0m\u001b[1;33m\u001b[0m\u001b[0m\n\u001b[0;32m     17\u001b[0m         \u001b[1;32melse\u001b[0m\u001b[1;33m:\u001b[0m\u001b[1;33m\u001b[0m\u001b[1;33m\u001b[0m\u001b[0m\n\u001b[1;32m---> 18\u001b[1;33m             \u001b[1;32mraise\u001b[0m \u001b[0mTypeError\u001b[0m\u001b[1;33m(\u001b[0m\u001b[1;34m'new mobile phone should be object of mobile class'\u001b[0m\u001b[1;33m)\u001b[0m\u001b[1;33m\u001b[0m\u001b[1;33m\u001b[0m\u001b[0m\n\u001b[0m\u001b[0;32m     19\u001b[0m \u001b[1;33m\u001b[0m\u001b[0m\n\u001b[0;32m     20\u001b[0m \u001b[0mone_plus\u001b[0m\u001b[1;33m=\u001b[0m\u001b[0mmobile\u001b[0m\u001b[1;33m(\u001b[0m\u001b[1;34m'one plus 8'\u001b[0m\u001b[1;33m)\u001b[0m\u001b[1;33m\u001b[0m\u001b[1;33m\u001b[0m\u001b[0m\n",
      "\u001b[1;31mTypeError\u001b[0m: new mobile phone should be object of mobile class"
     ]
    }
   ],
   "source": [
    "class mobile:\n",
    "    def __init__(self,name):\n",
    "        self.name=name\n",
    "\"\"\"he isinstance() function checks if the object (first argument) is an instance\n",
    "             or subclass of classinfo class (second argument).\"\"\"\n",
    "\"\"\"isinstance(object, classinfo)\"\"\"\n",
    "\n",
    "class mobile_store():\n",
    "    \n",
    "    def __init__(self):\n",
    "        self.empty_mobile=[]\n",
    "        \n",
    "    def add_mobile(self,add_a_mobile):\n",
    "        \n",
    "        if isinstance(add_a_mobile,mobile):\n",
    "            self.empty_mobile.append(add_a_mobile)\n",
    "        else:\n",
    "            raise TypeError('new mobile phone should be object of mobile class')\n",
    "\n",
    "one_plus=mobile('one plus 8')\n",
    "samsung='samsung galaxy s20 ultra'\n",
    "mobostore=mobile_store()\n",
    "mobostore.add_mobile(samsung)\n",
    "print(mobostore.empty_mobile)"
   ]
  },
  {
   "cell_type": "code",
   "execution_count": 10,
   "id": "american-campus",
   "metadata": {},
   "outputs": [
    {
     "ename": "IndentationError",
     "evalue": "unindent does not match any outer indentation level (<tokenize>, line 17)",
     "output_type": "error",
     "traceback": [
      "\u001b[1;36m  File \u001b[1;32m\"<tokenize>\"\u001b[1;36m, line \u001b[1;32m17\u001b[0m\n\u001b[1;33m    raise TypeError('new mobile phone should be object of mobile clasa')\u001b[0m\n\u001b[1;37m    ^\u001b[0m\n\u001b[1;31mIndentationError\u001b[0m\u001b[1;31m:\u001b[0m unindent does not match any outer indentation level\n"
     ]
    }
   ],
   "source": [
    "          #this is exercise 206\n",
    "class mobile:\n",
    "    def __init__(self,name):\n",
    "        self.name=name\n",
    "\"\"\"he isinstance() function checks if the object (first argument) is an instance\n",
    "             or subclass of classinfo class (second argument).\"\"\"\n",
    "\"\"\"isinstance(object, classinfo)\"\"\"\n",
    "class mobile_store():\n",
    "    def __init__(self):\n",
    "        self.mobiles=[]\n",
    "\n",
    "    def add_mobile(self,new_mobile):\n",
    "        if isinstance(new_mobile,mobile):\n",
    "\n",
    "          self.mobiles.append(new_mobile)\n",
    "        else:\n",
    "            raise TypeError('new mobile phone should be object of mobile clasa')\n",
    "\n",
    "one_plus=mobile('one plus 8')\n",
    "samsung='samsung galaxy s20 ultra'\n",
    "mobostore=mobile_store()\n",
    "mobostore.add_mobile(samsung)\n",
    "print(mobostore.mobiles)\n",
    "print(type(mobostore))\n",
    "\n",
    "\n",
    "mobophone=mobostore.mobiles\n",
    "print(mobophone[0].name)\n"
   ]
  },
  {
   "cell_type": "code",
   "execution_count": 13,
   "id": "animal-stone",
   "metadata": {},
   "outputs": [
    {
     "name": "stdout",
     "output_type": "stream",
     "text": [
      "a is instance of dt? True\n",
      "a is instance of tm? False\n",
      "b is instance of tm? True\n",
      "b is instance of dt? False\n"
     ]
    }
   ],
   "source": [
    "class dt:\n",
    "    dd=10\n",
    "    mm=2\n",
    "    yyyy=2002\n",
    " \n",
    "class tm:\n",
    "    hr=12\n",
    "    min=56\n",
    "    sec=34\n",
    "#instance creation\n",
    "a=dt()\n",
    "b=tm()\n",
    " \n",
    "#check is a is instance of dt class\n",
    "print(\"a is instance of dt?\",isinstance(a,dt))\n",
    "#check is a is instance of tm class\n",
    "print(\"a is instance of tm?\",isinstance(a,tm))\n",
    "#check is b is instance of tm class\n",
    "print(\"b is instance of tm?\",isinstance(b,tm))\n",
    "#check is b is instance of dt class\n",
    "print(\"b is instance of dt?\",isinstance(b,dt))"
   ]
  },
  {
   "cell_type": "markdown",
   "id": "understood-liberal",
   "metadata": {},
   "source": [
    "# Tutorial 207 exception handling"
   ]
  },
  {
   "cell_type": "code",
   "execution_count": 20,
   "id": "lesbian-whale",
   "metadata": {},
   "outputs": [
    {
     "name": "stdout",
     "output_type": "stream",
     "text": [
      "please enter your age :sjf\n",
      "give an intiger number \n",
      "please enter your age :*\n",
      "give an intiger number \n",
      "please enter your age :687\n",
      "you can play this game\n"
     ]
    }
   ],
   "source": [
    "while True: # it is a infinity loop\n",
    "    try:\n",
    "        age=int(input('please enter your age :'))\n",
    "        break # without break it is continiously running\n",
    "    except ValueError:\n",
    "        print('give an intiger number ')\n",
    "    except:\n",
    "        print('unexpacted error')\n",
    "\n",
    "if age > 18:\n",
    "    print('you can play this game')\n",
    "else:\n",
    "    print('you can not play this game')"
   ]
  },
  {
   "cell_type": "markdown",
   "id": "convenient-fever",
   "metadata": {},
   "source": [
    "# Tutorial 208 else exception"
   ]
  },
  {
   "cell_type": "code",
   "execution_count": 21,
   "id": "virgin-homeless",
   "metadata": {},
   "outputs": [
    {
     "name": "stdout",
     "output_type": "stream",
     "text": [
      "please enter ur age  \n",
      "3\n",
      "age is =3\n",
      "finally finish\n"
     ]
    }
   ],
   "source": [
    "while True:#it is infinity loop\n",
    "    try:\n",
    "        age = int(input('please enter ur age  \\n'))\n",
    "\n",
    "        #without break infinity loop continuously playing\n",
    "    except ValueError:\n",
    "        print('error invalid error please enter a intiger number')\n",
    "    except:\n",
    "        print('unexpected error')\n",
    "\n",
    "    else:\n",
    "        print(f'age is ={age}')\n",
    "        break\n",
    "    finally:\n",
    "        print('finally finish')\n",
    "        # finally run all time\n",
    "\n",
    "\n"
   ]
  },
  {
   "cell_type": "markdown",
   "id": "fifth-corner",
   "metadata": {},
   "source": [
    "# tutorial 210 exercise"
   ]
  },
  {
   "cell_type": "code",
   "execution_count": 27,
   "id": "excessive-paragraph",
   "metadata": {},
   "outputs": [
    {
     "name": "stdout",
     "output_type": "stream",
     "text": [
      "0.8\n",
      "it is zero error\n",
      "division by zero\n",
      "None\n"
     ]
    },
    {
     "ename": "NameError",
     "evalue": "name 'd' is not defined",
     "output_type": "error",
     "traceback": [
      "\u001b[1;31m---------------------------------------------------------------------------\u001b[0m",
      "\u001b[1;31mNameError\u001b[0m                                 Traceback (most recent call last)",
      "\u001b[1;32m<ipython-input-27-2a58566e70df>\u001b[0m in \u001b[0;36m<module>\u001b[1;34m\u001b[0m\n\u001b[0;32m     12\u001b[0m \u001b[0mprint\u001b[0m\u001b[1;33m(\u001b[0m\u001b[0mdevide\u001b[0m\u001b[1;33m(\u001b[0m\u001b[1;36m4\u001b[0m\u001b[1;33m,\u001b[0m\u001b[1;36m5\u001b[0m\u001b[1;33m)\u001b[0m\u001b[1;33m)\u001b[0m\u001b[1;33m\u001b[0m\u001b[1;33m\u001b[0m\u001b[0m\n\u001b[0;32m     13\u001b[0m \u001b[0mprint\u001b[0m\u001b[1;33m(\u001b[0m\u001b[0mdevide\u001b[0m\u001b[1;33m(\u001b[0m\u001b[1;36m4\u001b[0m\u001b[1;33m,\u001b[0m\u001b[1;36m0\u001b[0m\u001b[1;33m)\u001b[0m\u001b[1;33m)\u001b[0m\u001b[1;33m\u001b[0m\u001b[1;33m\u001b[0m\u001b[0m\n\u001b[1;32m---> 14\u001b[1;33m \u001b[0mprint\u001b[0m\u001b[1;33m(\u001b[0m\u001b[0mdevide\u001b[0m\u001b[1;33m(\u001b[0m\u001b[0md\u001b[0m\u001b[1;33m,\u001b[0m\u001b[0me\u001b[0m\u001b[1;33m)\u001b[0m\u001b[1;33m)\u001b[0m\u001b[1;33m\u001b[0m\u001b[1;33m\u001b[0m\u001b[0m\n\u001b[0m",
      "\u001b[1;31mNameError\u001b[0m: name 'd' is not defined"
     ]
    }
   ],
   "source": [
    "def devide(a,b):\n",
    "    try:\n",
    "        return (a/b)\n",
    "    except ZeroDivisionError as err:\n",
    "        print('it is zero error')\n",
    "        print(err)\n",
    "    except TypeError as err:\n",
    "        print(err)\n",
    "    except :\n",
    "        print('unexpacted error')\n",
    "        \n",
    "print(devide(4,5))\n",
    "print(devide(4,0))\n",
    "print(devide(d,e))"
   ]
  },
  {
   "cell_type": "markdown",
   "id": "aerial-continuity",
   "metadata": {},
   "source": [
    "# Tutorial 211 custom exception"
   ]
  },
  {
   "cell_type": "code",
   "execution_count": 29,
   "id": "graphic-stand",
   "metadata": {},
   "outputs": [
    {
     "name": "stdout",
     "output_type": "stream",
     "text": [
      "please enter your name :raib hasan\n",
      "hello raib hasan\n"
     ]
    }
   ],
   "source": [
    "class NameIsTooShort(ValueError): # plese give value error otherwise it do not work\n",
    "    pass\n",
    "\n",
    "def validName(name):\n",
    "    if len(name) < 8:\n",
    "        raise NameIsTooShort('your name is too short')\n",
    "\n",
    "user_name=input('please enter your name :')\n",
    "validName(user_name)\n",
    "\n",
    "print(f'hello {user_name}')"
   ]
  },
  {
   "cell_type": "markdown",
   "id": "coupled-maximum",
   "metadata": {},
   "source": [
    "# Tutorial 212 python debugger"
   ]
  },
  {
   "cell_type": "code",
   "execution_count": null,
   "id": "auburn-jersey",
   "metadata": {
    "collapsed": true
   },
   "outputs": [
    {
     "name": "stdout",
     "output_type": "stream",
     "text": [
      "--Return--\n",
      "None\n",
      "> \u001b[1;32m<ipython-input-30-b9fc4a68a3ca>\u001b[0m(13)\u001b[0;36m<module>\u001b[1;34m()\u001b[0m\n",
      "\u001b[1;32m     11 \u001b[1;33m\u001b[1;33m\u001b[0m\u001b[0m\n",
      "\u001b[0m\u001b[1;32m     12 \u001b[1;33m\u001b[1;32mimport\u001b[0m \u001b[0mpdb\u001b[0m\u001b[1;33m\u001b[0m\u001b[1;33m\u001b[0m\u001b[0m\n",
      "\u001b[0m\u001b[1;32m---> 13 \u001b[1;33m\u001b[0mpdb\u001b[0m\u001b[1;33m.\u001b[0m\u001b[0mset_trace\u001b[0m\u001b[1;33m(\u001b[0m\u001b[1;33m)\u001b[0m\u001b[1;31m#u can use set trace anywhere it is your common sence\u001b[0m\u001b[1;33m\u001b[0m\u001b[1;33m\u001b[0m\u001b[0m\n",
      "\u001b[0m\u001b[1;32m     14 \u001b[1;33m\u001b[1;31m# use it where you thik error has\u001b[0m\u001b[1;33m\u001b[0m\u001b[1;33m\u001b[0m\u001b[1;33m\u001b[0m\u001b[0m\n",
      "\u001b[0m\u001b[1;32m     15 \u001b[1;33m\u001b[0mage\u001b[0m\u001b[1;33m=\u001b[0m\u001b[0minput\u001b[0m\u001b[1;33m(\u001b[0m\u001b[1;34m'please enter your age :'\u001b[0m\u001b[1;33m)\u001b[0m\u001b[1;33m\u001b[0m\u001b[1;33m\u001b[0m\u001b[0m\n",
      "\u001b[0m\n",
      "ipdb> 8\n",
      "8\n",
      "ipdb> 8\n",
      "8\n",
      "ipdb> 8\n",
      "8\n",
      "ipdb> 899\n",
      "899\n",
      "ipdb> rahif\n",
      "*** NameError: name 'rahif' is not defined\n",
      "ipdb> rakib\n",
      "*** NameError: name 'rakib' is not defined\n",
      "ipdb> hello 89\n",
      "*** SyntaxError: invalid syntax\n",
      "ipdb> l\n",
      "\u001b[0;32m      8 \u001b[0m\u001b[1;31m# n=next\u001b[0m\u001b[1;33m\u001b[0m\u001b[1;33m\u001b[0m\u001b[1;33m\u001b[0m\u001b[0m\n",
      "\u001b[0;32m      9 \u001b[0m\u001b[1;31m# q=quit()\u001b[0m\u001b[1;33m\u001b[0m\u001b[1;33m\u001b[0m\u001b[1;33m\u001b[0m\u001b[0m\n",
      "\u001b[0;32m     10 \u001b[0m\u001b[1;31m# c=continue --->code run coniniously\u001b[0m\u001b[1;33m\u001b[0m\u001b[1;33m\u001b[0m\u001b[1;33m\u001b[0m\u001b[0m\n",
      "\u001b[0;32m     11 \u001b[0m\u001b[1;33m\u001b[0m\u001b[0m\n",
      "\u001b[0;32m     12 \u001b[0m\u001b[1;32mimport\u001b[0m \u001b[0mpdb\u001b[0m\u001b[1;33m\u001b[0m\u001b[1;33m\u001b[0m\u001b[0m\n",
      "\u001b[1;32m---> 13 \u001b[1;33m\u001b[0mpdb\u001b[0m\u001b[1;33m.\u001b[0m\u001b[0mset_trace\u001b[0m\u001b[1;33m(\u001b[0m\u001b[1;33m)\u001b[0m\u001b[1;31m#u can use set trace anywhere it is your common sence\u001b[0m\u001b[1;33m\u001b[0m\u001b[1;33m\u001b[0m\u001b[0m\n",
      "\u001b[0m\u001b[0;32m     14 \u001b[0m\u001b[1;31m# use it where you thik error has\u001b[0m\u001b[1;33m\u001b[0m\u001b[1;33m\u001b[0m\u001b[1;33m\u001b[0m\u001b[0m\n",
      "\u001b[0;32m     15 \u001b[0m\u001b[0mage\u001b[0m\u001b[1;33m=\u001b[0m\u001b[0minput\u001b[0m\u001b[1;33m(\u001b[0m\u001b[1;34m'please enter your age :'\u001b[0m\u001b[1;33m)\u001b[0m\u001b[1;33m\u001b[0m\u001b[1;33m\u001b[0m\u001b[0m\n",
      "\u001b[0;32m     16 \u001b[0m\u001b[0minterest\u001b[0m\u001b[1;33m=\u001b[0m\u001b[0minput\u001b[0m\u001b[1;33m(\u001b[0m\u001b[1;34m'enter your interest'\u001b[0m\u001b[1;33m)\u001b[0m\u001b[1;33m\u001b[0m\u001b[1;33m\u001b[0m\u001b[0m\n",
      "\u001b[0;32m     17 \u001b[0m\u001b[0mage2\u001b[0m\u001b[1;33m=\u001b[0m\u001b[0mage\u001b[0m\u001b[1;33m+\u001b[0m\u001b[1;36m5\u001b[0m\u001b[1;33m\u001b[0m\u001b[1;33m\u001b[0m\u001b[0m\n",
      "\u001b[0;32m     18 \u001b[0m\u001b[0mprint\u001b[0m\u001b[1;33m(\u001b[0m\u001b[0mage2\u001b[0m\u001b[1;33m)\u001b[0m\u001b[1;33m\u001b[0m\u001b[1;33m\u001b[0m\u001b[0m\n",
      "\n",
      "ipdb> n\n",
      "\u001b[1;31m    [... skipped 1 hidden frame]\u001b[0m\n",
      "\n",
      "\u001b[1;31m    [... skipped 1 hidden frame]\u001b[0m\n",
      "\n",
      "\u001b[1;31m    [... skipped 1 hidden frame]\u001b[0m\n",
      "\n",
      "\u001b[1;31m    [... skipped 1 hidden frame]\u001b[0m\n",
      "\n",
      "> \u001b[1;32mc:\\users\\rakib\\appdata\\local\\programs\\python\\python39\\lib\\site-packages\\ipython\\core\\interactiveshell.py\u001b[0m(3349)\u001b[0;36mrun_ast_nodes\u001b[1;34m()\u001b[0m\n",
      "\u001b[1;32m   3347 \u001b[1;33m                    \u001b[0mto_run\u001b[0m\u001b[1;33m.\u001b[0m\u001b[0mappend\u001b[0m\u001b[1;33m(\u001b[0m\u001b[1;33m(\u001b[0m\u001b[0mnode\u001b[0m\u001b[1;33m,\u001b[0m \u001b[1;34m'single'\u001b[0m\u001b[1;33m)\u001b[0m\u001b[1;33m)\u001b[0m\u001b[1;33m\u001b[0m\u001b[1;33m\u001b[0m\u001b[0m\n",
      "\u001b[0m\u001b[1;32m   3348 \u001b[1;33m\u001b[1;33m\u001b[0m\u001b[0m\n",
      "\u001b[0m\u001b[1;32m-> 3349 \u001b[1;33m                \u001b[1;32mfor\u001b[0m \u001b[0mnode\u001b[0m\u001b[1;33m,\u001b[0m\u001b[0mmode\u001b[0m \u001b[1;32min\u001b[0m \u001b[0mto_run\u001b[0m\u001b[1;33m:\u001b[0m\u001b[1;33m\u001b[0m\u001b[1;33m\u001b[0m\u001b[0m\n",
      "\u001b[0m\u001b[1;32m   3350 \u001b[1;33m                    \u001b[1;32mif\u001b[0m \u001b[0mmode\u001b[0m \u001b[1;33m==\u001b[0m \u001b[1;34m'exec'\u001b[0m\u001b[1;33m:\u001b[0m\u001b[1;33m\u001b[0m\u001b[1;33m\u001b[0m\u001b[0m\n",
      "\u001b[0m\u001b[1;32m   3351 \u001b[1;33m                        \u001b[0mmod\u001b[0m \u001b[1;33m=\u001b[0m \u001b[0mModule\u001b[0m\u001b[1;33m(\u001b[0m\u001b[1;33m[\u001b[0m\u001b[0mnode\u001b[0m\u001b[1;33m]\u001b[0m\u001b[1;33m,\u001b[0m \u001b[1;33m[\u001b[0m\u001b[1;33m]\u001b[0m\u001b[1;33m)\u001b[0m\u001b[1;33m\u001b[0m\u001b[1;33m\u001b[0m\u001b[0m\n",
      "\u001b[0m\n",
      "ipdb> n\n",
      "> \u001b[1;32mc:\\users\\rakib\\appdata\\local\\programs\\python\\python39\\lib\\site-packages\\ipython\\core\\interactiveshell.py\u001b[0m(3350)\u001b[0;36mrun_ast_nodes\u001b[1;34m()\u001b[0m\n",
      "\u001b[1;32m   3348 \u001b[1;33m\u001b[1;33m\u001b[0m\u001b[0m\n",
      "\u001b[0m\u001b[1;32m   3349 \u001b[1;33m                \u001b[1;32mfor\u001b[0m \u001b[0mnode\u001b[0m\u001b[1;33m,\u001b[0m\u001b[0mmode\u001b[0m \u001b[1;32min\u001b[0m \u001b[0mto_run\u001b[0m\u001b[1;33m:\u001b[0m\u001b[1;33m\u001b[0m\u001b[1;33m\u001b[0m\u001b[0m\n",
      "\u001b[0m\u001b[1;32m-> 3350 \u001b[1;33m                    \u001b[1;32mif\u001b[0m \u001b[0mmode\u001b[0m \u001b[1;33m==\u001b[0m \u001b[1;34m'exec'\u001b[0m\u001b[1;33m:\u001b[0m\u001b[1;33m\u001b[0m\u001b[1;33m\u001b[0m\u001b[0m\n",
      "\u001b[0m\u001b[1;32m   3351 \u001b[1;33m                        \u001b[0mmod\u001b[0m \u001b[1;33m=\u001b[0m \u001b[0mModule\u001b[0m\u001b[1;33m(\u001b[0m\u001b[1;33m[\u001b[0m\u001b[0mnode\u001b[0m\u001b[1;33m]\u001b[0m\u001b[1;33m,\u001b[0m \u001b[1;33m[\u001b[0m\u001b[1;33m]\u001b[0m\u001b[1;33m)\u001b[0m\u001b[1;33m\u001b[0m\u001b[1;33m\u001b[0m\u001b[0m\n",
      "\u001b[0m\u001b[1;32m   3352 \u001b[1;33m                    \u001b[1;32melif\u001b[0m \u001b[0mmode\u001b[0m \u001b[1;33m==\u001b[0m \u001b[1;34m'single'\u001b[0m\u001b[1;33m:\u001b[0m\u001b[1;33m\u001b[0m\u001b[1;33m\u001b[0m\u001b[0m\n",
      "\u001b[0m\n",
      "ipdb> n\n",
      "> \u001b[1;32mc:\\users\\rakib\\appdata\\local\\programs\\python\\python39\\lib\\site-packages\\ipython\\core\\interactiveshell.py\u001b[0m(3351)\u001b[0;36mrun_ast_nodes\u001b[1;34m()\u001b[0m\n",
      "\u001b[1;32m   3349 \u001b[1;33m                \u001b[1;32mfor\u001b[0m \u001b[0mnode\u001b[0m\u001b[1;33m,\u001b[0m\u001b[0mmode\u001b[0m \u001b[1;32min\u001b[0m \u001b[0mto_run\u001b[0m\u001b[1;33m:\u001b[0m\u001b[1;33m\u001b[0m\u001b[1;33m\u001b[0m\u001b[0m\n",
      "\u001b[0m\u001b[1;32m   3350 \u001b[1;33m                    \u001b[1;32mif\u001b[0m \u001b[0mmode\u001b[0m \u001b[1;33m==\u001b[0m \u001b[1;34m'exec'\u001b[0m\u001b[1;33m:\u001b[0m\u001b[1;33m\u001b[0m\u001b[1;33m\u001b[0m\u001b[0m\n",
      "\u001b[0m\u001b[1;32m-> 3351 \u001b[1;33m                        \u001b[0mmod\u001b[0m \u001b[1;33m=\u001b[0m \u001b[0mModule\u001b[0m\u001b[1;33m(\u001b[0m\u001b[1;33m[\u001b[0m\u001b[0mnode\u001b[0m\u001b[1;33m]\u001b[0m\u001b[1;33m,\u001b[0m \u001b[1;33m[\u001b[0m\u001b[1;33m]\u001b[0m\u001b[1;33m)\u001b[0m\u001b[1;33m\u001b[0m\u001b[1;33m\u001b[0m\u001b[0m\n",
      "\u001b[0m\u001b[1;32m   3352 \u001b[1;33m                    \u001b[1;32melif\u001b[0m \u001b[0mmode\u001b[0m \u001b[1;33m==\u001b[0m \u001b[1;34m'single'\u001b[0m\u001b[1;33m:\u001b[0m\u001b[1;33m\u001b[0m\u001b[1;33m\u001b[0m\u001b[0m\n",
      "\u001b[0m\u001b[1;32m   3353 \u001b[1;33m                        \u001b[0mmod\u001b[0m \u001b[1;33m=\u001b[0m \u001b[0mast\u001b[0m\u001b[1;33m.\u001b[0m\u001b[0mInteractive\u001b[0m\u001b[1;33m(\u001b[0m\u001b[1;33m[\u001b[0m\u001b[0mnode\u001b[0m\u001b[1;33m]\u001b[0m\u001b[1;33m)\u001b[0m\u001b[1;33m\u001b[0m\u001b[1;33m\u001b[0m\u001b[0m\n",
      "\u001b[0m\n"
     ]
    }
   ],
   "source": [
    "# # module =file that contain useful file\n",
    "# step of debugging\n",
    "# 1.set trace\n",
    "# 3.execute line by line\n",
    "#\n",
    "# command:\n",
    "# l=list\n",
    "# n=next\n",
    "# q=quit()\n",
    "# c=continue --->code run coniniously\n",
    "\n",
    "import pdb\n",
    "pdb.set_trace()#u can use set trace anywhere it is your common sence\n",
    "# use it where you thik error has\n",
    "age=input('please enter your age :')\n",
    "interest=input('enter your interest')\n",
    "age2=age+5\n",
    "print(age2)\n"
   ]
  },
  {
   "cell_type": "markdown",
   "id": "tight-mattress",
   "metadata": {},
   "source": [
    "# tutorial 213  python readlines\n",
    "* f.open\n",
    "* f.name()\n",
    "* f.close()\n",
    "* f.readline()"
   ]
  },
  {
   "cell_type": "code",
   "execution_count": 6,
   "id": "composed-lender",
   "metadata": {},
   "outputs": [
    {
     "name": "stdout",
     "output_type": "stream",
     "text": [
      "tutorial 213.txt\n",
      "False\n",
      "my hometown in old city of dhaka\n",
      "\n"
     ]
    }
   ],
   "source": [
    "f=open('tutorial 213.txt','r')\n",
    "print(f.name)\n",
    "print(f.closed)\n",
    "\n",
    "for line in f.readlines()[1:2]:\n",
    "    print(line)"
   ]
  },
  {
   "cell_type": "code",
   "execution_count": 9,
   "id": "experimental-dollar",
   "metadata": {},
   "outputs": [
    {
     "name": "stdout",
     "output_type": "stream",
     "text": [
      "Using for loop\n",
      "Line1: Geeks\n",
      "Line2: for\n",
      "Line3: Geeks\n"
     ]
    }
   ],
   "source": [
    "L = [\"Geeks\\n\", \"for\\n\", \"Geeks\\n\"]\n",
    "\n",
    "# Writing to file\n",
    "file1 = open('myfile.txt', 'w')\n",
    "file1.writelines(L)\n",
    "file1.close()\n",
    "\n",
    "# Opening file\n",
    "file1 = open('myfile.txt', 'r')\n",
    "count = 0\n",
    "\n",
    "# Using for loop\n",
    "print(\"Using for loop\")\n",
    "for line in file1:\n",
    "\tcount += 1\n",
    "\tprint(\"Line{}: {}\".format(count, line.strip()))"
   ]
  },
  {
   "cell_type": "markdown",
   "id": "metropolitan-terminal",
   "metadata": {},
   "source": [
    "# Tutorial 213\n",
    "* read()\n",
    "* tell()--->it is giving cursor position\n",
    "* seek()----> it is use to change cursor position"
   ]
  },
  {
   "cell_type": "code",
   "execution_count": 22,
   "id": "crucial-portland",
   "metadata": {},
   "outputs": [
    {
     "name": "stdout",
     "output_type": "stream",
     "text": [
      "cursor position --->0\n",
      "result of f.read() :\n",
      "hi i am rakib hasan\n",
      "my hometown in old city of dhaka\n",
      "my favorite sports is cricket\n",
      "my favorite food is brinary\n",
      "it is use for make a simple python code\n",
      "f.tell() result : 154\n",
      "\n",
      "\n",
      "after seek method :\n",
      "f.seek(9) giving result : 9\n",
      "akib hasan\n",
      "my hometown in old city of dhaka\n",
      "my favorite sports is cricket\n",
      "my favorite food is brinary\n",
      "it is use for make a simple python code\n",
      "None\n"
     ]
    }
   ],
   "source": [
    "f=open('tutorial 213.txt')\n",
    "print(f'cursor position --->{f.tell()}')\n",
    "print('result of f.read() :\\n'+f.read())\n",
    "print( f'f.tell() result : {f.tell()}')\n",
    "\n",
    "print('\\n\\nafter seek method :')\n",
    "f.seek(9)\n",
    "print('f.seek(9) giving result :',f.tell())\n",
    "print(f.read()) # because cursor position start with position 9\n",
    "print(f.close())"
   ]
  },
  {
   "cell_type": "code",
   "execution_count": 34,
   "id": "verbal-denver",
   "metadata": {},
   "outputs": [
    {
     "name": "stdout",
     "output_type": "stream",
     "text": [
      "hi i a\n",
      "m rakib hasan\n",
      "\n",
      "my hometown in old city of dhaka\n"
     ]
    }
   ],
   "source": [
    "f=open('tutorial 213.txt')\n",
    "print(f.readline(6))\n",
    "#  file.readline(size)\n",
    "print(f.readline())\n",
    "print(f.readline(),end='')"
   ]
  },
  {
   "cell_type": "code",
   "execution_count": 41,
   "id": "bright-conditions",
   "metadata": {},
   "outputs": [],
   "source": [
    "# python readlines\n",
    "\n",
    "lines=f.readlines()\n",
    "for line in lines:\n",
    "    print(line)"
   ]
  },
  {
   "cell_type": "code",
   "execution_count": 45,
   "id": "difficult-platform",
   "metadata": {},
   "outputs": [
    {
     "name": "stdout",
     "output_type": "stream",
     "text": [
      "hi i am rakib hasan\n",
      "my hometown in old city of dhaka\n",
      "my favorite sports is cricket\n",
      "my favorite food is brinary\n",
      "it is use for make a simple python codetutorial 213.txt\n"
     ]
    }
   ],
   "source": [
    "# python readlines\n",
    "f=open('tutorial 213.txt')\n",
    "lines=f.readlines()\n",
    "for line in lines:\n",
    "    print(line,end='')\n",
    "\n",
    "print(f.name)"
   ]
  },
  {
   "cell_type": "markdown",
   "id": "alike-robin",
   "metadata": {},
   "source": [
    "# Tutorial 214 read file as a block"
   ]
  },
  {
   "cell_type": "code",
   "execution_count": 47,
   "id": "dangerous-remark",
   "metadata": {},
   "outputs": [
    {
     "name": "stdout",
     "output_type": "stream",
     "text": [
      "hi i am rakib hasan\n",
      "my hometown in old city of dhaka\n",
      "my favorite sports is cricket\n",
      "my favorite food is brinary\n",
      "it is use for make a simple python code\n",
      "None\n"
     ]
    }
   ],
   "source": [
    "with open('tutorial 213.txt') as f:\n",
    "    data=f.read()\n",
    "    print(data)\n",
    "\n",
    "print(f.close())"
   ]
  },
  {
   "cell_type": "markdown",
   "id": "breathing-ontario",
   "metadata": {},
   "source": [
    "# tutorial 215\n",
    "* w use when your file is empty and you dont want to delete your file\n",
    "* it also make a new flile\n",
    "* w,a=append,r+=write and read\n",
    "* r+ does not create file"
   ]
  },
  {
   "cell_type": "code",
   "execution_count": 54,
   "id": "effective-worcester",
   "metadata": {},
   "outputs": [],
   "source": [
    "# it create a new file\n",
    "# it write one thing in one time\n",
    "\n",
    "with open('tutorial 215.txt','w') as f:\n",
    "    f.write(' hello this is write method')"
   ]
  },
  {
   "cell_type": "code",
   "execution_count": 57,
   "id": "quick-neighbor",
   "metadata": {},
   "outputs": [],
   "source": [
    "with open('tutorial 215.txt','a') as f:\n",
    "     f.write('\\n this is append method')\n",
    "#it print as much time you run it"
   ]
  },
  {
   "cell_type": "code",
   "execution_count": 60,
   "id": "fourth-afternoon",
   "metadata": {},
   "outputs": [],
   "source": [
    "#important\n",
    "with open('tutorial 215.txt', 'r+') as f:\n",
    "    f.seek(len(f.read()))#it is use to set cursor point at the end\n",
    "    f.write('\\n this is read_write method\\n')"
   ]
  },
  {
   "cell_type": "markdown",
   "id": "requested-seller",
   "metadata": {},
   "source": [
    "# Tutorial 216 python read and write"
   ]
  },
  {
   "cell_type": "code",
   "execution_count": 63,
   "id": "improving-latter",
   "metadata": {},
   "outputs": [],
   "source": [
    "with open('t216_r.txt','r') as f:\n",
    "    with open('t216_w.txt','w') as f1:\n",
    "        f1.write(f.read())"
   ]
  },
  {
   "cell_type": "markdown",
   "id": "polyphonic-pricing",
   "metadata": {},
   "source": [
    "# Tutorial 218 exercise"
   ]
  },
  {
   "cell_type": "code",
   "execution_count": 65,
   "id": "neither-traveler",
   "metadata": {},
   "outputs": [],
   "source": [
    "# important\n",
    "with open('t218_r.txt','r') as f:\n",
    "    with open('t218_w.txt','a') as f1:\n",
    "        for line in f.readlines():\n",
    "            name,data=line.split(',')\n",
    "            f1.write(f' name is {name} information is: {data}')\n",
    "        \n",
    "    "
   ]
  },
  {
   "cell_type": "markdown",
   "id": "encouraging-characterization",
   "metadata": {},
   "source": [
    "# Tutorial 220 find any things"
   ]
  },
  {
   "cell_type": "code",
   "execution_count": 16,
   "id": "manual-chart",
   "metadata": {},
   "outputs": [],
   "source": [
    "with open('t220.html','r') as webpage:\n",
    "    with open('Tutorial220.txt','a') as wf:\n",
    "        for line in webpage.readlines():\n",
    "            if '<a href=\"' in line:\n",
    "                position=line.find('<a href=')\n",
    "                first_quote=line.find('\\\"',position)\n",
    "                second_quote=line.find('\\\"',first_quote+1)\n",
    "                url=line[first_quote+1:second_quote]\n",
    "                wf.write(url +'\\n')\n",
    "#                 line=line[second_quote:] no change"
   ]
  },
  {
   "cell_type": "markdown",
   "id": "liked-permit",
   "metadata": {},
   "source": [
    "# tutorial 221 better solution"
   ]
  },
  {
   "cell_type": "code",
   "execution_count": 18,
   "id": "dangerous-article",
   "metadata": {},
   "outputs": [],
   "source": [
    "with open('t220.html','r') as webpage:\n",
    "    with open('Tutorial221.txt','a') as wf:\n",
    "        page=webpage.read()\n",
    "        link_exist=True\n",
    "        while link_exist:\n",
    "            pos=page.find('<a href=\"')\n",
    "            if pos == -1:\n",
    "                link_exist=False\n",
    "            else:\n",
    "                first_quote=page.find('\\\"',pos)\n",
    "                second_quote=page.find('\\\"',first_quote+1)\n",
    "                url=page[first_quote+1 : second_quote]\n",
    "                wf.write(url + '\\n')\n",
    "                page=page[first_quote : ] # after get first thing it again start with first things\n",
    "                \n",
    "                "
   ]
  },
  {
   "cell_type": "markdown",
   "id": "prostate-vertical",
   "metadata": {},
   "source": [
    "# Tutorial 223 "
   ]
  },
  {
   "cell_type": "code",
   "execution_count": 1,
   "id": "military-phone",
   "metadata": {},
   "outputs": [
    {
     "name": "stdout",
     "output_type": "stream",
     "text": [
      "utf-8\n",
      "702 ;\ttext ;\tL1 ;\tnone ;\tz j w\t# V1.1 (✂) BLACK SCISSORS\n",
      "2705 ;\temoji ;\tL1 ;\tnone ;\tj\t# V6.0 (✅) WHITE HEAVY CHECK MARK\n",
      "2708 ;\ttext ;\tL1 ;\tnone ;\tz a j w\t# V1.1 (✈) AIRPLANE\n",
      "2709 ;\ttext ;\tL1 ;\tnone ;\tz j\t# V1.1 (✉) ENVELOPE\n",
      "270A ;\temoji ;\tL1 ;\tsecondary ;\tj\t# V6.0 (✊) RAISED FIST\n",
      "270B ;\temoji ;\tL1 ;\tsecondary ;\tj\t# V6.0 (✋) RAISED HAND\n",
      "270C ;\ttext ;\tL1 ;\tsecondary ;\tz j w\t# V1.1 (✌) VICTORY HAND\n",
      "270D ;\ttext ;\tL2 ;\tsecondary ;\tz w\t# V1.1 (✍) WRITING HAND\n",
      "270F ;\ttext ;\tL1 ;\tnone ;\tz j\t# V1.1 (✏) PENCIL\n",
      "2712 ;\ttext ;\tL1 ;\tnone ;\tz j\t# V1.1 (✒) BLACK NIB\n",
      "2714 ;\ttext ;\tL1 ;\tnone ;\tz j w\t# V1.1 (✔) HEAVY CHECK MARK\n",
      "2716 ;\ttext ;\tL1 ;\tnone ;\tz j\t# V1.1 (✖) HEAVY MULTIPLICATION X\n",
      "271D ;\ttext ;\tL2 ;\tnone ;\tw\t# V1.1 (✝) LATIN CROSS\n",
      "2721 ;\ttext ;\tL2 ;\tnone ;\tw\t# V1.1 (✡) STAR OF DAVID\n",
      "2728 ;\temoji ;\tL1 ;\tnone ;\tj\t# V6.0 (✨) SPARKLES\n",
      "2733 ;\ttext ;\tL1 ;\tnone ;\tz j\t# V1.1 (✳) EIGHT SPOKED ASTERISK\n",
      "2734 ;\ttext ;\tL1 ;\tnone ;\tz j\t# V1.1 (✴) EIGHT POINTED BLACK S\n"
     ]
    }
   ],
   "source": [
    "# emoji text file\n",
    "with open('emoji.txt','r',encoding='utf-8') as f:\n",
    "    print(f.encoding)\n",
    "    data=f.read()\n",
    "    print(data)"
   ]
  },
  {
   "cell_type": "code",
   "execution_count": 5,
   "id": "municipal-payment",
   "metadata": {},
   "outputs": [],
   "source": [
    "with open('tutorial223.txt','r') as f:\n",
    "    data=f.read(100)#i want to read first 100 cherecter\n",
    "    while len(data)>0:\n",
    "        print(data)\n",
    "        data=f.read(100)\n"
   ]
  },
  {
   "cell_type": "code",
   "execution_count": 7,
   "id": "opening-twenty",
   "metadata": {},
   "outputs": [
    {
     "name": "stdout",
     "output_type": "stream",
     "text": [
      "These games are created not only as a gaming experience but also as a way of exploiting the most adv\n",
      "anced new graphic technologies. For those looking to upgrade their rig in 2020, look to the recommen\n",
      "ded requirements of these 15 most GPU intensive games to get inspiration.\n",
      "\n",
      "Updated on 13th of Februa\n",
      "ry, 2020 by Anastasia Maillot: Technology is constantly improving year after year. Just the sheer sc\n",
      "ope of what games can do is expanding all the time, which is why so many incredible-looking games ar\n",
      "e currently out on the market.\n",
      "\n",
      "With some upcoming titles, recent PC releases and a few we didn't me\n",
      "ntion before, we're sharing five additional games that extremely GPU-intensive and require top-notch\n",
      " gear to run at their highest settings.\n",
      "\n",
      "15\n",
      "Forza Horizon 4\n",
      "\n",
      "Forza Horizon 4 doesn't take any chance\n",
      "s when it comes to graphics. The gorgeous environments through which players can drive their race ca\n",
      "rs are a huge testament to just how much detail and work the developers chose to put into the game. \n",
      "Ideally, that's how this game should be played: at maximum graphics settings to get the full experie\n",
      "nce.\n",
      "\n",
      "The game recommends an Nvidia GTX 970 or an AMD R9 290X to run the game at aesthetically pleas\n",
      "ant settings. It's also a bit of a RAM gobbler, demanding 12GB of RAM which is quite significant, co\n",
      "nsidering many standard PCs will have 8 to 16 GB available right off the bat.\n",
      "\n",
      "14\n",
      "Grand Theft Auto V\n",
      "\n",
      "\n",
      "As with any open-world type of game, with Grand Theft Auto V the issue is usually with how big and\n",
      " graphically demanding the world is. The developers have stated that on PC the game can run all the \n",
      "way up to 4K resolution and even above, so to get the full experience one would have to have an abso\n",
      "lute beast of a computer.\n",
      "\n",
      "RELATED:\n",
      "10 Of The Best Grand Theft Auto 6 Rumors (So Far)\n",
      "\n",
      "That being sa\n",
      "id, just reaching the recommended settings shouldn't be too hard for most players utilizing an Nvidi\n",
      "a GTX 660 or AMD HD 7870. It's the budget option, but for players wanting to get the absolute maximu\n",
      "m experience, going well above that tier is an absolute must if they want the game to run smoothly a\n",
      "t 60 FPS.\n",
      "\n",
      "13\n",
      "Control\n",
      "\n",
      "While Control won't be out on PC for another six months or so, just based on \n",
      "the console gameplay and some of the early testing and predictions, it can be determined that the ga\n",
      "me will require a very reliable GPU and overall PC in order to run at its maximum efficiency. The li\n",
      "ghts, shadows, and special effects in particular are bound to make any average GPUs suffer.\n",
      "\n",
      "Early t\n",
      "esting has shown that to run Control at high FPS, Nvidia GTX 1660 Ti is one of the best ones to do s\n",
      "o. This is not your average GPU. However, it will definitely do the trick. AMD users can opt for the\n",
      " RX 590 or better to hit 60 fps on average.\n"
     ]
    }
   ],
   "source": [
    "with open('tutorial223.txt','r') as f:\n",
    "    data=f.read(100)#i want to read first 100 cherecter\n",
    "    while len(data)>0:\n",
    "        print(data)\n",
    "        data=f.read(100)\n",
    "# jupyter notebook can't print this data"
   ]
  },
  {
   "cell_type": "markdown",
   "id": "comparable-miami",
   "metadata": {},
   "source": [
    "# Tutorial 224 read Csv file (important)\n",
    "* DictReader(f,delimiter='|')\n",
    "* reader "
   ]
  },
  {
   "cell_type": "code",
   "execution_count": 15,
   "id": "decimal-preparation",
   "metadata": {},
   "outputs": [
    {
     "name": "stdout",
     "output_type": "stream",
     "text": [
      "{'name': 'rakib hasan', 'email': 'r@gmail.com', 'phone': '8998908'}\n",
      "result of row['email']  : r@gmail.com\n",
      "{'name': 'sabuj', 'email': 's@gmail.com', 'phone': '889080'}\n",
      "result of row['email']  : s@gmail.com\n",
      "{'name': 'sagor', 'email': 'ss@gmail.com', 'phone': '9897837'}\n",
      "result of row['email']  : ss@gmail.com\n"
     ]
    }
   ],
   "source": [
    "from csv import DictReader\n",
    "\n",
    "with open('Tutorial224.csv','r') as f:\n",
    "    data = DictReader(f)\n",
    "    for row in data:\n",
    "        print(row)   # csv = comma separated value\n",
    "        # csv is one type of order dictionary\n",
    "        print('result of row[\\'email\\']  :',row['email'])"
   ]
  },
  {
   "cell_type": "code",
   "execution_count": 20,
   "id": "median-cancellation",
   "metadata": {},
   "outputs": [
    {
     "name": "stdout",
     "output_type": "stream",
     "text": [
      "['name', 'email', 'phone']\n",
      "['rakib hasan', 'r@gmail.com', '8998908']\n",
      "['sabuj', 's@gmail.com', '889080']\n",
      "['sagor', 'ss@gmail.com', '9897837']\n"
     ]
    }
   ],
   "source": [
    "from csv import reader  #reader give a list value\n",
    "with open('Tutorial224.csv','r') as g:\n",
    "    data= reader(g)\n",
    "    for row in data:\n",
    "        print(row)\n",
    "#         print(row['email'])  error\n",
    "# professional use dictreader  dictreader is better than reader"
   ]
  },
  {
   "cell_type": "code",
   "execution_count": 21,
   "id": "inner-minnesota",
   "metadata": {},
   "outputs": [
    {
     "name": "stdout",
     "output_type": "stream",
     "text": [
      "['rakib hasan', 'r@gmail.com', '8998908']\n",
      "['sabuj', 's@gmail.com', '889080']\n",
      "['sagor', 'ss@gmail.com', '9897837']\n"
     ]
    }
   ],
   "source": [
    "from csv import reader  #reader give a list value\n",
    "with open('Tutorial224.csv','r') as g:\n",
    "    data= reader(g)\n",
    "    next(data)#it prevent to print frist data\n",
    "    for row in data:\n",
    "        print(row)"
   ]
  },
  {
   "cell_type": "markdown",
   "id": "future-sector",
   "metadata": {},
   "source": [
    "# Tutorial 225 csv writer\n",
    "* writerow\n",
    "* writerows\n",
    "* __newline__"
   ]
  },
  {
   "cell_type": "code",
   "execution_count": 30,
   "id": "incident-financing",
   "metadata": {},
   "outputs": [],
   "source": [
    "from csv import writer\n",
    "with open('Tutorial225.csv','w',newline='') as f:\n",
    "    csv_write=writer(f)\n",
    "    csv_write.writerow(['name','age'])    \n",
    "    csv_write.writerow(['rakib','20'])    \n",
    "    csv_write.writerow(['sobuj','21'])"
   ]
  },
  {
   "cell_type": "code",
   "execution_count": 31,
   "id": "circular-bunch",
   "metadata": {},
   "outputs": [],
   "source": [
    "from csv import writer\n",
    "with open('Tutorial225_2.csv','w',newline='') as f:\n",
    "    csv_write=writer(f)\n",
    "    csv_write.writerows([['name','age'],['rakib','20'],['sobuj','21'],['hasan','22']])"
   ]
  },
  {
   "cell_type": "markdown",
   "id": "imperial-easter",
   "metadata": {},
   "source": [
    "# Tutorial 226\n",
    "- Dictwriter(f,['argument','argument',........])\n",
    "- writeheader()\n",
    "- writerow,writerows"
   ]
  },
  {
   "cell_type": "code",
   "execution_count": 34,
   "id": "offshore-bermuda",
   "metadata": {},
   "outputs": [],
   "source": [
    "#importat\n",
    "from csv import DictWriter\n",
    "\n",
    "with open('turorial226.csv','w',newline='') as f:\n",
    "    csv_write=DictWriter(f,['name','age'])\n",
    "    csv_write.writeheader()\n",
    "    csv_write.writerow({'name':'rakib','age':'21'})    \n",
    "    csv_write.writerow({'name':'hasan','age':'22'})    \n",
    "    csv_write.writerow({'name':'sabuj','age':'23'})"
   ]
  },
  {
   "cell_type": "code",
   "execution_count": 36,
   "id": "central-macedonia",
   "metadata": {},
   "outputs": [],
   "source": [
    "#importat\n",
    "from csv import DictWriter\n",
    "\n",
    "with open('turorial226-2.csv','w',newline='') as f:\n",
    "    csv_write=DictWriter(f,['name','age'])\n",
    "    csv_write.writeheader()\n",
    "    csv_write.writerows([\n",
    "        {'name':'rakib','age':'21'},\n",
    "         {'name':'hasan','age':'22'},\n",
    "         {'name':'sabuj','age':'23'},\n",
    "    ])"
   ]
  },
  {
   "cell_type": "markdown",
   "id": "champion-kruger",
   "metadata": {},
   "source": [
    "# Tutorial 227 csv read and write (important)\n",
    "* how to change all column by row separation "
   ]
  },
  {
   "cell_type": "code",
   "execution_count": 41,
   "id": "stylish-priest",
   "metadata": {},
   "outputs": [],
   "source": [
    "# important\n",
    "from csv import DictReader , DictWriter\n",
    "with open('Tutorial227_read.csv','r') as rf:\n",
    "    with open('Tutorial227_write.csv','w',newline='') as wf:\n",
    "        \n",
    "        csv_reader=DictReader(rf)\n",
    "        csv_writer=DictWriter(wf,['first_name','last_name','age'])\n",
    "        csv_writer.writeheader()\n",
    "        \n",
    "        for row in csv_reader:\n",
    "            fname,lname,age=row['first_name'],row['last_name'],row['age']\n",
    "            csv_writer.writerow(\n",
    "            {\n",
    "                'first_name':fname.upper(),\n",
    "                'last_name' :lname.title(),\n",
    "                'age'       :age\n",
    "            })\n",
    "            \n",
    "        "
   ]
  },
  {
   "cell_type": "markdown",
   "id": "close-heavy",
   "metadata": {},
   "source": [
    "# Tutorial 228 python Os module\n",
    "* getcwd= get current work directory\n",
    "* mkdir= make directory make folder\n",
    "* os.path.exists('file name')  # to check file existance\n",
    "* chdir= change directory\n",
    "* listdir()\n",
    "* to create new file = open('file','a').close()"
   ]
  },
  {
   "cell_type": "code",
   "execution_count": 42,
   "id": "latest-serum",
   "metadata": {},
   "outputs": [
    {
     "data": {
      "text/plain": [
       "'E:\\\\genaral practice'"
      ]
     },
     "execution_count": 42,
     "metadata": {},
     "output_type": "execute_result"
    }
   ],
   "source": [
    "import os\n",
    "os.getcwd()"
   ]
  },
  {
   "cell_type": "code",
   "execution_count": 43,
   "id": "right-romania",
   "metadata": {},
   "outputs": [],
   "source": [
    "os.mkdir('testdata228') # it make a new file"
   ]
  },
  {
   "cell_type": "code",
   "execution_count": 44,
   "id": "former-active",
   "metadata": {},
   "outputs": [
    {
     "name": "stdout",
     "output_type": "stream",
     "text": [
      "it exist\n"
     ]
    }
   ],
   "source": [
    "if os.path.exists('emoji.txt'):\n",
    "    print('it exist')\n",
    "else:\n",
    "    print('it does not exist')"
   ]
  },
  {
   "cell_type": "code",
   "execution_count": 45,
   "id": "neither-majority",
   "metadata": {},
   "outputs": [
    {
     "name": "stdout",
     "output_type": "stream",
     "text": [
      "None\n"
     ]
    }
   ],
   "source": [
    "print(open('test_data228.txt','a').close())"
   ]
  },
  {
   "cell_type": "code",
   "execution_count": 46,
   "id": "abandoned-cotton",
   "metadata": {},
   "outputs": [
    {
     "name": "stdout",
     "output_type": "stream",
     "text": [
      "E:\\genaral practice\\.ipynb_checkpoints\n",
      "E:\\genaral practice\\409239e5-8478-42c2-8448-2c548ad18fcd.jfif\n",
      "E:\\genaral practice\\Decorator-4.png\n",
      "E:\\genaral practice\\decorators_step.png\n",
      "E:\\genaral practice\\decorators_step2.png\n",
      "E:\\genaral practice\\emoji.txt\n",
      "E:\\genaral practice\\for vs while.jpg\n",
      "E:\\genaral practice\\guess-the-number-flowchart-while-loop-768x658.png\n",
      "E:\\genaral practice\\myfile.txt\n",
      "E:\\genaral practice\\OIP.jfif\n",
      "E:\\genaral practice\\practice again.ipynb\n",
      "E:\\genaral practice\\python class practice.ipynb\n",
      "E:\\genaral practice\\python from youtube tutorial\n",
      "E:\\genaral practice\\Python-Decorators-Explained.png\n",
      "E:\\genaral practice\\python_dictionary.ipynb\n",
      "E:\\genaral practice\\python_while_loop.jpg\n",
      "E:\\genaral practice\\t.webp\n",
      "E:\\genaral practice\\t216_r.txt\n",
      "E:\\genaral practice\\t216_w.txt\n",
      "E:\\genaral practice\\t218_r.txt\n",
      "E:\\genaral practice\\t218_w.txt\n",
      "E:\\genaral practice\\t220.html\n",
      "E:\\genaral practice\\test_data228.txt\n",
      "E:\\genaral practice\\turorial226-2.csv\n",
      "E:\\genaral practice\\turorial226.csv\n",
      "E:\\genaral practice\\tutorial 213.txt\n",
      "E:\\genaral practice\\tutorial 215.txt\n",
      "E:\\genaral practice\\Tutorial220.txt\n",
      "E:\\genaral practice\\Tutorial221.txt\n",
      "E:\\genaral practice\\tutorial223.txt\n",
      "E:\\genaral practice\\Tutorial224.csv\n",
      "E:\\genaral practice\\Tutorial225.csv\n",
      "E:\\genaral practice\\Tutorial225_2.csv\n",
      "E:\\genaral practice\\Tutorial227_read.csv\n",
      "E:\\genaral practice\\Tutorial227_write.csv\n",
      "E:\\genaral practice\\yacht_concept_luxury_100155_1366x768.jpg\n"
     ]
    }
   ],
   "source": [
    "for item in os.listdir():\n",
    "    path=os.path.join(os.getcwd(),item)\n",
    "    print(path)"
   ]
  },
  {
   "cell_type": "code",
   "execution_count": 47,
   "id": "postal-capital",
   "metadata": {},
   "outputs": [
    {
     "name": "stdout",
     "output_type": "stream",
     "text": [
      "-------------type2------------------\n",
      "F:\\Adobe Illustrator CC 2017 v21.0 (x86x64)\\x86\\Read me (how to install).txt\n"
     ]
    }
   ],
   "source": [
    "print('-------------type2------------------')\n",
    "for i in os.listdir(r'F:\\Adobe Illustrator CC 2017 v21.0 (x86x64)\\x86'):\n",
    "    path=os.path.join(r'F:\\Adobe Illustrator CC 2017 v21.0 (x86x64)\\x86',i)\n",
    "print(path)"
   ]
  },
  {
   "cell_type": "markdown",
   "id": "included-lodge",
   "metadata": {},
   "source": [
    "# Tutorial 229 os module part 2\n",
    "\n",
    "*          rmdir= remove directory\n",
    "*          mkdirs= make directory inside directory\n",
    "*          rmtree= remove parmanently\n",
    "*           shutil.rmtree()\n",
    "*          shutil.copytree(file_name,where_u want to copy/file new name)\n",
    "*          shutil.cope('file name','file new name')\n",
    "*          shutil.move('file','new file')\n",
    "*          os.walk()\n"
   ]
  },
  {
   "cell_type": "code",
   "execution_count": 55,
   "id": "commercial-blood",
   "metadata": {
    "collapsed": true
   },
   "outputs": [
    {
     "name": "stdout",
     "output_type": "stream",
     "text": [
      "current path : F:\\Adobe Illustrator CC 2017 v21.0 (x86x64)\n",
      "current folder : ['x64', 'x86']\n",
      "current file : []\n",
      "current path : F:\\Adobe Illustrator CC 2017 v21.0 (x86x64)\\x64\n",
      "current folder : ['Activator', 'AdobeIllustrator21_HD_win64']\n",
      "current file : ['AdobeIllustrator21_HD_win64.part1.exe', 'AdobeIllustrator21_HD_win64.part2.rar', 'AdobeIllustrator21_HD_win64.part3.rar', 'Read me (how to install).txt']\n",
      "current path : F:\\Adobe Illustrator CC 2017 v21.0 (x86x64)\\x64\\Activator\n",
      "current folder : ['Activation Tutorial']\n",
      "current file : ['Activator.rar', 'Read me (how to install).txt']\n",
      "current path : F:\\Adobe Illustrator CC 2017 v21.0 (x86x64)\\x64\\Activator\\Activation Tutorial\n",
      "current folder : []\n",
      "current file : ['1.jpg', '10.jpg', '11.jpg', '2.jpg', '3.jpg', '4.jpg', '5.jpg', '6.jpg', '7.jpg', '8.jpg', '9.jpg']\n",
      "current path : F:\\Adobe Illustrator CC 2017 v21.0 (x86x64)\\x64\\AdobeIllustrator21_HD_win64\n",
      "current folder : ['packages', 'products', 'resources', '__MACOSX']\n",
      "current file : ['itnext.ico', 'itnextdigital.com.jpg', 'Set-up.exe']\n",
      "current path : F:\\Adobe Illustrator CC 2017 v21.0 (x86x64)\\x64\\AdobeIllustrator21_HD_win64\\packages\n",
      "current folder : ['AAM', 'ACC', 'ADC']\n",
      "current file : ['.DS_Store', 'ApplicationInfo.xml']\n",
      "current path : F:\\Adobe Illustrator CC 2017 v21.0 (x86x64)\\x64\\AdobeIllustrator21_HD_win64\\packages\\AAM\n",
      "current folder : ['AdobeGCClient', 'CCM', 'core', 'D6', 'DECore', 'DWA', 'IPC', 'LWA', 'P6', 'P7', 'UWA']\n",
      "current file : ['install.sig']\n",
      "current path : F:\\Adobe Illustrator CC 2017 v21.0 (x86x64)\\x64\\AdobeIllustrator21_HD_win64\\packages\\AAM\\AdobeGCClient\n",
      "current folder : []\n",
      "current file : ['AdobeGCClient.pima', 'AdobeGCClient.pimx', 'AdobeGCClient.sig']\n",
      "current path : F:\\Adobe Illustrator CC 2017 v21.0 (x86x64)\\x64\\AdobeIllustrator21_HD_win64\\packages\\AAM\\CCM\n",
      "current folder : []\n",
      "current file : ['CCM.pima', 'CCM.pimx', 'CCM.sig', 'CCMLegacy.pima', 'CCMLegacy.sig']\n",
      "current path : F:\\Adobe Illustrator CC 2017 v21.0 (x86x64)\\x64\\AdobeIllustrator21_HD_win64\\packages\\AAM\\core\n",
      "current folder : []\n",
      "current file : ['PDApp.pima', 'PDApp.pimx', 'PDApp.sig']\n",
      "current path : F:\\Adobe Illustrator CC 2017 v21.0 (x86x64)\\x64\\AdobeIllustrator21_HD_win64\\packages\\AAM\\D6\n",
      "current folder : []\n",
      "current file : ['D6.pima', 'D6.pimx', 'D6.sig']\n",
      "current path : F:\\Adobe Illustrator CC 2017 v21.0 (x86x64)\\x64\\AdobeIllustrator21_HD_win64\\packages\\AAM\\DECore\n",
      "current folder : []\n",
      "current file : ['DECore.pima', 'DECore.pimx', 'DECore.sig']\n",
      "current path : F:\\Adobe Illustrator CC 2017 v21.0 (x86x64)\\x64\\AdobeIllustrator21_HD_win64\\packages\\AAM\\DWA\n",
      "current folder : []\n",
      "current file : ['DWA.pima', 'DWA.pimx', 'DWA.sig']\n",
      "current path : F:\\Adobe Illustrator CC 2017 v21.0 (x86x64)\\x64\\AdobeIllustrator21_HD_win64\\packages\\AAM\\IPC\n",
      "current folder : []\n",
      "current file : ['IPC.pima', 'IPC.pimx', 'IPC.sig']\n",
      "current path : F:\\Adobe Illustrator CC 2017 v21.0 (x86x64)\\x64\\AdobeIllustrator21_HD_win64\\packages\\AAM\\LWA\n",
      "current folder : []\n",
      "current file : ['LWA.pima', 'LWA.pimx', 'LWA.sig']\n",
      "current path : F:\\Adobe Illustrator CC 2017 v21.0 (x86x64)\\x64\\AdobeIllustrator21_HD_win64\\packages\\AAM\\P6\n",
      "current folder : []\n",
      "current file : ['P6.pima', 'P6.pimx', 'P6.sig']\n",
      "current path : F:\\Adobe Illustrator CC 2017 v21.0 (x86x64)\\x64\\AdobeIllustrator21_HD_win64\\packages\\AAM\\P7\n",
      "current folder : []\n",
      "current file : ['P7.pima', 'P7.pimx', 'P7.sig']\n",
      "current path : F:\\Adobe Illustrator CC 2017 v21.0 (x86x64)\\x64\\AdobeIllustrator21_HD_win64\\packages\\AAM\\UWA\n",
      "current folder : []\n",
      "current file : ['UWA.pima', 'UWA.pimx', 'UWA.sig']\n",
      "current path : F:\\Adobe Illustrator CC 2017 v21.0 (x86x64)\\x64\\AdobeIllustrator21_HD_win64\\packages\\ACC\n",
      "current folder : ['ACCC', 'AppsPanel', 'AssetsPanel', 'BehancePanel', 'CCLibrary', 'CCSyncPlugin', 'CCXProcess', 'CoreSync', 'CoreSyncExtension', 'DesignLibraryPlugin', 'ExchangePlugin', 'FilesPanel', 'FontsPanel', 'HDCore', 'HomePanel', 'LiveType', 'MarketPanel', 'SPanel', 'SynKit', 'Utils']\n",
      "current file : []\n",
      "current path : F:\\Adobe Illustrator CC 2017 v21.0 (x86x64)\\x64\\AdobeIllustrator21_HD_win64\\packages\\ACC\\ACCC\n",
      "current folder : []\n",
      "current file : ['ACCC.pima', 'ACCC.pimx', 'ACCC.sig']\n",
      "current path : F:\\Adobe Illustrator CC 2017 v21.0 (x86x64)\\x64\\AdobeIllustrator21_HD_win64\\packages\\ACC\\AppsPanel\n",
      "current folder : []\n",
      "current file : ['AppsPanel.pima', 'AppsPanel.pimx', 'AppsPanel.sig']\n",
      "current path : F:\\Adobe Illustrator CC 2017 v21.0 (x86x64)\\x64\\AdobeIllustrator21_HD_win64\\packages\\ACC\\AssetsPanel\n",
      "current folder : []\n",
      "current file : ['AssetsPanel.pima', 'AssetsPanel.pimx', 'AssetsPanel.sig']\n",
      "current path : F:\\Adobe Illustrator CC 2017 v21.0 (x86x64)\\x64\\AdobeIllustrator21_HD_win64\\packages\\ACC\\BehancePanel\n",
      "current folder : []\n",
      "current file : ['BehancePanel.pima', 'BehancePanel.pimx', 'BehancePanel.sig']\n",
      "current path : F:\\Adobe Illustrator CC 2017 v21.0 (x86x64)\\x64\\AdobeIllustrator21_HD_win64\\packages\\ACC\\CCLibrary\n",
      "current folder : []\n",
      "current file : ['CCLibrary.pima', 'CCLibrary.pimx', 'CCLibrary.sig']\n",
      "current path : F:\\Adobe Illustrator CC 2017 v21.0 (x86x64)\\x64\\AdobeIllustrator21_HD_win64\\packages\\ACC\\CCSyncPlugin\n",
      "current folder : []\n",
      "current file : ['CCSyncPlugin.pima', 'CCSyncPlugin.pimx', 'CCSyncPlugin.sig']\n",
      "current path : F:\\Adobe Illustrator CC 2017 v21.0 (x86x64)\\x64\\AdobeIllustrator21_HD_win64\\packages\\ACC\\CCXProcess\n",
      "current folder : []\n",
      "current file : ['CCXProcess.pima', 'CCXProcess.pimx', 'CCXProcess.sig']\n",
      "current path : F:\\Adobe Illustrator CC 2017 v21.0 (x86x64)\\x64\\AdobeIllustrator21_HD_win64\\packages\\ACC\\CoreSync\n",
      "current folder : []\n",
      "current file : ['CoreSync.pima', 'CoreSync.pimx', 'CoreSync.sig']\n",
      "current path : F:\\Adobe Illustrator CC 2017 v21.0 (x86x64)\\x64\\AdobeIllustrator21_HD_win64\\packages\\ACC\\CoreSyncExtension\n",
      "current folder : []\n",
      "current file : ['CoreSyncExtension.pima', 'CoreSyncExtension.pimx', 'CoreSyncExtension.sig']\n",
      "current path : F:\\Adobe Illustrator CC 2017 v21.0 (x86x64)\\x64\\AdobeIllustrator21_HD_win64\\packages\\ACC\\DesignLibraryPlugin\n",
      "current folder : []\n",
      "current file : ['DesignLibraryPlugin.pima', 'DesignLibraryPlugin.pimx', 'DesignLibraryPlugin.sig']\n",
      "current path : F:\\Adobe Illustrator CC 2017 v21.0 (x86x64)\\x64\\AdobeIllustrator21_HD_win64\\packages\\ACC\\ExchangePlugin\n",
      "current folder : []\n",
      "current file : ['ExchangePlugin.pima', 'ExchangePlugin.pimx', 'ExchangePlugin.sig']\n",
      "current path : F:\\Adobe Illustrator CC 2017 v21.0 (x86x64)\\x64\\AdobeIllustrator21_HD_win64\\packages\\ACC\\FilesPanel\n",
      "current folder : []\n",
      "current file : ['FilesPanel.pima', 'FilesPanel.pimx', 'FilesPanel.sig']\n",
      "current path : F:\\Adobe Illustrator CC 2017 v21.0 (x86x64)\\x64\\AdobeIllustrator21_HD_win64\\packages\\ACC\\FontsPanel\n",
      "current folder : []\n",
      "current file : ['FontsPanel.pima', 'FontsPanel.pimx', 'FontsPanel.sig']\n",
      "current path : F:\\Adobe Illustrator CC 2017 v21.0 (x86x64)\\x64\\AdobeIllustrator21_HD_win64\\packages\\ACC\\HDCore\n",
      "current folder : []\n",
      "current file : ['HDCore.pima', 'HDCore.pimx', 'HDCore.sig']\n",
      "current path : F:\\Adobe Illustrator CC 2017 v21.0 (x86x64)\\x64\\AdobeIllustrator21_HD_win64\\packages\\ACC\\HomePanel\n",
      "current folder : []\n",
      "current file : ['HomePanel.pima', 'HomePanel.pimx', 'HomePanel.sig']\n",
      "current path : F:\\Adobe Illustrator CC 2017 v21.0 (x86x64)\\x64\\AdobeIllustrator21_HD_win64\\packages\\ACC\\LiveType\n",
      "current folder : []\n",
      "current file : ['LiveType.pima', 'LiveType.pimx', 'LiveType.sig']\n",
      "current path : F:\\Adobe Illustrator CC 2017 v21.0 (x86x64)\\x64\\AdobeIllustrator21_HD_win64\\packages\\ACC\\MarketPanel\n",
      "current folder : []\n",
      "current file : ['MarketPanel.pima', 'MarketPanel.pimx', 'MarketPanel.sig']\n",
      "current path : F:\\Adobe Illustrator CC 2017 v21.0 (x86x64)\\x64\\AdobeIllustrator21_HD_win64\\packages\\ACC\\SPanel\n",
      "current folder : []\n",
      "current file : ['SPanel.pima', 'SPanel.pimx', 'SPanel.sig']\n",
      "current path : F:\\Adobe Illustrator CC 2017 v21.0 (x86x64)\\x64\\AdobeIllustrator21_HD_win64\\packages\\ACC\\SynKit\n",
      "current folder : []\n",
      "current file : ['SynKit.pima', 'SynKit.pimx', 'SynKit.sig']\n",
      "current path : F:\\Adobe Illustrator CC 2017 v21.0 (x86x64)\\x64\\AdobeIllustrator21_HD_win64\\packages\\ACC\\Utils\n",
      "current folder : []\n",
      "current file : ['Utils.pima', 'Utils.pimx', 'Utils.sig']\n",
      "current path : F:\\Adobe Illustrator CC 2017 v21.0 (x86x64)\\x64\\AdobeIllustrator21_HD_win64\\packages\\ADC\n",
      "current folder : ['ADS', 'CEF', 'Core', 'CoreExt', 'ElevationManager', 'HEX', 'Notifications', 'Runtime', 'SignInApp', 'TCC']\n",
      "current file : []\n",
      "current path : F:\\Adobe Illustrator CC 2017 v21.0 (x86x64)\\x64\\AdobeIllustrator21_HD_win64\\packages\\ADC\\ADS\n",
      "current folder : []\n",
      "current file : ['ADS.pima', 'ADS.pimx', 'ADS.sig']\n",
      "current path : F:\\Adobe Illustrator CC 2017 v21.0 (x86x64)\\x64\\AdobeIllustrator21_HD_win64\\packages\\ADC\\CEF\n",
      "current folder : []\n",
      "current file : ['CEF.pima', 'CEF.pimx', 'CEF.sig']\n",
      "current path : F:\\Adobe Illustrator CC 2017 v21.0 (x86x64)\\x64\\AdobeIllustrator21_HD_win64\\packages\\ADC\\Core\n",
      "current folder : []\n",
      "current file : ['Core.pima', 'Core.pimx', 'Core.sig']\n",
      "current path : F:\\Adobe Illustrator CC 2017 v21.0 (x86x64)\\x64\\AdobeIllustrator21_HD_win64\\packages\\ADC\\CoreExt\n",
      "current folder : []\n",
      "current file : ['CoreExt.pima', 'CoreExt.pimx', 'CoreExt.sig']\n",
      "current path : F:\\Adobe Illustrator CC 2017 v21.0 (x86x64)\\x64\\AdobeIllustrator21_HD_win64\\packages\\ADC\\ElevationManager\n",
      "current folder : []\n",
      "current file : ['ElevationManager.pima', 'ElevationManager.pimx', 'ElevationManager.sig']\n",
      "current path : F:\\Adobe Illustrator CC 2017 v21.0 (x86x64)\\x64\\AdobeIllustrator21_HD_win64\\packages\\ADC\\HEX\n",
      "current folder : []\n",
      "current file : ['HEX.pima', 'HEX.pimx', 'HEX.sig']\n",
      "current path : F:\\Adobe Illustrator CC 2017 v21.0 (x86x64)\\x64\\AdobeIllustrator21_HD_win64\\packages\\ADC\\Notifications\n",
      "current folder : []\n",
      "current file : ['Notifications.pima', 'Notifications.pimx', 'Notifications.sig']\n",
      "current path : F:\\Adobe Illustrator CC 2017 v21.0 (x86x64)\\x64\\AdobeIllustrator21_HD_win64\\packages\\ADC\\Runtime\n",
      "current folder : []\n",
      "current file : ['Runtime.pima', 'Runtime.pimx', 'Runtime.sig']\n",
      "current path : F:\\Adobe Illustrator CC 2017 v21.0 (x86x64)\\x64\\AdobeIllustrator21_HD_win64\\packages\\ADC\\SignInApp\n",
      "current folder : []\n",
      "current file : ['SignInApp.pima', 'SignInApp.pimx', 'SignInApp.sig']\n",
      "current path : F:\\Adobe Illustrator CC 2017 v21.0 (x86x64)\\x64\\AdobeIllustrator21_HD_win64\\packages\\ADC\\TCC\n",
      "current folder : []\n",
      "current file : ['TCC.pima', 'TCC.pimx', 'TCC.sig']\n",
      "current path : F:\\Adobe Illustrator CC 2017 v21.0 (x86x64)\\x64\\AdobeIllustrator21_HD_win64\\products\n",
      "current folder : ['COCM', 'CORE', 'CORG', 'ILST']\n",
      "current file : ['Driver.xml']\n",
      "current path : F:\\Adobe Illustrator CC 2017 v21.0 (x86x64)\\x64\\AdobeIllustrator21_HD_win64\\products\\COCM\n",
      "current folder : []\n",
      "current file : ['AdobeColorCommonSetCMYK_1_0-mul.zip', 'Application.json']\n",
      "current path : F:\\Adobe Illustrator CC 2017 v21.0 (x86x64)\\x64\\AdobeIllustrator21_HD_win64\\products\\CORE\n",
      "current folder : []\n",
      "current file : ['AdobeColorEU_ExtraSettings_1_0-mul.zip', 'AdobeColorEU_Recommended_1_0-mul.zip', 'AdobeColorJA_ExtraSettings_1_0-mul.zip', 'AdobeColorJA_Recommended_1_0-mul.zip', 'AdobeColorNA_ExtraSettings_1_0-mul.zip', 'AdobeColorNA_Recommended_1_0-mul.zip', 'Application.json']\n",
      "current path : F:\\Adobe Illustrator CC 2017 v21.0 (x86x64)\\x64\\AdobeIllustrator21_HD_win64\\products\\CORG\n",
      "current folder : []\n",
      "current file : ['AdobeColorCommonSetRGB_1_0-mul.zip', 'Application.json']\n",
      "current path : F:\\Adobe Illustrator CC 2017 v21.0 (x86x64)\\x64\\AdobeIllustrator21_HD_win64\\products\\ILST\n",
      "current folder : []\n",
      "current file : ['AdobeIllustrator21-BridgeSupport.zip', 'AdobeIllustrator21-Core.zip', 'AdobeIllustrator21-cs_CZ.zip', 'AdobeIllustrator21-da_DK.zip', 'AdobeIllustrator21-de_DE.zip', 'AdobeIllustrator21-en_AE.zip', 'AdobeIllustrator21-en_GB.zip', 'AdobeIllustrator21-en_IL.zip', 'AdobeIllustrator21-en_US.zip', 'AdobeIllustrator21-es_ES.zip', 'AdobeIllustrator21-es_MX.zip', 'AdobeIllustrator21-fr_CA.zip', 'AdobeIllustrator21-fr_FR.zip', 'AdobeIllustrator21-fr_MA.zip', 'AdobeIllustrator21-hu_HU.zip', 'AdobeIllustrator21-it_IT.zip', 'AdobeIllustrator21-ja_JP.zip', 'AdobeIllustrator21-ko_KR.zip', 'AdobeIllustrator21-nl_NL.zip', 'AdobeIllustrator21-pl_PL.zip', 'AdobeIllustrator21-pt_BR.zip', 'AdobeIllustrator21-ru_RU.zip', 'AdobeIllustrator21-Settings.zip', 'AdobeIllustrator21-sv_SE.zip', 'AdobeIllustrator21-tr_TR.zip', 'AdobeIllustrator21-uk_UA.zip', 'AdobeIllustrator21-zh_CN.zip', 'AdobeIllustrator21-zh_TW.zip', 'Application.json']\n",
      "current path : F:\\Adobe Illustrator CC 2017 v21.0 (x86x64)\\x64\\AdobeIllustrator21_HD_win64\\resources\n",
      "current folder : ['content']\n",
      "current file : ['.DS_Store', 'AdobePIM.dll', 'Config.xml', 'UpdateRedirector.dat']\n",
      "current path : F:\\Adobe Illustrator CC 2017 v21.0 (x86x64)\\x64\\AdobeIllustrator21_HD_win64\\resources\\content\n",
      "current folder : ['images']\n",
      "current file : ['.DS_Store']\n",
      "current path : F:\\Adobe Illustrator CC 2017 v21.0 (x86x64)\\x64\\AdobeIllustrator21_HD_win64\\resources\\content\\images\n",
      "current folder : []\n",
      "current file : ['appIcon.png', 'appIcon2x.png']\n",
      "current path : F:\\Adobe Illustrator CC 2017 v21.0 (x86x64)\\x64\\AdobeIllustrator21_HD_win64\\__MACOSX\n",
      "current folder : ['packages', 'resources']\n",
      "current file : []\n",
      "current path : F:\\Adobe Illustrator CC 2017 v21.0 (x86x64)\\x64\\AdobeIllustrator21_HD_win64\\__MACOSX\\packages\n",
      "current folder : []\n",
      "current file : ['._.DS_Store']\n",
      "current path : F:\\Adobe Illustrator CC 2017 v21.0 (x86x64)\\x64\\AdobeIllustrator21_HD_win64\\__MACOSX\\resources\n",
      "current folder : ['content']\n",
      "current file : ['._.DS_Store']\n",
      "current path : F:\\Adobe Illustrator CC 2017 v21.0 (x86x64)\\x64\\AdobeIllustrator21_HD_win64\\__MACOSX\\resources\\content\n",
      "current folder : []\n",
      "current file : ['._.DS_Store']\n",
      "current path : F:\\Adobe Illustrator CC 2017 v21.0 (x86x64)\\x86\n",
      "current folder : ['Activator', 'AdobeIllustrator21_HD_win32']\n",
      "current file : ['AdobeIllustrator21_HD_win32.part1.exe', 'AdobeIllustrator21_HD_win32.part2.rar', 'AdobeIllustrator21_HD_win32.part3.rar', 'Read me (how to install).txt']\n",
      "current path : F:\\Adobe Illustrator CC 2017 v21.0 (x86x64)\\x86\\Activator\n",
      "current folder : ['Activation Tutorial']\n",
      "current file : ['Activator.exe', 'Activator.rar', 'Read me (how to install).txt']\n",
      "current path : F:\\Adobe Illustrator CC 2017 v21.0 (x86x64)\\x86\\Activator\\Activation Tutorial\n",
      "current folder : []\n",
      "current file : ['1.jpg', '10.jpg', '11.jpg', '2.jpg', '3.jpg', '4.jpg', '5.jpg', '6.jpg', '7.jpg', '8.jpg', '9.jpg']\n",
      "current path : F:\\Adobe Illustrator CC 2017 v21.0 (x86x64)\\x86\\AdobeIllustrator21_HD_win32\n",
      "current folder : ['packages', 'products', 'resources', '__MACOSX']\n",
      "current file : ['itnext.ico', 'itnextdigital.com.jpg', 'Set-up.exe']\n",
      "current path : F:\\Adobe Illustrator CC 2017 v21.0 (x86x64)\\x86\\AdobeIllustrator21_HD_win32\\packages\n",
      "current folder : ['AAM', 'ACC', 'ADC']\n",
      "current file : ['.DS_Store', 'ApplicationInfo.xml']\n",
      "current path : F:\\Adobe Illustrator CC 2017 v21.0 (x86x64)\\x86\\AdobeIllustrator21_HD_win32\\packages\\AAM\n",
      "current folder : ['AdobeGCClient', 'CCM', 'core', 'D6', 'DECore', 'DWA', 'IPC', 'LWA', 'P6', 'P7', 'UWA']\n",
      "current file : ['install.sig']\n",
      "current path : F:\\Adobe Illustrator CC 2017 v21.0 (x86x64)\\x86\\AdobeIllustrator21_HD_win32\\packages\\AAM\\AdobeGCClient\n",
      "current folder : []\n",
      "current file : ['AdobeGCClient.pima', 'AdobeGCClient.pimx', 'AdobeGCClient.sig']\n",
      "current path : F:\\Adobe Illustrator CC 2017 v21.0 (x86x64)\\x86\\AdobeIllustrator21_HD_win32\\packages\\AAM\\CCM\n",
      "current folder : []\n",
      "current file : ['CCM.pima', 'CCM.pimx', 'CCM.sig', 'CCMLegacy.pima', 'CCMLegacy.sig']\n",
      "current path : F:\\Adobe Illustrator CC 2017 v21.0 (x86x64)\\x86\\AdobeIllustrator21_HD_win32\\packages\\AAM\\core\n",
      "current folder : []\n",
      "current file : ['PDApp.pima', 'PDApp.pimx', 'PDApp.sig']\n",
      "current path : F:\\Adobe Illustrator CC 2017 v21.0 (x86x64)\\x86\\AdobeIllustrator21_HD_win32\\packages\\AAM\\D6\n",
      "current folder : []\n",
      "current file : ['D6.pima', 'D6.pimx', 'D6.sig']\n",
      "current path : F:\\Adobe Illustrator CC 2017 v21.0 (x86x64)\\x86\\AdobeIllustrator21_HD_win32\\packages\\AAM\\DECore\n",
      "current folder : []\n",
      "current file : ['DECore.pima', 'DECore.pimx', 'DECore.sig']\n",
      "current path : F:\\Adobe Illustrator CC 2017 v21.0 (x86x64)\\x86\\AdobeIllustrator21_HD_win32\\packages\\AAM\\DWA\n",
      "current folder : []\n",
      "current file : ['DWA.pima', 'DWA.pimx', 'DWA.sig']\n",
      "current path : F:\\Adobe Illustrator CC 2017 v21.0 (x86x64)\\x86\\AdobeIllustrator21_HD_win32\\packages\\AAM\\IPC\n",
      "current folder : []\n",
      "current file : ['IPC.pima', 'IPC.pimx', 'IPC.sig']\n",
      "current path : F:\\Adobe Illustrator CC 2017 v21.0 (x86x64)\\x86\\AdobeIllustrator21_HD_win32\\packages\\AAM\\LWA\n",
      "current folder : []\n",
      "current file : ['LWA.pima', 'LWA.pimx', 'LWA.sig']\n",
      "current path : F:\\Adobe Illustrator CC 2017 v21.0 (x86x64)\\x86\\AdobeIllustrator21_HD_win32\\packages\\AAM\\P6\n",
      "current folder : []\n",
      "current file : ['P6.pima', 'P6.pimx', 'P6.sig']\n",
      "current path : F:\\Adobe Illustrator CC 2017 v21.0 (x86x64)\\x86\\AdobeIllustrator21_HD_win32\\packages\\AAM\\P7\n",
      "current folder : []\n",
      "current file : ['P7.pima', 'P7.pimx', 'P7.sig']\n",
      "current path : F:\\Adobe Illustrator CC 2017 v21.0 (x86x64)\\x86\\AdobeIllustrator21_HD_win32\\packages\\AAM\\UWA\n",
      "current folder : []\n",
      "current file : ['UWA.pima', 'UWA.pimx', 'UWA.sig']\n",
      "current path : F:\\Adobe Illustrator CC 2017 v21.0 (x86x64)\\x86\\AdobeIllustrator21_HD_win32\\packages\\ACC\n",
      "current folder : ['ACCC', 'AppsPanel', 'AssetsPanel', 'BehancePanel', 'CCLibrary', 'CCSyncPlugin', 'CCXProcess', 'CoreSync', 'CoreSyncExtension', 'DesignLibraryPlugin', 'ExchangePlugin', 'FilesPanel', 'FontsPanel', 'HDCore', 'HomePanel', 'LiveType', 'MarketPanel', 'SPanel', 'SynKit', 'Utils']\n",
      "current file : []\n",
      "current path : F:\\Adobe Illustrator CC 2017 v21.0 (x86x64)\\x86\\AdobeIllustrator21_HD_win32\\packages\\ACC\\ACCC\n",
      "current folder : []\n",
      "current file : ['ACCC.pima', 'ACCC.pimx', 'ACCC.sig']\n",
      "current path : F:\\Adobe Illustrator CC 2017 v21.0 (x86x64)\\x86\\AdobeIllustrator21_HD_win32\\packages\\ACC\\AppsPanel\n",
      "current folder : []\n",
      "current file : ['AppsPanel.pima', 'AppsPanel.pimx', 'AppsPanel.sig']\n",
      "current path : F:\\Adobe Illustrator CC 2017 v21.0 (x86x64)\\x86\\AdobeIllustrator21_HD_win32\\packages\\ACC\\AssetsPanel\n",
      "current folder : []\n",
      "current file : ['AssetsPanel.pima', 'AssetsPanel.pimx', 'AssetsPanel.sig']\n",
      "current path : F:\\Adobe Illustrator CC 2017 v21.0 (x86x64)\\x86\\AdobeIllustrator21_HD_win32\\packages\\ACC\\BehancePanel\n",
      "current folder : []\n",
      "current file : ['BehancePanel.pima', 'BehancePanel.pimx', 'BehancePanel.sig']\n",
      "current path : F:\\Adobe Illustrator CC 2017 v21.0 (x86x64)\\x86\\AdobeIllustrator21_HD_win32\\packages\\ACC\\CCLibrary\n",
      "current folder : []\n",
      "current file : ['CCLibrary.pima', 'CCLibrary.pimx', 'CCLibrary.sig']\n",
      "current path : F:\\Adobe Illustrator CC 2017 v21.0 (x86x64)\\x86\\AdobeIllustrator21_HD_win32\\packages\\ACC\\CCSyncPlugin\n",
      "current folder : []\n",
      "current file : ['CCSyncPlugin.pima', 'CCSyncPlugin.pimx', 'CCSyncPlugin.sig']\n",
      "current path : F:\\Adobe Illustrator CC 2017 v21.0 (x86x64)\\x86\\AdobeIllustrator21_HD_win32\\packages\\ACC\\CCXProcess\n",
      "current folder : []\n",
      "current file : ['CCXProcess.pima', 'CCXProcess.pimx', 'CCXProcess.sig']\n",
      "current path : F:\\Adobe Illustrator CC 2017 v21.0 (x86x64)\\x86\\AdobeIllustrator21_HD_win32\\packages\\ACC\\CoreSync\n",
      "current folder : []\n",
      "current file : ['CoreSync.pima', 'CoreSync.pimx', 'CoreSync.sig']\n",
      "current path : F:\\Adobe Illustrator CC 2017 v21.0 (x86x64)\\x86\\AdobeIllustrator21_HD_win32\\packages\\ACC\\CoreSyncExtension\n",
      "current folder : []\n",
      "current file : ['CoreSyncExtension.pima', 'CoreSyncExtension.pimx', 'CoreSyncExtension.sig']\n",
      "current path : F:\\Adobe Illustrator CC 2017 v21.0 (x86x64)\\x86\\AdobeIllustrator21_HD_win32\\packages\\ACC\\DesignLibraryPlugin\n",
      "current folder : []\n",
      "current file : ['DesignLibraryPlugin.pima', 'DesignLibraryPlugin.pimx', 'DesignLibraryPlugin.sig']\n",
      "current path : F:\\Adobe Illustrator CC 2017 v21.0 (x86x64)\\x86\\AdobeIllustrator21_HD_win32\\packages\\ACC\\ExchangePlugin\n",
      "current folder : []\n",
      "current file : ['ExchangePlugin.pima', 'ExchangePlugin.pimx', 'ExchangePlugin.sig']\n",
      "current path : F:\\Adobe Illustrator CC 2017 v21.0 (x86x64)\\x86\\AdobeIllustrator21_HD_win32\\packages\\ACC\\FilesPanel\n",
      "current folder : []\n",
      "current file : ['FilesPanel.pima', 'FilesPanel.pimx', 'FilesPanel.sig']\n",
      "current path : F:\\Adobe Illustrator CC 2017 v21.0 (x86x64)\\x86\\AdobeIllustrator21_HD_win32\\packages\\ACC\\FontsPanel\n",
      "current folder : []\n",
      "current file : ['FontsPanel.pima', 'FontsPanel.pimx', 'FontsPanel.sig']\n",
      "current path : F:\\Adobe Illustrator CC 2017 v21.0 (x86x64)\\x86\\AdobeIllustrator21_HD_win32\\packages\\ACC\\HDCore\n",
      "current folder : []\n",
      "current file : ['HDCore.pima', 'HDCore.pimx', 'HDCore.sig']\n",
      "current path : F:\\Adobe Illustrator CC 2017 v21.0 (x86x64)\\x86\\AdobeIllustrator21_HD_win32\\packages\\ACC\\HomePanel\n",
      "current folder : []\n",
      "current file : ['HomePanel.pima', 'HomePanel.pimx', 'HomePanel.sig']\n",
      "current path : F:\\Adobe Illustrator CC 2017 v21.0 (x86x64)\\x86\\AdobeIllustrator21_HD_win32\\packages\\ACC\\LiveType\n",
      "current folder : []\n",
      "current file : ['LiveType.pima', 'LiveType.pimx', 'LiveType.sig']\n",
      "current path : F:\\Adobe Illustrator CC 2017 v21.0 (x86x64)\\x86\\AdobeIllustrator21_HD_win32\\packages\\ACC\\MarketPanel\n",
      "current folder : []\n",
      "current file : ['MarketPanel.pima', 'MarketPanel.pimx', 'MarketPanel.sig']\n",
      "current path : F:\\Adobe Illustrator CC 2017 v21.0 (x86x64)\\x86\\AdobeIllustrator21_HD_win32\\packages\\ACC\\SPanel\n",
      "current folder : []\n",
      "current file : ['SPanel.pima', 'SPanel.pimx', 'SPanel.sig']\n",
      "current path : F:\\Adobe Illustrator CC 2017 v21.0 (x86x64)\\x86\\AdobeIllustrator21_HD_win32\\packages\\ACC\\SynKit\n",
      "current folder : []\n",
      "current file : ['SynKit.pima', 'SynKit.pimx', 'SynKit.sig']\n",
      "current path : F:\\Adobe Illustrator CC 2017 v21.0 (x86x64)\\x86\\AdobeIllustrator21_HD_win32\\packages\\ACC\\Utils\n",
      "current folder : []\n",
      "current file : ['Utils.pima', 'Utils.pimx', 'Utils.sig']\n",
      "current path : F:\\Adobe Illustrator CC 2017 v21.0 (x86x64)\\x86\\AdobeIllustrator21_HD_win32\\packages\\ADC\n",
      "current folder : ['ADS', 'CEF', 'Core', 'CoreExt', 'ElevationManager', 'HEX', 'Notifications', 'Runtime', 'SignInApp', 'TCC']\n",
      "current file : []\n",
      "current path : F:\\Adobe Illustrator CC 2017 v21.0 (x86x64)\\x86\\AdobeIllustrator21_HD_win32\\packages\\ADC\\ADS\n",
      "current folder : []\n",
      "current file : ['ADS.pima', 'ADS.pimx', 'ADS.sig']\n",
      "current path : F:\\Adobe Illustrator CC 2017 v21.0 (x86x64)\\x86\\AdobeIllustrator21_HD_win32\\packages\\ADC\\CEF\n",
      "current folder : []\n",
      "current file : ['CEF.pima', 'CEF.pimx', 'CEF.sig']\n",
      "current path : F:\\Adobe Illustrator CC 2017 v21.0 (x86x64)\\x86\\AdobeIllustrator21_HD_win32\\packages\\ADC\\Core\n",
      "current folder : []\n",
      "current file : ['Core.pima', 'Core.pimx', 'Core.sig']\n",
      "current path : F:\\Adobe Illustrator CC 2017 v21.0 (x86x64)\\x86\\AdobeIllustrator21_HD_win32\\packages\\ADC\\CoreExt\n",
      "current folder : []\n",
      "current file : ['CoreExt.pima', 'CoreExt.pimx', 'CoreExt.sig']\n",
      "current path : F:\\Adobe Illustrator CC 2017 v21.0 (x86x64)\\x86\\AdobeIllustrator21_HD_win32\\packages\\ADC\\ElevationManager\n",
      "current folder : []\n",
      "current file : ['ElevationManager.pima', 'ElevationManager.pimx', 'ElevationManager.sig']\n",
      "current path : F:\\Adobe Illustrator CC 2017 v21.0 (x86x64)\\x86\\AdobeIllustrator21_HD_win32\\packages\\ADC\\HEX\n",
      "current folder : []\n",
      "current file : ['HEX.pima', 'HEX.pimx', 'HEX.sig']\n",
      "current path : F:\\Adobe Illustrator CC 2017 v21.0 (x86x64)\\x86\\AdobeIllustrator21_HD_win32\\packages\\ADC\\Notifications\n",
      "current folder : []\n",
      "current file : ['Notifications.pima', 'Notifications.pimx', 'Notifications.sig']\n",
      "current path : F:\\Adobe Illustrator CC 2017 v21.0 (x86x64)\\x86\\AdobeIllustrator21_HD_win32\\packages\\ADC\\Runtime\n",
      "current folder : []\n",
      "current file : ['Runtime.pima', 'Runtime.pimx', 'Runtime.sig']\n",
      "current path : F:\\Adobe Illustrator CC 2017 v21.0 (x86x64)\\x86\\AdobeIllustrator21_HD_win32\\packages\\ADC\\SignInApp\n",
      "current folder : []\n",
      "current file : ['SignInApp.pima', 'SignInApp.pimx', 'SignInApp.sig']\n",
      "current path : F:\\Adobe Illustrator CC 2017 v21.0 (x86x64)\\x86\\AdobeIllustrator21_HD_win32\\packages\\ADC\\TCC\n",
      "current folder : []\n",
      "current file : ['TCC.pima', 'TCC.pimx', 'TCC.sig']\n",
      "current path : F:\\Adobe Illustrator CC 2017 v21.0 (x86x64)\\x86\\AdobeIllustrator21_HD_win32\\products\n",
      "current folder : ['COCM', 'CORE', 'CORG', 'ILST']\n",
      "current file : ['Driver.xml']\n",
      "current path : F:\\Adobe Illustrator CC 2017 v21.0 (x86x64)\\x86\\AdobeIllustrator21_HD_win32\\products\\COCM\n",
      "current folder : []\n",
      "current file : ['AdobeColorCommonSetCMYK_1_0-mul.zip', 'Application.json']\n",
      "current path : F:\\Adobe Illustrator CC 2017 v21.0 (x86x64)\\x86\\AdobeIllustrator21_HD_win32\\products\\CORE\n",
      "current folder : []\n",
      "current file : ['AdobeColorEU_ExtraSettings_1_0-mul.zip', 'AdobeColorEU_Recommended_1_0-mul.zip', 'AdobeColorJA_ExtraSettings_1_0-mul.zip', 'AdobeColorJA_Recommended_1_0-mul.zip', 'AdobeColorNA_ExtraSettings_1_0-mul.zip', 'AdobeColorNA_Recommended_1_0-mul.zip', 'Application.json']\n",
      "current path : F:\\Adobe Illustrator CC 2017 v21.0 (x86x64)\\x86\\AdobeIllustrator21_HD_win32\\products\\CORG\n",
      "current folder : []\n",
      "current file : ['AdobeColorCommonSetRGB_1_0-mul.zip', 'Application.json']\n",
      "current path : F:\\Adobe Illustrator CC 2017 v21.0 (x86x64)\\x86\\AdobeIllustrator21_HD_win32\\products\\ILST\n",
      "current folder : []\n",
      "current file : ['AdobeIllustrator21-Core.zip', 'AdobeIllustrator21-cs_CZ.zip', 'AdobeIllustrator21-da_DK.zip', 'AdobeIllustrator21-de_DE.zip', 'AdobeIllustrator21-en_AE.zip', 'AdobeIllustrator21-en_GB.zip', 'AdobeIllustrator21-en_IL.zip', 'AdobeIllustrator21-en_US.zip', 'AdobeIllustrator21-es_ES.zip', 'AdobeIllustrator21-es_MX.zip', 'AdobeIllustrator21-fr_CA.zip', 'AdobeIllustrator21-fr_FR.zip', 'AdobeIllustrator21-fr_MA.zip', 'AdobeIllustrator21-hu_HU.zip', 'AdobeIllustrator21-it_IT.zip', 'AdobeIllustrator21-ja_JP.zip', 'AdobeIllustrator21-ko_KR.zip', 'AdobeIllustrator21-nl_NL.zip', 'AdobeIllustrator21-pl_PL.zip', 'AdobeIllustrator21-pt_BR.zip', 'AdobeIllustrator21-ru_RU.zip', 'AdobeIllustrator21-Settings.zip', 'AdobeIllustrator21-sv_SE.zip', 'AdobeIllustrator21-tr_TR.zip', 'AdobeIllustrator21-uk_UA.zip', 'AdobeIllustrator21-zh_CN.zip', 'AdobeIllustrator21-zh_TW.zip', 'Application.json']\n",
      "current path : F:\\Adobe Illustrator CC 2017 v21.0 (x86x64)\\x86\\AdobeIllustrator21_HD_win32\\resources\n",
      "current folder : ['content']\n",
      "current file : ['.DS_Store', 'AdobePIM.dll', 'Config.xml', 'UpdateRedirector.dat']\n",
      "current path : F:\\Adobe Illustrator CC 2017 v21.0 (x86x64)\\x86\\AdobeIllustrator21_HD_win32\\resources\\content\n",
      "current folder : ['images']\n",
      "current file : ['.DS_Store']\n",
      "current path : F:\\Adobe Illustrator CC 2017 v21.0 (x86x64)\\x86\\AdobeIllustrator21_HD_win32\\resources\\content\\images\n",
      "current folder : []\n",
      "current file : ['appIcon.png', 'appIcon2x.png']\n",
      "current path : F:\\Adobe Illustrator CC 2017 v21.0 (x86x64)\\x86\\AdobeIllustrator21_HD_win32\\__MACOSX\n",
      "current folder : ['packages', 'resources']\n",
      "current file : []\n",
      "current path : F:\\Adobe Illustrator CC 2017 v21.0 (x86x64)\\x86\\AdobeIllustrator21_HD_win32\\__MACOSX\\packages\n",
      "current folder : []\n",
      "current file : ['._.DS_Store']\n",
      "current path : F:\\Adobe Illustrator CC 2017 v21.0 (x86x64)\\x86\\AdobeIllustrator21_HD_win32\\__MACOSX\\resources\n",
      "current folder : ['content']\n",
      "current file : ['._.DS_Store']\n",
      "current path : F:\\Adobe Illustrator CC 2017 v21.0 (x86x64)\\x86\\AdobeIllustrator21_HD_win32\\__MACOSX\\resources\\content\n",
      "current folder : []\n",
      "current file : ['._.DS_Store']\n"
     ]
    }
   ],
   "source": [
    "import os\n",
    "# os.chdir(r'E:\\genaral practice\\test_file 229')\n",
    "# os.mkdir('testing file 1')\n",
    "# print(open('test_file 1.txt','a').close())\n",
    "\n",
    "\n",
    "\n",
    "file_iter=os.walk(f'F:\\Adobe Illustrator CC 2017 v21.0 (x86x64)')#important\n",
    "for current_path,folder_name,files in file_iter:\n",
    "    print(f'current path : {current_path}')\n",
    "    print(f'current folder : {folder_name}')\n",
    "    print(f'current file : {files}')\n",
    "\n",
    "\n"
   ]
  },
  {
   "cell_type": "markdown",
   "id": "clinical-glasgow",
   "metadata": {},
   "source": [
    "* Syntax: shutil.rmtree(path, ignore_errors=False, onerror=None)\n",
    "* Parameters: \n",
    "* path: A path-like object representing a file path. A path-like object is either a string or bytes object representing a path. \n",
    "* ignore_errors: If ignore_errors is true, errors resulting from failed removals will be ignored. \n",
    "* oneerror: If ignore_errors is false or omitted, such errors are handled by calling a handler specified by onerror. \n",
    "\n",
    "* [click here](https://www.geeksforgeeks.org/delete-an-entire-directory-tree-using-python-shutil-rmtree-method/)"
   ]
  },
  {
   "cell_type": "code",
   "execution_count": 3,
   "id": "strong-differential",
   "metadata": {},
   "outputs": [],
   "source": [
    "import os\n",
    "os.remove('test.txt')"
   ]
  },
  {
   "cell_type": "code",
   "execution_count": 6,
   "id": "southeast-farmer",
   "metadata": {},
   "outputs": [
    {
     "name": "stdout",
     "output_type": "stream",
     "text": [
      "you do have permission to delete this file\n"
     ]
    }
   ],
   "source": [
    "# delete file with python\n",
    "path='empty folder'\n",
    "try:\n",
    "    os.remove(path)\n",
    "except FileNotFoundError:\n",
    "    print('we can not find this file')\n",
    "except PermissionError:\n",
    "    print('you do have permission to delete this file')"
   ]
  },
  {
   "cell_type": "code",
   "execution_count": 8,
   "id": "younger-attendance",
   "metadata": {},
   "outputs": [],
   "source": [
    "# delete file with python\n",
    "path='empty folder'\n",
    "try:\n",
    "#     os.remove(path)\n",
    "      os.rmdir(path)  #rmdir genarally use of delete empty file\n",
    "except FileNotFoundError:\n",
    "    print('we can not find this file')\n",
    "except PermissionError:\n",
    "    print('you do have permission to delete this file')"
   ]
  },
  {
   "cell_type": "code",
   "execution_count": 9,
   "id": "devoted-mixer",
   "metadata": {},
   "outputs": [
    {
     "name": "stdout",
     "output_type": "stream",
     "text": [
      "you can not delete this with this module\n"
     ]
    }
   ],
   "source": [
    "path='E:\\genaral practice\\test_file 229'\n",
    "try:\n",
    "#     os.remove(path)\n",
    "      os.rmdir(path)  #rmdir genarally use of delete empty file\n",
    "except FileNotFoundError:\n",
    "    print('we can not find this file')\n",
    "except PermissionError:\n",
    "    print('you do have permission to delete this file')\n",
    "except OSError:\n",
    "    print('you can not delete this with this module')\n",
    "else:\n",
    "    print('file delete successfully')"
   ]
  },
  {
   "cell_type": "code",
   "execution_count": 12,
   "id": "subject-perception",
   "metadata": {},
   "outputs": [
    {
     "name": "stdout",
     "output_type": "stream",
     "text": [
      "file delete successfully\n"
     ]
    }
   ],
   "source": [
    "import shutil\n",
    "\n",
    "\n",
    "path='test_file 229'\n",
    "try:\n",
    "    shutil.rmtree(path) # it genarally use when folder is not empty\n",
    "\n",
    "except FileNotFoundError:\n",
    "    print('we can not find this file')\n",
    "except PermissionError:\n",
    "    print('you do have permission to delete this file')\n",
    "except OSError:\n",
    "    print('you can not delete this with this module')\n",
    "else:\n",
    "    print('file delete successfully')"
   ]
  },
  {
   "cell_type": "code",
   "execution_count": 14,
   "id": "serious-center",
   "metadata": {},
   "outputs": [],
   "source": [
    "os.makedirs('new/inside_new_file')\n",
    "# we create file inside file"
   ]
  },
  {
   "cell_type": "markdown",
   "id": "major-cargo",
   "metadata": {},
   "source": [
    "* shutil.copytree('folder path',newfolder path / folder name) # you also can rename file\n",
    "* shutil.copy('file path',new file path / new file name)\n",
    "* same for shutil.movetree ,shutil.move"
   ]
  },
  {
   "cell_type": "code",
   "execution_count": 31,
   "id": "mature-armor",
   "metadata": {},
   "outputs": [
    {
     "data": {
      "text/plain": [
       "'new/new2_copy'"
      ]
     },
     "execution_count": 31,
     "metadata": {},
     "output_type": "execute_result"
    }
   ],
   "source": [
    "# copy file in current file\n",
    "shutil.copytree('new2','new/new2_copy')"
   ]
  },
  {
   "cell_type": "code",
   "execution_count": null,
   "id": "lucky-discrimination",
   "metadata": {},
   "outputs": [],
   "source": [
    "import shutil\n",
    "shutil.copytree()"
   ]
  },
  {
   "cell_type": "code",
   "execution_count": 34,
   "id": "embedded-circular",
   "metadata": {},
   "outputs": [
    {
     "data": {
      "text/plain": [
       "'new/myfile_copy.txt'"
      ]
     },
     "execution_count": 34,
     "metadata": {},
     "output_type": "execute_result"
    }
   ],
   "source": [
    "# shutil.copy(\"E:\\genaral practice\\new2\\new2_text_file.txt\",'new') #error\n",
    "shutil.copy(\"myfile.txt\",'new/myfile_copy.txt')"
   ]
  },
  {
   "cell_type": "code",
   "execution_count": 36,
   "id": "willing-visit",
   "metadata": {},
   "outputs": [
    {
     "data": {
      "text/plain": [
       "'new/new_test_data.txt'"
      ]
     },
     "execution_count": 36,
     "metadata": {},
     "output_type": "execute_result"
    }
   ],
   "source": [
    "# shutil.move(srt file or folder ,dest file or folder)\n",
    "\n",
    "shutil.move('test_data.txt','new/new_test_data.txt')"
   ]
  },
  {
   "cell_type": "code",
   "execution_count": 37,
   "id": "governmental-float",
   "metadata": {},
   "outputs": [
    {
     "data": {
      "text/plain": [
       "'new/new_3_move'"
      ]
     },
     "execution_count": 37,
     "metadata": {},
     "output_type": "execute_result"
    }
   ],
   "source": [
    "shutil.move('new3','new/new_3_move')"
   ]
  },
  {
   "cell_type": "markdown",
   "id": "provincial-parker",
   "metadata": {},
   "source": [
    "# important :\n",
    "### change your file directory with source directory with mkdir\n",
    "[click here to look this video](https://www.youtube.com/watch?v=aQpHzBkaU3o)"
   ]
  },
  {
   "cell_type": "markdown",
   "id": "collaborative-stuff",
   "metadata": {},
   "source": [
    "# Tutorial 230 genaral image edit\n",
    "* resize\n",
    "* ------image inhance------\n",
    "* sharpness\n",
    "* brightness\n",
    "* color\n",
    "* contrast\n",
    "* image blur/gaussian blur"
   ]
  },
  {
   "cell_type": "code",
   "execution_count": 1,
   "id": "ultimate-contest",
   "metadata": {},
   "outputs": [],
   "source": [
    "from PIL import Image\n",
    "import os\n",
    "image1=Image.open('dog1.jpg')\n",
    "image1.save('dog_save.jpg')\n",
    "\n"
   ]
  },
  {
   "cell_type": "code",
   "execution_count": 9,
   "id": "institutional-member",
   "metadata": {},
   "outputs": [
    {
     "name": "stdout",
     "output_type": "stream",
     "text": [
      "None\n",
      "None\n"
     ]
    }
   ],
   "source": [
    "\n",
    "MAX_SIZE=(100,120)\n",
    "image1.thumbnail (MAX_SIZE)\n",
    "print(image1.save('dog_new_size.jpg'))\n",
    "print(image1.show())"
   ]
  },
  {
   "cell_type": "code",
   "execution_count": 6,
   "id": "pursuant-mixture",
   "metadata": {},
   "outputs": [],
   "source": [
    "image1.show()"
   ]
  },
  {
   "cell_type": "code",
   "execution_count": null,
   "id": "peripheral-finder",
   "metadata": {},
   "outputs": [],
   "source": [
    "# this method convert all jpg image into png image\n",
    "'''from PIL import Image\n",
    "import os\n",
    "for item in os.listdir():\n",
    "    if item.endswith('.jpg'):\n",
    "        img1=Image.open(item)\n",
    "        filename,extenction=os.path.splitext(item)\n",
    "        # splitext use for separation path and root of a file\n",
    "        img1.save(f'{filename}89048.png')\n",
    "        print(img1.show())\n",
    "# # we can also resize this image'''\n",
    "\n"
   ]
  },
  {
   "cell_type": "markdown",
   "id": "speaking-edward",
   "metadata": {},
   "source": [
    "* i.endswith('.jpg')\n",
    "* os.listdir()\n",
    "* os.path.splitext(i)"
   ]
  },
  {
   "cell_type": "code",
   "execution_count": 10,
   "id": "three-disabled",
   "metadata": {},
   "outputs": [],
   "source": [
    "for item in os.listdir():\n",
    "    if item.endswith('.jpg'):\n",
    "        img1=Image.open(item)\n",
    "        \n",
    "        filename,extention=os.path.splitext(item)\n",
    "        img1.save(f'{filename}123.png')\n",
    "#         print(img1.show())"
   ]
  },
  {
   "cell_type": "code",
   "execution_count": 19,
   "id": "suspected-delicious",
   "metadata": {},
   "outputs": [],
   "source": [
    "from PIL import Image, ImageEnhance\n",
    "img1=Image.open('dog1.jpg')\n",
    "enhancer=ImageEnhance.Sharpness(img1)\n",
    "enhancer.enhance(5).save('dog_sharpness.jpg')\n"
   ]
  },
  {
   "cell_type": "code",
   "execution_count": 20,
   "id": "romantic-conviction",
   "metadata": {},
   "outputs": [],
   "source": [
    "from PIL import Image, ImageEnhance\n",
    "img1=Image.open('dog1.jpg')\n",
    "enhancer=ImageEnhance.Brightness(img1)\n",
    "enhancer.enhance(5).save('dog_brightness.jpg')\n"
   ]
  },
  {
   "cell_type": "code",
   "execution_count": 21,
   "id": "welsh-venue",
   "metadata": {},
   "outputs": [],
   "source": [
    "from PIL import Image, ImageEnhance\n",
    "img1=Image.open('dog1.jpg')\n",
    "enhancer=ImageEnhance.Color(img1)\n",
    "enhancer.enhance(5).save('dog_color.jpg')"
   ]
  },
  {
   "cell_type": "code",
   "execution_count": 22,
   "id": "atomic-supply",
   "metadata": {},
   "outputs": [],
   "source": [
    "from PIL import Image, ImageEnhance\n",
    "img1=Image.open('dog1.jpg')\n",
    "enhancer=ImageEnhance.Contrast(img1)\n",
    "enhancer.enhance(5).save('dog_contrast.jpg')"
   ]
  },
  {
   "cell_type": "code",
   "execution_count": 24,
   "id": "recognized-shipping",
   "metadata": {},
   "outputs": [],
   "source": [
    "from PIL import Image,ImageEnhance,ImageFilter\n",
    "img1=Image.open('dog1.jpg')\n",
    "img1.filter(ImageFilter.GaussianBlur(radius=4)).save('dog_blur.jpg')"
   ]
  },
  {
   "cell_type": "markdown",
   "id": "former-beast",
   "metadata": {},
   "source": [
    "# Tutorial 231 python first project"
   ]
  },
  {
   "cell_type": "code",
   "execution_count": 1,
   "id": "after-atlantic",
   "metadata": {},
   "outputs": [
    {
     "name": "stdout",
     "output_type": "stream",
     "text": [
      "['audio', 'extenction']\n",
      "audio\n",
      "create folder name :\n",
      "audiofile\n",
      "/home\\User/Desktop\\file.txt\n"
     ]
    }
   ],
   "source": [
    "# basic concept\n",
    "dict_extenction={\n",
    "    'audio_extenction':('.mp3','.m4a','.wav','.flac'),\n",
    "    'video_extenction': ('.mp4', '.mkv', '.flv', '.mpeg'),\n",
    "    'document_extenction':('.doc','.txt','.txt')\n",
    "}\n",
    "# dict_extenction.items()\n",
    "a='audio_extenction'\n",
    "print(a.split('_'))\n",
    "print(a.split('_')[0])\n",
    "\n",
    "# --------#----------\n",
    "print('create folder name :')\n",
    "folder_name='audio' + 'file'\n",
    "print(folder_name)\n",
    "# =======================\n",
    "import os\n",
    " \n",
    "# Path\n",
    "path = \"/home\"\n",
    " \n",
    "# Join various path components\n",
    "print(os.path.join(path, \"User/Desktop\", \"file.txt\"))\n"
   ]
  },
  {
   "cell_type": "code",
   "execution_count": 33,
   "id": "adequate-buffalo",
   "metadata": {
    "collapsed": true
   },
   "outputs": [
    {
     "name": "stdout",
     "output_type": "stream",
     "text": [
      ".ipynb_checkpoints\n",
      "409239e5-8478-42c2-8448-2c548ad18fcd.jfif\n",
      "Decorator-4.png\n",
      "decorators_step.png\n",
      "decorators_step2.png\n",
      "dog1.jpg\n",
      "dog1123.png\n",
      "dog_blur.jpg\n",
      "dog_brightness.jpg\n",
      "dog_color.jpg\n",
      "dog_contrast.jpg\n",
      "dog_new_size.jpg\n",
      "dog_new_size123.png\n",
      "dog_save.jpg\n",
      "dog_save123.png\n",
      "dog_sharpness.jpg\n",
      "emoji.txt\n",
      "for vs while.jpg\n",
      "for vs while123.png\n",
      "guess-the-number-flowchart-while-loop-768x658.png\n",
      "myfile.txt\n",
      "new\n",
      "new2\n",
      "OIP.jfif\n",
      "practice again.ipynb\n",
      "python class practice.ipynb\n",
      "python from youtube tutorial\n",
      "Python-Decorators-Explained.png\n",
      "python_dictionary.ipynb\n",
      "python_while_loop.jpg\n",
      "python_while_loop123.png\n",
      "t.webp\n",
      "t216_r.txt\n",
      "t216_w.txt\n",
      "t218_r.txt\n",
      "t218_w.txt\n",
      "t220.html\n",
      "test_data228.txt\n",
      "turorial226-2.csv\n",
      "turorial226.csv\n",
      "tutorial 213.txt\n",
      "tutorial 215.txt\n",
      "Tutorial220.txt\n",
      "Tutorial221.txt\n",
      "tutorial223.txt\n",
      "Tutorial224.csv\n",
      "Tutorial225.csv\n",
      "Tutorial225_2.csv\n",
      "Tutorial227_read.csv\n",
      "Tutorial227_write.csv\n",
      "yacht_concept_luxury_100155_1366x768.jpg\n",
      "yacht_concept_luxury_100155_1366x768123.png\n"
     ]
    }
   ],
   "source": [
    "for file in os.listdir():\n",
    "    print(file)"
   ]
  },
  {
   "cell_type": "code",
   "execution_count": 34,
   "id": "liable-exclusion",
   "metadata": {
    "collapsed": true
   },
   "outputs": [
    {
     "name": "stdout",
     "output_type": "stream",
     "text": [
      "please enter ur folder path:\n",
      "D:\\test folder 2\n"
     ]
    },
    {
     "ename": "FileNotFoundError",
     "evalue": "[Errno 2] No such file or directory: 'D:\\\\test folder 2\\\\new.txt'",
     "output_type": "error",
     "traceback": [
      "\u001b[1;31m---------------------------------------------------------------------------\u001b[0m",
      "\u001b[1;31mFileNotFoundError\u001b[0m                         Traceback (most recent call last)",
      "\u001b[1;32mc:\\users\\rakib\\appdata\\local\\programs\\python\\python39\\lib\\shutil.py\u001b[0m in \u001b[0;36mmove\u001b[1;34m(src, dst, copy_function)\u001b[0m\n\u001b[0;32m    805\u001b[0m     \u001b[1;32mtry\u001b[0m\u001b[1;33m:\u001b[0m\u001b[1;33m\u001b[0m\u001b[1;33m\u001b[0m\u001b[0m\n\u001b[1;32m--> 806\u001b[1;33m         \u001b[0mos\u001b[0m\u001b[1;33m.\u001b[0m\u001b[0mrename\u001b[0m\u001b[1;33m(\u001b[0m\u001b[0msrc\u001b[0m\u001b[1;33m,\u001b[0m \u001b[0mreal_dst\u001b[0m\u001b[1;33m)\u001b[0m\u001b[1;33m\u001b[0m\u001b[1;33m\u001b[0m\u001b[0m\n\u001b[0m\u001b[0;32m    807\u001b[0m     \u001b[1;32mexcept\u001b[0m \u001b[0mOSError\u001b[0m\u001b[1;33m:\u001b[0m\u001b[1;33m\u001b[0m\u001b[1;33m\u001b[0m\u001b[0m\n",
      "\u001b[1;31mFileNotFoundError\u001b[0m: [WinError 2] The system cannot find the file specified: 'D:\\\\test folder 2\\\\new.txt' -> 'D:\\\\test folder 2\\\\documentFiles\\\\new.txt'",
      "\nDuring handling of the above exception, another exception occurred:\n",
      "\u001b[1;31mFileNotFoundError\u001b[0m                         Traceback (most recent call last)",
      "\u001b[1;32m<ipython-input-34-e414a9c03afd>\u001b[0m in \u001b[0;36m<module>\u001b[1;34m\u001b[0m\n\u001b[0;32m     32\u001b[0m         \u001b[0mitem_path\u001b[0m\u001b[1;33m=\u001b[0m\u001b[0mos\u001b[0m\u001b[1;33m.\u001b[0m\u001b[0mpath\u001b[0m\u001b[1;33m.\u001b[0m\u001b[0mjoin\u001b[0m\u001b[1;33m(\u001b[0m\u001b[0mfolderpath\u001b[0m\u001b[1;33m,\u001b[0m\u001b[0mitem\u001b[0m\u001b[1;33m)\u001b[0m\u001b[1;31m#current path\u001b[0m\u001b[1;33m\u001b[0m\u001b[1;33m\u001b[0m\u001b[0m\n\u001b[0;32m     33\u001b[0m         \u001b[0mitem_new_path\u001b[0m\u001b[1;33m=\u001b[0m\u001b[0mos\u001b[0m\u001b[1;33m.\u001b[0m\u001b[0mpath\u001b[0m\u001b[1;33m.\u001b[0m\u001b[0mjoin\u001b[0m\u001b[1;33m(\u001b[0m\u001b[0mfolder_path\u001b[0m\u001b[1;33m,\u001b[0m\u001b[0mitem\u001b[0m\u001b[1;33m)\u001b[0m\u001b[1;31m#it is used to name of item path\u001b[0m\u001b[1;33m\u001b[0m\u001b[1;33m\u001b[0m\u001b[0m\n\u001b[1;32m---> 34\u001b[1;33m         \u001b[0mshutil\u001b[0m\u001b[1;33m.\u001b[0m\u001b[0mmove\u001b[0m\u001b[1;33m(\u001b[0m\u001b[0mitem_path\u001b[0m\u001b[1;33m,\u001b[0m\u001b[0mitem_new_path\u001b[0m\u001b[1;33m)\u001b[0m\u001b[1;33m\u001b[0m\u001b[1;33m\u001b[0m\u001b[0m\n\u001b[0m",
      "\u001b[1;32mc:\\users\\rakib\\appdata\\local\\programs\\python\\python39\\lib\\shutil.py\u001b[0m in \u001b[0;36mmove\u001b[1;34m(src, dst, copy_function)\u001b[0m\n\u001b[0;32m    818\u001b[0m             \u001b[0mrmtree\u001b[0m\u001b[1;33m(\u001b[0m\u001b[0msrc\u001b[0m\u001b[1;33m)\u001b[0m\u001b[1;33m\u001b[0m\u001b[1;33m\u001b[0m\u001b[0m\n\u001b[0;32m    819\u001b[0m         \u001b[1;32melse\u001b[0m\u001b[1;33m:\u001b[0m\u001b[1;33m\u001b[0m\u001b[1;33m\u001b[0m\u001b[0m\n\u001b[1;32m--> 820\u001b[1;33m             \u001b[0mcopy_function\u001b[0m\u001b[1;33m(\u001b[0m\u001b[0msrc\u001b[0m\u001b[1;33m,\u001b[0m \u001b[0mreal_dst\u001b[0m\u001b[1;33m)\u001b[0m\u001b[1;33m\u001b[0m\u001b[1;33m\u001b[0m\u001b[0m\n\u001b[0m\u001b[0;32m    821\u001b[0m             \u001b[0mos\u001b[0m\u001b[1;33m.\u001b[0m\u001b[0munlink\u001b[0m\u001b[1;33m(\u001b[0m\u001b[0msrc\u001b[0m\u001b[1;33m)\u001b[0m\u001b[1;33m\u001b[0m\u001b[1;33m\u001b[0m\u001b[0m\n\u001b[0;32m    822\u001b[0m     \u001b[1;32mreturn\u001b[0m \u001b[0mreal_dst\u001b[0m\u001b[1;33m\u001b[0m\u001b[1;33m\u001b[0m\u001b[0m\n",
      "\u001b[1;32mc:\\users\\rakib\\appdata\\local\\programs\\python\\python39\\lib\\shutil.py\u001b[0m in \u001b[0;36mcopy2\u001b[1;34m(src, dst, follow_symlinks)\u001b[0m\n\u001b[0;32m    433\u001b[0m     \u001b[1;32mif\u001b[0m \u001b[0mos\u001b[0m\u001b[1;33m.\u001b[0m\u001b[0mpath\u001b[0m\u001b[1;33m.\u001b[0m\u001b[0misdir\u001b[0m\u001b[1;33m(\u001b[0m\u001b[0mdst\u001b[0m\u001b[1;33m)\u001b[0m\u001b[1;33m:\u001b[0m\u001b[1;33m\u001b[0m\u001b[1;33m\u001b[0m\u001b[0m\n\u001b[0;32m    434\u001b[0m         \u001b[0mdst\u001b[0m \u001b[1;33m=\u001b[0m \u001b[0mos\u001b[0m\u001b[1;33m.\u001b[0m\u001b[0mpath\u001b[0m\u001b[1;33m.\u001b[0m\u001b[0mjoin\u001b[0m\u001b[1;33m(\u001b[0m\u001b[0mdst\u001b[0m\u001b[1;33m,\u001b[0m \u001b[0mos\u001b[0m\u001b[1;33m.\u001b[0m\u001b[0mpath\u001b[0m\u001b[1;33m.\u001b[0m\u001b[0mbasename\u001b[0m\u001b[1;33m(\u001b[0m\u001b[0msrc\u001b[0m\u001b[1;33m)\u001b[0m\u001b[1;33m)\u001b[0m\u001b[1;33m\u001b[0m\u001b[1;33m\u001b[0m\u001b[0m\n\u001b[1;32m--> 435\u001b[1;33m     \u001b[0mcopyfile\u001b[0m\u001b[1;33m(\u001b[0m\u001b[0msrc\u001b[0m\u001b[1;33m,\u001b[0m \u001b[0mdst\u001b[0m\u001b[1;33m,\u001b[0m \u001b[0mfollow_symlinks\u001b[0m\u001b[1;33m=\u001b[0m\u001b[0mfollow_symlinks\u001b[0m\u001b[1;33m)\u001b[0m\u001b[1;33m\u001b[0m\u001b[1;33m\u001b[0m\u001b[0m\n\u001b[0m\u001b[0;32m    436\u001b[0m     \u001b[0mcopystat\u001b[0m\u001b[1;33m(\u001b[0m\u001b[0msrc\u001b[0m\u001b[1;33m,\u001b[0m \u001b[0mdst\u001b[0m\u001b[1;33m,\u001b[0m \u001b[0mfollow_symlinks\u001b[0m\u001b[1;33m=\u001b[0m\u001b[0mfollow_symlinks\u001b[0m\u001b[1;33m)\u001b[0m\u001b[1;33m\u001b[0m\u001b[1;33m\u001b[0m\u001b[0m\n\u001b[0;32m    437\u001b[0m     \u001b[1;32mreturn\u001b[0m \u001b[0mdst\u001b[0m\u001b[1;33m\u001b[0m\u001b[1;33m\u001b[0m\u001b[0m\n",
      "\u001b[1;32mc:\\users\\rakib\\appdata\\local\\programs\\python\\python39\\lib\\shutil.py\u001b[0m in \u001b[0;36mcopyfile\u001b[1;34m(src, dst, follow_symlinks)\u001b[0m\n\u001b[0;32m    262\u001b[0m         \u001b[0mos\u001b[0m\u001b[1;33m.\u001b[0m\u001b[0msymlink\u001b[0m\u001b[1;33m(\u001b[0m\u001b[0mos\u001b[0m\u001b[1;33m.\u001b[0m\u001b[0mreadlink\u001b[0m\u001b[1;33m(\u001b[0m\u001b[0msrc\u001b[0m\u001b[1;33m)\u001b[0m\u001b[1;33m,\u001b[0m \u001b[0mdst\u001b[0m\u001b[1;33m)\u001b[0m\u001b[1;33m\u001b[0m\u001b[1;33m\u001b[0m\u001b[0m\n\u001b[0;32m    263\u001b[0m     \u001b[1;32melse\u001b[0m\u001b[1;33m:\u001b[0m\u001b[1;33m\u001b[0m\u001b[1;33m\u001b[0m\u001b[0m\n\u001b[1;32m--> 264\u001b[1;33m         \u001b[1;32mwith\u001b[0m \u001b[0mopen\u001b[0m\u001b[1;33m(\u001b[0m\u001b[0msrc\u001b[0m\u001b[1;33m,\u001b[0m \u001b[1;34m'rb'\u001b[0m\u001b[1;33m)\u001b[0m \u001b[1;32mas\u001b[0m \u001b[0mfsrc\u001b[0m\u001b[1;33m,\u001b[0m \u001b[0mopen\u001b[0m\u001b[1;33m(\u001b[0m\u001b[0mdst\u001b[0m\u001b[1;33m,\u001b[0m \u001b[1;34m'wb'\u001b[0m\u001b[1;33m)\u001b[0m \u001b[1;32mas\u001b[0m \u001b[0mfdst\u001b[0m\u001b[1;33m:\u001b[0m\u001b[1;33m\u001b[0m\u001b[1;33m\u001b[0m\u001b[0m\n\u001b[0m\u001b[0;32m    265\u001b[0m             \u001b[1;31m# macOS\u001b[0m\u001b[1;33m\u001b[0m\u001b[1;33m\u001b[0m\u001b[1;33m\u001b[0m\u001b[0m\n\u001b[0;32m    266\u001b[0m             \u001b[1;32mif\u001b[0m \u001b[0m_HAS_FCOPYFILE\u001b[0m\u001b[1;33m:\u001b[0m\u001b[1;33m\u001b[0m\u001b[1;33m\u001b[0m\u001b[0m\n",
      "\u001b[1;31mFileNotFoundError\u001b[0m: [Errno 2] No such file or directory: 'D:\\\\test folder 2\\\\new.txt'"
     ]
    }
   ],
   "source": [
    "# 15:00\n",
    "import os,shutil\n",
    "dict_extenction={\n",
    "    'audio_extenction':('.mp3','.m4a','.wav','.flac'),\n",
    "    'video_extenction': ('.mp4', '.mkv', '.flv', '.mpeg'),\n",
    "    'document_extenction':('.doc','.txt','.txt')\n",
    "}\n",
    "folderpath=input('please enter ur folder path:\\n')\n",
    "def file_finder(folder_path,file_extenction):\n",
    "    files=[]\n",
    "    for file in os.listdir(folder_path) :      #it will give all list in folder path\n",
    "        for extenction in file_extenction:     #this loop for same kind of file for examplae video_extenction file\n",
    "            if file.endswith(extenction):      #here extenction example audio extenction\n",
    "                files.append(file)             #file extenction meanning .mp3,.m4a,.....\n",
    "    return files\n",
    "# return [file for file in os.listdir(folder_path) for extenction in file_extenction if file.endswith(extenction)]\n",
    "\n",
    "\n",
    "# print(file_finder(folderpath,document_extenction))\n",
    "\n",
    "for extenction_type,extenction_tuple in dict_extenction.items():\n",
    "    \"\"\"\n",
    "    for example extenction_tuple is :(mp3,m41)\n",
    "    extenction type is :audio_extenction\n",
    "    \"\"\"\n",
    "    folder_name=extenction_type.split('_')[0]+'Files'\n",
    "    #         ex   -->  audio+file\n",
    "    folder_path=os.path.join(folderpath,folder_name)      #it create to moveing file as like we want to move audiofiles\n",
    "    os.mkdir(folder_path)                                 #it is use to create a new file\n",
    "                                                          # you also give folder_name insted of folder_path\n",
    "    for item in file_finder(folderpath,extenction_tuple): #it saparate item ---> extenction tuple\n",
    "        \n",
    "        item_path=os.path.join(folderpath,item)           #current path\n",
    "        \n",
    "        item_new_path=os.path.join(folder_path,item)      #     it is used to name of item path\n",
    "        \n",
    "        shutil.move(item_path,item_new_path)\n"
   ]
  },
  {
   "cell_type": "code",
   "execution_count": 8,
   "id": "coordinate-punishment",
   "metadata": {},
   "outputs": [
    {
     "name": "stdout",
     "output_type": "stream",
     "text": [
      "please enter your folder path: F:\\new\n"
     ]
    }
   ],
   "source": [
    "# practice\n",
    "import os,shutil\n",
    "dict_extenction={\n",
    "    'audio_extenction':('.mp3','.m4a','.wav','.flac'),\n",
    "    'video_extenction': ('.mp4', '.mkv', '.flv', '.mpeg'),\n",
    "    'document_extenction':('.doc','.txt','.txt','.pdf')\n",
    "}\n",
    "folderpath=input('please enter your folder path: ')\n",
    "\n",
    "def file_finder(folder_location,file_extenction):\n",
    "    files=[]\n",
    "    for file in os.listdir(folder_location):\n",
    "        for extenction in file_extenction:\n",
    "            if file.endswith(extenction):\n",
    "                files.append(file)\n",
    "    return files\n",
    "\n",
    "for extenction_type, extenction_tuple in dict_extenction.items():\n",
    "    folder_name = extenction_type.split('_')[0] +'Files'\n",
    "    folder_path=os.path.join(folderpath,folder_name)\n",
    "    os.mkdir(folder_path)\n",
    "    for item in file_finder(folderpath,extenction_tuple):\n",
    "        \n",
    "        item_path=os.path.join(folderpath,item)\n",
    "        item_new_path=os.path.join(folder_path,item)\n",
    "        shutil.move(item_path,item_new_path)\n",
    "\n"
   ]
  },
  {
   "cell_type": "markdown",
   "id": "municipal-remove",
   "metadata": {},
   "source": [
    "[link here](https://drive.google.com/file/d/1QvLI9CxcgU3fKdWQBdb1F9GD8rHvOmrE/view)"
   ]
  },
  {
   "cell_type": "code",
   "execution_count": null,
   "id": "based-induction",
   "metadata": {},
   "outputs": [],
   "source": [
    "audio_extenction=('.mp3','.m4a','.wav','.flac')\n",
    "image_extenction=('.jpg','.png','.jpeg')\n",
    "video_extenction= ('.mp4', '.mkv', '.flv', '.mpeg')\n",
    "document_extenction=('.doc','.txt','.txt','.pdf')\n",
    "folder_path=input('please enter your folder path ')\n",
    "def file_finder(folder_location,file_extenction):\n",
    "    files=[]\n",
    "    for file in os.listdir(folder_location):\n",
    "        for extenction in file_extenction:\n",
    "            if file.endswith(extenction):\n",
    "                files.append(file)\n",
    "    return files\n",
    "\n",
    "print(file_finder(folder_path,image_extenction))"
   ]
  },
  {
   "cell_type": "code",
   "execution_count": null,
   "id": "collaborative-title",
   "metadata": {},
   "outputs": [],
   "source": []
  }
 ],
 "metadata": {
  "kernelspec": {
   "display_name": "Python 3",
   "language": "python",
   "name": "python3"
  },
  "language_info": {
   "codemirror_mode": {
    "name": "ipython",
    "version": 3
   },
   "file_extension": ".py",
   "mimetype": "text/x-python",
   "name": "python",
   "nbconvert_exporter": "python",
   "pygments_lexer": "ipython3",
   "version": "3.9.2"
  }
 },
 "nbformat": 4,
 "nbformat_minor": 5
}
